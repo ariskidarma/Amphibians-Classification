{
 "cells": [
  {
   "cell_type": "markdown",
   "metadata": {
    "cell_id": "00002-190c89a6-8e5c-4d3b-a7a5-c99aca0826fb",
    "deepnote_cell_height": 82,
    "deepnote_cell_type": "markdown",
    "id": "iWg-VxvkC93s"
   },
   "source": [
    "# **Amphibians**"
   ]
  },
  {
   "cell_type": "markdown",
   "metadata": {
    "cell_id": "00003-44cb6dc7-af77-4637-84ee-2b5af291cf67",
    "deepnote_cell_height": 321.90625,
    "deepnote_cell_type": "markdown",
    "id": "X27m77-f_ut4"
   },
   "source": [
    "Dataset: Amphibians\n",
    "\n",
    "Sumber: https://archive.ics.uci.edu/ml/datasets/Amphibians\n",
    "\n",
    "Dataset Amphibians merupakan dataset yang berisikan informasi tentang hewan amfibi. Dataset ini merupakan masalah klasifikasi multi label yang ditujukan untuk melakukan prediksi terhadap keberadaan jenis hewan amfibi yang hidup di dekat sebuah tandon air. Prediksi dilakukan berdasarkan fitur atau data yang diperoleh dari sistem GIS (Geographic Information System) dan informasi gambar satelit.\n",
    "\n",
    "- Jenis dataset : Diskrit / Kontinu (harusnya kontinu)\n",
    "- Jumlah data : 189 Instance\n",
    "- Jumlah atribut : 16\n",
    "- Jumlah kelas : 7\n",
    "- Daftar kelas : Green frogs, Brown frogs, Common toad, Fire-bellied toad, Tree frog, Common newt, dan Great crested newt\n"
   ]
  },
  {
   "cell_type": "markdown",
   "metadata": {
    "cell_id": "00004-1c2a3afd-18ab-45be-b2ce-8efc224b87d4",
    "deepnote_cell_height": 120.390625,
    "deepnote_cell_type": "markdown",
    "id": "FDGy93BlGXzH"
   },
   "source": [
    "# **1. Import Modul dan Get Data**\n",
    "\n",
    "Mempersiapkan bahan-bahan yang akan digunakan dalam proses Machine Learning, dapat berupa modul dan dataset yang akan diolah"
   ]
  },
  {
   "cell_type": "markdown",
   "metadata": {
    "cell_id": "00005-30dab9b5-ab2e-4d61-9809-7c6eaad8636f",
    "deepnote_cell_height": 52.390625,
    "deepnote_cell_type": "markdown",
    "id": "Gz1ySQypVy8h"
   },
   "source": [
    "Import library yang dapat membantu dalam proses Machine Learning"
   ]
  },
  {
   "cell_type": "code",
   "execution_count": null,
   "metadata": {
    "cell_id": "00006-5ca090f9-52a2-4a74-9d83-11bf03e28570",
    "deepnote_cell_height": 135,
    "deepnote_cell_type": "code",
    "deepnote_to_be_reexecuted": false,
    "execution_millis": 920,
    "execution_start": 1622026960355,
    "id": "8bXaeqRlFnhq",
    "source_hash": "1eb09fae"
   },
   "outputs": [],
   "source": [
    "# import module\n",
    "import numpy as np\n",
    "import pandas as pd\n",
    "import matplotlib.pyplot as plt"
   ]
  },
  {
   "cell_type": "markdown",
   "metadata": {
    "cell_id": "00007-0e1c79c5-3819-4b3a-8176-55c34986ef03",
    "deepnote_cell_height": 52.390625,
    "deepnote_cell_type": "markdown",
    "id": "s8Y0ZKAbhRTn"
   },
   "source": [
    "Unduh dataset yang akan digunakan"
   ]
  },
  {
   "cell_type": "code",
   "execution_count": null,
   "metadata": {
    "cell_id": "00008-4579ad82-5821-40fb-9e19-f358c0370198",
    "colab": {
     "base_uri": "https://localhost:8080/"
    },
    "deepnote_cell_height": 332.0625,
    "deepnote_cell_type": "code",
    "deepnote_to_be_reexecuted": false,
    "execution_millis": 2959,
    "execution_start": 1622026961288,
    "id": "kHp35dgC_bw5",
    "outputId": "e188c009-e6a2-45c6-9b8a-da4a0f0ec4ac",
    "source_hash": "375a917e"
   },
   "outputs": [
    {
     "name": "stdout",
     "output_type": "stream",
     "text": [
      "--2021-05-26 11:02:43--  https://archive.ics.uci.edu/ml/machine-learning-databases/00528/dataset.csv\n",
      "Resolving archive.ics.uci.edu (archive.ics.uci.edu)... 128.195.10.252\n",
      "Connecting to archive.ics.uci.edu (archive.ics.uci.edu)|128.195.10.252|:443... connected.\n",
      "HTTP request sent, awaiting response... 200 OK\n",
      "Length: 10846 (11K) [application/x-httpd-php]\n",
      "Saving to: ‘dataset.csv’\n",
      "\n",
      "dataset.csv         100%[===================>]  10.59K  --.-KB/s    in 0s      \n",
      "\n",
      "2021-05-26 11:02:44 (148 MB/s) - ‘dataset.csv’ saved [10846/10846]\n",
      "\n"
     ]
    }
   ],
   "source": [
    "! rm 'dataset.csv'\n",
    "! wget https://archive.ics.uci.edu/ml/machine-learning-databases/00528/dataset.csv"
   ]
  },
  {
   "cell_type": "markdown",
   "metadata": {
    "cell_id": "00009-1a419ca7-d732-422b-be4f-71330d072fbb",
    "deepnote_cell_height": 52.390625,
    "deepnote_cell_type": "markdown",
    "id": "bgbTCxLyhrJk"
   },
   "source": [
    "Memasukkan dataset ke dalam variabel **df**"
   ]
  },
  {
   "cell_type": "code",
   "execution_count": null,
   "metadata": {
    "cell_id": "00010-e5250ab4-31e7-459b-bb1e-d9e5a49c53b2",
    "colab": {
     "base_uri": "https://localhost:8080/",
     "height": 431
    },
    "deepnote_cell_height": 323.1875,
    "deepnote_cell_type": "code",
    "deepnote_output_heights": [
     208.1875
    ],
    "deepnote_to_be_reexecuted": false,
    "execution_millis": 202,
    "execution_start": 1622026964252,
    "id": "e11IRuPH6-Zv",
    "outputId": "41cf5c97-75e8-42f4-fc8c-a001431c6ece",
    "output_cleared": false,
    "source_hash": "868db4ea"
   },
   "outputs": [
    {
     "data": {
      "application/vnd.deepnote.dataframe.v2+json": {
       "column_count": 23,
       "columns": [
        {
         "dtype": "int64",
         "name": "ID",
         "stats": {
          "histogram": [
           {
            "bin_end": 1.4,
            "bin_start": 1,
            "count": 1
           },
           {
            "bin_end": 1.8,
            "bin_start": 1.4,
            "count": 0
           },
           {
            "bin_end": 2.2,
            "bin_start": 1.8,
            "count": 1
           },
           {
            "bin_end": 2.6,
            "bin_start": 2.2,
            "count": 0
           },
           {
            "bin_end": 3,
            "bin_start": 2.6,
            "count": 0
           },
           {
            "bin_end": 3.4000000000000004,
            "bin_start": 3,
            "count": 1
           },
           {
            "bin_end": 3.8000000000000003,
            "bin_start": 3.4000000000000004,
            "count": 0
           },
           {
            "bin_end": 4.2,
            "bin_start": 3.8000000000000003,
            "count": 1
           },
           {
            "bin_end": 4.6,
            "bin_start": 4.2,
            "count": 0
           },
           {
            "bin_end": 5,
            "bin_start": 4.6,
            "count": 1
           }
          ],
          "max": "5",
          "min": "1",
          "nan_count": 0,
          "unique_count": 5
         }
        },
        {
         "dtype": "object",
         "name": "Motorway",
         "stats": {
          "categories": [
           {
            "count": 5,
            "name": "A1"
           }
          ],
          "nan_count": 0,
          "unique_count": 1
         }
        },
        {
         "dtype": "int64",
         "name": "SR",
         "stats": {
          "histogram": [
           {
            "bin_end": 250,
            "bin_start": 200,
            "count": 1
           },
           {
            "bin_end": 300,
            "bin_start": 250,
            "count": 0
           },
           {
            "bin_end": 350,
            "bin_start": 300,
            "count": 1
           },
           {
            "bin_end": 400,
            "bin_start": 350,
            "count": 0
           },
           {
            "bin_end": 450,
            "bin_start": 400,
            "count": 0
           },
           {
            "bin_end": 500,
            "bin_start": 450,
            "count": 0
           },
           {
            "bin_end": 550,
            "bin_start": 500,
            "count": 0
           },
           {
            "bin_end": 600,
            "bin_start": 550,
            "count": 0
           },
           {
            "bin_end": 650,
            "bin_start": 600,
            "count": 2
           },
           {
            "bin_end": 700,
            "bin_start": 650,
            "count": 1
           }
          ],
          "max": "700",
          "min": "200",
          "nan_count": 0,
          "unique_count": 4
         }
        },
        {
         "dtype": "int64",
         "name": "NR",
         "stats": {
          "histogram": [
           {
            "bin_end": 1.1,
            "bin_start": 1,
            "count": 4
           },
           {
            "bin_end": 1.2,
            "bin_start": 1.1,
            "count": 0
           },
           {
            "bin_end": 1.3,
            "bin_start": 1.2,
            "count": 0
           },
           {
            "bin_end": 1.4,
            "bin_start": 1.3,
            "count": 0
           },
           {
            "bin_end": 1.5,
            "bin_start": 1.4,
            "count": 0
           },
           {
            "bin_end": 1.6,
            "bin_start": 1.5,
            "count": 0
           },
           {
            "bin_end": 1.7000000000000002,
            "bin_start": 1.6,
            "count": 0
           },
           {
            "bin_end": 1.8,
            "bin_start": 1.7000000000000002,
            "count": 0
           },
           {
            "bin_end": 1.9,
            "bin_start": 1.8,
            "count": 0
           },
           {
            "bin_end": 2,
            "bin_start": 1.9,
            "count": 1
           }
          ],
          "max": "2",
          "min": "1",
          "nan_count": 0,
          "unique_count": 2
         }
        },
        {
         "dtype": "int64",
         "name": "TR",
         "stats": {
          "histogram": [
           {
            "bin_end": 1.4,
            "bin_start": 1,
            "count": 2
           },
           {
            "bin_end": 1.8,
            "bin_start": 1.4,
            "count": 0
           },
           {
            "bin_end": 2.2,
            "bin_start": 1.8,
            "count": 0
           },
           {
            "bin_end": 2.6,
            "bin_start": 2.2,
            "count": 0
           },
           {
            "bin_end": 3,
            "bin_start": 2.6,
            "count": 0
           },
           {
            "bin_end": 3.4000000000000004,
            "bin_start": 3,
            "count": 0
           },
           {
            "bin_end": 3.8000000000000003,
            "bin_start": 3.4000000000000004,
            "count": 0
           },
           {
            "bin_end": 4.2,
            "bin_start": 3.8000000000000003,
            "count": 0
           },
           {
            "bin_end": 4.6,
            "bin_start": 4.2,
            "count": 0
           },
           {
            "bin_end": 5,
            "bin_start": 4.6,
            "count": 3
           }
          ],
          "max": "5",
          "min": "1",
          "nan_count": 0,
          "unique_count": 2
         }
        },
        {
         "dtype": "int64",
         "name": "VR",
         "stats": {
          "histogram": [
           {
            "bin_end": 0.4,
            "bin_start": 0,
            "count": 1
           },
           {
            "bin_end": 0.8,
            "bin_start": 0.4,
            "count": 0
           },
           {
            "bin_end": 1.2000000000000002,
            "bin_start": 0.8,
            "count": 2
           },
           {
            "bin_end": 1.6,
            "bin_start": 1.2000000000000002,
            "count": 0
           },
           {
            "bin_end": 2,
            "bin_start": 1.6,
            "count": 0
           },
           {
            "bin_end": 2.4000000000000004,
            "bin_start": 2,
            "count": 0
           },
           {
            "bin_end": 2.8000000000000003,
            "bin_start": 2.4000000000000004,
            "count": 0
           },
           {
            "bin_end": 3.2,
            "bin_start": 2.8000000000000003,
            "count": 0
           },
           {
            "bin_end": 3.6,
            "bin_start": 3.2,
            "count": 0
           },
           {
            "bin_end": 4,
            "bin_start": 3.6,
            "count": 2
           }
          ],
          "max": "4",
          "min": "0",
          "nan_count": 0,
          "unique_count": 3
         }
        },
        {
         "dtype": "int64",
         "name": "SUR1",
         "stats": {
          "histogram": [
           {
            "bin_end": 6.4,
            "bin_start": 6,
            "count": 2
           },
           {
            "bin_end": 6.8,
            "bin_start": 6.4,
            "count": 0
           },
           {
            "bin_end": 7.2,
            "bin_start": 6.8,
            "count": 0
           },
           {
            "bin_end": 7.6,
            "bin_start": 7.2,
            "count": 0
           },
           {
            "bin_end": 8,
            "bin_start": 7.6,
            "count": 0
           },
           {
            "bin_end": 8.4,
            "bin_start": 8,
            "count": 0
           },
           {
            "bin_end": 8.8,
            "bin_start": 8.4,
            "count": 0
           },
           {
            "bin_end": 9.2,
            "bin_start": 8.8,
            "count": 0
           },
           {
            "bin_end": 9.6,
            "bin_start": 9.2,
            "count": 0
           },
           {
            "bin_end": 10,
            "bin_start": 9.6,
            "count": 3
           }
          ],
          "max": "10",
          "min": "6",
          "nan_count": 0,
          "unique_count": 2
         }
        },
        {
         "dtype": "int64",
         "name": "SUR2",
         "stats": {
          "histogram": [
           {
            "bin_end": 2.8,
            "bin_start": 2,
            "count": 2
           },
           {
            "bin_end": 3.6,
            "bin_start": 2.8,
            "count": 0
           },
           {
            "bin_end": 4.4,
            "bin_start": 3.6,
            "count": 0
           },
           {
            "bin_end": 5.2,
            "bin_start": 4.4,
            "count": 0
           },
           {
            "bin_end": 6,
            "bin_start": 5.2,
            "count": 0
           },
           {
            "bin_end": 6.800000000000001,
            "bin_start": 6,
            "count": 2
           },
           {
            "bin_end": 7.6000000000000005,
            "bin_start": 6.800000000000001,
            "count": 0
           },
           {
            "bin_end": 8.4,
            "bin_start": 7.6000000000000005,
            "count": 0
           },
           {
            "bin_end": 9.2,
            "bin_start": 8.4,
            "count": 0
           },
           {
            "bin_end": 10,
            "bin_start": 9.2,
            "count": 1
           }
          ],
          "max": "10",
          "min": "2",
          "nan_count": 0,
          "unique_count": 3
         }
        },
        {
         "dtype": "int64",
         "name": "SUR3",
         "stats": {
          "histogram": [
           {
            "bin_end": 2.8,
            "bin_start": 2,
            "count": 1
           },
           {
            "bin_end": 3.6,
            "bin_start": 2.8,
            "count": 0
           },
           {
            "bin_end": 4.4,
            "bin_start": 3.6,
            "count": 0
           },
           {
            "bin_end": 5.2,
            "bin_start": 4.4,
            "count": 0
           },
           {
            "bin_end": 6,
            "bin_start": 5.2,
            "count": 0
           },
           {
            "bin_end": 6.800000000000001,
            "bin_start": 6,
            "count": 1
           },
           {
            "bin_end": 7.6000000000000005,
            "bin_start": 6.800000000000001,
            "count": 0
           },
           {
            "bin_end": 8.4,
            "bin_start": 7.6000000000000005,
            "count": 0
           },
           {
            "bin_end": 9.2,
            "bin_start": 8.4,
            "count": 0
           },
           {
            "bin_end": 10,
            "bin_start": 9.2,
            "count": 3
           }
          ],
          "max": "10",
          "min": "2",
          "nan_count": 0,
          "unique_count": 3
         }
        },
        {
         "dtype": "int64",
         "name": "UR",
         "stats": {
          "histogram": [
           {
            "bin_end": 0.3,
            "bin_start": 0,
            "count": 2
           },
           {
            "bin_end": 0.6,
            "bin_start": 0.3,
            "count": 0
           },
           {
            "bin_end": 0.8999999999999999,
            "bin_start": 0.6,
            "count": 0
           },
           {
            "bin_end": 1.2,
            "bin_start": 0.8999999999999999,
            "count": 0
           },
           {
            "bin_end": 1.5,
            "bin_start": 1.2,
            "count": 0
           },
           {
            "bin_end": 1.7999999999999998,
            "bin_start": 1.5,
            "count": 0
           },
           {
            "bin_end": 2.1,
            "bin_start": 1.7999999999999998,
            "count": 0
           },
           {
            "bin_end": 2.4,
            "bin_start": 2.1,
            "count": 0
           },
           {
            "bin_end": 2.6999999999999997,
            "bin_start": 2.4,
            "count": 0
           },
           {
            "bin_end": 3,
            "bin_start": 2.6999999999999997,
            "count": 3
           }
          ],
          "max": "3",
          "min": "0",
          "nan_count": 0,
          "unique_count": 2
         }
        },
        {
         "dtype": "int64",
         "name": "FR",
         "stats": {
          "histogram": [
           {
            "bin_end": 0.4,
            "bin_start": 0,
            "count": 2
           },
           {
            "bin_end": 0.8,
            "bin_start": 0.4,
            "count": 0
           },
           {
            "bin_end": 1.2000000000000002,
            "bin_start": 0.8,
            "count": 1
           },
           {
            "bin_end": 1.6,
            "bin_start": 1.2000000000000002,
            "count": 0
           },
           {
            "bin_end": 2,
            "bin_start": 1.6,
            "count": 0
           },
           {
            "bin_end": 2.4000000000000004,
            "bin_start": 2,
            "count": 0
           },
           {
            "bin_end": 2.8000000000000003,
            "bin_start": 2.4000000000000004,
            "count": 0
           },
           {
            "bin_end": 3.2,
            "bin_start": 2.8000000000000003,
            "count": 0
           },
           {
            "bin_end": 3.6,
            "bin_start": 3.2,
            "count": 0
           },
           {
            "bin_end": 4,
            "bin_start": 3.6,
            "count": 2
           }
          ],
          "max": "4",
          "min": "0",
          "nan_count": 0,
          "unique_count": 3
         }
        },
        {
         "dtype": "int64",
         "name": "OR",
         "stats": {
          "histogram": [
           {
            "bin_end": 32.4,
            "bin_start": 25,
            "count": 1
           },
           {
            "bin_end": 39.8,
            "bin_start": 32.4,
            "count": 0
           },
           {
            "bin_end": 47.2,
            "bin_start": 39.8,
            "count": 0
           },
           {
            "bin_end": 54.6,
            "bin_start": 47.2,
            "count": 1
           },
           {
            "bin_end": 62,
            "bin_start": 54.6,
            "count": 0
           },
           {
            "bin_end": 69.4,
            "bin_start": 62,
            "count": 0
           },
           {
            "bin_end": 76.80000000000001,
            "bin_start": 69.4,
            "count": 2
           },
           {
            "bin_end": 84.2,
            "bin_start": 76.80000000000001,
            "count": 0
           },
           {
            "bin_end": 91.60000000000001,
            "bin_start": 84.2,
            "count": 0
           },
           {
            "bin_end": 99,
            "bin_start": 91.60000000000001,
            "count": 1
           }
          ],
          "max": "99",
          "min": "25",
          "nan_count": 0,
          "unique_count": 4
         }
        },
        {
         "dtype": "int64",
         "name": "RR",
         "stats": {
          "histogram": [
           {
            "bin_end": 0.1,
            "bin_start": 0,
            "count": 3
           },
           {
            "bin_end": 0.2,
            "bin_start": 0.1,
            "count": 0
           },
           {
            "bin_end": 0.30000000000000004,
            "bin_start": 0.2,
            "count": 0
           },
           {
            "bin_end": 0.4,
            "bin_start": 0.30000000000000004,
            "count": 0
           },
           {
            "bin_end": 0.5,
            "bin_start": 0.4,
            "count": 0
           },
           {
            "bin_end": 0.6000000000000001,
            "bin_start": 0.5,
            "count": 0
           },
           {
            "bin_end": 0.7000000000000001,
            "bin_start": 0.6000000000000001,
            "count": 0
           },
           {
            "bin_end": 0.8,
            "bin_start": 0.7000000000000001,
            "count": 0
           },
           {
            "bin_end": 0.9,
            "bin_start": 0.8,
            "count": 0
           },
           {
            "bin_end": 1,
            "bin_start": 0.9,
            "count": 2
           }
          ],
          "max": "1",
          "min": "0",
          "nan_count": 0,
          "unique_count": 2
         }
        },
        {
         "dtype": "int64",
         "name": "BR",
         "stats": {
          "histogram": [
           {
            "bin_end": 0.5,
            "bin_start": 0,
            "count": 2
           },
           {
            "bin_end": 1,
            "bin_start": 0.5,
            "count": 0
           },
           {
            "bin_end": 1.5,
            "bin_start": 1,
            "count": 2
           },
           {
            "bin_end": 2,
            "bin_start": 1.5,
            "count": 0
           },
           {
            "bin_end": 2.5,
            "bin_start": 2,
            "count": 0
           },
           {
            "bin_end": 3,
            "bin_start": 2.5,
            "count": 0
           },
           {
            "bin_end": 3.5,
            "bin_start": 3,
            "count": 0
           },
           {
            "bin_end": 4,
            "bin_start": 3.5,
            "count": 0
           },
           {
            "bin_end": 4.5,
            "bin_start": 4,
            "count": 0
           },
           {
            "bin_end": 5,
            "bin_start": 4.5,
            "count": 1
           }
          ],
          "max": "5",
          "min": "0",
          "nan_count": 0,
          "unique_count": 3
         }
        },
        {
         "dtype": "int64",
         "name": "MR",
         "stats": {
          "histogram": [
           {
            "bin_end": -0.4,
            "bin_start": -0.5,
            "count": 0
           },
           {
            "bin_end": -0.3,
            "bin_start": -0.4,
            "count": 0
           },
           {
            "bin_end": -0.19999999999999996,
            "bin_start": -0.3,
            "count": 0
           },
           {
            "bin_end": -0.09999999999999998,
            "bin_start": -0.19999999999999996,
            "count": 0
           },
           {
            "bin_end": 0,
            "bin_start": -0.09999999999999998,
            "count": 0
           },
           {
            "bin_end": 0.10000000000000009,
            "bin_start": 0,
            "count": 5
           },
           {
            "bin_end": 0.20000000000000007,
            "bin_start": 0.10000000000000009,
            "count": 0
           },
           {
            "bin_end": 0.30000000000000004,
            "bin_start": 0.20000000000000007,
            "count": 0
           },
           {
            "bin_end": 0.4,
            "bin_start": 0.30000000000000004,
            "count": 0
           },
           {
            "bin_end": 0.5,
            "bin_start": 0.4,
            "count": 0
           }
          ],
          "max": "0",
          "min": "0",
          "nan_count": 0,
          "unique_count": 1
         }
        },
        {
         "dtype": "int64",
         "name": "CR",
         "stats": {
          "histogram": [
           {
            "bin_end": 0.6,
            "bin_start": 0.5,
            "count": 0
           },
           {
            "bin_end": 0.7,
            "bin_start": 0.6,
            "count": 0
           },
           {
            "bin_end": 0.8,
            "bin_start": 0.7,
            "count": 0
           },
           {
            "bin_end": 0.9,
            "bin_start": 0.8,
            "count": 0
           },
           {
            "bin_end": 1,
            "bin_start": 0.9,
            "count": 0
           },
           {
            "bin_end": 1.1,
            "bin_start": 1,
            "count": 5
           },
           {
            "bin_end": 1.2000000000000002,
            "bin_start": 1.1,
            "count": 0
           },
           {
            "bin_end": 1.3,
            "bin_start": 1.2000000000000002,
            "count": 0
           },
           {
            "bin_end": 1.4,
            "bin_start": 1.3,
            "count": 0
           },
           {
            "bin_end": 1.5,
            "bin_start": 1.4,
            "count": 0
           }
          ],
          "max": "1",
          "min": "1",
          "nan_count": 0,
          "unique_count": 1
         }
        },
        {
         "dtype": "int64",
         "name": "Green frogs",
         "stats": {
          "histogram": [
           {
            "bin_end": -0.4,
            "bin_start": -0.5,
            "count": 0
           },
           {
            "bin_end": -0.3,
            "bin_start": -0.4,
            "count": 0
           },
           {
            "bin_end": -0.19999999999999996,
            "bin_start": -0.3,
            "count": 0
           },
           {
            "bin_end": -0.09999999999999998,
            "bin_start": -0.19999999999999996,
            "count": 0
           },
           {
            "bin_end": 0,
            "bin_start": -0.09999999999999998,
            "count": 0
           },
           {
            "bin_end": 0.10000000000000009,
            "bin_start": 0,
            "count": 5
           },
           {
            "bin_end": 0.20000000000000007,
            "bin_start": 0.10000000000000009,
            "count": 0
           },
           {
            "bin_end": 0.30000000000000004,
            "bin_start": 0.20000000000000007,
            "count": 0
           },
           {
            "bin_end": 0.4,
            "bin_start": 0.30000000000000004,
            "count": 0
           },
           {
            "bin_end": 0.5,
            "bin_start": 0.4,
            "count": 0
           }
          ],
          "max": "0",
          "min": "0",
          "nan_count": 0,
          "unique_count": 1
         }
        },
        {
         "dtype": "int64",
         "name": "Brown frogs",
         "stats": {
          "histogram": [
           {
            "bin_end": 0.1,
            "bin_start": 0,
            "count": 2
           },
           {
            "bin_end": 0.2,
            "bin_start": 0.1,
            "count": 0
           },
           {
            "bin_end": 0.30000000000000004,
            "bin_start": 0.2,
            "count": 0
           },
           {
            "bin_end": 0.4,
            "bin_start": 0.30000000000000004,
            "count": 0
           },
           {
            "bin_end": 0.5,
            "bin_start": 0.4,
            "count": 0
           },
           {
            "bin_end": 0.6000000000000001,
            "bin_start": 0.5,
            "count": 0
           },
           {
            "bin_end": 0.7000000000000001,
            "bin_start": 0.6000000000000001,
            "count": 0
           },
           {
            "bin_end": 0.8,
            "bin_start": 0.7000000000000001,
            "count": 0
           },
           {
            "bin_end": 0.9,
            "bin_start": 0.8,
            "count": 0
           },
           {
            "bin_end": 1,
            "bin_start": 0.9,
            "count": 3
           }
          ],
          "max": "1",
          "min": "0",
          "nan_count": 0,
          "unique_count": 2
         }
        },
        {
         "dtype": "int64",
         "name": "Common toad",
         "stats": {
          "histogram": [
           {
            "bin_end": 0.1,
            "bin_start": 0,
            "count": 1
           },
           {
            "bin_end": 0.2,
            "bin_start": 0.1,
            "count": 0
           },
           {
            "bin_end": 0.30000000000000004,
            "bin_start": 0.2,
            "count": 0
           },
           {
            "bin_end": 0.4,
            "bin_start": 0.30000000000000004,
            "count": 0
           },
           {
            "bin_end": 0.5,
            "bin_start": 0.4,
            "count": 0
           },
           {
            "bin_end": 0.6000000000000001,
            "bin_start": 0.5,
            "count": 0
           },
           {
            "bin_end": 0.7000000000000001,
            "bin_start": 0.6000000000000001,
            "count": 0
           },
           {
            "bin_end": 0.8,
            "bin_start": 0.7000000000000001,
            "count": 0
           },
           {
            "bin_end": 0.9,
            "bin_start": 0.8,
            "count": 0
           },
           {
            "bin_end": 1,
            "bin_start": 0.9,
            "count": 4
           }
          ],
          "max": "1",
          "min": "0",
          "nan_count": 0,
          "unique_count": 2
         }
        },
        {
         "dtype": "int64",
         "name": "Fire-bellied toad",
         "stats": {
          "histogram": [
           {
            "bin_end": 0.1,
            "bin_start": 0,
            "count": 4
           },
           {
            "bin_end": 0.2,
            "bin_start": 0.1,
            "count": 0
           },
           {
            "bin_end": 0.30000000000000004,
            "bin_start": 0.2,
            "count": 0
           },
           {
            "bin_end": 0.4,
            "bin_start": 0.30000000000000004,
            "count": 0
           },
           {
            "bin_end": 0.5,
            "bin_start": 0.4,
            "count": 0
           },
           {
            "bin_end": 0.6000000000000001,
            "bin_start": 0.5,
            "count": 0
           },
           {
            "bin_end": 0.7000000000000001,
            "bin_start": 0.6000000000000001,
            "count": 0
           },
           {
            "bin_end": 0.8,
            "bin_start": 0.7000000000000001,
            "count": 0
           },
           {
            "bin_end": 0.9,
            "bin_start": 0.8,
            "count": 0
           },
           {
            "bin_end": 1,
            "bin_start": 0.9,
            "count": 1
           }
          ],
          "max": "1",
          "min": "0",
          "nan_count": 0,
          "unique_count": 2
         }
        },
        {
         "dtype": "int64",
         "name": "Tree frog",
         "stats": {
          "histogram": [
           {
            "bin_end": -0.4,
            "bin_start": -0.5,
            "count": 0
           },
           {
            "bin_end": -0.3,
            "bin_start": -0.4,
            "count": 0
           },
           {
            "bin_end": -0.19999999999999996,
            "bin_start": -0.3,
            "count": 0
           },
           {
            "bin_end": -0.09999999999999998,
            "bin_start": -0.19999999999999996,
            "count": 0
           },
           {
            "bin_end": 0,
            "bin_start": -0.09999999999999998,
            "count": 0
           },
           {
            "bin_end": 0.10000000000000009,
            "bin_start": 0,
            "count": 5
           },
           {
            "bin_end": 0.20000000000000007,
            "bin_start": 0.10000000000000009,
            "count": 0
           },
           {
            "bin_end": 0.30000000000000004,
            "bin_start": 0.20000000000000007,
            "count": 0
           },
           {
            "bin_end": 0.4,
            "bin_start": 0.30000000000000004,
            "count": 0
           },
           {
            "bin_end": 0.5,
            "bin_start": 0.4,
            "count": 0
           }
          ],
          "max": "0",
          "min": "0",
          "nan_count": 0,
          "unique_count": 1
         }
        },
        {
         "dtype": "int64",
         "name": "Common newt",
         "stats": {
          "histogram": [
           {
            "bin_end": 0.1,
            "bin_start": 0,
            "count": 2
           },
           {
            "bin_end": 0.2,
            "bin_start": 0.1,
            "count": 0
           },
           {
            "bin_end": 0.30000000000000004,
            "bin_start": 0.2,
            "count": 0
           },
           {
            "bin_end": 0.4,
            "bin_start": 0.30000000000000004,
            "count": 0
           },
           {
            "bin_end": 0.5,
            "bin_start": 0.4,
            "count": 0
           },
           {
            "bin_end": 0.6000000000000001,
            "bin_start": 0.5,
            "count": 0
           },
           {
            "bin_end": 0.7000000000000001,
            "bin_start": 0.6000000000000001,
            "count": 0
           },
           {
            "bin_end": 0.8,
            "bin_start": 0.7000000000000001,
            "count": 0
           },
           {
            "bin_end": 0.9,
            "bin_start": 0.8,
            "count": 0
           },
           {
            "bin_end": 1,
            "bin_start": 0.9,
            "count": 3
           }
          ],
          "max": "1",
          "min": "0",
          "nan_count": 0,
          "unique_count": 2
         }
        },
        {
         "dtype": "int64",
         "name": "Great crested newt",
         "stats": {
          "histogram": [
           {
            "bin_end": 0.1,
            "bin_start": 0,
            "count": 4
           },
           {
            "bin_end": 0.2,
            "bin_start": 0.1,
            "count": 0
           },
           {
            "bin_end": 0.30000000000000004,
            "bin_start": 0.2,
            "count": 0
           },
           {
            "bin_end": 0.4,
            "bin_start": 0.30000000000000004,
            "count": 0
           },
           {
            "bin_end": 0.5,
            "bin_start": 0.4,
            "count": 0
           },
           {
            "bin_end": 0.6000000000000001,
            "bin_start": 0.5,
            "count": 0
           },
           {
            "bin_end": 0.7000000000000001,
            "bin_start": 0.6000000000000001,
            "count": 0
           },
           {
            "bin_end": 0.8,
            "bin_start": 0.7000000000000001,
            "count": 0
           },
           {
            "bin_end": 0.9,
            "bin_start": 0.8,
            "count": 0
           },
           {
            "bin_end": 1,
            "bin_start": 0.9,
            "count": 1
           }
          ],
          "max": "1",
          "min": "0",
          "nan_count": 0,
          "unique_count": 2
         }
        },
        {
         "dtype": "int64",
         "name": "_deepnote_index_column"
        }
       ],
       "row_count": 5,
       "rows_bottom": null,
       "rows_top": [
        {
         "BR": 0,
         "Brown frogs": 0,
         "CR": 1,
         "Common newt": 0,
         "Common toad": 0,
         "FR": 0,
         "Fire-bellied toad": 0,
         "Great crested newt": 0,
         "Green frogs": 0,
         "ID": 1,
         "MR": 0,
         "Motorway": "A1",
         "NR": 1,
         "OR": 50,
         "RR": 0,
         "SR": 600,
         "SUR1": 6,
         "SUR2": 2,
         "SUR3": 10,
         "TR": 1,
         "Tree frog": 0,
         "UR": 0,
         "VR": 4,
         "_deepnote_index_column": 0
        },
        {
         "BR": 1,
         "Brown frogs": 1,
         "CR": 1,
         "Common newt": 1,
         "Common toad": 1,
         "FR": 1,
         "Fire-bellied toad": 0,
         "Great crested newt": 0,
         "Green frogs": 0,
         "ID": 2,
         "MR": 0,
         "Motorway": "A1",
         "NR": 1,
         "OR": 75,
         "RR": 1,
         "SR": 700,
         "SUR1": 10,
         "SUR2": 6,
         "SUR3": 10,
         "TR": 5,
         "Tree frog": 0,
         "UR": 3,
         "VR": 1,
         "_deepnote_index_column": 1
        },
        {
         "BR": 1,
         "Brown frogs": 1,
         "CR": 1,
         "Common newt": 1,
         "Common toad": 1,
         "FR": 4,
         "Fire-bellied toad": 0,
         "Great crested newt": 0,
         "Green frogs": 0,
         "ID": 3,
         "MR": 0,
         "Motorway": "A1",
         "NR": 1,
         "OR": 75,
         "RR": 1,
         "SR": 200,
         "SUR1": 10,
         "SUR2": 6,
         "SUR3": 10,
         "TR": 5,
         "Tree frog": 0,
         "UR": 3,
         "VR": 1,
         "_deepnote_index_column": 2
        },
        {
         "BR": 0,
         "Brown frogs": 0,
         "CR": 1,
         "Common newt": 0,
         "Common toad": 1,
         "FR": 4,
         "Fire-bellied toad": 0,
         "Great crested newt": 0,
         "Green frogs": 0,
         "ID": 4,
         "MR": 0,
         "Motorway": "A1",
         "NR": 1,
         "OR": 25,
         "RR": 0,
         "SR": 300,
         "SUR1": 6,
         "SUR2": 10,
         "SUR3": 2,
         "TR": 5,
         "Tree frog": 0,
         "UR": 3,
         "VR": 0,
         "_deepnote_index_column": 3
        },
        {
         "BR": 5,
         "Brown frogs": 1,
         "CR": 1,
         "Common newt": 1,
         "Common toad": 1,
         "FR": 0,
         "Fire-bellied toad": 1,
         "Great crested newt": 1,
         "Green frogs": 0,
         "ID": 5,
         "MR": 0,
         "Motorway": "A1",
         "NR": 2,
         "OR": 99,
         "RR": 0,
         "SR": 600,
         "SUR1": 10,
         "SUR2": 2,
         "SUR3": 6,
         "TR": 1,
         "Tree frog": 0,
         "UR": 0,
         "VR": 4,
         "_deepnote_index_column": 4
        }
       ]
      },
      "text/html": [
       "<div>\n",
       "<style scoped>\n",
       "    .dataframe tbody tr th:only-of-type {\n",
       "        vertical-align: middle;\n",
       "    }\n",
       "\n",
       "    .dataframe tbody tr th {\n",
       "        vertical-align: top;\n",
       "    }\n",
       "\n",
       "    .dataframe thead th {\n",
       "        text-align: right;\n",
       "    }\n",
       "</style>\n",
       "<table border=\"1\" class=\"dataframe\">\n",
       "  <thead>\n",
       "    <tr style=\"text-align: right;\">\n",
       "      <th></th>\n",
       "      <th>ID</th>\n",
       "      <th>Motorway</th>\n",
       "      <th>SR</th>\n",
       "      <th>NR</th>\n",
       "      <th>TR</th>\n",
       "      <th>VR</th>\n",
       "      <th>SUR1</th>\n",
       "      <th>SUR2</th>\n",
       "      <th>SUR3</th>\n",
       "      <th>UR</th>\n",
       "      <th>...</th>\n",
       "      <th>BR</th>\n",
       "      <th>MR</th>\n",
       "      <th>CR</th>\n",
       "      <th>Green frogs</th>\n",
       "      <th>Brown frogs</th>\n",
       "      <th>Common toad</th>\n",
       "      <th>Fire-bellied toad</th>\n",
       "      <th>Tree frog</th>\n",
       "      <th>Common newt</th>\n",
       "      <th>Great crested newt</th>\n",
       "    </tr>\n",
       "  </thead>\n",
       "  <tbody>\n",
       "    <tr>\n",
       "      <th>0</th>\n",
       "      <td>1</td>\n",
       "      <td>A1</td>\n",
       "      <td>600</td>\n",
       "      <td>1</td>\n",
       "      <td>1</td>\n",
       "      <td>4</td>\n",
       "      <td>6</td>\n",
       "      <td>2</td>\n",
       "      <td>10</td>\n",
       "      <td>0</td>\n",
       "      <td>...</td>\n",
       "      <td>0</td>\n",
       "      <td>0</td>\n",
       "      <td>1</td>\n",
       "      <td>0</td>\n",
       "      <td>0</td>\n",
       "      <td>0</td>\n",
       "      <td>0</td>\n",
       "      <td>0</td>\n",
       "      <td>0</td>\n",
       "      <td>0</td>\n",
       "    </tr>\n",
       "    <tr>\n",
       "      <th>1</th>\n",
       "      <td>2</td>\n",
       "      <td>A1</td>\n",
       "      <td>700</td>\n",
       "      <td>1</td>\n",
       "      <td>5</td>\n",
       "      <td>1</td>\n",
       "      <td>10</td>\n",
       "      <td>6</td>\n",
       "      <td>10</td>\n",
       "      <td>3</td>\n",
       "      <td>...</td>\n",
       "      <td>1</td>\n",
       "      <td>0</td>\n",
       "      <td>1</td>\n",
       "      <td>0</td>\n",
       "      <td>1</td>\n",
       "      <td>1</td>\n",
       "      <td>0</td>\n",
       "      <td>0</td>\n",
       "      <td>1</td>\n",
       "      <td>0</td>\n",
       "    </tr>\n",
       "    <tr>\n",
       "      <th>2</th>\n",
       "      <td>3</td>\n",
       "      <td>A1</td>\n",
       "      <td>200</td>\n",
       "      <td>1</td>\n",
       "      <td>5</td>\n",
       "      <td>1</td>\n",
       "      <td>10</td>\n",
       "      <td>6</td>\n",
       "      <td>10</td>\n",
       "      <td>3</td>\n",
       "      <td>...</td>\n",
       "      <td>1</td>\n",
       "      <td>0</td>\n",
       "      <td>1</td>\n",
       "      <td>0</td>\n",
       "      <td>1</td>\n",
       "      <td>1</td>\n",
       "      <td>0</td>\n",
       "      <td>0</td>\n",
       "      <td>1</td>\n",
       "      <td>0</td>\n",
       "    </tr>\n",
       "    <tr>\n",
       "      <th>3</th>\n",
       "      <td>4</td>\n",
       "      <td>A1</td>\n",
       "      <td>300</td>\n",
       "      <td>1</td>\n",
       "      <td>5</td>\n",
       "      <td>0</td>\n",
       "      <td>6</td>\n",
       "      <td>10</td>\n",
       "      <td>2</td>\n",
       "      <td>3</td>\n",
       "      <td>...</td>\n",
       "      <td>0</td>\n",
       "      <td>0</td>\n",
       "      <td>1</td>\n",
       "      <td>0</td>\n",
       "      <td>0</td>\n",
       "      <td>1</td>\n",
       "      <td>0</td>\n",
       "      <td>0</td>\n",
       "      <td>0</td>\n",
       "      <td>0</td>\n",
       "    </tr>\n",
       "    <tr>\n",
       "      <th>4</th>\n",
       "      <td>5</td>\n",
       "      <td>A1</td>\n",
       "      <td>600</td>\n",
       "      <td>2</td>\n",
       "      <td>1</td>\n",
       "      <td>4</td>\n",
       "      <td>10</td>\n",
       "      <td>2</td>\n",
       "      <td>6</td>\n",
       "      <td>0</td>\n",
       "      <td>...</td>\n",
       "      <td>5</td>\n",
       "      <td>0</td>\n",
       "      <td>1</td>\n",
       "      <td>0</td>\n",
       "      <td>1</td>\n",
       "      <td>1</td>\n",
       "      <td>1</td>\n",
       "      <td>0</td>\n",
       "      <td>1</td>\n",
       "      <td>1</td>\n",
       "    </tr>\n",
       "  </tbody>\n",
       "</table>\n",
       "<p>5 rows × 23 columns</p>\n",
       "</div>"
      ],
      "text/plain": [
       "   ID Motorway   SR  NR  TR  VR  SUR1  SUR2  SUR3  UR  ...  BR  MR  CR  \\\n",
       "0   1       A1  600   1   1   4     6     2    10   0  ...   0   0   1   \n",
       "1   2       A1  700   1   5   1    10     6    10   3  ...   1   0   1   \n",
       "2   3       A1  200   1   5   1    10     6    10   3  ...   1   0   1   \n",
       "3   4       A1  300   1   5   0     6    10     2   3  ...   0   0   1   \n",
       "4   5       A1  600   2   1   4    10     2     6   0  ...   5   0   1   \n",
       "\n",
       "   Green frogs  Brown frogs  Common toad  Fire-bellied toad  Tree frog  \\\n",
       "0            0            0            0                  0          0   \n",
       "1            0            1            1                  0          0   \n",
       "2            0            1            1                  0          0   \n",
       "3            0            0            1                  0          0   \n",
       "4            0            1            1                  1          0   \n",
       "\n",
       "   Common newt  Great crested newt  \n",
       "0            0                   0  \n",
       "1            1                   0  \n",
       "2            1                   0  \n",
       "3            0                   0  \n",
       "4            1                   1  \n",
       "\n",
       "[5 rows x 23 columns]"
      ]
     },
     "execution_count": 3,
     "metadata": {},
     "output_type": "execute_result"
    }
   ],
   "source": [
    "df = pd.read_csv(\"dataset.csv\",delimiter=';', header=1)\n",
    "df.head()"
   ]
  },
  {
   "cell_type": "markdown",
   "metadata": {
    "cell_id": "00011-6d6166d6-a2ad-4efb-8f2d-8c94b2f5ae95",
    "deepnote_cell_height": 120.390625,
    "deepnote_cell_type": "markdown",
    "id": "mQ5o-Z905s3e"
   },
   "source": [
    "# **2. EDA & Preprocessing**\n",
    "\n",
    "Mendapatkan informasi tentang dataset yang dimiliki dan melakukan preprocessing atau mengolah data mentah agar siap digunakan dalam proses Machine Learning"
   ]
  },
  {
   "cell_type": "markdown",
   "metadata": {
    "cell_id": "00012-6e4d02f8-92a5-4779-b55b-83b70508bc0c",
    "deepnote_cell_height": 108.390625,
    "deepnote_cell_type": "markdown",
    "id": "uNemrz7jr34E"
   },
   "source": [
    "## 2.1 Get Dataframe Info\n",
    "\n",
    "Mendapatkan informasi tentang dataset yang dimiliki"
   ]
  },
  {
   "cell_type": "markdown",
   "metadata": {
    "cell_id": "00013-21aa8a2f-9a8d-497e-b3ba-8c2ae57d1b4b",
    "deepnote_cell_height": 52.390625,
    "deepnote_cell_type": "markdown",
    "id": "UZFH-4IschpA"
   },
   "source": [
    "Mendapatkan informasi umum dari dataset yang dimiliki"
   ]
  },
  {
   "cell_type": "code",
   "execution_count": null,
   "metadata": {
    "cell_id": "00014-525f8cc7-6f83-4d8c-a390-52dd4971031c",
    "colab": {
     "base_uri": "https://localhost:8080/"
    },
    "deepnote_cell_height": 697.625,
    "deepnote_cell_type": "code",
    "deepnote_to_be_reexecuted": false,
    "execution_millis": 36,
    "execution_start": 1622026964461,
    "id": "25z13ZzG9ga0",
    "outputId": "eb015858-8679-488a-9a63-28698b263400",
    "source_hash": "de1e323c"
   },
   "outputs": [
    {
     "name": "stdout",
     "output_type": "stream",
     "text": [
      "<class 'pandas.core.frame.DataFrame'>\n",
      "RangeIndex: 189 entries, 0 to 188\n",
      "Data columns (total 23 columns):\n",
      " #   Column              Non-Null Count  Dtype \n",
      "---  ------              --------------  ----- \n",
      " 0   ID                  189 non-null    int64 \n",
      " 1   Motorway            189 non-null    object\n",
      " 2   SR                  189 non-null    int64 \n",
      " 3   NR                  189 non-null    int64 \n",
      " 4   TR                  189 non-null    int64 \n",
      " 5   VR                  189 non-null    int64 \n",
      " 6   SUR1                189 non-null    int64 \n",
      " 7   SUR2                189 non-null    int64 \n",
      " 8   SUR3                189 non-null    int64 \n",
      " 9   UR                  189 non-null    int64 \n",
      " 10  FR                  189 non-null    int64 \n",
      " 11  OR                  189 non-null    int64 \n",
      " 12  RR                  189 non-null    int64 \n",
      " 13  BR                  189 non-null    int64 \n",
      " 14  MR                  189 non-null    int64 \n",
      " 15  CR                  189 non-null    int64 \n",
      " 16  Green frogs         189 non-null    int64 \n",
      " 17  Brown frogs         189 non-null    int64 \n",
      " 18  Common toad         189 non-null    int64 \n",
      " 19  Fire-bellied toad   189 non-null    int64 \n",
      " 20  Tree frog           189 non-null    int64 \n",
      " 21  Common newt         189 non-null    int64 \n",
      " 22  Great crested newt  189 non-null    int64 \n",
      "dtypes: int64(22), object(1)\n",
      "memory usage: 34.1+ KB\n"
     ]
    }
   ],
   "source": [
    "df.info()"
   ]
  },
  {
   "cell_type": "markdown",
   "metadata": {
    "cell_id": "00015-7dd6b537-6022-45dc-bf06-4b2cb3b43411",
    "deepnote_cell_height": 52.390625,
    "deepnote_cell_type": "markdown",
    "id": "slXAKSGvc_yo"
   },
   "source": [
    "Mendapatkan informasi apakah ada nilai kosong pada baris data"
   ]
  },
  {
   "cell_type": "code",
   "execution_count": null,
   "metadata": {
    "cell_id": "00016-bac8d7af-2f7d-42c3-b9f2-ff804bff9f56",
    "colab": {
     "base_uri": "https://localhost:8080/"
    },
    "deepnote_cell_height": 559.5,
    "deepnote_cell_type": "code",
    "deepnote_output_heights": [
     462.5
    ],
    "deepnote_to_be_reexecuted": false,
    "execution_millis": 22,
    "execution_start": 1622026964497,
    "id": "NV0XC9dwG40-",
    "outputId": "3c83a41a-479a-4518-f0a8-291ecb166dea",
    "source_hash": "f3dd26da"
   },
   "outputs": [
    {
     "data": {
      "text/plain": [
       "ID                    0\n",
       "Motorway              0\n",
       "SR                    0\n",
       "NR                    0\n",
       "TR                    0\n",
       "VR                    0\n",
       "SUR1                  0\n",
       "SUR2                  0\n",
       "SUR3                  0\n",
       "UR                    0\n",
       "FR                    0\n",
       "OR                    0\n",
       "RR                    0\n",
       "BR                    0\n",
       "MR                    0\n",
       "CR                    0\n",
       "Green frogs           0\n",
       "Brown frogs           0\n",
       "Common toad           0\n",
       "Fire-bellied toad     0\n",
       "Tree frog             0\n",
       "Common newt           0\n",
       "Great crested newt    0\n",
       "dtype: int64"
      ]
     },
     "execution_count": 5,
     "metadata": {},
     "output_type": "execute_result"
    }
   ],
   "source": [
    "df.isnull().sum()"
   ]
  },
  {
   "cell_type": "markdown",
   "metadata": {
    "cell_id": "00017-0867d7e9-b52a-42b9-9ddd-ff9825591017",
    "deepnote_cell_height": 52.390625,
    "deepnote_cell_type": "markdown",
    "id": "3wbOKN5k9jYH"
   },
   "source": [
    "Dari total 189 baris data dalam Dataframe, diketahui bahwa tidak ada nilai kosong/null"
   ]
  },
  {
   "cell_type": "markdown",
   "metadata": {
    "cell_id": "00018-5e4e95b5-e30a-4b87-a46c-594936d795ad",
    "deepnote_cell_height": 130.78125,
    "deepnote_cell_type": "markdown",
    "tags": []
   },
   "source": [
    "## **2.2 Handle Unwanted Column**\n",
    "\n",
    "Handle Unwanted Column adalah proses menangani kolom yang tidak diinginkan atau tidak digunakan dalam proses prediksi. Pada percobaan ini, penanganan akan dilakukan dengan menghapus kolom tersebut"
   ]
  },
  {
   "cell_type": "markdown",
   "metadata": {
    "cell_id": "00019-c3e9a0ba-7f25-4eb2-a6ab-1e5a47cf61bc",
    "deepnote_cell_height": 52.390625,
    "deepnote_cell_type": "markdown",
    "tags": []
   },
   "source": [
    "Pada dataset ini, kolom ID tidak digunakan karena tidak berhubungan dengan prediksi dan berpotensi mengganggu hasil prediksi"
   ]
  },
  {
   "cell_type": "code",
   "execution_count": null,
   "metadata": {
    "cell_id": "00020-69d3be53-db22-4ffa-b4e0-bea879b13edc",
    "deepnote_cell_height": 212.9375,
    "deepnote_cell_type": "code",
    "deepnote_output_heights": [
     97.9375
    ],
    "deepnote_to_be_reexecuted": false,
    "execution_millis": 6,
    "execution_start": 1622026964566,
    "source_hash": "dc74834d",
    "tags": []
   },
   "outputs": [
    {
     "data": {
      "text/plain": [
       "Index(['Motorway', 'SR', 'NR', 'TR', 'VR', 'SUR1', 'SUR2', 'SUR3', 'UR', 'FR',\n",
       "       'OR', 'RR', 'BR', 'MR', 'CR', 'Green frogs', 'Brown frogs',\n",
       "       'Common toad', 'Fire-bellied toad', 'Tree frog', 'Common newt',\n",
       "       'Great crested newt'],\n",
       "      dtype='object')"
      ]
     },
     "execution_count": 6,
     "metadata": {},
     "output_type": "execute_result"
    }
   ],
   "source": [
    "df.drop(columns = \"ID\", inplace = True)\n",
    "df.columns"
   ]
  },
  {
   "cell_type": "markdown",
   "metadata": {
    "cell_id": "00021-4000e3fb-e1d9-4863-a16f-00def1e4567e",
    "deepnote_cell_height": 70,
    "deepnote_cell_type": "markdown",
    "tags": []
   },
   "source": [
    "## **2.3 Handle Outliers**\n",
    "\n"
   ]
  },
  {
   "cell_type": "code",
   "execution_count": null,
   "metadata": {
    "cell_id": "00022-476edef5-147d-4d83-996b-35a5216c3dc4",
    "deepnote_cell_height": 549,
    "deepnote_cell_type": "code",
    "deepnote_to_be_reexecuted": false,
    "execution_millis": 51,
    "execution_start": 1622026964566,
    "source_hash": "8534368b",
    "tags": []
   },
   "outputs": [],
   "source": [
    "from collections import Counter\n",
    "\n",
    "def cari_outlier(df, daftar_fitur):\n",
    "    indeks_outlier = []\n",
    "    \n",
    "    for fitur in daftar_fitur:\n",
    "        # deklarasi kuartil1 dan kuartil 3\n",
    "        q1 = np.percentile(df[fitur],25)\n",
    "        q3 = np.percentile(df[fitur],75)\n",
    "        \n",
    "        # Interquartile Range\n",
    "        iqr = q3 - q1\n",
    "\n",
    "        # batas minimum dan maximum outlier\n",
    "        minimum = q1 - (1.5 * iqr)\n",
    "        maximum = q3 + (1.5 * iqr)\n",
    "\n",
    "        # deteksi outlier and indeksnya\n",
    "        daftar_outlier = df[(df[fitur] < minimum) | (df[fitur] > maximum)].index\n",
    "        \n",
    "        # menyimpan indeks\n",
    "        indeks_outlier.extend(daftar_outlier)\n",
    "    \n",
    "    indeks_outlier = Counter(indeks_outlier)\n",
    "    multiple_outliers = list(i for i, v in indeks_outlier.items() if v > 2)\n",
    "    \n",
    "    return multiple_outliers"
   ]
  },
  {
   "cell_type": "markdown",
   "metadata": {
    "cell_id": "00023-10877321-389c-4d62-b923-e0562cfa1f47",
    "deepnote_cell_height": 52.390625,
    "deepnote_cell_type": "markdown",
    "tags": []
   },
   "source": [
    "Uji fungsi cari_outlier"
   ]
  },
  {
   "cell_type": "code",
   "execution_count": null,
   "metadata": {
    "cell_id": "00024-55498f38-0382-4b34-8697-04619d6c7c58",
    "deepnote_cell_height": 160.1875,
    "deepnote_cell_type": "code",
    "deepnote_output_heights": [
     63.1875
    ],
    "deepnote_to_be_reexecuted": false,
    "execution_millis": 137,
    "execution_start": 1622026964617,
    "source_hash": "8f08f5ef",
    "tags": []
   },
   "outputs": [
    {
     "data": {
      "application/vnd.deepnote.dataframe.v2+json": {
       "column_count": 22,
       "columns": [
        {
         "dtype": "object",
         "name": "Motorway",
         "stats": {
          "categories": [],
          "nan_count": 0,
          "unique_count": 0
         }
        },
        {
         "dtype": "int64",
         "name": "SR",
         "stats": {
          "histogram": [
           {
            "bin_end": 0.1,
            "bin_start": 0,
            "count": 0
           },
           {
            "bin_end": 0.2,
            "bin_start": 0.1,
            "count": 0
           },
           {
            "bin_end": 0.30000000000000004,
            "bin_start": 0.2,
            "count": 0
           },
           {
            "bin_end": 0.4,
            "bin_start": 0.30000000000000004,
            "count": 0
           },
           {
            "bin_end": 0.5,
            "bin_start": 0.4,
            "count": 0
           },
           {
            "bin_end": 0.6000000000000001,
            "bin_start": 0.5,
            "count": 0
           },
           {
            "bin_end": 0.7000000000000001,
            "bin_start": 0.6000000000000001,
            "count": 0
           },
           {
            "bin_end": 0.8,
            "bin_start": 0.7000000000000001,
            "count": 0
           },
           {
            "bin_end": 0.9,
            "bin_start": 0.8,
            "count": 0
           },
           {
            "bin_end": 1,
            "bin_start": 0.9,
            "count": 0
           }
          ],
          "max": null,
          "min": null,
          "nan_count": 0,
          "unique_count": 0
         }
        },
        {
         "dtype": "int64",
         "name": "NR",
         "stats": {
          "histogram": [
           {
            "bin_end": 0.1,
            "bin_start": 0,
            "count": 0
           },
           {
            "bin_end": 0.2,
            "bin_start": 0.1,
            "count": 0
           },
           {
            "bin_end": 0.30000000000000004,
            "bin_start": 0.2,
            "count": 0
           },
           {
            "bin_end": 0.4,
            "bin_start": 0.30000000000000004,
            "count": 0
           },
           {
            "bin_end": 0.5,
            "bin_start": 0.4,
            "count": 0
           },
           {
            "bin_end": 0.6000000000000001,
            "bin_start": 0.5,
            "count": 0
           },
           {
            "bin_end": 0.7000000000000001,
            "bin_start": 0.6000000000000001,
            "count": 0
           },
           {
            "bin_end": 0.8,
            "bin_start": 0.7000000000000001,
            "count": 0
           },
           {
            "bin_end": 0.9,
            "bin_start": 0.8,
            "count": 0
           },
           {
            "bin_end": 1,
            "bin_start": 0.9,
            "count": 0
           }
          ],
          "max": null,
          "min": null,
          "nan_count": 0,
          "unique_count": 0
         }
        },
        {
         "dtype": "int64",
         "name": "TR",
         "stats": {
          "histogram": [
           {
            "bin_end": 0.1,
            "bin_start": 0,
            "count": 0
           },
           {
            "bin_end": 0.2,
            "bin_start": 0.1,
            "count": 0
           },
           {
            "bin_end": 0.30000000000000004,
            "bin_start": 0.2,
            "count": 0
           },
           {
            "bin_end": 0.4,
            "bin_start": 0.30000000000000004,
            "count": 0
           },
           {
            "bin_end": 0.5,
            "bin_start": 0.4,
            "count": 0
           },
           {
            "bin_end": 0.6000000000000001,
            "bin_start": 0.5,
            "count": 0
           },
           {
            "bin_end": 0.7000000000000001,
            "bin_start": 0.6000000000000001,
            "count": 0
           },
           {
            "bin_end": 0.8,
            "bin_start": 0.7000000000000001,
            "count": 0
           },
           {
            "bin_end": 0.9,
            "bin_start": 0.8,
            "count": 0
           },
           {
            "bin_end": 1,
            "bin_start": 0.9,
            "count": 0
           }
          ],
          "max": null,
          "min": null,
          "nan_count": 0,
          "unique_count": 0
         }
        },
        {
         "dtype": "int64",
         "name": "VR",
         "stats": {
          "histogram": [
           {
            "bin_end": 0.1,
            "bin_start": 0,
            "count": 0
           },
           {
            "bin_end": 0.2,
            "bin_start": 0.1,
            "count": 0
           },
           {
            "bin_end": 0.30000000000000004,
            "bin_start": 0.2,
            "count": 0
           },
           {
            "bin_end": 0.4,
            "bin_start": 0.30000000000000004,
            "count": 0
           },
           {
            "bin_end": 0.5,
            "bin_start": 0.4,
            "count": 0
           },
           {
            "bin_end": 0.6000000000000001,
            "bin_start": 0.5,
            "count": 0
           },
           {
            "bin_end": 0.7000000000000001,
            "bin_start": 0.6000000000000001,
            "count": 0
           },
           {
            "bin_end": 0.8,
            "bin_start": 0.7000000000000001,
            "count": 0
           },
           {
            "bin_end": 0.9,
            "bin_start": 0.8,
            "count": 0
           },
           {
            "bin_end": 1,
            "bin_start": 0.9,
            "count": 0
           }
          ],
          "max": null,
          "min": null,
          "nan_count": 0,
          "unique_count": 0
         }
        },
        {
         "dtype": "int64",
         "name": "SUR1",
         "stats": {
          "histogram": [
           {
            "bin_end": 0.1,
            "bin_start": 0,
            "count": 0
           },
           {
            "bin_end": 0.2,
            "bin_start": 0.1,
            "count": 0
           },
           {
            "bin_end": 0.30000000000000004,
            "bin_start": 0.2,
            "count": 0
           },
           {
            "bin_end": 0.4,
            "bin_start": 0.30000000000000004,
            "count": 0
           },
           {
            "bin_end": 0.5,
            "bin_start": 0.4,
            "count": 0
           },
           {
            "bin_end": 0.6000000000000001,
            "bin_start": 0.5,
            "count": 0
           },
           {
            "bin_end": 0.7000000000000001,
            "bin_start": 0.6000000000000001,
            "count": 0
           },
           {
            "bin_end": 0.8,
            "bin_start": 0.7000000000000001,
            "count": 0
           },
           {
            "bin_end": 0.9,
            "bin_start": 0.8,
            "count": 0
           },
           {
            "bin_end": 1,
            "bin_start": 0.9,
            "count": 0
           }
          ],
          "max": null,
          "min": null,
          "nan_count": 0,
          "unique_count": 0
         }
        },
        {
         "dtype": "int64",
         "name": "SUR2",
         "stats": {
          "histogram": [
           {
            "bin_end": 0.1,
            "bin_start": 0,
            "count": 0
           },
           {
            "bin_end": 0.2,
            "bin_start": 0.1,
            "count": 0
           },
           {
            "bin_end": 0.30000000000000004,
            "bin_start": 0.2,
            "count": 0
           },
           {
            "bin_end": 0.4,
            "bin_start": 0.30000000000000004,
            "count": 0
           },
           {
            "bin_end": 0.5,
            "bin_start": 0.4,
            "count": 0
           },
           {
            "bin_end": 0.6000000000000001,
            "bin_start": 0.5,
            "count": 0
           },
           {
            "bin_end": 0.7000000000000001,
            "bin_start": 0.6000000000000001,
            "count": 0
           },
           {
            "bin_end": 0.8,
            "bin_start": 0.7000000000000001,
            "count": 0
           },
           {
            "bin_end": 0.9,
            "bin_start": 0.8,
            "count": 0
           },
           {
            "bin_end": 1,
            "bin_start": 0.9,
            "count": 0
           }
          ],
          "max": null,
          "min": null,
          "nan_count": 0,
          "unique_count": 0
         }
        },
        {
         "dtype": "int64",
         "name": "SUR3",
         "stats": {
          "histogram": [
           {
            "bin_end": 0.1,
            "bin_start": 0,
            "count": 0
           },
           {
            "bin_end": 0.2,
            "bin_start": 0.1,
            "count": 0
           },
           {
            "bin_end": 0.30000000000000004,
            "bin_start": 0.2,
            "count": 0
           },
           {
            "bin_end": 0.4,
            "bin_start": 0.30000000000000004,
            "count": 0
           },
           {
            "bin_end": 0.5,
            "bin_start": 0.4,
            "count": 0
           },
           {
            "bin_end": 0.6000000000000001,
            "bin_start": 0.5,
            "count": 0
           },
           {
            "bin_end": 0.7000000000000001,
            "bin_start": 0.6000000000000001,
            "count": 0
           },
           {
            "bin_end": 0.8,
            "bin_start": 0.7000000000000001,
            "count": 0
           },
           {
            "bin_end": 0.9,
            "bin_start": 0.8,
            "count": 0
           },
           {
            "bin_end": 1,
            "bin_start": 0.9,
            "count": 0
           }
          ],
          "max": null,
          "min": null,
          "nan_count": 0,
          "unique_count": 0
         }
        },
        {
         "dtype": "int64",
         "name": "UR",
         "stats": {
          "histogram": [
           {
            "bin_end": 0.1,
            "bin_start": 0,
            "count": 0
           },
           {
            "bin_end": 0.2,
            "bin_start": 0.1,
            "count": 0
           },
           {
            "bin_end": 0.30000000000000004,
            "bin_start": 0.2,
            "count": 0
           },
           {
            "bin_end": 0.4,
            "bin_start": 0.30000000000000004,
            "count": 0
           },
           {
            "bin_end": 0.5,
            "bin_start": 0.4,
            "count": 0
           },
           {
            "bin_end": 0.6000000000000001,
            "bin_start": 0.5,
            "count": 0
           },
           {
            "bin_end": 0.7000000000000001,
            "bin_start": 0.6000000000000001,
            "count": 0
           },
           {
            "bin_end": 0.8,
            "bin_start": 0.7000000000000001,
            "count": 0
           },
           {
            "bin_end": 0.9,
            "bin_start": 0.8,
            "count": 0
           },
           {
            "bin_end": 1,
            "bin_start": 0.9,
            "count": 0
           }
          ],
          "max": null,
          "min": null,
          "nan_count": 0,
          "unique_count": 0
         }
        },
        {
         "dtype": "int64",
         "name": "FR",
         "stats": {
          "histogram": [
           {
            "bin_end": 0.1,
            "bin_start": 0,
            "count": 0
           },
           {
            "bin_end": 0.2,
            "bin_start": 0.1,
            "count": 0
           },
           {
            "bin_end": 0.30000000000000004,
            "bin_start": 0.2,
            "count": 0
           },
           {
            "bin_end": 0.4,
            "bin_start": 0.30000000000000004,
            "count": 0
           },
           {
            "bin_end": 0.5,
            "bin_start": 0.4,
            "count": 0
           },
           {
            "bin_end": 0.6000000000000001,
            "bin_start": 0.5,
            "count": 0
           },
           {
            "bin_end": 0.7000000000000001,
            "bin_start": 0.6000000000000001,
            "count": 0
           },
           {
            "bin_end": 0.8,
            "bin_start": 0.7000000000000001,
            "count": 0
           },
           {
            "bin_end": 0.9,
            "bin_start": 0.8,
            "count": 0
           },
           {
            "bin_end": 1,
            "bin_start": 0.9,
            "count": 0
           }
          ],
          "max": null,
          "min": null,
          "nan_count": 0,
          "unique_count": 0
         }
        },
        {
         "dtype": "int64",
         "name": "OR",
         "stats": {
          "histogram": [
           {
            "bin_end": 0.1,
            "bin_start": 0,
            "count": 0
           },
           {
            "bin_end": 0.2,
            "bin_start": 0.1,
            "count": 0
           },
           {
            "bin_end": 0.30000000000000004,
            "bin_start": 0.2,
            "count": 0
           },
           {
            "bin_end": 0.4,
            "bin_start": 0.30000000000000004,
            "count": 0
           },
           {
            "bin_end": 0.5,
            "bin_start": 0.4,
            "count": 0
           },
           {
            "bin_end": 0.6000000000000001,
            "bin_start": 0.5,
            "count": 0
           },
           {
            "bin_end": 0.7000000000000001,
            "bin_start": 0.6000000000000001,
            "count": 0
           },
           {
            "bin_end": 0.8,
            "bin_start": 0.7000000000000001,
            "count": 0
           },
           {
            "bin_end": 0.9,
            "bin_start": 0.8,
            "count": 0
           },
           {
            "bin_end": 1,
            "bin_start": 0.9,
            "count": 0
           }
          ],
          "max": null,
          "min": null,
          "nan_count": 0,
          "unique_count": 0
         }
        },
        {
         "dtype": "int64",
         "name": "RR",
         "stats": {
          "histogram": [
           {
            "bin_end": 0.1,
            "bin_start": 0,
            "count": 0
           },
           {
            "bin_end": 0.2,
            "bin_start": 0.1,
            "count": 0
           },
           {
            "bin_end": 0.30000000000000004,
            "bin_start": 0.2,
            "count": 0
           },
           {
            "bin_end": 0.4,
            "bin_start": 0.30000000000000004,
            "count": 0
           },
           {
            "bin_end": 0.5,
            "bin_start": 0.4,
            "count": 0
           },
           {
            "bin_end": 0.6000000000000001,
            "bin_start": 0.5,
            "count": 0
           },
           {
            "bin_end": 0.7000000000000001,
            "bin_start": 0.6000000000000001,
            "count": 0
           },
           {
            "bin_end": 0.8,
            "bin_start": 0.7000000000000001,
            "count": 0
           },
           {
            "bin_end": 0.9,
            "bin_start": 0.8,
            "count": 0
           },
           {
            "bin_end": 1,
            "bin_start": 0.9,
            "count": 0
           }
          ],
          "max": null,
          "min": null,
          "nan_count": 0,
          "unique_count": 0
         }
        },
        {
         "dtype": "int64",
         "name": "BR",
         "stats": {
          "histogram": [
           {
            "bin_end": 0.1,
            "bin_start": 0,
            "count": 0
           },
           {
            "bin_end": 0.2,
            "bin_start": 0.1,
            "count": 0
           },
           {
            "bin_end": 0.30000000000000004,
            "bin_start": 0.2,
            "count": 0
           },
           {
            "bin_end": 0.4,
            "bin_start": 0.30000000000000004,
            "count": 0
           },
           {
            "bin_end": 0.5,
            "bin_start": 0.4,
            "count": 0
           },
           {
            "bin_end": 0.6000000000000001,
            "bin_start": 0.5,
            "count": 0
           },
           {
            "bin_end": 0.7000000000000001,
            "bin_start": 0.6000000000000001,
            "count": 0
           },
           {
            "bin_end": 0.8,
            "bin_start": 0.7000000000000001,
            "count": 0
           },
           {
            "bin_end": 0.9,
            "bin_start": 0.8,
            "count": 0
           },
           {
            "bin_end": 1,
            "bin_start": 0.9,
            "count": 0
           }
          ],
          "max": null,
          "min": null,
          "nan_count": 0,
          "unique_count": 0
         }
        },
        {
         "dtype": "int64",
         "name": "MR",
         "stats": {
          "histogram": [
           {
            "bin_end": 0.1,
            "bin_start": 0,
            "count": 0
           },
           {
            "bin_end": 0.2,
            "bin_start": 0.1,
            "count": 0
           },
           {
            "bin_end": 0.30000000000000004,
            "bin_start": 0.2,
            "count": 0
           },
           {
            "bin_end": 0.4,
            "bin_start": 0.30000000000000004,
            "count": 0
           },
           {
            "bin_end": 0.5,
            "bin_start": 0.4,
            "count": 0
           },
           {
            "bin_end": 0.6000000000000001,
            "bin_start": 0.5,
            "count": 0
           },
           {
            "bin_end": 0.7000000000000001,
            "bin_start": 0.6000000000000001,
            "count": 0
           },
           {
            "bin_end": 0.8,
            "bin_start": 0.7000000000000001,
            "count": 0
           },
           {
            "bin_end": 0.9,
            "bin_start": 0.8,
            "count": 0
           },
           {
            "bin_end": 1,
            "bin_start": 0.9,
            "count": 0
           }
          ],
          "max": null,
          "min": null,
          "nan_count": 0,
          "unique_count": 0
         }
        },
        {
         "dtype": "int64",
         "name": "CR",
         "stats": {
          "histogram": [
           {
            "bin_end": 0.1,
            "bin_start": 0,
            "count": 0
           },
           {
            "bin_end": 0.2,
            "bin_start": 0.1,
            "count": 0
           },
           {
            "bin_end": 0.30000000000000004,
            "bin_start": 0.2,
            "count": 0
           },
           {
            "bin_end": 0.4,
            "bin_start": 0.30000000000000004,
            "count": 0
           },
           {
            "bin_end": 0.5,
            "bin_start": 0.4,
            "count": 0
           },
           {
            "bin_end": 0.6000000000000001,
            "bin_start": 0.5,
            "count": 0
           },
           {
            "bin_end": 0.7000000000000001,
            "bin_start": 0.6000000000000001,
            "count": 0
           },
           {
            "bin_end": 0.8,
            "bin_start": 0.7000000000000001,
            "count": 0
           },
           {
            "bin_end": 0.9,
            "bin_start": 0.8,
            "count": 0
           },
           {
            "bin_end": 1,
            "bin_start": 0.9,
            "count": 0
           }
          ],
          "max": null,
          "min": null,
          "nan_count": 0,
          "unique_count": 0
         }
        },
        {
         "dtype": "int64",
         "name": "Green frogs",
         "stats": {
          "histogram": [
           {
            "bin_end": 0.1,
            "bin_start": 0,
            "count": 0
           },
           {
            "bin_end": 0.2,
            "bin_start": 0.1,
            "count": 0
           },
           {
            "bin_end": 0.30000000000000004,
            "bin_start": 0.2,
            "count": 0
           },
           {
            "bin_end": 0.4,
            "bin_start": 0.30000000000000004,
            "count": 0
           },
           {
            "bin_end": 0.5,
            "bin_start": 0.4,
            "count": 0
           },
           {
            "bin_end": 0.6000000000000001,
            "bin_start": 0.5,
            "count": 0
           },
           {
            "bin_end": 0.7000000000000001,
            "bin_start": 0.6000000000000001,
            "count": 0
           },
           {
            "bin_end": 0.8,
            "bin_start": 0.7000000000000001,
            "count": 0
           },
           {
            "bin_end": 0.9,
            "bin_start": 0.8,
            "count": 0
           },
           {
            "bin_end": 1,
            "bin_start": 0.9,
            "count": 0
           }
          ],
          "max": null,
          "min": null,
          "nan_count": 0,
          "unique_count": 0
         }
        },
        {
         "dtype": "int64",
         "name": "Brown frogs",
         "stats": {
          "histogram": [
           {
            "bin_end": 0.1,
            "bin_start": 0,
            "count": 0
           },
           {
            "bin_end": 0.2,
            "bin_start": 0.1,
            "count": 0
           },
           {
            "bin_end": 0.30000000000000004,
            "bin_start": 0.2,
            "count": 0
           },
           {
            "bin_end": 0.4,
            "bin_start": 0.30000000000000004,
            "count": 0
           },
           {
            "bin_end": 0.5,
            "bin_start": 0.4,
            "count": 0
           },
           {
            "bin_end": 0.6000000000000001,
            "bin_start": 0.5,
            "count": 0
           },
           {
            "bin_end": 0.7000000000000001,
            "bin_start": 0.6000000000000001,
            "count": 0
           },
           {
            "bin_end": 0.8,
            "bin_start": 0.7000000000000001,
            "count": 0
           },
           {
            "bin_end": 0.9,
            "bin_start": 0.8,
            "count": 0
           },
           {
            "bin_end": 1,
            "bin_start": 0.9,
            "count": 0
           }
          ],
          "max": null,
          "min": null,
          "nan_count": 0,
          "unique_count": 0
         }
        },
        {
         "dtype": "int64",
         "name": "Common toad",
         "stats": {
          "histogram": [
           {
            "bin_end": 0.1,
            "bin_start": 0,
            "count": 0
           },
           {
            "bin_end": 0.2,
            "bin_start": 0.1,
            "count": 0
           },
           {
            "bin_end": 0.30000000000000004,
            "bin_start": 0.2,
            "count": 0
           },
           {
            "bin_end": 0.4,
            "bin_start": 0.30000000000000004,
            "count": 0
           },
           {
            "bin_end": 0.5,
            "bin_start": 0.4,
            "count": 0
           },
           {
            "bin_end": 0.6000000000000001,
            "bin_start": 0.5,
            "count": 0
           },
           {
            "bin_end": 0.7000000000000001,
            "bin_start": 0.6000000000000001,
            "count": 0
           },
           {
            "bin_end": 0.8,
            "bin_start": 0.7000000000000001,
            "count": 0
           },
           {
            "bin_end": 0.9,
            "bin_start": 0.8,
            "count": 0
           },
           {
            "bin_end": 1,
            "bin_start": 0.9,
            "count": 0
           }
          ],
          "max": null,
          "min": null,
          "nan_count": 0,
          "unique_count": 0
         }
        },
        {
         "dtype": "int64",
         "name": "Fire-bellied toad",
         "stats": {
          "histogram": [
           {
            "bin_end": 0.1,
            "bin_start": 0,
            "count": 0
           },
           {
            "bin_end": 0.2,
            "bin_start": 0.1,
            "count": 0
           },
           {
            "bin_end": 0.30000000000000004,
            "bin_start": 0.2,
            "count": 0
           },
           {
            "bin_end": 0.4,
            "bin_start": 0.30000000000000004,
            "count": 0
           },
           {
            "bin_end": 0.5,
            "bin_start": 0.4,
            "count": 0
           },
           {
            "bin_end": 0.6000000000000001,
            "bin_start": 0.5,
            "count": 0
           },
           {
            "bin_end": 0.7000000000000001,
            "bin_start": 0.6000000000000001,
            "count": 0
           },
           {
            "bin_end": 0.8,
            "bin_start": 0.7000000000000001,
            "count": 0
           },
           {
            "bin_end": 0.9,
            "bin_start": 0.8,
            "count": 0
           },
           {
            "bin_end": 1,
            "bin_start": 0.9,
            "count": 0
           }
          ],
          "max": null,
          "min": null,
          "nan_count": 0,
          "unique_count": 0
         }
        },
        {
         "dtype": "int64",
         "name": "Tree frog",
         "stats": {
          "histogram": [
           {
            "bin_end": 0.1,
            "bin_start": 0,
            "count": 0
           },
           {
            "bin_end": 0.2,
            "bin_start": 0.1,
            "count": 0
           },
           {
            "bin_end": 0.30000000000000004,
            "bin_start": 0.2,
            "count": 0
           },
           {
            "bin_end": 0.4,
            "bin_start": 0.30000000000000004,
            "count": 0
           },
           {
            "bin_end": 0.5,
            "bin_start": 0.4,
            "count": 0
           },
           {
            "bin_end": 0.6000000000000001,
            "bin_start": 0.5,
            "count": 0
           },
           {
            "bin_end": 0.7000000000000001,
            "bin_start": 0.6000000000000001,
            "count": 0
           },
           {
            "bin_end": 0.8,
            "bin_start": 0.7000000000000001,
            "count": 0
           },
           {
            "bin_end": 0.9,
            "bin_start": 0.8,
            "count": 0
           },
           {
            "bin_end": 1,
            "bin_start": 0.9,
            "count": 0
           }
          ],
          "max": null,
          "min": null,
          "nan_count": 0,
          "unique_count": 0
         }
        },
        {
         "dtype": "int64",
         "name": "Common newt",
         "stats": {
          "histogram": [
           {
            "bin_end": 0.1,
            "bin_start": 0,
            "count": 0
           },
           {
            "bin_end": 0.2,
            "bin_start": 0.1,
            "count": 0
           },
           {
            "bin_end": 0.30000000000000004,
            "bin_start": 0.2,
            "count": 0
           },
           {
            "bin_end": 0.4,
            "bin_start": 0.30000000000000004,
            "count": 0
           },
           {
            "bin_end": 0.5,
            "bin_start": 0.4,
            "count": 0
           },
           {
            "bin_end": 0.6000000000000001,
            "bin_start": 0.5,
            "count": 0
           },
           {
            "bin_end": 0.7000000000000001,
            "bin_start": 0.6000000000000001,
            "count": 0
           },
           {
            "bin_end": 0.8,
            "bin_start": 0.7000000000000001,
            "count": 0
           },
           {
            "bin_end": 0.9,
            "bin_start": 0.8,
            "count": 0
           },
           {
            "bin_end": 1,
            "bin_start": 0.9,
            "count": 0
           }
          ],
          "max": null,
          "min": null,
          "nan_count": 0,
          "unique_count": 0
         }
        },
        {
         "dtype": "int64",
         "name": "Great crested newt",
         "stats": {
          "histogram": [
           {
            "bin_end": 0.1,
            "bin_start": 0,
            "count": 0
           },
           {
            "bin_end": 0.2,
            "bin_start": 0.1,
            "count": 0
           },
           {
            "bin_end": 0.30000000000000004,
            "bin_start": 0.2,
            "count": 0
           },
           {
            "bin_end": 0.4,
            "bin_start": 0.30000000000000004,
            "count": 0
           },
           {
            "bin_end": 0.5,
            "bin_start": 0.4,
            "count": 0
           },
           {
            "bin_end": 0.6000000000000001,
            "bin_start": 0.5,
            "count": 0
           },
           {
            "bin_end": 0.7000000000000001,
            "bin_start": 0.6000000000000001,
            "count": 0
           },
           {
            "bin_end": 0.8,
            "bin_start": 0.7000000000000001,
            "count": 0
           },
           {
            "bin_end": 0.9,
            "bin_start": 0.8,
            "count": 0
           },
           {
            "bin_end": 1,
            "bin_start": 0.9,
            "count": 0
           }
          ],
          "max": null,
          "min": null,
          "nan_count": 0,
          "unique_count": 0
         }
        },
        {
         "dtype": "int64",
         "name": "_deepnote_index_column"
        }
       ],
       "row_count": 0,
       "rows_bottom": null,
       "rows_top": []
      },
      "text/html": [
       "<div>\n",
       "<style scoped>\n",
       "    .dataframe tbody tr th:only-of-type {\n",
       "        vertical-align: middle;\n",
       "    }\n",
       "\n",
       "    .dataframe tbody tr th {\n",
       "        vertical-align: top;\n",
       "    }\n",
       "\n",
       "    .dataframe thead th {\n",
       "        text-align: right;\n",
       "    }\n",
       "</style>\n",
       "<table border=\"1\" class=\"dataframe\">\n",
       "  <thead>\n",
       "    <tr style=\"text-align: right;\">\n",
       "      <th></th>\n",
       "      <th>Motorway</th>\n",
       "      <th>SR</th>\n",
       "      <th>NR</th>\n",
       "      <th>TR</th>\n",
       "      <th>VR</th>\n",
       "      <th>SUR1</th>\n",
       "      <th>SUR2</th>\n",
       "      <th>SUR3</th>\n",
       "      <th>UR</th>\n",
       "      <th>FR</th>\n",
       "      <th>...</th>\n",
       "      <th>BR</th>\n",
       "      <th>MR</th>\n",
       "      <th>CR</th>\n",
       "      <th>Green frogs</th>\n",
       "      <th>Brown frogs</th>\n",
       "      <th>Common toad</th>\n",
       "      <th>Fire-bellied toad</th>\n",
       "      <th>Tree frog</th>\n",
       "      <th>Common newt</th>\n",
       "      <th>Great crested newt</th>\n",
       "    </tr>\n",
       "  </thead>\n",
       "  <tbody>\n",
       "  </tbody>\n",
       "</table>\n",
       "<p>0 rows × 22 columns</p>\n",
       "</div>"
      ],
      "text/plain": [
       "Empty DataFrame\n",
       "Columns: [Motorway, SR, NR, TR, VR, SUR1, SUR2, SUR3, UR, FR, OR, RR, BR, MR, CR, Green frogs, Brown frogs, Common toad, Fire-bellied toad, Tree frog, Common newt, Great crested newt]\n",
       "Index: []\n",
       "\n",
       "[0 rows x 22 columns]"
      ]
     },
     "execution_count": 8,
     "metadata": {},
     "output_type": "execute_result"
    }
   ],
   "source": [
    "df.loc[cari_outlier(df,[\"TR\",\"VR\",\"UR\",\"FR\",\"OR\",\"RR\",\"BR\",\"CR\"])]"
   ]
  },
  {
   "cell_type": "markdown",
   "metadata": {
    "cell_id": "00025-7c919a0a-65fd-40b9-ac82-9d2dc91ba221",
    "deepnote_cell_height": 52.390625,
    "deepnote_cell_type": "markdown",
    "tags": []
   },
   "source": [
    "Tidak ada outlier dalam data"
   ]
  },
  {
   "cell_type": "markdown",
   "metadata": {
    "cell_id": "00026-09be91ab-3509-44cf-8be5-d9e45cd830c0",
    "deepnote_cell_height": 70,
    "deepnote_cell_type": "markdown",
    "tags": []
   },
   "source": [
    "## **2.4 Data Kategorikal**"
   ]
  },
  {
   "cell_type": "code",
   "execution_count": null,
   "metadata": {
    "cell_id": "00027-525a2ee2-cba1-4e58-9a79-c6ae35cbba4a",
    "deepnote_cell_height": 118.1875,
    "deepnote_cell_type": "code",
    "deepnote_output_heights": [
     21.1875
    ],
    "deepnote_to_be_reexecuted": false,
    "execution_millis": 73,
    "execution_start": 1622026964749,
    "source_hash": "f5a501be",
    "tags": []
   },
   "outputs": [
    {
     "data": {
      "text/plain": [
       "array([ 1,  2,  5,  7, 11, 12, 14, 15])"
      ]
     },
     "execution_count": 9,
     "metadata": {},
     "output_type": "execute_result"
    }
   ],
   "source": [
    "np.unique(df['TR'])"
   ]
  },
  {
   "cell_type": "code",
   "execution_count": null,
   "metadata": {
    "cell_id": "00028-405aba9b-5ac5-44c1-b340-200091679722",
    "deepnote_cell_height": 117,
    "deepnote_cell_type": "code",
    "deepnote_to_be_reexecuted": false,
    "execution_millis": 0,
    "execution_start": 1622026964814,
    "source_hash": "60897726",
    "tags": []
   },
   "outputs": [],
   "source": [
    "df['TR'].replace({1:'natural reservoirs', 2:'recently formed', 5:'technological',\n",
    "                   7:'garden',11:'trenches', 12:'wet meadows', 14:'river valleys',\n",
    "                   15:'small watercourses'}, inplace=True)"
   ]
  },
  {
   "cell_type": "code",
   "execution_count": null,
   "metadata": {
    "cell_id": "00029-6f759055-27c9-477b-97b5-ed9101e01482",
    "deepnote_cell_height": 118.1875,
    "deepnote_cell_type": "code",
    "deepnote_output_heights": [
     21.1875
    ],
    "deepnote_to_be_reexecuted": false,
    "execution_millis": 7,
    "execution_start": 1622026964815,
    "source_hash": "fc51628c",
    "tags": []
   },
   "outputs": [
    {
     "data": {
      "text/plain": [
       "array([0, 1, 2, 3, 4])"
      ]
     },
     "execution_count": 11,
     "metadata": {},
     "output_type": "execute_result"
    }
   ],
   "source": [
    "np.unique(df['VR'])"
   ]
  },
  {
   "cell_type": "code",
   "execution_count": null,
   "metadata": {
    "cell_id": "00030-dfebcfe5-c735-4b96-a709-dfab361b1588",
    "deepnote_cell_height": 99,
    "deepnote_cell_type": "code",
    "deepnote_to_be_reexecuted": false,
    "execution_millis": 43,
    "execution_start": 1622026964815,
    "source_hash": "86ee479d",
    "tags": []
   },
   "outputs": [],
   "source": [
    "df['VR'].replace({0:'no vegetation', 1:'patches at the edges', 2:'heavily overgrown',\n",
    "                   3:'some part devoid of vegetation',4:'reservoirs completely overgrown'}, inplace=True)"
   ]
  },
  {
   "cell_type": "code",
   "execution_count": null,
   "metadata": {
    "cell_id": "00031-0ce9683d-a71c-49e3-9f2f-48582190fb49",
    "deepnote_cell_height": 118.1875,
    "deepnote_cell_type": "code",
    "deepnote_output_heights": [
     21.1875
    ],
    "deepnote_to_be_reexecuted": false,
    "execution_millis": 8,
    "execution_start": 1622026964858,
    "source_hash": "50b496e8",
    "tags": []
   },
   "outputs": [
    {
     "data": {
      "text/plain": [
       "array([ 1,  2,  4,  6,  7,  9, 10, 14])"
      ]
     },
     "execution_count": 13,
     "metadata": {},
     "output_type": "execute_result"
    }
   ],
   "source": [
    "np.unique(df['SUR1'])"
   ]
  },
  {
   "cell_type": "code",
   "execution_count": null,
   "metadata": {
    "cell_id": "00032-8c6e60ba-4fe9-42f8-a102-144210108812",
    "deepnote_cell_height": 117,
    "deepnote_cell_type": "code",
    "deepnote_to_be_reexecuted": false,
    "execution_millis": 0,
    "execution_start": 1622026964859,
    "source_hash": "5e14dc6c",
    "tags": []
   },
   "outputs": [],
   "source": [
    "df['SUR1'].replace({1:'forest areas', 2:'meadows', 4:'gardens',\n",
    "                   6:'industrial areas',10:'river valleys', 7:'orchards', 9:'roads',\n",
    "                   14:'agricultural'}, inplace=True)"
   ]
  },
  {
   "cell_type": "code",
   "execution_count": null,
   "metadata": {
    "cell_id": "00033-068efe6d-e057-4fc6-9bdd-9e0b82ea3c87",
    "deepnote_cell_height": 118.1875,
    "deepnote_cell_type": "code",
    "deepnote_output_heights": [
     21.1875
    ],
    "deepnote_to_be_reexecuted": false,
    "execution_millis": 51,
    "execution_start": 1622026964863,
    "source_hash": "148fa7bc",
    "tags": []
   },
   "outputs": [
    {
     "data": {
      "text/plain": [
       "array([ 1,  2,  6,  7,  9, 10, 11])"
      ]
     },
     "execution_count": 15,
     "metadata": {},
     "output_type": "execute_result"
    }
   ],
   "source": [
    "np.unique(df['SUR2'])"
   ]
  },
  {
   "cell_type": "code",
   "execution_count": null,
   "metadata": {
    "cell_id": "00034-99bf5240-8d9d-4f20-8394-5a9f71fa3b34",
    "deepnote_cell_height": 117,
    "deepnote_cell_type": "code",
    "deepnote_to_be_reexecuted": false,
    "execution_millis": 17,
    "execution_start": 1622026964909,
    "source_hash": "2e2a3da3",
    "tags": []
   },
   "outputs": [],
   "source": [
    "df['SUR2'].replace({1:'forest areas', 2:'meadows',6:'industrial areas',\n",
    "                     10:'river valleys', 7:'orchards', 9:'roads',\n",
    "                     11:'agricultural'}, inplace=True)"
   ]
  },
  {
   "cell_type": "code",
   "execution_count": null,
   "metadata": {
    "cell_id": "00035-1adf13fe-2848-493e-acc8-b582319966eb",
    "deepnote_cell_height": 118.1875,
    "deepnote_cell_type": "code",
    "deepnote_output_heights": [
     21.1875
    ],
    "deepnote_to_be_reexecuted": false,
    "execution_millis": 16,
    "execution_start": 1622026964930,
    "source_hash": "349ab80a",
    "tags": []
   },
   "outputs": [
    {
     "data": {
      "text/plain": [
       "array([ 1,  2,  5,  6,  7,  9, 10, 11])"
      ]
     },
     "execution_count": 17,
     "metadata": {},
     "output_type": "execute_result"
    }
   ],
   "source": [
    "np.unique(df['SUR3'])"
   ]
  },
  {
   "cell_type": "code",
   "execution_count": null,
   "metadata": {
    "cell_id": "00036-2c405fa9-6846-46c4-89f4-9cfc02d099e1",
    "deepnote_cell_height": 117,
    "deepnote_cell_type": "code",
    "deepnote_to_be_reexecuted": false,
    "execution_millis": 13,
    "execution_start": 1622026964942,
    "source_hash": "4a5b2ed9",
    "tags": []
   },
   "outputs": [],
   "source": [
    "df['SUR3'].replace({1:'forest areas', 2:'meadows', 5:'parks',\n",
    "                   6:'industrial areas',10:'river valleys', 7:'orchards', 9:'roads',\n",
    "                   11:'agricultural'}, inplace=True)"
   ]
  },
  {
   "cell_type": "code",
   "execution_count": null,
   "metadata": {
    "cell_id": "00037-27a2a16d-cde3-40fe-8d8a-2c519ae47c29",
    "deepnote_cell_height": 118.1875,
    "deepnote_cell_type": "code",
    "deepnote_output_heights": [
     21.1875
    ],
    "deepnote_to_be_reexecuted": false,
    "execution_millis": 35,
    "execution_start": 1622026964960,
    "source_hash": "81958a4a",
    "tags": []
   },
   "outputs": [
    {
     "data": {
      "text/plain": [
       "array([0, 1, 3])"
      ]
     },
     "execution_count": 19,
     "metadata": {},
     "output_type": "execute_result"
    }
   ],
   "source": [
    "np.unique(df['UR'])"
   ]
  },
  {
   "cell_type": "code",
   "execution_count": null,
   "metadata": {
    "cell_id": "00038-7e5f3ab1-677c-4f3a-b017-712bb5eb4495",
    "deepnote_cell_height": 81,
    "deepnote_cell_type": "code",
    "deepnote_to_be_reexecuted": false,
    "execution_millis": 9,
    "execution_start": 1622026964990,
    "source_hash": "22513132",
    "tags": []
   },
   "outputs": [],
   "source": [
    "df['UR'].replace({0:'unused', 1:'scenic', 3:'technological'}, inplace=True)"
   ]
  },
  {
   "cell_type": "code",
   "execution_count": null,
   "metadata": {
    "cell_id": "00039-8ac8a254-bdd4-41e9-8ca4-9946048cfb9f",
    "deepnote_cell_height": 118.1875,
    "deepnote_cell_type": "code",
    "deepnote_output_heights": [
     21.1875
    ],
    "deepnote_to_be_reexecuted": false,
    "execution_millis": 26,
    "execution_start": 1622026965001,
    "source_hash": "d20c9216",
    "tags": []
   },
   "outputs": [
    {
     "data": {
      "text/plain": [
       "array([0, 1, 2, 3, 4])"
      ]
     },
     "execution_count": 21,
     "metadata": {},
     "output_type": "execute_result"
    }
   ],
   "source": [
    "np.unique(df['FR'])"
   ]
  },
  {
   "cell_type": "code",
   "execution_count": null,
   "metadata": {
    "cell_id": "00040-1f9847f4-eb5f-4ae5-84e5-9aa7c11b33b9",
    "deepnote_cell_height": 81,
    "deepnote_cell_type": "code",
    "deepnote_to_be_reexecuted": false,
    "execution_millis": 13,
    "execution_start": 1622026965036,
    "source_hash": "b2be4586",
    "tags": []
   },
   "outputs": [],
   "source": [
    "df['FR'].replace({0:'lack', 1:'intense fishing', 2:'breeding reservoirs',3:'remove',4:'remove'}, inplace=True)"
   ]
  },
  {
   "cell_type": "code",
   "execution_count": null,
   "metadata": {
    "cell_id": "00041-05d6212b-b1f5-404b-9482-0bae2f19e91a",
    "deepnote_cell_height": 118.1875,
    "deepnote_cell_type": "code",
    "deepnote_output_heights": [
     21.1875
    ],
    "deepnote_to_be_reexecuted": false,
    "execution_millis": 37,
    "execution_start": 1622026965052,
    "source_hash": "b4624b4",
    "tags": []
   },
   "outputs": [
    {
     "data": {
      "text/plain": [
       "array([ 25,  50,  75,  80,  99, 100])"
      ]
     },
     "execution_count": 23,
     "metadata": {},
     "output_type": "execute_result"
    }
   ],
   "source": [
    "np.unique(df['OR'])"
   ]
  },
  {
   "cell_type": "code",
   "execution_count": null,
   "metadata": {
    "cell_id": "00042-c4b41c8e-544f-40a2-a0b0-b86a3de3b332",
    "deepnote_cell_height": 81,
    "deepnote_cell_type": "code",
    "deepnote_to_be_reexecuted": false,
    "execution_millis": 22,
    "execution_start": 1622026965075,
    "source_hash": "80046787",
    "tags": []
   },
   "outputs": [],
   "source": [
    "df['OR'].replace({25:'poor access', 50:'low access', 75:'medium access',100:'large access',99:'remove',80:'remove'}, inplace=True)"
   ]
  },
  {
   "cell_type": "code",
   "execution_count": null,
   "metadata": {
    "cell_id": "00043-156ded94-8090-4699-9541-75c0e0b2d981",
    "deepnote_cell_height": 118.1875,
    "deepnote_cell_type": "code",
    "deepnote_output_heights": [
     21.1875
    ],
    "deepnote_to_be_reexecuted": false,
    "execution_millis": 19,
    "execution_start": 1622026965101,
    "source_hash": "b2dc1f60",
    "tags": []
   },
   "outputs": [
    {
     "data": {
      "text/plain": [
       "array([ 0,  1,  2,  5,  9, 10])"
      ]
     },
     "execution_count": 25,
     "metadata": {},
     "output_type": "execute_result"
    }
   ],
   "source": [
    "np.unique(df['RR'])"
   ]
  },
  {
   "cell_type": "code",
   "execution_count": null,
   "metadata": {
    "cell_id": "00044-f8dc5e22-d040-4c6f-badc-9100f2adb308",
    "deepnote_cell_height": 81,
    "deepnote_cell_type": "code",
    "deepnote_to_be_reexecuted": false,
    "execution_millis": 16,
    "execution_start": 1622026965118,
    "source_hash": "1eec6a4",
    "tags": []
   },
   "outputs": [],
   "source": [
    "df['RR'].replace({0:'<50 m', 1:'50-100 m', 2:'100-200 m',5:'200-500 m',9:'500-1000 m',10:'>10000'}, inplace=True)"
   ]
  },
  {
   "cell_type": "code",
   "execution_count": null,
   "metadata": {
    "cell_id": "00045-a11d12c7-3758-40b6-9cc9-b2ce41c7fefb",
    "deepnote_cell_height": 81,
    "deepnote_cell_type": "code",
    "deepnote_to_be_reexecuted": false,
    "execution_millis": 32,
    "execution_start": 1622026965145,
    "source_hash": "79bbfeb0",
    "tags": []
   },
   "outputs": [],
   "source": [
    "np.unique(df['BR'])"
   ]
  },
  {
   "cell_type": "code",
   "execution_count": null,
   "metadata": {
    "cell_id": "00046-b3301927-4059-4738-ab85-de39699dd8a5",
    "deepnote_cell_height": 81,
    "deepnote_cell_type": "code",
    "deepnote_to_be_reexecuted": false,
    "execution_millis": 14,
    "execution_start": 1622026965177,
    "source_hash": "3dc4da4f",
    "tags": []
   },
   "outputs": [],
   "source": [
    "df['BR'].replace({0:'<50 m', 1:'50-100 m', 2:'100-200 m',5:'200-500 m',9:'500-1000 m',10:'>10000'}, inplace=True)"
   ]
  },
  {
   "cell_type": "code",
   "execution_count": null,
   "metadata": {
    "cell_id": "00047-4a42beca-7ac4-4848-b6a1-568dde13f262",
    "deepnote_cell_height": 118.1875,
    "deepnote_cell_type": "code",
    "deepnote_output_heights": [
     21.1875
    ],
    "deepnote_to_be_reexecuted": false,
    "execution_millis": 34,
    "execution_start": 1622026965192,
    "source_hash": "2b3fa2d0",
    "tags": []
   },
   "outputs": [
    {
     "data": {
      "text/plain": [
       "array([0, 1, 2])"
      ]
     },
     "execution_count": 29,
     "metadata": {},
     "output_type": "execute_result"
    }
   ],
   "source": [
    "np.unique(df['MR'])"
   ]
  },
  {
   "cell_type": "code",
   "execution_count": null,
   "metadata": {
    "cell_id": "00048-e3c8b64c-4e7c-48de-b831-b0ed14e4ed94",
    "deepnote_cell_height": 81,
    "deepnote_cell_type": "code",
    "deepnote_to_be_reexecuted": false,
    "execution_millis": 22,
    "execution_start": 1622026965223,
    "source_hash": "80736f20",
    "tags": []
   },
   "outputs": [],
   "source": [
    "df['MR'].replace({0:'Clean', 1:'slightly littered', 2:'heavily littered'}, inplace=True)"
   ]
  },
  {
   "cell_type": "code",
   "execution_count": null,
   "metadata": {
    "cell_id": "00049-183ed76d-461f-45f8-96bb-2261bfe4475e",
    "deepnote_cell_height": 118.1875,
    "deepnote_cell_type": "code",
    "deepnote_output_heights": [
     21.1875
    ],
    "deepnote_to_be_reexecuted": false,
    "execution_millis": 107,
    "execution_start": 1622026965248,
    "source_hash": "4d992679",
    "tags": []
   },
   "outputs": [
    {
     "data": {
      "text/plain": [
       "array([1, 2])"
      ]
     },
     "execution_count": 31,
     "metadata": {},
     "output_type": "execute_result"
    }
   ],
   "source": [
    "np.unique(df['CR'])"
   ]
  },
  {
   "cell_type": "code",
   "execution_count": null,
   "metadata": {
    "cell_id": "00050-f9b73de9-81b4-4350-9b69-54fbfdb4d685",
    "deepnote_cell_height": 81,
    "deepnote_cell_type": "code",
    "deepnote_to_be_reexecuted": false,
    "execution_millis": 28,
    "execution_start": 1622026965278,
    "source_hash": "62a56465",
    "tags": []
   },
   "outputs": [],
   "source": [
    "df['CR'].replace({1:'Natural', 2:'Concrete'}, inplace=True)"
   ]
  },
  {
   "cell_type": "code",
   "execution_count": null,
   "metadata": {
    "cell_id": "00051-331db3ed-f4eb-4b99-8d67-adc20db5ceec",
    "deepnote_cell_height": 479.1875,
    "deepnote_cell_type": "code",
    "deepnote_output_heights": [
     382.1875
    ],
    "deepnote_to_be_reexecuted": false,
    "execution_millis": 357,
    "execution_start": 1622026965306,
    "source_hash": "f804c160",
    "tags": []
   },
   "outputs": [
    {
     "data": {
      "application/vnd.deepnote.dataframe.v2+json": {
       "column_count": 22,
       "columns": [
        {
         "dtype": "object",
         "name": "Motorway",
         "stats": {
          "categories": [
           {
            "count": 109,
            "name": "S52"
           },
           {
            "count": 80,
            "name": "A1"
           }
          ],
          "nan_count": 0,
          "unique_count": 2
         }
        },
        {
         "dtype": "int64",
         "name": "SR",
         "stats": {
          "histogram": [
           {
            "bin_end": 50027,
            "bin_start": 30,
            "count": 184
           },
           {
            "bin_end": 100024,
            "bin_start": 50027,
            "count": 2
           },
           {
            "bin_end": 150021,
            "bin_start": 100024,
            "count": 1
           },
           {
            "bin_end": 200018,
            "bin_start": 150021,
            "count": 0
           },
           {
            "bin_end": 250015,
            "bin_start": 200018,
            "count": 0
           },
           {
            "bin_end": 300012,
            "bin_start": 250015,
            "count": 0
           },
           {
            "bin_end": 350009,
            "bin_start": 300012,
            "count": 0
           },
           {
            "bin_end": 400006,
            "bin_start": 350009,
            "count": 1
           },
           {
            "bin_end": 450003,
            "bin_start": 400006,
            "count": 0
           },
           {
            "bin_end": 500000,
            "bin_start": 450003,
            "count": 1
           }
          ],
          "max": "500000",
          "min": "30",
          "nan_count": 0,
          "unique_count": 66
         }
        },
        {
         "dtype": "int64",
         "name": "NR",
         "stats": {
          "histogram": [
           {
            "bin_end": 2.1,
            "bin_start": 1,
            "count": 168
           },
           {
            "bin_end": 3.2,
            "bin_start": 2.1,
            "count": 7
           },
           {
            "bin_end": 4.300000000000001,
            "bin_start": 3.2,
            "count": 4
           },
           {
            "bin_end": 5.4,
            "bin_start": 4.300000000000001,
            "count": 3
           },
           {
            "bin_end": 6.5,
            "bin_start": 5.4,
            "count": 3
           },
           {
            "bin_end": 7.6000000000000005,
            "bin_start": 6.5,
            "count": 1
           },
           {
            "bin_end": 8.700000000000001,
            "bin_start": 7.6000000000000005,
            "count": 0
           },
           {
            "bin_end": 9.8,
            "bin_start": 8.700000000000001,
            "count": 1
           },
           {
            "bin_end": 10.9,
            "bin_start": 9.8,
            "count": 1
           },
           {
            "bin_end": 12,
            "bin_start": 10.9,
            "count": 1
           }
          ],
          "max": "12",
          "min": "1",
          "nan_count": 0,
          "unique_count": 10
         }
        },
        {
         "dtype": "object",
         "name": "TR",
         "stats": {
          "categories": [
           {
            "count": 116,
            "name": "natural reservoirs"
           },
           {
            "count": 23,
            "name": "wet meadows"
           },
           {
            "count": 50,
            "name": "6 others"
           }
          ],
          "nan_count": 0,
          "unique_count": 8
         }
        },
        {
         "dtype": "object",
         "name": "VR",
         "stats": {
          "categories": [
           {
            "count": 55,
            "name": "patches at the edges"
           },
           {
            "count": 41,
            "name": "some part devoid of vegetation"
           },
           {
            "count": 93,
            "name": "3 others"
           }
          ],
          "nan_count": 0,
          "unique_count": 5
         }
        },
        {
         "dtype": "object",
         "name": "SUR1",
         "stats": {
          "categories": [
           {
            "count": 70,
            "name": "meadows"
           },
           {
            "count": 43,
            "name": "forest areas"
           },
           {
            "count": 76,
            "name": "6 others"
           }
          ],
          "nan_count": 0,
          "unique_count": 8
         }
        },
        {
         "dtype": "object",
         "name": "SUR2",
         "stats": {
          "categories": [
           {
            "count": 44,
            "name": "river valleys"
           },
           {
            "count": 41,
            "name": "meadows"
           },
           {
            "count": 104,
            "name": "5 others"
           }
          ],
          "nan_count": 0,
          "unique_count": 7
         }
        },
        {
         "dtype": "object",
         "name": "SUR3",
         "stats": {
          "categories": [
           {
            "count": 55,
            "name": "industrial areas"
           },
           {
            "count": 45,
            "name": "river valleys"
           },
           {
            "count": 89,
            "name": "6 others"
           }
          ],
          "nan_count": 0,
          "unique_count": 8
         }
        },
        {
         "dtype": "object",
         "name": "UR",
         "stats": {
          "categories": [
           {
            "count": 130,
            "name": "unused"
           },
           {
            "count": 50,
            "name": "technological"
           },
           {
            "count": 9,
            "name": "scenic"
           }
          ],
          "nan_count": 0,
          "unique_count": 3
         }
        },
        {
         "dtype": "object",
         "name": "FR",
         "stats": {
          "categories": [
           {
            "count": 125,
            "name": "lack"
           },
           {
            "count": 33,
            "name": "remove"
           },
           {
            "count": 31,
            "name": "2 others"
           }
          ],
          "nan_count": 0,
          "unique_count": 4
         }
        },
        {
         "dtype": "object",
         "name": "OR",
         "stats": {
          "categories": [
           {
            "count": 141,
            "name": "large access"
           },
           {
            "count": 22,
            "name": "medium access"
           },
           {
            "count": 26,
            "name": "3 others"
           }
          ],
          "nan_count": 0,
          "unique_count": 5
         }
        },
        {
         "dtype": "object",
         "name": "RR",
         "stats": {
          "categories": [
           {
            "count": 50,
            "name": "50-100 m"
           },
           {
            "count": 47,
            "name": "<50 m"
           },
           {
            "count": 92,
            "name": "4 others"
           }
          ],
          "nan_count": 0,
          "unique_count": 6
         }
        },
        {
         "dtype": "object",
         "name": "BR",
         "stats": {
          "categories": [
           {
            "count": 62,
            "name": "50-100 m"
           },
           {
            "count": 46,
            "name": "200-500 m"
           },
           {
            "count": 81,
            "name": "4 others"
           }
          ],
          "nan_count": 0,
          "unique_count": 6
         }
        },
        {
         "dtype": "object",
         "name": "MR",
         "stats": {
          "categories": [
           {
            "count": 184,
            "name": "Clean"
           },
           {
            "count": 4,
            "name": "heavily littered"
           },
           {
            "count": 1,
            "name": "slightly littered"
           }
          ],
          "nan_count": 0,
          "unique_count": 3
         }
        },
        {
         "dtype": "object",
         "name": "CR",
         "stats": {
          "categories": [
           {
            "count": 186,
            "name": "Natural"
           },
           {
            "count": 3,
            "name": "Concrete"
           }
          ],
          "nan_count": 0,
          "unique_count": 2
         }
        },
        {
         "dtype": "int64",
         "name": "Green frogs",
         "stats": {
          "histogram": [
           {
            "bin_end": 0.1,
            "bin_start": 0,
            "count": 81
           },
           {
            "bin_end": 0.2,
            "bin_start": 0.1,
            "count": 0
           },
           {
            "bin_end": 0.30000000000000004,
            "bin_start": 0.2,
            "count": 0
           },
           {
            "bin_end": 0.4,
            "bin_start": 0.30000000000000004,
            "count": 0
           },
           {
            "bin_end": 0.5,
            "bin_start": 0.4,
            "count": 0
           },
           {
            "bin_end": 0.6000000000000001,
            "bin_start": 0.5,
            "count": 0
           },
           {
            "bin_end": 0.7000000000000001,
            "bin_start": 0.6000000000000001,
            "count": 0
           },
           {
            "bin_end": 0.8,
            "bin_start": 0.7000000000000001,
            "count": 0
           },
           {
            "bin_end": 0.9,
            "bin_start": 0.8,
            "count": 0
           },
           {
            "bin_end": 1,
            "bin_start": 0.9,
            "count": 108
           }
          ],
          "max": "1",
          "min": "0",
          "nan_count": 0,
          "unique_count": 2
         }
        },
        {
         "dtype": "int64",
         "name": "Brown frogs",
         "stats": {
          "histogram": [
           {
            "bin_end": 0.1,
            "bin_start": 0,
            "count": 41
           },
           {
            "bin_end": 0.2,
            "bin_start": 0.1,
            "count": 0
           },
           {
            "bin_end": 0.30000000000000004,
            "bin_start": 0.2,
            "count": 0
           },
           {
            "bin_end": 0.4,
            "bin_start": 0.30000000000000004,
            "count": 0
           },
           {
            "bin_end": 0.5,
            "bin_start": 0.4,
            "count": 0
           },
           {
            "bin_end": 0.6000000000000001,
            "bin_start": 0.5,
            "count": 0
           },
           {
            "bin_end": 0.7000000000000001,
            "bin_start": 0.6000000000000001,
            "count": 0
           },
           {
            "bin_end": 0.8,
            "bin_start": 0.7000000000000001,
            "count": 0
           },
           {
            "bin_end": 0.9,
            "bin_start": 0.8,
            "count": 0
           },
           {
            "bin_end": 1,
            "bin_start": 0.9,
            "count": 148
           }
          ],
          "max": "1",
          "min": "0",
          "nan_count": 0,
          "unique_count": 2
         }
        },
        {
         "dtype": "int64",
         "name": "Common toad",
         "stats": {
          "histogram": [
           {
            "bin_end": 0.1,
            "bin_start": 0,
            "count": 65
           },
           {
            "bin_end": 0.2,
            "bin_start": 0.1,
            "count": 0
           },
           {
            "bin_end": 0.30000000000000004,
            "bin_start": 0.2,
            "count": 0
           },
           {
            "bin_end": 0.4,
            "bin_start": 0.30000000000000004,
            "count": 0
           },
           {
            "bin_end": 0.5,
            "bin_start": 0.4,
            "count": 0
           },
           {
            "bin_end": 0.6000000000000001,
            "bin_start": 0.5,
            "count": 0
           },
           {
            "bin_end": 0.7000000000000001,
            "bin_start": 0.6000000000000001,
            "count": 0
           },
           {
            "bin_end": 0.8,
            "bin_start": 0.7000000000000001,
            "count": 0
           },
           {
            "bin_end": 0.9,
            "bin_start": 0.8,
            "count": 0
           },
           {
            "bin_end": 1,
            "bin_start": 0.9,
            "count": 124
           }
          ],
          "max": "1",
          "min": "0",
          "nan_count": 0,
          "unique_count": 2
         }
        },
        {
         "dtype": "int64",
         "name": "Fire-bellied toad",
         "stats": {
          "histogram": [
           {
            "bin_end": 0.1,
            "bin_start": 0,
            "count": 131
           },
           {
            "bin_end": 0.2,
            "bin_start": 0.1,
            "count": 0
           },
           {
            "bin_end": 0.30000000000000004,
            "bin_start": 0.2,
            "count": 0
           },
           {
            "bin_end": 0.4,
            "bin_start": 0.30000000000000004,
            "count": 0
           },
           {
            "bin_end": 0.5,
            "bin_start": 0.4,
            "count": 0
           },
           {
            "bin_end": 0.6000000000000001,
            "bin_start": 0.5,
            "count": 0
           },
           {
            "bin_end": 0.7000000000000001,
            "bin_start": 0.6000000000000001,
            "count": 0
           },
           {
            "bin_end": 0.8,
            "bin_start": 0.7000000000000001,
            "count": 0
           },
           {
            "bin_end": 0.9,
            "bin_start": 0.8,
            "count": 0
           },
           {
            "bin_end": 1,
            "bin_start": 0.9,
            "count": 58
           }
          ],
          "max": "1",
          "min": "0",
          "nan_count": 0,
          "unique_count": 2
         }
        },
        {
         "dtype": "int64",
         "name": "Tree frog",
         "stats": {
          "histogram": [
           {
            "bin_end": 0.1,
            "bin_start": 0,
            "count": 118
           },
           {
            "bin_end": 0.2,
            "bin_start": 0.1,
            "count": 0
           },
           {
            "bin_end": 0.30000000000000004,
            "bin_start": 0.2,
            "count": 0
           },
           {
            "bin_end": 0.4,
            "bin_start": 0.30000000000000004,
            "count": 0
           },
           {
            "bin_end": 0.5,
            "bin_start": 0.4,
            "count": 0
           },
           {
            "bin_end": 0.6000000000000001,
            "bin_start": 0.5,
            "count": 0
           },
           {
            "bin_end": 0.7000000000000001,
            "bin_start": 0.6000000000000001,
            "count": 0
           },
           {
            "bin_end": 0.8,
            "bin_start": 0.7000000000000001,
            "count": 0
           },
           {
            "bin_end": 0.9,
            "bin_start": 0.8,
            "count": 0
           },
           {
            "bin_end": 1,
            "bin_start": 0.9,
            "count": 71
           }
          ],
          "max": "1",
          "min": "0",
          "nan_count": 0,
          "unique_count": 2
         }
        },
        {
         "dtype": "int64",
         "name": "Common newt",
         "stats": {
          "histogram": [
           {
            "bin_end": 0.1,
            "bin_start": 0,
            "count": 131
           },
           {
            "bin_end": 0.2,
            "bin_start": 0.1,
            "count": 0
           },
           {
            "bin_end": 0.30000000000000004,
            "bin_start": 0.2,
            "count": 0
           },
           {
            "bin_end": 0.4,
            "bin_start": 0.30000000000000004,
            "count": 0
           },
           {
            "bin_end": 0.5,
            "bin_start": 0.4,
            "count": 0
           },
           {
            "bin_end": 0.6000000000000001,
            "bin_start": 0.5,
            "count": 0
           },
           {
            "bin_end": 0.7000000000000001,
            "bin_start": 0.6000000000000001,
            "count": 0
           },
           {
            "bin_end": 0.8,
            "bin_start": 0.7000000000000001,
            "count": 0
           },
           {
            "bin_end": 0.9,
            "bin_start": 0.8,
            "count": 0
           },
           {
            "bin_end": 1,
            "bin_start": 0.9,
            "count": 58
           }
          ],
          "max": "1",
          "min": "0",
          "nan_count": 0,
          "unique_count": 2
         }
        },
        {
         "dtype": "int64",
         "name": "Great crested newt",
         "stats": {
          "histogram": [
           {
            "bin_end": 0.1,
            "bin_start": 0,
            "count": 168
           },
           {
            "bin_end": 0.2,
            "bin_start": 0.1,
            "count": 0
           },
           {
            "bin_end": 0.30000000000000004,
            "bin_start": 0.2,
            "count": 0
           },
           {
            "bin_end": 0.4,
            "bin_start": 0.30000000000000004,
            "count": 0
           },
           {
            "bin_end": 0.5,
            "bin_start": 0.4,
            "count": 0
           },
           {
            "bin_end": 0.6000000000000001,
            "bin_start": 0.5,
            "count": 0
           },
           {
            "bin_end": 0.7000000000000001,
            "bin_start": 0.6000000000000001,
            "count": 0
           },
           {
            "bin_end": 0.8,
            "bin_start": 0.7000000000000001,
            "count": 0
           },
           {
            "bin_end": 0.9,
            "bin_start": 0.8,
            "count": 0
           },
           {
            "bin_end": 1,
            "bin_start": 0.9,
            "count": 21
           }
          ],
          "max": "1",
          "min": "0",
          "nan_count": 0,
          "unique_count": 2
         }
        },
        {
         "dtype": "int64",
         "name": "_deepnote_index_column"
        }
       ],
       "row_count": 189,
       "rows_bottom": [
        {
         "BR": "<50 m",
         "Brown frogs": 1,
         "CR": "Natural",
         "Common newt": 0,
         "Common toad": 1,
         "FR": "lack",
         "Fire-bellied toad": 1,
         "Great crested newt": 0,
         "Green frogs": 1,
         "MR": "Clean",
         "Motorway": "S52",
         "NR": 1,
         "OR": "poor access",
         "RR": "<50 m",
         "SR": 300,
         "SUR1": "industrial areas",
         "SUR2": "meadows",
         "SUR3": "roads",
         "TR": "natural reservoirs",
         "Tree frog": 1,
         "UR": "unused",
         "VR": "some part devoid of vegetation",
         "_deepnote_index_column": 166
        },
        {
         "BR": "<50 m",
         "Brown frogs": 1,
         "CR": "Natural",
         "Common newt": 0,
         "Common toad": 1,
         "FR": "lack",
         "Fire-bellied toad": 1,
         "Great crested newt": 0,
         "Green frogs": 1,
         "MR": "Clean",
         "Motorway": "S52",
         "NR": 1,
         "OR": "large access",
         "RR": "<50 m",
         "SR": 22000,
         "SUR1": "industrial areas",
         "SUR2": "roads",
         "SUR3": "industrial areas",
         "TR": "natural reservoirs",
         "Tree frog": 1,
         "UR": "unused",
         "VR": "reservoirs completely overgrown",
         "_deepnote_index_column": 167
        },
        {
         "BR": "<50 m",
         "Brown frogs": 1,
         "CR": "Natural",
         "Common newt": 0,
         "Common toad": 0,
         "FR": "lack",
         "Fire-bellied toad": 0,
         "Great crested newt": 0,
         "Green frogs": 0,
         "MR": "Clean",
         "Motorway": "S52",
         "NR": 1,
         "OR": "large access",
         "RR": "100-200 m",
         "SR": 300,
         "SUR1": "river valleys",
         "SUR2": "meadows",
         "SUR3": "forest areas",
         "TR": "wet meadows",
         "Tree frog": 0,
         "UR": "unused",
         "VR": "some part devoid of vegetation",
         "_deepnote_index_column": 168
        },
        {
         "BR": "200-500 m",
         "Brown frogs": 1,
         "CR": "Natural",
         "Common newt": 0,
         "Common toad": 0,
         "FR": "lack",
         "Fire-bellied toad": 0,
         "Great crested newt": 0,
         "Green frogs": 0,
         "MR": "Clean",
         "Motorway": "S52",
         "NR": 1,
         "OR": "large access",
         "RR": "200-500 m",
         "SR": 300,
         "SUR1": "forest areas",
         "SUR2": "river valleys",
         "SUR3": "meadows",
         "TR": "wet meadows",
         "Tree frog": 0,
         "UR": "unused",
         "VR": "reservoirs completely overgrown",
         "_deepnote_index_column": 169
        },
        {
         "BR": "50-100 m",
         "Brown frogs": 1,
         "CR": "Natural",
         "Common newt": 1,
         "Common toad": 1,
         "FR": "lack",
         "Fire-bellied toad": 1,
         "Great crested newt": 1,
         "Green frogs": 1,
         "MR": "Clean",
         "Motorway": "S52",
         "NR": 2,
         "OR": "large access",
         "RR": "<50 m",
         "SR": 1000,
         "SUR1": "meadows",
         "SUR2": "industrial areas",
         "SUR3": "forest areas",
         "TR": "natural reservoirs",
         "Tree frog": 1,
         "UR": "unused",
         "VR": "some part devoid of vegetation",
         "_deepnote_index_column": 170
        },
        {
         "BR": "50-100 m",
         "Brown frogs": 1,
         "CR": "Natural",
         "Common newt": 0,
         "Common toad": 0,
         "FR": "lack",
         "Fire-bellied toad": 0,
         "Great crested newt": 0,
         "Green frogs": 0,
         "MR": "Clean",
         "Motorway": "S52",
         "NR": 1,
         "OR": "large access",
         "RR": "<50 m",
         "SR": 300,
         "SUR1": "forest areas",
         "SUR2": "forest areas",
         "SUR3": "roads",
         "TR": "small watercourses",
         "Tree frog": 0,
         "UR": "unused",
         "VR": "patches at the edges",
         "_deepnote_index_column": 171
        },
        {
         "BR": "200-500 m",
         "Brown frogs": 1,
         "CR": "Natural",
         "Common newt": 0,
         "Common toad": 0,
         "FR": "lack",
         "Fire-bellied toad": 0,
         "Great crested newt": 0,
         "Green frogs": 0,
         "MR": "Clean",
         "Motorway": "S52",
         "NR": 1,
         "OR": "large access",
         "RR": "500-1000 m",
         "SR": 300,
         "SUR1": "forest areas",
         "SUR2": "forest areas",
         "SUR3": "river valleys",
         "TR": "small watercourses",
         "Tree frog": 0,
         "UR": "unused",
         "VR": "patches at the edges",
         "_deepnote_index_column": 172
        },
        {
         "BR": "<50 m",
         "Brown frogs": 1,
         "CR": "Natural",
         "Common newt": 1,
         "Common toad": 1,
         "FR": "lack",
         "Fire-bellied toad": 1,
         "Great crested newt": 1,
         "Green frogs": 0,
         "MR": "Clean",
         "Motorway": "S52",
         "NR": 2,
         "OR": "large access",
         "RR": "<50 m",
         "SR": 1100,
         "SUR1": "meadows",
         "SUR2": "industrial areas",
         "SUR3": "industrial areas",
         "TR": "natural reservoirs",
         "Tree frog": 1,
         "UR": "unused",
         "VR": "some part devoid of vegetation",
         "_deepnote_index_column": 173
        },
        {
         "BR": "<50 m",
         "Brown frogs": 1,
         "CR": "Natural",
         "Common newt": 1,
         "Common toad": 1,
         "FR": "lack",
         "Fire-bellied toad": 1,
         "Great crested newt": 1,
         "Green frogs": 0,
         "MR": "Clean",
         "Motorway": "S52",
         "NR": 1,
         "OR": "medium access",
         "RR": "<50 m",
         "SR": 200,
         "SUR1": "industrial areas",
         "SUR2": "industrial areas",
         "SUR3": "meadows",
         "TR": "natural reservoirs",
         "Tree frog": 1,
         "UR": "unused",
         "VR": "patches at the edges",
         "_deepnote_index_column": 174
        },
        {
         "BR": "50-100 m",
         "Brown frogs": 0,
         "CR": "Natural",
         "Common newt": 0,
         "Common toad": 0,
         "FR": "lack",
         "Fire-bellied toad": 0,
         "Great crested newt": 0,
         "Green frogs": 1,
         "MR": "Clean",
         "Motorway": "S52",
         "NR": 1,
         "OR": "large access",
         "RR": "50-100 m",
         "SR": 1000,
         "SUR1": "meadows",
         "SUR2": "forest areas",
         "SUR3": "industrial areas",
         "TR": "natural reservoirs",
         "Tree frog": 1,
         "UR": "unused",
         "VR": "reservoirs completely overgrown",
         "_deepnote_index_column": 175
        },
        {
         "BR": "100-200 m",
         "Brown frogs": 1,
         "CR": "Natural",
         "Common newt": 0,
         "Common toad": 0,
         "FR": "lack",
         "Fire-bellied toad": 0,
         "Great crested newt": 0,
         "Green frogs": 0,
         "MR": "Clean",
         "Motorway": "S52",
         "NR": 1,
         "OR": "medium access",
         "RR": "<50 m",
         "SR": 300,
         "SUR1": "meadows",
         "SUR2": "roads",
         "SUR3": "orchards",
         "TR": "river valleys",
         "Tree frog": 0,
         "UR": "unused",
         "VR": "heavily overgrown",
         "_deepnote_index_column": 176
        },
        {
         "BR": "100-200 m",
         "Brown frogs": 1,
         "CR": "Natural",
         "Common newt": 0,
         "Common toad": 0,
         "FR": "lack",
         "Fire-bellied toad": 0,
         "Great crested newt": 0,
         "Green frogs": 0,
         "MR": "Clean",
         "Motorway": "S52",
         "NR": 1,
         "OR": "medium access",
         "RR": "50-100 m",
         "SR": 1000,
         "SUR1": "orchards",
         "SUR2": "forest areas",
         "SUR3": "roads",
         "TR": "river valleys",
         "Tree frog": 0,
         "UR": "unused",
         "VR": "heavily overgrown",
         "_deepnote_index_column": 177
        },
        {
         "BR": "50-100 m",
         "Brown frogs": 0,
         "CR": "Concrete",
         "Common newt": 0,
         "Common toad": 0,
         "FR": "remove",
         "Fire-bellied toad": 0,
         "Great crested newt": 0,
         "Green frogs": 0,
         "MR": "Clean",
         "Motorway": "S52",
         "NR": 1,
         "OR": "large access",
         "RR": "200-500 m",
         "SR": 1100,
         "SUR1": "meadows",
         "SUR2": "forest areas",
         "SUR3": "river valleys",
         "TR": "technological",
         "Tree frog": 0,
         "UR": "technological",
         "VR": "no vegetation",
         "_deepnote_index_column": 178
        },
        {
         "BR": "50-100 m",
         "Brown frogs": 1,
         "CR": "Natural",
         "Common newt": 1,
         "Common toad": 1,
         "FR": "lack",
         "Fire-bellied toad": 0,
         "Great crested newt": 0,
         "Green frogs": 1,
         "MR": "Clean",
         "Motorway": "S52",
         "NR": 1,
         "OR": "large access",
         "RR": "200-500 m",
         "SR": 2500,
         "SUR1": "meadows",
         "SUR2": "industrial areas",
         "SUR3": "orchards",
         "TR": "natural reservoirs",
         "Tree frog": 1,
         "UR": "unused",
         "VR": "reservoirs completely overgrown",
         "_deepnote_index_column": 179
        },
        {
         "BR": "50-100 m",
         "Brown frogs": 1,
         "CR": "Natural",
         "Common newt": 1,
         "Common toad": 1,
         "FR": "breeding reservoirs",
         "Fire-bellied toad": 0,
         "Great crested newt": 1,
         "Green frogs": 1,
         "MR": "Clean",
         "Motorway": "S52",
         "NR": 2,
         "OR": "remove",
         "RR": "50-100 m",
         "SR": 4000,
         "SUR1": "gardens",
         "SUR2": "industrial areas",
         "SUR3": "roads",
         "TR": "natural reservoirs",
         "Tree frog": 1,
         "UR": "technological",
         "VR": "patches at the edges",
         "_deepnote_index_column": 180
        },
        {
         "BR": "100-200 m",
         "Brown frogs": 1,
         "CR": "Natural",
         "Common newt": 0,
         "Common toad": 1,
         "FR": "lack",
         "Fire-bellied toad": 0,
         "Great crested newt": 0,
         "Green frogs": 0,
         "MR": "Clean",
         "Motorway": "S52",
         "NR": 1,
         "OR": "large access",
         "RR": "50-100 m",
         "SR": 200,
         "SUR1": "river valleys",
         "SUR2": "forest areas",
         "SUR3": "industrial areas",
         "TR": "wet meadows",
         "Tree frog": 0,
         "UR": "unused",
         "VR": "some part devoid of vegetation",
         "_deepnote_index_column": 181
        },
        {
         "BR": "50-100 m",
         "Brown frogs": 1,
         "CR": "Natural",
         "Common newt": 0,
         "Common toad": 1,
         "FR": "remove",
         "Fire-bellied toad": 0,
         "Great crested newt": 0,
         "Green frogs": 1,
         "MR": "Clean",
         "Motorway": "S52",
         "NR": 1,
         "OR": "large access",
         "RR": "50-100 m",
         "SR": 350,
         "SUR1": "meadows",
         "SUR2": "industrial areas",
         "SUR3": "river valleys",
         "TR": "natural reservoirs",
         "Tree frog": 0,
         "UR": "scenic",
         "VR": "no vegetation",
         "_deepnote_index_column": 182
        },
        {
         "BR": "50-100 m",
         "Brown frogs": 1,
         "CR": "Natural",
         "Common newt": 0,
         "Common toad": 1,
         "FR": "lack",
         "Fire-bellied toad": 0,
         "Great crested newt": 0,
         "Green frogs": 0,
         "MR": "Clean",
         "Motorway": "S52",
         "NR": 1,
         "OR": "large access",
         "RR": "50-100 m",
         "SR": 4000,
         "SUR1": "meadows",
         "SUR2": "industrial areas",
         "SUR3": "river valleys",
         "TR": "wet meadows",
         "Tree frog": 0,
         "UR": "unused",
         "VR": "reservoirs completely overgrown",
         "_deepnote_index_column": 183
        },
        {
         "BR": "50-100 m",
         "Brown frogs": 1,
         "CR": "Natural",
         "Common newt": 0,
         "Common toad": 0,
         "FR": "lack",
         "Fire-bellied toad": 0,
         "Great crested newt": 0,
         "Green frogs": 0,
         "MR": "Clean",
         "Motorway": "S52",
         "NR": 1,
         "OR": "medium access",
         "RR": "100-200 m",
         "SR": 2300,
         "SUR1": "meadows",
         "SUR2": "meadows",
         "SUR3": "forest areas",
         "TR": "wet meadows",
         "Tree frog": 0,
         "UR": "unused",
         "VR": "some part devoid of vegetation",
         "_deepnote_index_column": 184
        },
        {
         "BR": "200-500 m",
         "Brown frogs": 1,
         "CR": "Natural",
         "Common newt": 1,
         "Common toad": 1,
         "FR": "lack",
         "Fire-bellied toad": 1,
         "Great crested newt": 0,
         "Green frogs": 1,
         "MR": "Clean",
         "Motorway": "S52",
         "NR": 1,
         "OR": "large access",
         "RR": "200-500 m",
         "SR": 300,
         "SUR1": "orchards",
         "SUR2": "river valleys",
         "SUR3": "meadows",
         "TR": "river valleys",
         "Tree frog": 0,
         "UR": "unused",
         "VR": "heavily overgrown",
         "_deepnote_index_column": 185
        },
        {
         "BR": "200-500 m",
         "Brown frogs": 1,
         "CR": "Natural",
         "Common newt": 1,
         "Common toad": 1,
         "FR": "lack",
         "Fire-bellied toad": 1,
         "Great crested newt": 0,
         "Green frogs": 1,
         "MR": "Clean",
         "Motorway": "S52",
         "NR": 1,
         "OR": "large access",
         "RR": "200-500 m",
         "SR": 500,
         "SUR1": "forest areas",
         "SUR2": "river valleys",
         "SUR3": "meadows",
         "TR": "natural reservoirs",
         "Tree frog": 0,
         "UR": "unused",
         "VR": "reservoirs completely overgrown",
         "_deepnote_index_column": 186
        },
        {
         "BR": "<50 m",
         "Brown frogs": 1,
         "CR": "Natural",
         "Common newt": 0,
         "Common toad": 1,
         "FR": "lack",
         "Fire-bellied toad": 0,
         "Great crested newt": 0,
         "Green frogs": 0,
         "MR": "Clean",
         "Motorway": "S52",
         "NR": 1,
         "OR": "large access",
         "RR": "50-100 m",
         "SR": 300,
         "SUR1": "meadows",
         "SUR2": "forest areas",
         "SUR3": "industrial areas",
         "TR": "wet meadows",
         "Tree frog": 0,
         "UR": "unused",
         "VR": "some part devoid of vegetation",
         "_deepnote_index_column": 187
        },
        {
         "BR": "50-100 m",
         "Brown frogs": 1,
         "CR": "Natural",
         "Common newt": 0,
         "Common toad": 1,
         "FR": "lack",
         "Fire-bellied toad": 0,
         "Great crested newt": 0,
         "Green frogs": 0,
         "MR": "Clean",
         "Motorway": "S52",
         "NR": 1,
         "OR": "large access",
         "RR": "50-100 m",
         "SR": 300,
         "SUR1": "meadows",
         "SUR2": "industrial areas",
         "SUR3": "river valleys",
         "TR": "wet meadows",
         "Tree frog": 0,
         "UR": "unused",
         "VR": "some part devoid of vegetation",
         "_deepnote_index_column": 188
        }
       ],
       "rows_top": [
        {
         "BR": "<50 m",
         "Brown frogs": 0,
         "CR": "Natural",
         "Common newt": 0,
         "Common toad": 0,
         "FR": "lack",
         "Fire-bellied toad": 0,
         "Great crested newt": 0,
         "Green frogs": 0,
         "MR": "Clean",
         "Motorway": "A1",
         "NR": 1,
         "OR": "low access",
         "RR": "<50 m",
         "SR": 600,
         "SUR1": "industrial areas",
         "SUR2": "meadows",
         "SUR3": "river valleys",
         "TR": "natural reservoirs",
         "Tree frog": 0,
         "UR": "unused",
         "VR": "reservoirs completely overgrown",
         "_deepnote_index_column": 0
        },
        {
         "BR": "50-100 m",
         "Brown frogs": 1,
         "CR": "Natural",
         "Common newt": 1,
         "Common toad": 1,
         "FR": "intense fishing",
         "Fire-bellied toad": 0,
         "Great crested newt": 0,
         "Green frogs": 0,
         "MR": "Clean",
         "Motorway": "A1",
         "NR": 1,
         "OR": "medium access",
         "RR": "50-100 m",
         "SR": 700,
         "SUR1": "river valleys",
         "SUR2": "industrial areas",
         "SUR3": "river valleys",
         "TR": "technological",
         "Tree frog": 0,
         "UR": "technological",
         "VR": "patches at the edges",
         "_deepnote_index_column": 1
        },
        {
         "BR": "50-100 m",
         "Brown frogs": 1,
         "CR": "Natural",
         "Common newt": 1,
         "Common toad": 1,
         "FR": "remove",
         "Fire-bellied toad": 0,
         "Great crested newt": 0,
         "Green frogs": 0,
         "MR": "Clean",
         "Motorway": "A1",
         "NR": 1,
         "OR": "medium access",
         "RR": "50-100 m",
         "SR": 200,
         "SUR1": "river valleys",
         "SUR2": "industrial areas",
         "SUR3": "river valleys",
         "TR": "technological",
         "Tree frog": 0,
         "UR": "technological",
         "VR": "patches at the edges",
         "_deepnote_index_column": 2
        },
        {
         "BR": "<50 m",
         "Brown frogs": 0,
         "CR": "Natural",
         "Common newt": 0,
         "Common toad": 1,
         "FR": "remove",
         "Fire-bellied toad": 0,
         "Great crested newt": 0,
         "Green frogs": 0,
         "MR": "Clean",
         "Motorway": "A1",
         "NR": 1,
         "OR": "poor access",
         "RR": "<50 m",
         "SR": 300,
         "SUR1": "industrial areas",
         "SUR2": "river valleys",
         "SUR3": "meadows",
         "TR": "technological",
         "Tree frog": 0,
         "UR": "technological",
         "VR": "no vegetation",
         "_deepnote_index_column": 3
        },
        {
         "BR": "200-500 m",
         "Brown frogs": 1,
         "CR": "Natural",
         "Common newt": 1,
         "Common toad": 1,
         "FR": "lack",
         "Fire-bellied toad": 1,
         "Great crested newt": 1,
         "Green frogs": 0,
         "MR": "Clean",
         "Motorway": "A1",
         "NR": 2,
         "OR": "remove",
         "RR": "<50 m",
         "SR": 600,
         "SUR1": "river valleys",
         "SUR2": "meadows",
         "SUR3": "industrial areas",
         "TR": "natural reservoirs",
         "Tree frog": 0,
         "UR": "unused",
         "VR": "reservoirs completely overgrown",
         "_deepnote_index_column": 4
        },
        {
         "BR": "<50 m",
         "Brown frogs": 0,
         "CR": "Natural",
         "Common newt": 0,
         "Common toad": 0,
         "FR": "lack",
         "Fire-bellied toad": 0,
         "Great crested newt": 0,
         "Green frogs": 0,
         "MR": "Clean",
         "Motorway": "A1",
         "NR": 1,
         "OR": "low access",
         "RR": "<50 m",
         "SR": 200,
         "SUR1": "industrial areas",
         "SUR2": "industrial areas",
         "SUR3": "river valleys",
         "TR": "technological",
         "Tree frog": 0,
         "UR": "scenic",
         "VR": "patches at the edges",
         "_deepnote_index_column": 5
        },
        {
         "BR": "<50 m",
         "Brown frogs": 0,
         "CR": "Concrete",
         "Common newt": 0,
         "Common toad": 1,
         "FR": "breeding reservoirs",
         "Fire-bellied toad": 0,
         "Great crested newt": 0,
         "Green frogs": 0,
         "MR": "Clean",
         "Motorway": "A1",
         "NR": 1,
         "OR": "poor access",
         "RR": "<50 m",
         "SR": 500,
         "SUR1": "industrial areas",
         "SUR2": "industrial areas",
         "SUR3": "river valleys",
         "TR": "technological",
         "Tree frog": 0,
         "UR": "scenic",
         "VR": "no vegetation",
         "_deepnote_index_column": 6
        },
        {
         "BR": "50-100 m",
         "Brown frogs": 1,
         "CR": "Natural",
         "Common newt": 0,
         "Common toad": 0,
         "FR": "lack",
         "Fire-bellied toad": 1,
         "Great crested newt": 0,
         "Green frogs": 1,
         "MR": "Clean",
         "Motorway": "A1",
         "NR": 1,
         "OR": "large access",
         "RR": "50-100 m",
         "SR": 700,
         "SUR1": "river valleys",
         "SUR2": "industrial areas",
         "SUR3": "roads",
         "TR": "technological",
         "Tree frog": 0,
         "UR": "unused",
         "VR": "heavily overgrown",
         "_deepnote_index_column": 7
        },
        {
         "BR": "<50 m",
         "Brown frogs": 1,
         "CR": "Natural",
         "Common newt": 0,
         "Common toad": 1,
         "FR": "intense fishing",
         "Fire-bellied toad": 0,
         "Great crested newt": 0,
         "Green frogs": 0,
         "MR": "Clean",
         "Motorway": "A1",
         "NR": 2,
         "OR": "low access",
         "RR": "50-100 m",
         "SR": 750,
         "SUR1": "industrial areas",
         "SUR2": "forest areas",
         "SUR3": "meadows",
         "TR": "technological",
         "Tree frog": 0,
         "UR": "unused",
         "VR": "patches at the edges",
         "_deepnote_index_column": 8
        },
        {
         "BR": "<50 m",
         "Brown frogs": 1,
         "CR": "Natural",
         "Common newt": 0,
         "Common toad": 1,
         "FR": "lack",
         "Fire-bellied toad": 0,
         "Great crested newt": 0,
         "Green frogs": 0,
         "MR": "Clean",
         "Motorway": "A1",
         "NR": 1,
         "OR": "medium access",
         "RR": "50-100 m",
         "SR": 200,
         "SUR1": "meadows",
         "SUR2": "orchards",
         "SUR3": "industrial areas",
         "TR": "wet meadows",
         "Tree frog": 0,
         "UR": "unused",
         "VR": "reservoirs completely overgrown",
         "_deepnote_index_column": 9
        },
        {
         "BR": "50-100 m",
         "Brown frogs": 0,
         "CR": "Natural",
         "Common newt": 0,
         "Common toad": 0,
         "FR": "lack",
         "Fire-bellied toad": 0,
         "Great crested newt": 0,
         "Green frogs": 1,
         "MR": "Clean",
         "Motorway": "A1",
         "NR": 1,
         "OR": "large access",
         "RR": "100-200 m",
         "SR": 200,
         "SUR1": "meadows",
         "SUR2": "orchards",
         "SUR3": "forest areas",
         "TR": "natural reservoirs",
         "Tree frog": 0,
         "UR": "unused",
         "VR": "reservoirs completely overgrown",
         "_deepnote_index_column": 10
        },
        {
         "BR": "50-100 m",
         "Brown frogs": 1,
         "CR": "Natural",
         "Common newt": 0,
         "Common toad": 1,
         "FR": "lack",
         "Fire-bellied toad": 0,
         "Great crested newt": 0,
         "Green frogs": 0,
         "MR": "Clean",
         "Motorway": "A1",
         "NR": 1,
         "OR": "large access",
         "RR": "100-200 m",
         "SR": 300,
         "SUR1": "forest areas",
         "SUR2": "meadows",
         "SUR3": "orchards",
         "TR": "river valleys",
         "Tree frog": 0,
         "UR": "unused",
         "VR": "heavily overgrown",
         "_deepnote_index_column": 11
        },
        {
         "BR": "200-500 m",
         "Brown frogs": 0,
         "CR": "Natural",
         "Common newt": 0,
         "Common toad": 1,
         "FR": "remove",
         "Fire-bellied toad": 0,
         "Great crested newt": 0,
         "Green frogs": 1,
         "MR": "Clean",
         "Motorway": "A1",
         "NR": 1,
         "OR": "low access",
         "RR": "50-100 m",
         "SR": 7000,
         "SUR1": "meadows",
         "SUR2": "industrial areas",
         "SUR3": "river valleys",
         "TR": "natural reservoirs",
         "Tree frog": 0,
         "UR": "technological",
         "VR": "patches at the edges",
         "_deepnote_index_column": 12
        },
        {
         "BR": "100-200 m",
         "Brown frogs": 1,
         "CR": "Natural",
         "Common newt": 0,
         "Common toad": 1,
         "FR": "intense fishing",
         "Fire-bellied toad": 0,
         "Great crested newt": 0,
         "Green frogs": 1,
         "MR": "heavily littered",
         "Motorway": "A1",
         "NR": 1,
         "OR": "large access",
         "RR": "100-200 m",
         "SR": 1700,
         "SUR1": "meadows",
         "SUR2": "industrial areas",
         "SUR3": "river valleys",
         "TR": "natural reservoirs",
         "Tree frog": 0,
         "UR": "unused",
         "VR": "patches at the edges",
         "_deepnote_index_column": 13
        },
        {
         "BR": "500-1000 m",
         "Brown frogs": 1,
         "CR": "Natural",
         "Common newt": 0,
         "Common toad": 1,
         "FR": "lack",
         "Fire-bellied toad": 0,
         "Great crested newt": 0,
         "Green frogs": 0,
         "MR": "Clean",
         "Motorway": "A1",
         "NR": 1,
         "OR": "large access",
         "RR": "500-1000 m",
         "SR": 8000,
         "SUR1": "meadows",
         "SUR2": "river valleys",
         "SUR3": "orchards",
         "TR": "natural reservoirs",
         "Tree frog": 0,
         "UR": "unused",
         "VR": "some part devoid of vegetation",
         "_deepnote_index_column": 14
        },
        {
         "BR": ">10000",
         "Brown frogs": 1,
         "CR": "Natural",
         "Common newt": 0,
         "Common toad": 1,
         "FR": "lack",
         "Fire-bellied toad": 1,
         "Great crested newt": 0,
         "Green frogs": 1,
         "MR": "Clean",
         "Motorway": "A1",
         "NR": 1,
         "OR": "large access",
         "RR": "100-200 m",
         "SR": 30000,
         "SUR1": "forest areas",
         "SUR2": "forest areas",
         "SUR3": "forest areas",
         "TR": "natural reservoirs",
         "Tree frog": 1,
         "UR": "unused",
         "VR": "some part devoid of vegetation",
         "_deepnote_index_column": 15
        },
        {
         "BR": ">10000",
         "Brown frogs": 1,
         "CR": "Natural",
         "Common newt": 0,
         "Common toad": 1,
         "FR": "lack",
         "Fire-bellied toad": 0,
         "Great crested newt": 0,
         "Green frogs": 0,
         "MR": "Clean",
         "Motorway": "A1",
         "NR": 1,
         "OR": "large access",
         "RR": "200-500 m",
         "SR": 300,
         "SUR1": "forest areas",
         "SUR2": "forest areas",
         "SUR3": "forest areas",
         "TR": "wet meadows",
         "Tree frog": 1,
         "UR": "unused",
         "VR": "reservoirs completely overgrown",
         "_deepnote_index_column": 16
        },
        {
         "BR": "200-500 m",
         "Brown frogs": 1,
         "CR": "Natural",
         "Common newt": 0,
         "Common toad": 1,
         "FR": "lack",
         "Fire-bellied toad": 0,
         "Great crested newt": 0,
         "Green frogs": 0,
         "MR": "Clean",
         "Motorway": "A1",
         "NR": 1,
         "OR": "medium access",
         "RR": "<50 m",
         "SR": 300,
         "SUR1": "forest areas",
         "SUR2": "forest areas",
         "SUR3": "roads",
         "TR": "small watercourses",
         "Tree frog": 0,
         "UR": "unused",
         "VR": "patches at the edges",
         "_deepnote_index_column": 17
        },
        {
         "BR": "50-100 m",
         "Brown frogs": 1,
         "CR": "Natural",
         "Common newt": 0,
         "Common toad": 1,
         "FR": "intense fishing",
         "Fire-bellied toad": 1,
         "Great crested newt": 0,
         "Green frogs": 1,
         "MR": "Clean",
         "Motorway": "A1",
         "NR": 3,
         "OR": "medium access",
         "RR": "100-200 m",
         "SR": 1600,
         "SUR1": "meadows",
         "SUR2": "industrial areas",
         "SUR3": "meadows",
         "TR": "natural reservoirs",
         "Tree frog": 0,
         "UR": "technological",
         "VR": "no vegetation",
         "_deepnote_index_column": 18
        },
        {
         "BR": "<50 m",
         "Brown frogs": 0,
         "CR": "Natural",
         "Common newt": 0,
         "Common toad": 1,
         "FR": "intense fishing",
         "Fire-bellied toad": 0,
         "Great crested newt": 0,
         "Green frogs": 1,
         "MR": "Clean",
         "Motorway": "A1",
         "NR": 6,
         "OR": "poor access",
         "RR": "<50 m",
         "SR": 3800,
         "SUR1": "industrial areas",
         "SUR2": "industrial areas",
         "SUR3": "meadows",
         "TR": "natural reservoirs",
         "Tree frog": 1,
         "UR": "technological",
         "VR": "heavily overgrown",
         "_deepnote_index_column": 19
        },
        {
         "BR": "<50 m",
         "Brown frogs": 0,
         "CR": "Natural",
         "Common newt": 0,
         "Common toad": 1,
         "FR": "remove",
         "Fire-bellied toad": 0,
         "Great crested newt": 0,
         "Green frogs": 1,
         "MR": "Clean",
         "Motorway": "A1",
         "NR": 6,
         "OR": "low access",
         "RR": "<50 m",
         "SR": 7000,
         "SUR1": "industrial areas",
         "SUR2": "river valleys",
         "SUR3": "meadows",
         "TR": "natural reservoirs",
         "Tree frog": 0,
         "UR": "technological",
         "VR": "patches at the edges",
         "_deepnote_index_column": 20
        },
        {
         "BR": "50-100 m",
         "Brown frogs": 0,
         "CR": "Natural",
         "Common newt": 1,
         "Common toad": 1,
         "FR": "intense fishing",
         "Fire-bellied toad": 0,
         "Great crested newt": 0,
         "Green frogs": 1,
         "MR": "Clean",
         "Motorway": "A1",
         "NR": 1,
         "OR": "large access",
         "RR": "<50 m",
         "SR": 2500,
         "SUR1": "river valleys",
         "SUR2": "meadows",
         "SUR3": "industrial areas",
         "TR": "natural reservoirs",
         "Tree frog": 0,
         "UR": "unused",
         "VR": "some part devoid of vegetation",
         "_deepnote_index_column": 21
        }
       ]
      },
      "text/html": [
       "<div>\n",
       "<style scoped>\n",
       "    .dataframe tbody tr th:only-of-type {\n",
       "        vertical-align: middle;\n",
       "    }\n",
       "\n",
       "    .dataframe tbody tr th {\n",
       "        vertical-align: top;\n",
       "    }\n",
       "\n",
       "    .dataframe thead th {\n",
       "        text-align: right;\n",
       "    }\n",
       "</style>\n",
       "<table border=\"1\" class=\"dataframe\">\n",
       "  <thead>\n",
       "    <tr style=\"text-align: right;\">\n",
       "      <th></th>\n",
       "      <th>Motorway</th>\n",
       "      <th>SR</th>\n",
       "      <th>NR</th>\n",
       "      <th>TR</th>\n",
       "      <th>VR</th>\n",
       "      <th>SUR1</th>\n",
       "      <th>SUR2</th>\n",
       "      <th>SUR3</th>\n",
       "      <th>UR</th>\n",
       "      <th>FR</th>\n",
       "      <th>...</th>\n",
       "      <th>BR</th>\n",
       "      <th>MR</th>\n",
       "      <th>CR</th>\n",
       "      <th>Green frogs</th>\n",
       "      <th>Brown frogs</th>\n",
       "      <th>Common toad</th>\n",
       "      <th>Fire-bellied toad</th>\n",
       "      <th>Tree frog</th>\n",
       "      <th>Common newt</th>\n",
       "      <th>Great crested newt</th>\n",
       "    </tr>\n",
       "  </thead>\n",
       "  <tbody>\n",
       "    <tr>\n",
       "      <th>0</th>\n",
       "      <td>A1</td>\n",
       "      <td>600</td>\n",
       "      <td>1</td>\n",
       "      <td>natural reservoirs</td>\n",
       "      <td>reservoirs completely overgrown</td>\n",
       "      <td>industrial areas</td>\n",
       "      <td>meadows</td>\n",
       "      <td>river valleys</td>\n",
       "      <td>unused</td>\n",
       "      <td>lack</td>\n",
       "      <td>...</td>\n",
       "      <td>&lt;50 m</td>\n",
       "      <td>Clean</td>\n",
       "      <td>Natural</td>\n",
       "      <td>0</td>\n",
       "      <td>0</td>\n",
       "      <td>0</td>\n",
       "      <td>0</td>\n",
       "      <td>0</td>\n",
       "      <td>0</td>\n",
       "      <td>0</td>\n",
       "    </tr>\n",
       "    <tr>\n",
       "      <th>1</th>\n",
       "      <td>A1</td>\n",
       "      <td>700</td>\n",
       "      <td>1</td>\n",
       "      <td>technological</td>\n",
       "      <td>patches at the edges</td>\n",
       "      <td>river valleys</td>\n",
       "      <td>industrial areas</td>\n",
       "      <td>river valleys</td>\n",
       "      <td>technological</td>\n",
       "      <td>intense fishing</td>\n",
       "      <td>...</td>\n",
       "      <td>50-100 m</td>\n",
       "      <td>Clean</td>\n",
       "      <td>Natural</td>\n",
       "      <td>0</td>\n",
       "      <td>1</td>\n",
       "      <td>1</td>\n",
       "      <td>0</td>\n",
       "      <td>0</td>\n",
       "      <td>1</td>\n",
       "      <td>0</td>\n",
       "    </tr>\n",
       "    <tr>\n",
       "      <th>2</th>\n",
       "      <td>A1</td>\n",
       "      <td>200</td>\n",
       "      <td>1</td>\n",
       "      <td>technological</td>\n",
       "      <td>patches at the edges</td>\n",
       "      <td>river valleys</td>\n",
       "      <td>industrial areas</td>\n",
       "      <td>river valleys</td>\n",
       "      <td>technological</td>\n",
       "      <td>remove</td>\n",
       "      <td>...</td>\n",
       "      <td>50-100 m</td>\n",
       "      <td>Clean</td>\n",
       "      <td>Natural</td>\n",
       "      <td>0</td>\n",
       "      <td>1</td>\n",
       "      <td>1</td>\n",
       "      <td>0</td>\n",
       "      <td>0</td>\n",
       "      <td>1</td>\n",
       "      <td>0</td>\n",
       "    </tr>\n",
       "    <tr>\n",
       "      <th>3</th>\n",
       "      <td>A1</td>\n",
       "      <td>300</td>\n",
       "      <td>1</td>\n",
       "      <td>technological</td>\n",
       "      <td>no vegetation</td>\n",
       "      <td>industrial areas</td>\n",
       "      <td>river valleys</td>\n",
       "      <td>meadows</td>\n",
       "      <td>technological</td>\n",
       "      <td>remove</td>\n",
       "      <td>...</td>\n",
       "      <td>&lt;50 m</td>\n",
       "      <td>Clean</td>\n",
       "      <td>Natural</td>\n",
       "      <td>0</td>\n",
       "      <td>0</td>\n",
       "      <td>1</td>\n",
       "      <td>0</td>\n",
       "      <td>0</td>\n",
       "      <td>0</td>\n",
       "      <td>0</td>\n",
       "    </tr>\n",
       "    <tr>\n",
       "      <th>4</th>\n",
       "      <td>A1</td>\n",
       "      <td>600</td>\n",
       "      <td>2</td>\n",
       "      <td>natural reservoirs</td>\n",
       "      <td>reservoirs completely overgrown</td>\n",
       "      <td>river valleys</td>\n",
       "      <td>meadows</td>\n",
       "      <td>industrial areas</td>\n",
       "      <td>unused</td>\n",
       "      <td>lack</td>\n",
       "      <td>...</td>\n",
       "      <td>200-500 m</td>\n",
       "      <td>Clean</td>\n",
       "      <td>Natural</td>\n",
       "      <td>0</td>\n",
       "      <td>1</td>\n",
       "      <td>1</td>\n",
       "      <td>1</td>\n",
       "      <td>0</td>\n",
       "      <td>1</td>\n",
       "      <td>1</td>\n",
       "    </tr>\n",
       "    <tr>\n",
       "      <th>...</th>\n",
       "      <td>...</td>\n",
       "      <td>...</td>\n",
       "      <td>...</td>\n",
       "      <td>...</td>\n",
       "      <td>...</td>\n",
       "      <td>...</td>\n",
       "      <td>...</td>\n",
       "      <td>...</td>\n",
       "      <td>...</td>\n",
       "      <td>...</td>\n",
       "      <td>...</td>\n",
       "      <td>...</td>\n",
       "      <td>...</td>\n",
       "      <td>...</td>\n",
       "      <td>...</td>\n",
       "      <td>...</td>\n",
       "      <td>...</td>\n",
       "      <td>...</td>\n",
       "      <td>...</td>\n",
       "      <td>...</td>\n",
       "      <td>...</td>\n",
       "    </tr>\n",
       "    <tr>\n",
       "      <th>184</th>\n",
       "      <td>S52</td>\n",
       "      <td>2300</td>\n",
       "      <td>1</td>\n",
       "      <td>wet meadows</td>\n",
       "      <td>some part devoid of vegetation</td>\n",
       "      <td>meadows</td>\n",
       "      <td>meadows</td>\n",
       "      <td>forest areas</td>\n",
       "      <td>unused</td>\n",
       "      <td>lack</td>\n",
       "      <td>...</td>\n",
       "      <td>50-100 m</td>\n",
       "      <td>Clean</td>\n",
       "      <td>Natural</td>\n",
       "      <td>0</td>\n",
       "      <td>1</td>\n",
       "      <td>0</td>\n",
       "      <td>0</td>\n",
       "      <td>0</td>\n",
       "      <td>0</td>\n",
       "      <td>0</td>\n",
       "    </tr>\n",
       "    <tr>\n",
       "      <th>185</th>\n",
       "      <td>S52</td>\n",
       "      <td>300</td>\n",
       "      <td>1</td>\n",
       "      <td>river valleys</td>\n",
       "      <td>heavily overgrown</td>\n",
       "      <td>orchards</td>\n",
       "      <td>river valleys</td>\n",
       "      <td>meadows</td>\n",
       "      <td>unused</td>\n",
       "      <td>lack</td>\n",
       "      <td>...</td>\n",
       "      <td>200-500 m</td>\n",
       "      <td>Clean</td>\n",
       "      <td>Natural</td>\n",
       "      <td>1</td>\n",
       "      <td>1</td>\n",
       "      <td>1</td>\n",
       "      <td>1</td>\n",
       "      <td>0</td>\n",
       "      <td>1</td>\n",
       "      <td>0</td>\n",
       "    </tr>\n",
       "    <tr>\n",
       "      <th>186</th>\n",
       "      <td>S52</td>\n",
       "      <td>500</td>\n",
       "      <td>1</td>\n",
       "      <td>natural reservoirs</td>\n",
       "      <td>reservoirs completely overgrown</td>\n",
       "      <td>forest areas</td>\n",
       "      <td>river valleys</td>\n",
       "      <td>meadows</td>\n",
       "      <td>unused</td>\n",
       "      <td>lack</td>\n",
       "      <td>...</td>\n",
       "      <td>200-500 m</td>\n",
       "      <td>Clean</td>\n",
       "      <td>Natural</td>\n",
       "      <td>1</td>\n",
       "      <td>1</td>\n",
       "      <td>1</td>\n",
       "      <td>1</td>\n",
       "      <td>0</td>\n",
       "      <td>1</td>\n",
       "      <td>0</td>\n",
       "    </tr>\n",
       "    <tr>\n",
       "      <th>187</th>\n",
       "      <td>S52</td>\n",
       "      <td>300</td>\n",
       "      <td>1</td>\n",
       "      <td>wet meadows</td>\n",
       "      <td>some part devoid of vegetation</td>\n",
       "      <td>meadows</td>\n",
       "      <td>forest areas</td>\n",
       "      <td>industrial areas</td>\n",
       "      <td>unused</td>\n",
       "      <td>lack</td>\n",
       "      <td>...</td>\n",
       "      <td>&lt;50 m</td>\n",
       "      <td>Clean</td>\n",
       "      <td>Natural</td>\n",
       "      <td>0</td>\n",
       "      <td>1</td>\n",
       "      <td>1</td>\n",
       "      <td>0</td>\n",
       "      <td>0</td>\n",
       "      <td>0</td>\n",
       "      <td>0</td>\n",
       "    </tr>\n",
       "    <tr>\n",
       "      <th>188</th>\n",
       "      <td>S52</td>\n",
       "      <td>300</td>\n",
       "      <td>1</td>\n",
       "      <td>wet meadows</td>\n",
       "      <td>some part devoid of vegetation</td>\n",
       "      <td>meadows</td>\n",
       "      <td>industrial areas</td>\n",
       "      <td>river valleys</td>\n",
       "      <td>unused</td>\n",
       "      <td>lack</td>\n",
       "      <td>...</td>\n",
       "      <td>50-100 m</td>\n",
       "      <td>Clean</td>\n",
       "      <td>Natural</td>\n",
       "      <td>0</td>\n",
       "      <td>1</td>\n",
       "      <td>1</td>\n",
       "      <td>0</td>\n",
       "      <td>0</td>\n",
       "      <td>0</td>\n",
       "      <td>0</td>\n",
       "    </tr>\n",
       "  </tbody>\n",
       "</table>\n",
       "<p>189 rows × 22 columns</p>\n",
       "</div>"
      ],
      "text/plain": [
       "    Motorway    SR  NR                  TR                               VR  \\\n",
       "0         A1   600   1  natural reservoirs  reservoirs completely overgrown   \n",
       "1         A1   700   1       technological             patches at the edges   \n",
       "2         A1   200   1       technological             patches at the edges   \n",
       "3         A1   300   1       technological                    no vegetation   \n",
       "4         A1   600   2  natural reservoirs  reservoirs completely overgrown   \n",
       "..       ...   ...  ..                 ...                              ...   \n",
       "184      S52  2300   1         wet meadows   some part devoid of vegetation   \n",
       "185      S52   300   1       river valleys                heavily overgrown   \n",
       "186      S52   500   1  natural reservoirs  reservoirs completely overgrown   \n",
       "187      S52   300   1         wet meadows   some part devoid of vegetation   \n",
       "188      S52   300   1         wet meadows   some part devoid of vegetation   \n",
       "\n",
       "                 SUR1              SUR2              SUR3             UR  \\\n",
       "0    industrial areas           meadows     river valleys         unused   \n",
       "1       river valleys  industrial areas     river valleys  technological   \n",
       "2       river valleys  industrial areas     river valleys  technological   \n",
       "3    industrial areas     river valleys           meadows  technological   \n",
       "4       river valleys           meadows  industrial areas         unused   \n",
       "..                ...               ...               ...            ...   \n",
       "184           meadows           meadows      forest areas         unused   \n",
       "185          orchards     river valleys           meadows         unused   \n",
       "186      forest areas     river valleys           meadows         unused   \n",
       "187           meadows      forest areas  industrial areas         unused   \n",
       "188           meadows  industrial areas     river valleys         unused   \n",
       "\n",
       "                  FR  ...         BR     MR       CR Green frogs Brown frogs  \\\n",
       "0               lack  ...      <50 m  Clean  Natural           0           0   \n",
       "1    intense fishing  ...   50-100 m  Clean  Natural           0           1   \n",
       "2             remove  ...   50-100 m  Clean  Natural           0           1   \n",
       "3             remove  ...      <50 m  Clean  Natural           0           0   \n",
       "4               lack  ...  200-500 m  Clean  Natural           0           1   \n",
       "..               ...  ...        ...    ...      ...         ...         ...   \n",
       "184             lack  ...   50-100 m  Clean  Natural           0           1   \n",
       "185             lack  ...  200-500 m  Clean  Natural           1           1   \n",
       "186             lack  ...  200-500 m  Clean  Natural           1           1   \n",
       "187             lack  ...      <50 m  Clean  Natural           0           1   \n",
       "188             lack  ...   50-100 m  Clean  Natural           0           1   \n",
       "\n",
       "     Common toad  Fire-bellied toad  Tree frog  Common newt  \\\n",
       "0              0                  0          0            0   \n",
       "1              1                  0          0            1   \n",
       "2              1                  0          0            1   \n",
       "3              1                  0          0            0   \n",
       "4              1                  1          0            1   \n",
       "..           ...                ...        ...          ...   \n",
       "184            0                  0          0            0   \n",
       "185            1                  1          0            1   \n",
       "186            1                  1          0            1   \n",
       "187            1                  0          0            0   \n",
       "188            1                  0          0            0   \n",
       "\n",
       "     Great crested newt  \n",
       "0                     0  \n",
       "1                     0  \n",
       "2                     0  \n",
       "3                     0  \n",
       "4                     1  \n",
       "..                  ...  \n",
       "184                   0  \n",
       "185                   0  \n",
       "186                   0  \n",
       "187                   0  \n",
       "188                   0  \n",
       "\n",
       "[189 rows x 22 columns]"
      ]
     },
     "execution_count": 33,
     "metadata": {},
     "output_type": "execute_result"
    }
   ],
   "source": [
    "df"
   ]
  },
  {
   "cell_type": "markdown",
   "metadata": {
    "cell_id": "00052-f0ffbf63-b571-4534-b02b-99f610e6b3be",
    "deepnote_cell_height": 108.390625,
    "deepnote_cell_type": "markdown",
    "tags": []
   },
   "source": [
    "## **2.5 Encoding**\n",
    "\n",
    "Jadi setiap data kategorikal dijadikan kolom sendiri sendiri"
   ]
  },
  {
   "cell_type": "code",
   "execution_count": null,
   "metadata": {
    "cell_id": "00053-968d59dd-1920-4340-bc06-a8e7585fa7c1",
    "deepnote_cell_height": 81,
    "deepnote_cell_type": "code",
    "deepnote_to_be_reexecuted": false,
    "execution_millis": 48,
    "execution_start": 1622026965702,
    "source_hash": "b6ebcbe3",
    "tags": []
   },
   "outputs": [],
   "source": [
    "df = pd.get_dummies(df)"
   ]
  },
  {
   "cell_type": "code",
   "execution_count": null,
   "metadata": {
    "cell_id": "00054-d07e02da-0123-49ad-ba5b-fa1689a7ce91",
    "deepnote_cell_height": 305.1875,
    "deepnote_cell_type": "code",
    "deepnote_output_heights": [
     208.1875
    ],
    "deepnote_to_be_reexecuted": false,
    "execution_millis": 590,
    "execution_start": 1622026965790,
    "source_hash": "c085b6ba",
    "tags": []
   },
   "outputs": [
    {
     "data": {
      "application/vnd.deepnote.dataframe.v2+json": {
       "column_count": 76,
       "columns": [
        {
         "dtype": "int64",
         "name": "SR",
         "stats": {
          "histogram": [
           {
            "bin_end": 250,
            "bin_start": 200,
            "count": 1
           },
           {
            "bin_end": 300,
            "bin_start": 250,
            "count": 0
           },
           {
            "bin_end": 350,
            "bin_start": 300,
            "count": 1
           },
           {
            "bin_end": 400,
            "bin_start": 350,
            "count": 0
           },
           {
            "bin_end": 450,
            "bin_start": 400,
            "count": 0
           },
           {
            "bin_end": 500,
            "bin_start": 450,
            "count": 0
           },
           {
            "bin_end": 550,
            "bin_start": 500,
            "count": 0
           },
           {
            "bin_end": 600,
            "bin_start": 550,
            "count": 0
           },
           {
            "bin_end": 650,
            "bin_start": 600,
            "count": 2
           },
           {
            "bin_end": 700,
            "bin_start": 650,
            "count": 1
           }
          ],
          "max": "700",
          "min": "200",
          "nan_count": 0,
          "unique_count": 4
         }
        },
        {
         "dtype": "int64",
         "name": "NR",
         "stats": {
          "histogram": [
           {
            "bin_end": 1.1,
            "bin_start": 1,
            "count": 4
           },
           {
            "bin_end": 1.2,
            "bin_start": 1.1,
            "count": 0
           },
           {
            "bin_end": 1.3,
            "bin_start": 1.2,
            "count": 0
           },
           {
            "bin_end": 1.4,
            "bin_start": 1.3,
            "count": 0
           },
           {
            "bin_end": 1.5,
            "bin_start": 1.4,
            "count": 0
           },
           {
            "bin_end": 1.6,
            "bin_start": 1.5,
            "count": 0
           },
           {
            "bin_end": 1.7000000000000002,
            "bin_start": 1.6,
            "count": 0
           },
           {
            "bin_end": 1.8,
            "bin_start": 1.7000000000000002,
            "count": 0
           },
           {
            "bin_end": 1.9,
            "bin_start": 1.8,
            "count": 0
           },
           {
            "bin_end": 2,
            "bin_start": 1.9,
            "count": 1
           }
          ],
          "max": "2",
          "min": "1",
          "nan_count": 0,
          "unique_count": 2
         }
        },
        {
         "dtype": "int64",
         "name": "Green frogs",
         "stats": {
          "histogram": [
           {
            "bin_end": -0.4,
            "bin_start": -0.5,
            "count": 0
           },
           {
            "bin_end": -0.3,
            "bin_start": -0.4,
            "count": 0
           },
           {
            "bin_end": -0.19999999999999996,
            "bin_start": -0.3,
            "count": 0
           },
           {
            "bin_end": -0.09999999999999998,
            "bin_start": -0.19999999999999996,
            "count": 0
           },
           {
            "bin_end": 0,
            "bin_start": -0.09999999999999998,
            "count": 0
           },
           {
            "bin_end": 0.10000000000000009,
            "bin_start": 0,
            "count": 5
           },
           {
            "bin_end": 0.20000000000000007,
            "bin_start": 0.10000000000000009,
            "count": 0
           },
           {
            "bin_end": 0.30000000000000004,
            "bin_start": 0.20000000000000007,
            "count": 0
           },
           {
            "bin_end": 0.4,
            "bin_start": 0.30000000000000004,
            "count": 0
           },
           {
            "bin_end": 0.5,
            "bin_start": 0.4,
            "count": 0
           }
          ],
          "max": "0",
          "min": "0",
          "nan_count": 0,
          "unique_count": 1
         }
        },
        {
         "dtype": "int64",
         "name": "Brown frogs",
         "stats": {
          "histogram": [
           {
            "bin_end": 0.1,
            "bin_start": 0,
            "count": 2
           },
           {
            "bin_end": 0.2,
            "bin_start": 0.1,
            "count": 0
           },
           {
            "bin_end": 0.30000000000000004,
            "bin_start": 0.2,
            "count": 0
           },
           {
            "bin_end": 0.4,
            "bin_start": 0.30000000000000004,
            "count": 0
           },
           {
            "bin_end": 0.5,
            "bin_start": 0.4,
            "count": 0
           },
           {
            "bin_end": 0.6000000000000001,
            "bin_start": 0.5,
            "count": 0
           },
           {
            "bin_end": 0.7000000000000001,
            "bin_start": 0.6000000000000001,
            "count": 0
           },
           {
            "bin_end": 0.8,
            "bin_start": 0.7000000000000001,
            "count": 0
           },
           {
            "bin_end": 0.9,
            "bin_start": 0.8,
            "count": 0
           },
           {
            "bin_end": 1,
            "bin_start": 0.9,
            "count": 3
           }
          ],
          "max": "1",
          "min": "0",
          "nan_count": 0,
          "unique_count": 2
         }
        },
        {
         "dtype": "int64",
         "name": "Common toad",
         "stats": {
          "histogram": [
           {
            "bin_end": 0.1,
            "bin_start": 0,
            "count": 1
           },
           {
            "bin_end": 0.2,
            "bin_start": 0.1,
            "count": 0
           },
           {
            "bin_end": 0.30000000000000004,
            "bin_start": 0.2,
            "count": 0
           },
           {
            "bin_end": 0.4,
            "bin_start": 0.30000000000000004,
            "count": 0
           },
           {
            "bin_end": 0.5,
            "bin_start": 0.4,
            "count": 0
           },
           {
            "bin_end": 0.6000000000000001,
            "bin_start": 0.5,
            "count": 0
           },
           {
            "bin_end": 0.7000000000000001,
            "bin_start": 0.6000000000000001,
            "count": 0
           },
           {
            "bin_end": 0.8,
            "bin_start": 0.7000000000000001,
            "count": 0
           },
           {
            "bin_end": 0.9,
            "bin_start": 0.8,
            "count": 0
           },
           {
            "bin_end": 1,
            "bin_start": 0.9,
            "count": 4
           }
          ],
          "max": "1",
          "min": "0",
          "nan_count": 0,
          "unique_count": 2
         }
        },
        {
         "dtype": "int64",
         "name": "Fire-bellied toad",
         "stats": {
          "histogram": [
           {
            "bin_end": 0.1,
            "bin_start": 0,
            "count": 4
           },
           {
            "bin_end": 0.2,
            "bin_start": 0.1,
            "count": 0
           },
           {
            "bin_end": 0.30000000000000004,
            "bin_start": 0.2,
            "count": 0
           },
           {
            "bin_end": 0.4,
            "bin_start": 0.30000000000000004,
            "count": 0
           },
           {
            "bin_end": 0.5,
            "bin_start": 0.4,
            "count": 0
           },
           {
            "bin_end": 0.6000000000000001,
            "bin_start": 0.5,
            "count": 0
           },
           {
            "bin_end": 0.7000000000000001,
            "bin_start": 0.6000000000000001,
            "count": 0
           },
           {
            "bin_end": 0.8,
            "bin_start": 0.7000000000000001,
            "count": 0
           },
           {
            "bin_end": 0.9,
            "bin_start": 0.8,
            "count": 0
           },
           {
            "bin_end": 1,
            "bin_start": 0.9,
            "count": 1
           }
          ],
          "max": "1",
          "min": "0",
          "nan_count": 0,
          "unique_count": 2
         }
        },
        {
         "dtype": "int64",
         "name": "Tree frog",
         "stats": {
          "histogram": [
           {
            "bin_end": -0.4,
            "bin_start": -0.5,
            "count": 0
           },
           {
            "bin_end": -0.3,
            "bin_start": -0.4,
            "count": 0
           },
           {
            "bin_end": -0.19999999999999996,
            "bin_start": -0.3,
            "count": 0
           },
           {
            "bin_end": -0.09999999999999998,
            "bin_start": -0.19999999999999996,
            "count": 0
           },
           {
            "bin_end": 0,
            "bin_start": -0.09999999999999998,
            "count": 0
           },
           {
            "bin_end": 0.10000000000000009,
            "bin_start": 0,
            "count": 5
           },
           {
            "bin_end": 0.20000000000000007,
            "bin_start": 0.10000000000000009,
            "count": 0
           },
           {
            "bin_end": 0.30000000000000004,
            "bin_start": 0.20000000000000007,
            "count": 0
           },
           {
            "bin_end": 0.4,
            "bin_start": 0.30000000000000004,
            "count": 0
           },
           {
            "bin_end": 0.5,
            "bin_start": 0.4,
            "count": 0
           }
          ],
          "max": "0",
          "min": "0",
          "nan_count": 0,
          "unique_count": 1
         }
        },
        {
         "dtype": "int64",
         "name": "Common newt",
         "stats": {
          "histogram": [
           {
            "bin_end": 0.1,
            "bin_start": 0,
            "count": 2
           },
           {
            "bin_end": 0.2,
            "bin_start": 0.1,
            "count": 0
           },
           {
            "bin_end": 0.30000000000000004,
            "bin_start": 0.2,
            "count": 0
           },
           {
            "bin_end": 0.4,
            "bin_start": 0.30000000000000004,
            "count": 0
           },
           {
            "bin_end": 0.5,
            "bin_start": 0.4,
            "count": 0
           },
           {
            "bin_end": 0.6000000000000001,
            "bin_start": 0.5,
            "count": 0
           },
           {
            "bin_end": 0.7000000000000001,
            "bin_start": 0.6000000000000001,
            "count": 0
           },
           {
            "bin_end": 0.8,
            "bin_start": 0.7000000000000001,
            "count": 0
           },
           {
            "bin_end": 0.9,
            "bin_start": 0.8,
            "count": 0
           },
           {
            "bin_end": 1,
            "bin_start": 0.9,
            "count": 3
           }
          ],
          "max": "1",
          "min": "0",
          "nan_count": 0,
          "unique_count": 2
         }
        },
        {
         "dtype": "int64",
         "name": "Great crested newt",
         "stats": {
          "histogram": [
           {
            "bin_end": 0.1,
            "bin_start": 0,
            "count": 4
           },
           {
            "bin_end": 0.2,
            "bin_start": 0.1,
            "count": 0
           },
           {
            "bin_end": 0.30000000000000004,
            "bin_start": 0.2,
            "count": 0
           },
           {
            "bin_end": 0.4,
            "bin_start": 0.30000000000000004,
            "count": 0
           },
           {
            "bin_end": 0.5,
            "bin_start": 0.4,
            "count": 0
           },
           {
            "bin_end": 0.6000000000000001,
            "bin_start": 0.5,
            "count": 0
           },
           {
            "bin_end": 0.7000000000000001,
            "bin_start": 0.6000000000000001,
            "count": 0
           },
           {
            "bin_end": 0.8,
            "bin_start": 0.7000000000000001,
            "count": 0
           },
           {
            "bin_end": 0.9,
            "bin_start": 0.8,
            "count": 0
           },
           {
            "bin_end": 1,
            "bin_start": 0.9,
            "count": 1
           }
          ],
          "max": "1",
          "min": "0",
          "nan_count": 0,
          "unique_count": 2
         }
        },
        {
         "dtype": "uint8",
         "name": "Motorway_A1",
         "stats": {
          "histogram": [
           {
            "bin_end": 0.6,
            "bin_start": 0.5,
            "count": 0
           },
           {
            "bin_end": 0.7,
            "bin_start": 0.6,
            "count": 0
           },
           {
            "bin_end": 0.8,
            "bin_start": 0.7,
            "count": 0
           },
           {
            "bin_end": 0.9,
            "bin_start": 0.8,
            "count": 0
           },
           {
            "bin_end": 1,
            "bin_start": 0.9,
            "count": 0
           },
           {
            "bin_end": 1.1,
            "bin_start": 1,
            "count": 5
           },
           {
            "bin_end": 1.2000000000000002,
            "bin_start": 1.1,
            "count": 0
           },
           {
            "bin_end": 1.3,
            "bin_start": 1.2000000000000002,
            "count": 0
           },
           {
            "bin_end": 1.4,
            "bin_start": 1.3,
            "count": 0
           },
           {
            "bin_end": 1.5,
            "bin_start": 1.4,
            "count": 0
           }
          ],
          "max": "1",
          "min": "1",
          "nan_count": 0,
          "unique_count": 1
         }
        },
        {
         "dtype": "uint8",
         "name": "Motorway_S52",
         "stats": {
          "histogram": [
           {
            "bin_end": -0.4,
            "bin_start": -0.5,
            "count": 0
           },
           {
            "bin_end": -0.3,
            "bin_start": -0.4,
            "count": 0
           },
           {
            "bin_end": -0.19999999999999996,
            "bin_start": -0.3,
            "count": 0
           },
           {
            "bin_end": -0.09999999999999998,
            "bin_start": -0.19999999999999996,
            "count": 0
           },
           {
            "bin_end": 0,
            "bin_start": -0.09999999999999998,
            "count": 0
           },
           {
            "bin_end": 0.10000000000000009,
            "bin_start": 0,
            "count": 5
           },
           {
            "bin_end": 0.20000000000000007,
            "bin_start": 0.10000000000000009,
            "count": 0
           },
           {
            "bin_end": 0.30000000000000004,
            "bin_start": 0.20000000000000007,
            "count": 0
           },
           {
            "bin_end": 0.4,
            "bin_start": 0.30000000000000004,
            "count": 0
           },
           {
            "bin_end": 0.5,
            "bin_start": 0.4,
            "count": 0
           }
          ],
          "max": "0",
          "min": "0",
          "nan_count": 0,
          "unique_count": 1
         }
        },
        {
         "dtype": "uint8",
         "name": "TR_garden",
         "stats": {
          "histogram": [
           {
            "bin_end": -0.4,
            "bin_start": -0.5,
            "count": 0
           },
           {
            "bin_end": -0.3,
            "bin_start": -0.4,
            "count": 0
           },
           {
            "bin_end": -0.19999999999999996,
            "bin_start": -0.3,
            "count": 0
           },
           {
            "bin_end": -0.09999999999999998,
            "bin_start": -0.19999999999999996,
            "count": 0
           },
           {
            "bin_end": 0,
            "bin_start": -0.09999999999999998,
            "count": 0
           },
           {
            "bin_end": 0.10000000000000009,
            "bin_start": 0,
            "count": 5
           },
           {
            "bin_end": 0.20000000000000007,
            "bin_start": 0.10000000000000009,
            "count": 0
           },
           {
            "bin_end": 0.30000000000000004,
            "bin_start": 0.20000000000000007,
            "count": 0
           },
           {
            "bin_end": 0.4,
            "bin_start": 0.30000000000000004,
            "count": 0
           },
           {
            "bin_end": 0.5,
            "bin_start": 0.4,
            "count": 0
           }
          ],
          "max": "0",
          "min": "0",
          "nan_count": 0,
          "unique_count": 1
         }
        },
        {
         "dtype": "uint8",
         "name": "TR_natural reservoirs",
         "stats": {
          "histogram": [
           {
            "bin_end": 0.1,
            "bin_start": 0,
            "count": 3
           },
           {
            "bin_end": 0.2,
            "bin_start": 0.1,
            "count": 0
           },
           {
            "bin_end": 0.30000000000000004,
            "bin_start": 0.2,
            "count": 0
           },
           {
            "bin_end": 0.4,
            "bin_start": 0.30000000000000004,
            "count": 0
           },
           {
            "bin_end": 0.5,
            "bin_start": 0.4,
            "count": 0
           },
           {
            "bin_end": 0.6000000000000001,
            "bin_start": 0.5,
            "count": 0
           },
           {
            "bin_end": 0.7000000000000001,
            "bin_start": 0.6000000000000001,
            "count": 0
           },
           {
            "bin_end": 0.8,
            "bin_start": 0.7000000000000001,
            "count": 0
           },
           {
            "bin_end": 0.9,
            "bin_start": 0.8,
            "count": 0
           },
           {
            "bin_end": 1,
            "bin_start": 0.9,
            "count": 2
           }
          ],
          "max": "1",
          "min": "0",
          "nan_count": 0,
          "unique_count": 2
         }
        },
        {
         "dtype": "uint8",
         "name": "TR_recently formed",
         "stats": {
          "histogram": [
           {
            "bin_end": -0.4,
            "bin_start": -0.5,
            "count": 0
           },
           {
            "bin_end": -0.3,
            "bin_start": -0.4,
            "count": 0
           },
           {
            "bin_end": -0.19999999999999996,
            "bin_start": -0.3,
            "count": 0
           },
           {
            "bin_end": -0.09999999999999998,
            "bin_start": -0.19999999999999996,
            "count": 0
           },
           {
            "bin_end": 0,
            "bin_start": -0.09999999999999998,
            "count": 0
           },
           {
            "bin_end": 0.10000000000000009,
            "bin_start": 0,
            "count": 5
           },
           {
            "bin_end": 0.20000000000000007,
            "bin_start": 0.10000000000000009,
            "count": 0
           },
           {
            "bin_end": 0.30000000000000004,
            "bin_start": 0.20000000000000007,
            "count": 0
           },
           {
            "bin_end": 0.4,
            "bin_start": 0.30000000000000004,
            "count": 0
           },
           {
            "bin_end": 0.5,
            "bin_start": 0.4,
            "count": 0
           }
          ],
          "max": "0",
          "min": "0",
          "nan_count": 0,
          "unique_count": 1
         }
        },
        {
         "dtype": "uint8",
         "name": "TR_river valleys",
         "stats": {
          "histogram": [
           {
            "bin_end": -0.4,
            "bin_start": -0.5,
            "count": 0
           },
           {
            "bin_end": -0.3,
            "bin_start": -0.4,
            "count": 0
           },
           {
            "bin_end": -0.19999999999999996,
            "bin_start": -0.3,
            "count": 0
           },
           {
            "bin_end": -0.09999999999999998,
            "bin_start": -0.19999999999999996,
            "count": 0
           },
           {
            "bin_end": 0,
            "bin_start": -0.09999999999999998,
            "count": 0
           },
           {
            "bin_end": 0.10000000000000009,
            "bin_start": 0,
            "count": 5
           },
           {
            "bin_end": 0.20000000000000007,
            "bin_start": 0.10000000000000009,
            "count": 0
           },
           {
            "bin_end": 0.30000000000000004,
            "bin_start": 0.20000000000000007,
            "count": 0
           },
           {
            "bin_end": 0.4,
            "bin_start": 0.30000000000000004,
            "count": 0
           },
           {
            "bin_end": 0.5,
            "bin_start": 0.4,
            "count": 0
           }
          ],
          "max": "0",
          "min": "0",
          "nan_count": 0,
          "unique_count": 1
         }
        },
        {
         "dtype": "uint8",
         "name": "TR_small watercourses",
         "stats": {
          "histogram": [
           {
            "bin_end": -0.4,
            "bin_start": -0.5,
            "count": 0
           },
           {
            "bin_end": -0.3,
            "bin_start": -0.4,
            "count": 0
           },
           {
            "bin_end": -0.19999999999999996,
            "bin_start": -0.3,
            "count": 0
           },
           {
            "bin_end": -0.09999999999999998,
            "bin_start": -0.19999999999999996,
            "count": 0
           },
           {
            "bin_end": 0,
            "bin_start": -0.09999999999999998,
            "count": 0
           },
           {
            "bin_end": 0.10000000000000009,
            "bin_start": 0,
            "count": 5
           },
           {
            "bin_end": 0.20000000000000007,
            "bin_start": 0.10000000000000009,
            "count": 0
           },
           {
            "bin_end": 0.30000000000000004,
            "bin_start": 0.20000000000000007,
            "count": 0
           },
           {
            "bin_end": 0.4,
            "bin_start": 0.30000000000000004,
            "count": 0
           },
           {
            "bin_end": 0.5,
            "bin_start": 0.4,
            "count": 0
           }
          ],
          "max": "0",
          "min": "0",
          "nan_count": 0,
          "unique_count": 1
         }
        },
        {
         "dtype": "uint8",
         "name": "TR_technological",
         "stats": {
          "histogram": [
           {
            "bin_end": 0.1,
            "bin_start": 0,
            "count": 2
           },
           {
            "bin_end": 0.2,
            "bin_start": 0.1,
            "count": 0
           },
           {
            "bin_end": 0.30000000000000004,
            "bin_start": 0.2,
            "count": 0
           },
           {
            "bin_end": 0.4,
            "bin_start": 0.30000000000000004,
            "count": 0
           },
           {
            "bin_end": 0.5,
            "bin_start": 0.4,
            "count": 0
           },
           {
            "bin_end": 0.6000000000000001,
            "bin_start": 0.5,
            "count": 0
           },
           {
            "bin_end": 0.7000000000000001,
            "bin_start": 0.6000000000000001,
            "count": 0
           },
           {
            "bin_end": 0.8,
            "bin_start": 0.7000000000000001,
            "count": 0
           },
           {
            "bin_end": 0.9,
            "bin_start": 0.8,
            "count": 0
           },
           {
            "bin_end": 1,
            "bin_start": 0.9,
            "count": 3
           }
          ],
          "max": "1",
          "min": "0",
          "nan_count": 0,
          "unique_count": 2
         }
        },
        {
         "dtype": "uint8",
         "name": "TR_trenches",
         "stats": {
          "histogram": [
           {
            "bin_end": -0.4,
            "bin_start": -0.5,
            "count": 0
           },
           {
            "bin_end": -0.3,
            "bin_start": -0.4,
            "count": 0
           },
           {
            "bin_end": -0.19999999999999996,
            "bin_start": -0.3,
            "count": 0
           },
           {
            "bin_end": -0.09999999999999998,
            "bin_start": -0.19999999999999996,
            "count": 0
           },
           {
            "bin_end": 0,
            "bin_start": -0.09999999999999998,
            "count": 0
           },
           {
            "bin_end": 0.10000000000000009,
            "bin_start": 0,
            "count": 5
           },
           {
            "bin_end": 0.20000000000000007,
            "bin_start": 0.10000000000000009,
            "count": 0
           },
           {
            "bin_end": 0.30000000000000004,
            "bin_start": 0.20000000000000007,
            "count": 0
           },
           {
            "bin_end": 0.4,
            "bin_start": 0.30000000000000004,
            "count": 0
           },
           {
            "bin_end": 0.5,
            "bin_start": 0.4,
            "count": 0
           }
          ],
          "max": "0",
          "min": "0",
          "nan_count": 0,
          "unique_count": 1
         }
        },
        {
         "dtype": "uint8",
         "name": "TR_wet meadows",
         "stats": {
          "histogram": [
           {
            "bin_end": -0.4,
            "bin_start": -0.5,
            "count": 0
           },
           {
            "bin_end": -0.3,
            "bin_start": -0.4,
            "count": 0
           },
           {
            "bin_end": -0.19999999999999996,
            "bin_start": -0.3,
            "count": 0
           },
           {
            "bin_end": -0.09999999999999998,
            "bin_start": -0.19999999999999996,
            "count": 0
           },
           {
            "bin_end": 0,
            "bin_start": -0.09999999999999998,
            "count": 0
           },
           {
            "bin_end": 0.10000000000000009,
            "bin_start": 0,
            "count": 5
           },
           {
            "bin_end": 0.20000000000000007,
            "bin_start": 0.10000000000000009,
            "count": 0
           },
           {
            "bin_end": 0.30000000000000004,
            "bin_start": 0.20000000000000007,
            "count": 0
           },
           {
            "bin_end": 0.4,
            "bin_start": 0.30000000000000004,
            "count": 0
           },
           {
            "bin_end": 0.5,
            "bin_start": 0.4,
            "count": 0
           }
          ],
          "max": "0",
          "min": "0",
          "nan_count": 0,
          "unique_count": 1
         }
        },
        {
         "dtype": "uint8",
         "name": "VR_heavily overgrown",
         "stats": {
          "histogram": [
           {
            "bin_end": -0.4,
            "bin_start": -0.5,
            "count": 0
           },
           {
            "bin_end": -0.3,
            "bin_start": -0.4,
            "count": 0
           },
           {
            "bin_end": -0.19999999999999996,
            "bin_start": -0.3,
            "count": 0
           },
           {
            "bin_end": -0.09999999999999998,
            "bin_start": -0.19999999999999996,
            "count": 0
           },
           {
            "bin_end": 0,
            "bin_start": -0.09999999999999998,
            "count": 0
           },
           {
            "bin_end": 0.10000000000000009,
            "bin_start": 0,
            "count": 5
           },
           {
            "bin_end": 0.20000000000000007,
            "bin_start": 0.10000000000000009,
            "count": 0
           },
           {
            "bin_end": 0.30000000000000004,
            "bin_start": 0.20000000000000007,
            "count": 0
           },
           {
            "bin_end": 0.4,
            "bin_start": 0.30000000000000004,
            "count": 0
           },
           {
            "bin_end": 0.5,
            "bin_start": 0.4,
            "count": 0
           }
          ],
          "max": "0",
          "min": "0",
          "nan_count": 0,
          "unique_count": 1
         }
        },
        {
         "dtype": "uint8",
         "name": "VR_no vegetation",
         "stats": {
          "histogram": [
           {
            "bin_end": 0.1,
            "bin_start": 0,
            "count": 4
           },
           {
            "bin_end": 0.2,
            "bin_start": 0.1,
            "count": 0
           },
           {
            "bin_end": 0.30000000000000004,
            "bin_start": 0.2,
            "count": 0
           },
           {
            "bin_end": 0.4,
            "bin_start": 0.30000000000000004,
            "count": 0
           },
           {
            "bin_end": 0.5,
            "bin_start": 0.4,
            "count": 0
           },
           {
            "bin_end": 0.6000000000000001,
            "bin_start": 0.5,
            "count": 0
           },
           {
            "bin_end": 0.7000000000000001,
            "bin_start": 0.6000000000000001,
            "count": 0
           },
           {
            "bin_end": 0.8,
            "bin_start": 0.7000000000000001,
            "count": 0
           },
           {
            "bin_end": 0.9,
            "bin_start": 0.8,
            "count": 0
           },
           {
            "bin_end": 1,
            "bin_start": 0.9,
            "count": 1
           }
          ],
          "max": "1",
          "min": "0",
          "nan_count": 0,
          "unique_count": 2
         }
        },
        {
         "dtype": "uint8",
         "name": "VR_patches at the edges",
         "stats": {
          "histogram": [
           {
            "bin_end": 0.1,
            "bin_start": 0,
            "count": 3
           },
           {
            "bin_end": 0.2,
            "bin_start": 0.1,
            "count": 0
           },
           {
            "bin_end": 0.30000000000000004,
            "bin_start": 0.2,
            "count": 0
           },
           {
            "bin_end": 0.4,
            "bin_start": 0.30000000000000004,
            "count": 0
           },
           {
            "bin_end": 0.5,
            "bin_start": 0.4,
            "count": 0
           },
           {
            "bin_end": 0.6000000000000001,
            "bin_start": 0.5,
            "count": 0
           },
           {
            "bin_end": 0.7000000000000001,
            "bin_start": 0.6000000000000001,
            "count": 0
           },
           {
            "bin_end": 0.8,
            "bin_start": 0.7000000000000001,
            "count": 0
           },
           {
            "bin_end": 0.9,
            "bin_start": 0.8,
            "count": 0
           },
           {
            "bin_end": 1,
            "bin_start": 0.9,
            "count": 2
           }
          ],
          "max": "1",
          "min": "0",
          "nan_count": 0,
          "unique_count": 2
         }
        },
        {
         "dtype": "uint8",
         "name": "VR_reservoirs completely overgrown",
         "stats": {
          "histogram": [
           {
            "bin_end": 0.1,
            "bin_start": 0,
            "count": 3
           },
           {
            "bin_end": 0.2,
            "bin_start": 0.1,
            "count": 0
           },
           {
            "bin_end": 0.30000000000000004,
            "bin_start": 0.2,
            "count": 0
           },
           {
            "bin_end": 0.4,
            "bin_start": 0.30000000000000004,
            "count": 0
           },
           {
            "bin_end": 0.5,
            "bin_start": 0.4,
            "count": 0
           },
           {
            "bin_end": 0.6000000000000001,
            "bin_start": 0.5,
            "count": 0
           },
           {
            "bin_end": 0.7000000000000001,
            "bin_start": 0.6000000000000001,
            "count": 0
           },
           {
            "bin_end": 0.8,
            "bin_start": 0.7000000000000001,
            "count": 0
           },
           {
            "bin_end": 0.9,
            "bin_start": 0.8,
            "count": 0
           },
           {
            "bin_end": 1,
            "bin_start": 0.9,
            "count": 2
           }
          ],
          "max": "1",
          "min": "0",
          "nan_count": 0,
          "unique_count": 2
         }
        },
        {
         "dtype": "uint8",
         "name": "VR_some part devoid of vegetation",
         "stats": {
          "histogram": [
           {
            "bin_end": -0.4,
            "bin_start": -0.5,
            "count": 0
           },
           {
            "bin_end": -0.3,
            "bin_start": -0.4,
            "count": 0
           },
           {
            "bin_end": -0.19999999999999996,
            "bin_start": -0.3,
            "count": 0
           },
           {
            "bin_end": -0.09999999999999998,
            "bin_start": -0.19999999999999996,
            "count": 0
           },
           {
            "bin_end": 0,
            "bin_start": -0.09999999999999998,
            "count": 0
           },
           {
            "bin_end": 0.10000000000000009,
            "bin_start": 0,
            "count": 5
           },
           {
            "bin_end": 0.20000000000000007,
            "bin_start": 0.10000000000000009,
            "count": 0
           },
           {
            "bin_end": 0.30000000000000004,
            "bin_start": 0.20000000000000007,
            "count": 0
           },
           {
            "bin_end": 0.4,
            "bin_start": 0.30000000000000004,
            "count": 0
           },
           {
            "bin_end": 0.5,
            "bin_start": 0.4,
            "count": 0
           }
          ],
          "max": "0",
          "min": "0",
          "nan_count": 0,
          "unique_count": 1
         }
        },
        {
         "dtype": "uint8",
         "name": "SUR1_agricultural",
         "stats": {
          "histogram": [
           {
            "bin_end": -0.4,
            "bin_start": -0.5,
            "count": 0
           },
           {
            "bin_end": -0.3,
            "bin_start": -0.4,
            "count": 0
           },
           {
            "bin_end": -0.19999999999999996,
            "bin_start": -0.3,
            "count": 0
           },
           {
            "bin_end": -0.09999999999999998,
            "bin_start": -0.19999999999999996,
            "count": 0
           },
           {
            "bin_end": 0,
            "bin_start": -0.09999999999999998,
            "count": 0
           },
           {
            "bin_end": 0.10000000000000009,
            "bin_start": 0,
            "count": 5
           },
           {
            "bin_end": 0.20000000000000007,
            "bin_start": 0.10000000000000009,
            "count": 0
           },
           {
            "bin_end": 0.30000000000000004,
            "bin_start": 0.20000000000000007,
            "count": 0
           },
           {
            "bin_end": 0.4,
            "bin_start": 0.30000000000000004,
            "count": 0
           },
           {
            "bin_end": 0.5,
            "bin_start": 0.4,
            "count": 0
           }
          ],
          "max": "0",
          "min": "0",
          "nan_count": 0,
          "unique_count": 1
         }
        },
        {
         "dtype": "uint8",
         "name": "SUR1_forest areas",
         "stats": {
          "histogram": [
           {
            "bin_end": -0.4,
            "bin_start": -0.5,
            "count": 0
           },
           {
            "bin_end": -0.3,
            "bin_start": -0.4,
            "count": 0
           },
           {
            "bin_end": -0.19999999999999996,
            "bin_start": -0.3,
            "count": 0
           },
           {
            "bin_end": -0.09999999999999998,
            "bin_start": -0.19999999999999996,
            "count": 0
           },
           {
            "bin_end": 0,
            "bin_start": -0.09999999999999998,
            "count": 0
           },
           {
            "bin_end": 0.10000000000000009,
            "bin_start": 0,
            "count": 5
           },
           {
            "bin_end": 0.20000000000000007,
            "bin_start": 0.10000000000000009,
            "count": 0
           },
           {
            "bin_end": 0.30000000000000004,
            "bin_start": 0.20000000000000007,
            "count": 0
           },
           {
            "bin_end": 0.4,
            "bin_start": 0.30000000000000004,
            "count": 0
           },
           {
            "bin_end": 0.5,
            "bin_start": 0.4,
            "count": 0
           }
          ],
          "max": "0",
          "min": "0",
          "nan_count": 0,
          "unique_count": 1
         }
        },
        {
         "dtype": "uint8",
         "name": "SUR1_gardens",
         "stats": {
          "histogram": [
           {
            "bin_end": -0.4,
            "bin_start": -0.5,
            "count": 0
           },
           {
            "bin_end": -0.3,
            "bin_start": -0.4,
            "count": 0
           },
           {
            "bin_end": -0.19999999999999996,
            "bin_start": -0.3,
            "count": 0
           },
           {
            "bin_end": -0.09999999999999998,
            "bin_start": -0.19999999999999996,
            "count": 0
           },
           {
            "bin_end": 0,
            "bin_start": -0.09999999999999998,
            "count": 0
           },
           {
            "bin_end": 0.10000000000000009,
            "bin_start": 0,
            "count": 5
           },
           {
            "bin_end": 0.20000000000000007,
            "bin_start": 0.10000000000000009,
            "count": 0
           },
           {
            "bin_end": 0.30000000000000004,
            "bin_start": 0.20000000000000007,
            "count": 0
           },
           {
            "bin_end": 0.4,
            "bin_start": 0.30000000000000004,
            "count": 0
           },
           {
            "bin_end": 0.5,
            "bin_start": 0.4,
            "count": 0
           }
          ],
          "max": "0",
          "min": "0",
          "nan_count": 0,
          "unique_count": 1
         }
        },
        {
         "dtype": "uint8",
         "name": "SUR1_industrial areas",
         "stats": {
          "histogram": [
           {
            "bin_end": 0.1,
            "bin_start": 0,
            "count": 3
           },
           {
            "bin_end": 0.2,
            "bin_start": 0.1,
            "count": 0
           },
           {
            "bin_end": 0.30000000000000004,
            "bin_start": 0.2,
            "count": 0
           },
           {
            "bin_end": 0.4,
            "bin_start": 0.30000000000000004,
            "count": 0
           },
           {
            "bin_end": 0.5,
            "bin_start": 0.4,
            "count": 0
           },
           {
            "bin_end": 0.6000000000000001,
            "bin_start": 0.5,
            "count": 0
           },
           {
            "bin_end": 0.7000000000000001,
            "bin_start": 0.6000000000000001,
            "count": 0
           },
           {
            "bin_end": 0.8,
            "bin_start": 0.7000000000000001,
            "count": 0
           },
           {
            "bin_end": 0.9,
            "bin_start": 0.8,
            "count": 0
           },
           {
            "bin_end": 1,
            "bin_start": 0.9,
            "count": 2
           }
          ],
          "max": "1",
          "min": "0",
          "nan_count": 0,
          "unique_count": 2
         }
        },
        {
         "dtype": "uint8",
         "name": "SUR1_meadows",
         "stats": {
          "histogram": [
           {
            "bin_end": -0.4,
            "bin_start": -0.5,
            "count": 0
           },
           {
            "bin_end": -0.3,
            "bin_start": -0.4,
            "count": 0
           },
           {
            "bin_end": -0.19999999999999996,
            "bin_start": -0.3,
            "count": 0
           },
           {
            "bin_end": -0.09999999999999998,
            "bin_start": -0.19999999999999996,
            "count": 0
           },
           {
            "bin_end": 0,
            "bin_start": -0.09999999999999998,
            "count": 0
           },
           {
            "bin_end": 0.10000000000000009,
            "bin_start": 0,
            "count": 5
           },
           {
            "bin_end": 0.20000000000000007,
            "bin_start": 0.10000000000000009,
            "count": 0
           },
           {
            "bin_end": 0.30000000000000004,
            "bin_start": 0.20000000000000007,
            "count": 0
           },
           {
            "bin_end": 0.4,
            "bin_start": 0.30000000000000004,
            "count": 0
           },
           {
            "bin_end": 0.5,
            "bin_start": 0.4,
            "count": 0
           }
          ],
          "max": "0",
          "min": "0",
          "nan_count": 0,
          "unique_count": 1
         }
        },
        {
         "dtype": "uint8",
         "name": "SUR1_orchards",
         "stats": {
          "histogram": [
           {
            "bin_end": -0.4,
            "bin_start": -0.5,
            "count": 0
           },
           {
            "bin_end": -0.3,
            "bin_start": -0.4,
            "count": 0
           },
           {
            "bin_end": -0.19999999999999996,
            "bin_start": -0.3,
            "count": 0
           },
           {
            "bin_end": -0.09999999999999998,
            "bin_start": -0.19999999999999996,
            "count": 0
           },
           {
            "bin_end": 0,
            "bin_start": -0.09999999999999998,
            "count": 0
           },
           {
            "bin_end": 0.10000000000000009,
            "bin_start": 0,
            "count": 5
           },
           {
            "bin_end": 0.20000000000000007,
            "bin_start": 0.10000000000000009,
            "count": 0
           },
           {
            "bin_end": 0.30000000000000004,
            "bin_start": 0.20000000000000007,
            "count": 0
           },
           {
            "bin_end": 0.4,
            "bin_start": 0.30000000000000004,
            "count": 0
           },
           {
            "bin_end": 0.5,
            "bin_start": 0.4,
            "count": 0
           }
          ],
          "max": "0",
          "min": "0",
          "nan_count": 0,
          "unique_count": 1
         }
        },
        {
         "dtype": "uint8",
         "name": "SUR1_river valleys",
         "stats": {
          "histogram": [
           {
            "bin_end": 0.1,
            "bin_start": 0,
            "count": 2
           },
           {
            "bin_end": 0.2,
            "bin_start": 0.1,
            "count": 0
           },
           {
            "bin_end": 0.30000000000000004,
            "bin_start": 0.2,
            "count": 0
           },
           {
            "bin_end": 0.4,
            "bin_start": 0.30000000000000004,
            "count": 0
           },
           {
            "bin_end": 0.5,
            "bin_start": 0.4,
            "count": 0
           },
           {
            "bin_end": 0.6000000000000001,
            "bin_start": 0.5,
            "count": 0
           },
           {
            "bin_end": 0.7000000000000001,
            "bin_start": 0.6000000000000001,
            "count": 0
           },
           {
            "bin_end": 0.8,
            "bin_start": 0.7000000000000001,
            "count": 0
           },
           {
            "bin_end": 0.9,
            "bin_start": 0.8,
            "count": 0
           },
           {
            "bin_end": 1,
            "bin_start": 0.9,
            "count": 3
           }
          ],
          "max": "1",
          "min": "0",
          "nan_count": 0,
          "unique_count": 2
         }
        },
        {
         "dtype": "uint8",
         "name": "SUR1_roads",
         "stats": {
          "histogram": [
           {
            "bin_end": -0.4,
            "bin_start": -0.5,
            "count": 0
           },
           {
            "bin_end": -0.3,
            "bin_start": -0.4,
            "count": 0
           },
           {
            "bin_end": -0.19999999999999996,
            "bin_start": -0.3,
            "count": 0
           },
           {
            "bin_end": -0.09999999999999998,
            "bin_start": -0.19999999999999996,
            "count": 0
           },
           {
            "bin_end": 0,
            "bin_start": -0.09999999999999998,
            "count": 0
           },
           {
            "bin_end": 0.10000000000000009,
            "bin_start": 0,
            "count": 5
           },
           {
            "bin_end": 0.20000000000000007,
            "bin_start": 0.10000000000000009,
            "count": 0
           },
           {
            "bin_end": 0.30000000000000004,
            "bin_start": 0.20000000000000007,
            "count": 0
           },
           {
            "bin_end": 0.4,
            "bin_start": 0.30000000000000004,
            "count": 0
           },
           {
            "bin_end": 0.5,
            "bin_start": 0.4,
            "count": 0
           }
          ],
          "max": "0",
          "min": "0",
          "nan_count": 0,
          "unique_count": 1
         }
        },
        {
         "dtype": "uint8",
         "name": "SUR2_agricultural",
         "stats": {
          "histogram": [
           {
            "bin_end": -0.4,
            "bin_start": -0.5,
            "count": 0
           },
           {
            "bin_end": -0.3,
            "bin_start": -0.4,
            "count": 0
           },
           {
            "bin_end": -0.19999999999999996,
            "bin_start": -0.3,
            "count": 0
           },
           {
            "bin_end": -0.09999999999999998,
            "bin_start": -0.19999999999999996,
            "count": 0
           },
           {
            "bin_end": 0,
            "bin_start": -0.09999999999999998,
            "count": 0
           },
           {
            "bin_end": 0.10000000000000009,
            "bin_start": 0,
            "count": 5
           },
           {
            "bin_end": 0.20000000000000007,
            "bin_start": 0.10000000000000009,
            "count": 0
           },
           {
            "bin_end": 0.30000000000000004,
            "bin_start": 0.20000000000000007,
            "count": 0
           },
           {
            "bin_end": 0.4,
            "bin_start": 0.30000000000000004,
            "count": 0
           },
           {
            "bin_end": 0.5,
            "bin_start": 0.4,
            "count": 0
           }
          ],
          "max": "0",
          "min": "0",
          "nan_count": 0,
          "unique_count": 1
         }
        },
        {
         "dtype": "uint8",
         "name": "SUR2_forest areas",
         "stats": {
          "histogram": [
           {
            "bin_end": -0.4,
            "bin_start": -0.5,
            "count": 0
           },
           {
            "bin_end": -0.3,
            "bin_start": -0.4,
            "count": 0
           },
           {
            "bin_end": -0.19999999999999996,
            "bin_start": -0.3,
            "count": 0
           },
           {
            "bin_end": -0.09999999999999998,
            "bin_start": -0.19999999999999996,
            "count": 0
           },
           {
            "bin_end": 0,
            "bin_start": -0.09999999999999998,
            "count": 0
           },
           {
            "bin_end": 0.10000000000000009,
            "bin_start": 0,
            "count": 5
           },
           {
            "bin_end": 0.20000000000000007,
            "bin_start": 0.10000000000000009,
            "count": 0
           },
           {
            "bin_end": 0.30000000000000004,
            "bin_start": 0.20000000000000007,
            "count": 0
           },
           {
            "bin_end": 0.4,
            "bin_start": 0.30000000000000004,
            "count": 0
           },
           {
            "bin_end": 0.5,
            "bin_start": 0.4,
            "count": 0
           }
          ],
          "max": "0",
          "min": "0",
          "nan_count": 0,
          "unique_count": 1
         }
        },
        {
         "dtype": "uint8",
         "name": "SUR2_industrial areas",
         "stats": {
          "histogram": [
           {
            "bin_end": 0.1,
            "bin_start": 0,
            "count": 3
           },
           {
            "bin_end": 0.2,
            "bin_start": 0.1,
            "count": 0
           },
           {
            "bin_end": 0.30000000000000004,
            "bin_start": 0.2,
            "count": 0
           },
           {
            "bin_end": 0.4,
            "bin_start": 0.30000000000000004,
            "count": 0
           },
           {
            "bin_end": 0.5,
            "bin_start": 0.4,
            "count": 0
           },
           {
            "bin_end": 0.6000000000000001,
            "bin_start": 0.5,
            "count": 0
           },
           {
            "bin_end": 0.7000000000000001,
            "bin_start": 0.6000000000000001,
            "count": 0
           },
           {
            "bin_end": 0.8,
            "bin_start": 0.7000000000000001,
            "count": 0
           },
           {
            "bin_end": 0.9,
            "bin_start": 0.8,
            "count": 0
           },
           {
            "bin_end": 1,
            "bin_start": 0.9,
            "count": 2
           }
          ],
          "max": "1",
          "min": "0",
          "nan_count": 0,
          "unique_count": 2
         }
        },
        {
         "dtype": "uint8",
         "name": "SUR2_meadows",
         "stats": {
          "histogram": [
           {
            "bin_end": 0.1,
            "bin_start": 0,
            "count": 3
           },
           {
            "bin_end": 0.2,
            "bin_start": 0.1,
            "count": 0
           },
           {
            "bin_end": 0.30000000000000004,
            "bin_start": 0.2,
            "count": 0
           },
           {
            "bin_end": 0.4,
            "bin_start": 0.30000000000000004,
            "count": 0
           },
           {
            "bin_end": 0.5,
            "bin_start": 0.4,
            "count": 0
           },
           {
            "bin_end": 0.6000000000000001,
            "bin_start": 0.5,
            "count": 0
           },
           {
            "bin_end": 0.7000000000000001,
            "bin_start": 0.6000000000000001,
            "count": 0
           },
           {
            "bin_end": 0.8,
            "bin_start": 0.7000000000000001,
            "count": 0
           },
           {
            "bin_end": 0.9,
            "bin_start": 0.8,
            "count": 0
           },
           {
            "bin_end": 1,
            "bin_start": 0.9,
            "count": 2
           }
          ],
          "max": "1",
          "min": "0",
          "nan_count": 0,
          "unique_count": 2
         }
        },
        {
         "dtype": "uint8",
         "name": "SUR2_orchards",
         "stats": {
          "histogram": [
           {
            "bin_end": -0.4,
            "bin_start": -0.5,
            "count": 0
           },
           {
            "bin_end": -0.3,
            "bin_start": -0.4,
            "count": 0
           },
           {
            "bin_end": -0.19999999999999996,
            "bin_start": -0.3,
            "count": 0
           },
           {
            "bin_end": -0.09999999999999998,
            "bin_start": -0.19999999999999996,
            "count": 0
           },
           {
            "bin_end": 0,
            "bin_start": -0.09999999999999998,
            "count": 0
           },
           {
            "bin_end": 0.10000000000000009,
            "bin_start": 0,
            "count": 5
           },
           {
            "bin_end": 0.20000000000000007,
            "bin_start": 0.10000000000000009,
            "count": 0
           },
           {
            "bin_end": 0.30000000000000004,
            "bin_start": 0.20000000000000007,
            "count": 0
           },
           {
            "bin_end": 0.4,
            "bin_start": 0.30000000000000004,
            "count": 0
           },
           {
            "bin_end": 0.5,
            "bin_start": 0.4,
            "count": 0
           }
          ],
          "max": "0",
          "min": "0",
          "nan_count": 0,
          "unique_count": 1
         }
        },
        {
         "dtype": "uint8",
         "name": "SUR2_river valleys",
         "stats": {
          "histogram": [
           {
            "bin_end": 0.1,
            "bin_start": 0,
            "count": 4
           },
           {
            "bin_end": 0.2,
            "bin_start": 0.1,
            "count": 0
           },
           {
            "bin_end": 0.30000000000000004,
            "bin_start": 0.2,
            "count": 0
           },
           {
            "bin_end": 0.4,
            "bin_start": 0.30000000000000004,
            "count": 0
           },
           {
            "bin_end": 0.5,
            "bin_start": 0.4,
            "count": 0
           },
           {
            "bin_end": 0.6000000000000001,
            "bin_start": 0.5,
            "count": 0
           },
           {
            "bin_end": 0.7000000000000001,
            "bin_start": 0.6000000000000001,
            "count": 0
           },
           {
            "bin_end": 0.8,
            "bin_start": 0.7000000000000001,
            "count": 0
           },
           {
            "bin_end": 0.9,
            "bin_start": 0.8,
            "count": 0
           },
           {
            "bin_end": 1,
            "bin_start": 0.9,
            "count": 1
           }
          ],
          "max": "1",
          "min": "0",
          "nan_count": 0,
          "unique_count": 2
         }
        },
        {
         "dtype": "uint8",
         "name": "SUR2_roads",
         "stats": {
          "histogram": [
           {
            "bin_end": -0.4,
            "bin_start": -0.5,
            "count": 0
           },
           {
            "bin_end": -0.3,
            "bin_start": -0.4,
            "count": 0
           },
           {
            "bin_end": -0.19999999999999996,
            "bin_start": -0.3,
            "count": 0
           },
           {
            "bin_end": -0.09999999999999998,
            "bin_start": -0.19999999999999996,
            "count": 0
           },
           {
            "bin_end": 0,
            "bin_start": -0.09999999999999998,
            "count": 0
           },
           {
            "bin_end": 0.10000000000000009,
            "bin_start": 0,
            "count": 5
           },
           {
            "bin_end": 0.20000000000000007,
            "bin_start": 0.10000000000000009,
            "count": 0
           },
           {
            "bin_end": 0.30000000000000004,
            "bin_start": 0.20000000000000007,
            "count": 0
           },
           {
            "bin_end": 0.4,
            "bin_start": 0.30000000000000004,
            "count": 0
           },
           {
            "bin_end": 0.5,
            "bin_start": 0.4,
            "count": 0
           }
          ],
          "max": "0",
          "min": "0",
          "nan_count": 0,
          "unique_count": 1
         }
        },
        {
         "dtype": "uint8",
         "name": "SUR3_agricultural",
         "stats": {
          "histogram": [
           {
            "bin_end": -0.4,
            "bin_start": -0.5,
            "count": 0
           },
           {
            "bin_end": -0.3,
            "bin_start": -0.4,
            "count": 0
           },
           {
            "bin_end": -0.19999999999999996,
            "bin_start": -0.3,
            "count": 0
           },
           {
            "bin_end": -0.09999999999999998,
            "bin_start": -0.19999999999999996,
            "count": 0
           },
           {
            "bin_end": 0,
            "bin_start": -0.09999999999999998,
            "count": 0
           },
           {
            "bin_end": 0.10000000000000009,
            "bin_start": 0,
            "count": 5
           },
           {
            "bin_end": 0.20000000000000007,
            "bin_start": 0.10000000000000009,
            "count": 0
           },
           {
            "bin_end": 0.30000000000000004,
            "bin_start": 0.20000000000000007,
            "count": 0
           },
           {
            "bin_end": 0.4,
            "bin_start": 0.30000000000000004,
            "count": 0
           },
           {
            "bin_end": 0.5,
            "bin_start": 0.4,
            "count": 0
           }
          ],
          "max": "0",
          "min": "0",
          "nan_count": 0,
          "unique_count": 1
         }
        },
        {
         "dtype": "uint8",
         "name": "SUR3_forest areas",
         "stats": {
          "histogram": [
           {
            "bin_end": -0.4,
            "bin_start": -0.5,
            "count": 0
           },
           {
            "bin_end": -0.3,
            "bin_start": -0.4,
            "count": 0
           },
           {
            "bin_end": -0.19999999999999996,
            "bin_start": -0.3,
            "count": 0
           },
           {
            "bin_end": -0.09999999999999998,
            "bin_start": -0.19999999999999996,
            "count": 0
           },
           {
            "bin_end": 0,
            "bin_start": -0.09999999999999998,
            "count": 0
           },
           {
            "bin_end": 0.10000000000000009,
            "bin_start": 0,
            "count": 5
           },
           {
            "bin_end": 0.20000000000000007,
            "bin_start": 0.10000000000000009,
            "count": 0
           },
           {
            "bin_end": 0.30000000000000004,
            "bin_start": 0.20000000000000007,
            "count": 0
           },
           {
            "bin_end": 0.4,
            "bin_start": 0.30000000000000004,
            "count": 0
           },
           {
            "bin_end": 0.5,
            "bin_start": 0.4,
            "count": 0
           }
          ],
          "max": "0",
          "min": "0",
          "nan_count": 0,
          "unique_count": 1
         }
        },
        {
         "dtype": "uint8",
         "name": "SUR3_industrial areas",
         "stats": {
          "histogram": [
           {
            "bin_end": 0.1,
            "bin_start": 0,
            "count": 4
           },
           {
            "bin_end": 0.2,
            "bin_start": 0.1,
            "count": 0
           },
           {
            "bin_end": 0.30000000000000004,
            "bin_start": 0.2,
            "count": 0
           },
           {
            "bin_end": 0.4,
            "bin_start": 0.30000000000000004,
            "count": 0
           },
           {
            "bin_end": 0.5,
            "bin_start": 0.4,
            "count": 0
           },
           {
            "bin_end": 0.6000000000000001,
            "bin_start": 0.5,
            "count": 0
           },
           {
            "bin_end": 0.7000000000000001,
            "bin_start": 0.6000000000000001,
            "count": 0
           },
           {
            "bin_end": 0.8,
            "bin_start": 0.7000000000000001,
            "count": 0
           },
           {
            "bin_end": 0.9,
            "bin_start": 0.8,
            "count": 0
           },
           {
            "bin_end": 1,
            "bin_start": 0.9,
            "count": 1
           }
          ],
          "max": "1",
          "min": "0",
          "nan_count": 0,
          "unique_count": 2
         }
        },
        {
         "dtype": "uint8",
         "name": "SUR3_meadows",
         "stats": {
          "histogram": [
           {
            "bin_end": 0.1,
            "bin_start": 0,
            "count": 4
           },
           {
            "bin_end": 0.2,
            "bin_start": 0.1,
            "count": 0
           },
           {
            "bin_end": 0.30000000000000004,
            "bin_start": 0.2,
            "count": 0
           },
           {
            "bin_end": 0.4,
            "bin_start": 0.30000000000000004,
            "count": 0
           },
           {
            "bin_end": 0.5,
            "bin_start": 0.4,
            "count": 0
           },
           {
            "bin_end": 0.6000000000000001,
            "bin_start": 0.5,
            "count": 0
           },
           {
            "bin_end": 0.7000000000000001,
            "bin_start": 0.6000000000000001,
            "count": 0
           },
           {
            "bin_end": 0.8,
            "bin_start": 0.7000000000000001,
            "count": 0
           },
           {
            "bin_end": 0.9,
            "bin_start": 0.8,
            "count": 0
           },
           {
            "bin_end": 1,
            "bin_start": 0.9,
            "count": 1
           }
          ],
          "max": "1",
          "min": "0",
          "nan_count": 0,
          "unique_count": 2
         }
        },
        {
         "dtype": "uint8",
         "name": "SUR3_orchards",
         "stats": {
          "histogram": [
           {
            "bin_end": -0.4,
            "bin_start": -0.5,
            "count": 0
           },
           {
            "bin_end": -0.3,
            "bin_start": -0.4,
            "count": 0
           },
           {
            "bin_end": -0.19999999999999996,
            "bin_start": -0.3,
            "count": 0
           },
           {
            "bin_end": -0.09999999999999998,
            "bin_start": -0.19999999999999996,
            "count": 0
           },
           {
            "bin_end": 0,
            "bin_start": -0.09999999999999998,
            "count": 0
           },
           {
            "bin_end": 0.10000000000000009,
            "bin_start": 0,
            "count": 5
           },
           {
            "bin_end": 0.20000000000000007,
            "bin_start": 0.10000000000000009,
            "count": 0
           },
           {
            "bin_end": 0.30000000000000004,
            "bin_start": 0.20000000000000007,
            "count": 0
           },
           {
            "bin_end": 0.4,
            "bin_start": 0.30000000000000004,
            "count": 0
           },
           {
            "bin_end": 0.5,
            "bin_start": 0.4,
            "count": 0
           }
          ],
          "max": "0",
          "min": "0",
          "nan_count": 0,
          "unique_count": 1
         }
        },
        {
         "dtype": "uint8",
         "name": "SUR3_parks",
         "stats": {
          "histogram": [
           {
            "bin_end": -0.4,
            "bin_start": -0.5,
            "count": 0
           },
           {
            "bin_end": -0.3,
            "bin_start": -0.4,
            "count": 0
           },
           {
            "bin_end": -0.19999999999999996,
            "bin_start": -0.3,
            "count": 0
           },
           {
            "bin_end": -0.09999999999999998,
            "bin_start": -0.19999999999999996,
            "count": 0
           },
           {
            "bin_end": 0,
            "bin_start": -0.09999999999999998,
            "count": 0
           },
           {
            "bin_end": 0.10000000000000009,
            "bin_start": 0,
            "count": 5
           },
           {
            "bin_end": 0.20000000000000007,
            "bin_start": 0.10000000000000009,
            "count": 0
           },
           {
            "bin_end": 0.30000000000000004,
            "bin_start": 0.20000000000000007,
            "count": 0
           },
           {
            "bin_end": 0.4,
            "bin_start": 0.30000000000000004,
            "count": 0
           },
           {
            "bin_end": 0.5,
            "bin_start": 0.4,
            "count": 0
           }
          ],
          "max": "0",
          "min": "0",
          "nan_count": 0,
          "unique_count": 1
         }
        },
        {
         "dtype": "uint8",
         "name": "SUR3_river valleys",
         "stats": {
          "histogram": [
           {
            "bin_end": 0.1,
            "bin_start": 0,
            "count": 2
           },
           {
            "bin_end": 0.2,
            "bin_start": 0.1,
            "count": 0
           },
           {
            "bin_end": 0.30000000000000004,
            "bin_start": 0.2,
            "count": 0
           },
           {
            "bin_end": 0.4,
            "bin_start": 0.30000000000000004,
            "count": 0
           },
           {
            "bin_end": 0.5,
            "bin_start": 0.4,
            "count": 0
           },
           {
            "bin_end": 0.6000000000000001,
            "bin_start": 0.5,
            "count": 0
           },
           {
            "bin_end": 0.7000000000000001,
            "bin_start": 0.6000000000000001,
            "count": 0
           },
           {
            "bin_end": 0.8,
            "bin_start": 0.7000000000000001,
            "count": 0
           },
           {
            "bin_end": 0.9,
            "bin_start": 0.8,
            "count": 0
           },
           {
            "bin_end": 1,
            "bin_start": 0.9,
            "count": 3
           }
          ],
          "max": "1",
          "min": "0",
          "nan_count": 0,
          "unique_count": 2
         }
        },
        {
         "dtype": "uint8",
         "name": "SUR3_roads",
         "stats": {
          "histogram": [
           {
            "bin_end": -0.4,
            "bin_start": -0.5,
            "count": 0
           },
           {
            "bin_end": -0.3,
            "bin_start": -0.4,
            "count": 0
           },
           {
            "bin_end": -0.19999999999999996,
            "bin_start": -0.3,
            "count": 0
           },
           {
            "bin_end": -0.09999999999999998,
            "bin_start": -0.19999999999999996,
            "count": 0
           },
           {
            "bin_end": 0,
            "bin_start": -0.09999999999999998,
            "count": 0
           },
           {
            "bin_end": 0.10000000000000009,
            "bin_start": 0,
            "count": 5
           },
           {
            "bin_end": 0.20000000000000007,
            "bin_start": 0.10000000000000009,
            "count": 0
           },
           {
            "bin_end": 0.30000000000000004,
            "bin_start": 0.20000000000000007,
            "count": 0
           },
           {
            "bin_end": 0.4,
            "bin_start": 0.30000000000000004,
            "count": 0
           },
           {
            "bin_end": 0.5,
            "bin_start": 0.4,
            "count": 0
           }
          ],
          "max": "0",
          "min": "0",
          "nan_count": 0,
          "unique_count": 1
         }
        },
        {
         "dtype": "uint8",
         "name": "UR_scenic",
         "stats": {
          "histogram": [
           {
            "bin_end": -0.4,
            "bin_start": -0.5,
            "count": 0
           },
           {
            "bin_end": -0.3,
            "bin_start": -0.4,
            "count": 0
           },
           {
            "bin_end": -0.19999999999999996,
            "bin_start": -0.3,
            "count": 0
           },
           {
            "bin_end": -0.09999999999999998,
            "bin_start": -0.19999999999999996,
            "count": 0
           },
           {
            "bin_end": 0,
            "bin_start": -0.09999999999999998,
            "count": 0
           },
           {
            "bin_end": 0.10000000000000009,
            "bin_start": 0,
            "count": 5
           },
           {
            "bin_end": 0.20000000000000007,
            "bin_start": 0.10000000000000009,
            "count": 0
           },
           {
            "bin_end": 0.30000000000000004,
            "bin_start": 0.20000000000000007,
            "count": 0
           },
           {
            "bin_end": 0.4,
            "bin_start": 0.30000000000000004,
            "count": 0
           },
           {
            "bin_end": 0.5,
            "bin_start": 0.4,
            "count": 0
           }
          ],
          "max": "0",
          "min": "0",
          "nan_count": 0,
          "unique_count": 1
         }
        },
        {
         "dtype": "uint8",
         "name": "UR_technological",
         "stats": {
          "histogram": [
           {
            "bin_end": 0.1,
            "bin_start": 0,
            "count": 2
           },
           {
            "bin_end": 0.2,
            "bin_start": 0.1,
            "count": 0
           },
           {
            "bin_end": 0.30000000000000004,
            "bin_start": 0.2,
            "count": 0
           },
           {
            "bin_end": 0.4,
            "bin_start": 0.30000000000000004,
            "count": 0
           },
           {
            "bin_end": 0.5,
            "bin_start": 0.4,
            "count": 0
           },
           {
            "bin_end": 0.6000000000000001,
            "bin_start": 0.5,
            "count": 0
           },
           {
            "bin_end": 0.7000000000000001,
            "bin_start": 0.6000000000000001,
            "count": 0
           },
           {
            "bin_end": 0.8,
            "bin_start": 0.7000000000000001,
            "count": 0
           },
           {
            "bin_end": 0.9,
            "bin_start": 0.8,
            "count": 0
           },
           {
            "bin_end": 1,
            "bin_start": 0.9,
            "count": 3
           }
          ],
          "max": "1",
          "min": "0",
          "nan_count": 0,
          "unique_count": 2
         }
        },
        {
         "dtype": "uint8",
         "name": "UR_unused",
         "stats": {
          "histogram": [
           {
            "bin_end": 0.1,
            "bin_start": 0,
            "count": 3
           },
           {
            "bin_end": 0.2,
            "bin_start": 0.1,
            "count": 0
           },
           {
            "bin_end": 0.30000000000000004,
            "bin_start": 0.2,
            "count": 0
           },
           {
            "bin_end": 0.4,
            "bin_start": 0.30000000000000004,
            "count": 0
           },
           {
            "bin_end": 0.5,
            "bin_start": 0.4,
            "count": 0
           },
           {
            "bin_end": 0.6000000000000001,
            "bin_start": 0.5,
            "count": 0
           },
           {
            "bin_end": 0.7000000000000001,
            "bin_start": 0.6000000000000001,
            "count": 0
           },
           {
            "bin_end": 0.8,
            "bin_start": 0.7000000000000001,
            "count": 0
           },
           {
            "bin_end": 0.9,
            "bin_start": 0.8,
            "count": 0
           },
           {
            "bin_end": 1,
            "bin_start": 0.9,
            "count": 2
           }
          ],
          "max": "1",
          "min": "0",
          "nan_count": 0,
          "unique_count": 2
         }
        },
        {
         "dtype": "uint8",
         "name": "FR_breeding reservoirs",
         "stats": {
          "histogram": [
           {
            "bin_end": -0.4,
            "bin_start": -0.5,
            "count": 0
           },
           {
            "bin_end": -0.3,
            "bin_start": -0.4,
            "count": 0
           },
           {
            "bin_end": -0.19999999999999996,
            "bin_start": -0.3,
            "count": 0
           },
           {
            "bin_end": -0.09999999999999998,
            "bin_start": -0.19999999999999996,
            "count": 0
           },
           {
            "bin_end": 0,
            "bin_start": -0.09999999999999998,
            "count": 0
           },
           {
            "bin_end": 0.10000000000000009,
            "bin_start": 0,
            "count": 5
           },
           {
            "bin_end": 0.20000000000000007,
            "bin_start": 0.10000000000000009,
            "count": 0
           },
           {
            "bin_end": 0.30000000000000004,
            "bin_start": 0.20000000000000007,
            "count": 0
           },
           {
            "bin_end": 0.4,
            "bin_start": 0.30000000000000004,
            "count": 0
           },
           {
            "bin_end": 0.5,
            "bin_start": 0.4,
            "count": 0
           }
          ],
          "max": "0",
          "min": "0",
          "nan_count": 0,
          "unique_count": 1
         }
        },
        {
         "dtype": "uint8",
         "name": "FR_intense fishing",
         "stats": {
          "histogram": [
           {
            "bin_end": 0.1,
            "bin_start": 0,
            "count": 4
           },
           {
            "bin_end": 0.2,
            "bin_start": 0.1,
            "count": 0
           },
           {
            "bin_end": 0.30000000000000004,
            "bin_start": 0.2,
            "count": 0
           },
           {
            "bin_end": 0.4,
            "bin_start": 0.30000000000000004,
            "count": 0
           },
           {
            "bin_end": 0.5,
            "bin_start": 0.4,
            "count": 0
           },
           {
            "bin_end": 0.6000000000000001,
            "bin_start": 0.5,
            "count": 0
           },
           {
            "bin_end": 0.7000000000000001,
            "bin_start": 0.6000000000000001,
            "count": 0
           },
           {
            "bin_end": 0.8,
            "bin_start": 0.7000000000000001,
            "count": 0
           },
           {
            "bin_end": 0.9,
            "bin_start": 0.8,
            "count": 0
           },
           {
            "bin_end": 1,
            "bin_start": 0.9,
            "count": 1
           }
          ],
          "max": "1",
          "min": "0",
          "nan_count": 0,
          "unique_count": 2
         }
        },
        {
         "dtype": "uint8",
         "name": "FR_lack",
         "stats": {
          "histogram": [
           {
            "bin_end": 0.1,
            "bin_start": 0,
            "count": 3
           },
           {
            "bin_end": 0.2,
            "bin_start": 0.1,
            "count": 0
           },
           {
            "bin_end": 0.30000000000000004,
            "bin_start": 0.2,
            "count": 0
           },
           {
            "bin_end": 0.4,
            "bin_start": 0.30000000000000004,
            "count": 0
           },
           {
            "bin_end": 0.5,
            "bin_start": 0.4,
            "count": 0
           },
           {
            "bin_end": 0.6000000000000001,
            "bin_start": 0.5,
            "count": 0
           },
           {
            "bin_end": 0.7000000000000001,
            "bin_start": 0.6000000000000001,
            "count": 0
           },
           {
            "bin_end": 0.8,
            "bin_start": 0.7000000000000001,
            "count": 0
           },
           {
            "bin_end": 0.9,
            "bin_start": 0.8,
            "count": 0
           },
           {
            "bin_end": 1,
            "bin_start": 0.9,
            "count": 2
           }
          ],
          "max": "1",
          "min": "0",
          "nan_count": 0,
          "unique_count": 2
         }
        },
        {
         "dtype": "uint8",
         "name": "FR_remove",
         "stats": {
          "histogram": [
           {
            "bin_end": 0.1,
            "bin_start": 0,
            "count": 3
           },
           {
            "bin_end": 0.2,
            "bin_start": 0.1,
            "count": 0
           },
           {
            "bin_end": 0.30000000000000004,
            "bin_start": 0.2,
            "count": 0
           },
           {
            "bin_end": 0.4,
            "bin_start": 0.30000000000000004,
            "count": 0
           },
           {
            "bin_end": 0.5,
            "bin_start": 0.4,
            "count": 0
           },
           {
            "bin_end": 0.6000000000000001,
            "bin_start": 0.5,
            "count": 0
           },
           {
            "bin_end": 0.7000000000000001,
            "bin_start": 0.6000000000000001,
            "count": 0
           },
           {
            "bin_end": 0.8,
            "bin_start": 0.7000000000000001,
            "count": 0
           },
           {
            "bin_end": 0.9,
            "bin_start": 0.8,
            "count": 0
           },
           {
            "bin_end": 1,
            "bin_start": 0.9,
            "count": 2
           }
          ],
          "max": "1",
          "min": "0",
          "nan_count": 0,
          "unique_count": 2
         }
        },
        {
         "dtype": "uint8",
         "name": "OR_large access",
         "stats": {
          "histogram": [
           {
            "bin_end": -0.4,
            "bin_start": -0.5,
            "count": 0
           },
           {
            "bin_end": -0.3,
            "bin_start": -0.4,
            "count": 0
           },
           {
            "bin_end": -0.19999999999999996,
            "bin_start": -0.3,
            "count": 0
           },
           {
            "bin_end": -0.09999999999999998,
            "bin_start": -0.19999999999999996,
            "count": 0
           },
           {
            "bin_end": 0,
            "bin_start": -0.09999999999999998,
            "count": 0
           },
           {
            "bin_end": 0.10000000000000009,
            "bin_start": 0,
            "count": 5
           },
           {
            "bin_end": 0.20000000000000007,
            "bin_start": 0.10000000000000009,
            "count": 0
           },
           {
            "bin_end": 0.30000000000000004,
            "bin_start": 0.20000000000000007,
            "count": 0
           },
           {
            "bin_end": 0.4,
            "bin_start": 0.30000000000000004,
            "count": 0
           },
           {
            "bin_end": 0.5,
            "bin_start": 0.4,
            "count": 0
           }
          ],
          "max": "0",
          "min": "0",
          "nan_count": 0,
          "unique_count": 1
         }
        },
        {
         "dtype": "uint8",
         "name": "OR_low access",
         "stats": {
          "histogram": [
           {
            "bin_end": 0.1,
            "bin_start": 0,
            "count": 4
           },
           {
            "bin_end": 0.2,
            "bin_start": 0.1,
            "count": 0
           },
           {
            "bin_end": 0.30000000000000004,
            "bin_start": 0.2,
            "count": 0
           },
           {
            "bin_end": 0.4,
            "bin_start": 0.30000000000000004,
            "count": 0
           },
           {
            "bin_end": 0.5,
            "bin_start": 0.4,
            "count": 0
           },
           {
            "bin_end": 0.6000000000000001,
            "bin_start": 0.5,
            "count": 0
           },
           {
            "bin_end": 0.7000000000000001,
            "bin_start": 0.6000000000000001,
            "count": 0
           },
           {
            "bin_end": 0.8,
            "bin_start": 0.7000000000000001,
            "count": 0
           },
           {
            "bin_end": 0.9,
            "bin_start": 0.8,
            "count": 0
           },
           {
            "bin_end": 1,
            "bin_start": 0.9,
            "count": 1
           }
          ],
          "max": "1",
          "min": "0",
          "nan_count": 0,
          "unique_count": 2
         }
        },
        {
         "dtype": "uint8",
         "name": "OR_medium access",
         "stats": {
          "histogram": [
           {
            "bin_end": 0.1,
            "bin_start": 0,
            "count": 3
           },
           {
            "bin_end": 0.2,
            "bin_start": 0.1,
            "count": 0
           },
           {
            "bin_end": 0.30000000000000004,
            "bin_start": 0.2,
            "count": 0
           },
           {
            "bin_end": 0.4,
            "bin_start": 0.30000000000000004,
            "count": 0
           },
           {
            "bin_end": 0.5,
            "bin_start": 0.4,
            "count": 0
           },
           {
            "bin_end": 0.6000000000000001,
            "bin_start": 0.5,
            "count": 0
           },
           {
            "bin_end": 0.7000000000000001,
            "bin_start": 0.6000000000000001,
            "count": 0
           },
           {
            "bin_end": 0.8,
            "bin_start": 0.7000000000000001,
            "count": 0
           },
           {
            "bin_end": 0.9,
            "bin_start": 0.8,
            "count": 0
           },
           {
            "bin_end": 1,
            "bin_start": 0.9,
            "count": 2
           }
          ],
          "max": "1",
          "min": "0",
          "nan_count": 0,
          "unique_count": 2
         }
        },
        {
         "dtype": "uint8",
         "name": "OR_poor access",
         "stats": {
          "histogram": [
           {
            "bin_end": 0.1,
            "bin_start": 0,
            "count": 4
           },
           {
            "bin_end": 0.2,
            "bin_start": 0.1,
            "count": 0
           },
           {
            "bin_end": 0.30000000000000004,
            "bin_start": 0.2,
            "count": 0
           },
           {
            "bin_end": 0.4,
            "bin_start": 0.30000000000000004,
            "count": 0
           },
           {
            "bin_end": 0.5,
            "bin_start": 0.4,
            "count": 0
           },
           {
            "bin_end": 0.6000000000000001,
            "bin_start": 0.5,
            "count": 0
           },
           {
            "bin_end": 0.7000000000000001,
            "bin_start": 0.6000000000000001,
            "count": 0
           },
           {
            "bin_end": 0.8,
            "bin_start": 0.7000000000000001,
            "count": 0
           },
           {
            "bin_end": 0.9,
            "bin_start": 0.8,
            "count": 0
           },
           {
            "bin_end": 1,
            "bin_start": 0.9,
            "count": 1
           }
          ],
          "max": "1",
          "min": "0",
          "nan_count": 0,
          "unique_count": 2
         }
        },
        {
         "dtype": "uint8",
         "name": "OR_remove",
         "stats": {
          "histogram": [
           {
            "bin_end": 0.1,
            "bin_start": 0,
            "count": 4
           },
           {
            "bin_end": 0.2,
            "bin_start": 0.1,
            "count": 0
           },
           {
            "bin_end": 0.30000000000000004,
            "bin_start": 0.2,
            "count": 0
           },
           {
            "bin_end": 0.4,
            "bin_start": 0.30000000000000004,
            "count": 0
           },
           {
            "bin_end": 0.5,
            "bin_start": 0.4,
            "count": 0
           },
           {
            "bin_end": 0.6000000000000001,
            "bin_start": 0.5,
            "count": 0
           },
           {
            "bin_end": 0.7000000000000001,
            "bin_start": 0.6000000000000001,
            "count": 0
           },
           {
            "bin_end": 0.8,
            "bin_start": 0.7000000000000001,
            "count": 0
           },
           {
            "bin_end": 0.9,
            "bin_start": 0.8,
            "count": 0
           },
           {
            "bin_end": 1,
            "bin_start": 0.9,
            "count": 1
           }
          ],
          "max": "1",
          "min": "0",
          "nan_count": 0,
          "unique_count": 2
         }
        },
        {
         "dtype": "uint8",
         "name": "RR_100-200 m",
         "stats": {
          "histogram": [
           {
            "bin_end": -0.4,
            "bin_start": -0.5,
            "count": 0
           },
           {
            "bin_end": -0.3,
            "bin_start": -0.4,
            "count": 0
           },
           {
            "bin_end": -0.19999999999999996,
            "bin_start": -0.3,
            "count": 0
           },
           {
            "bin_end": -0.09999999999999998,
            "bin_start": -0.19999999999999996,
            "count": 0
           },
           {
            "bin_end": 0,
            "bin_start": -0.09999999999999998,
            "count": 0
           },
           {
            "bin_end": 0.10000000000000009,
            "bin_start": 0,
            "count": 5
           },
           {
            "bin_end": 0.20000000000000007,
            "bin_start": 0.10000000000000009,
            "count": 0
           },
           {
            "bin_end": 0.30000000000000004,
            "bin_start": 0.20000000000000007,
            "count": 0
           },
           {
            "bin_end": 0.4,
            "bin_start": 0.30000000000000004,
            "count": 0
           },
           {
            "bin_end": 0.5,
            "bin_start": 0.4,
            "count": 0
           }
          ],
          "max": "0",
          "min": "0",
          "nan_count": 0,
          "unique_count": 1
         }
        },
        {
         "dtype": "uint8",
         "name": "RR_200-500 m",
         "stats": {
          "histogram": [
           {
            "bin_end": -0.4,
            "bin_start": -0.5,
            "count": 0
           },
           {
            "bin_end": -0.3,
            "bin_start": -0.4,
            "count": 0
           },
           {
            "bin_end": -0.19999999999999996,
            "bin_start": -0.3,
            "count": 0
           },
           {
            "bin_end": -0.09999999999999998,
            "bin_start": -0.19999999999999996,
            "count": 0
           },
           {
            "bin_end": 0,
            "bin_start": -0.09999999999999998,
            "count": 0
           },
           {
            "bin_end": 0.10000000000000009,
            "bin_start": 0,
            "count": 5
           },
           {
            "bin_end": 0.20000000000000007,
            "bin_start": 0.10000000000000009,
            "count": 0
           },
           {
            "bin_end": 0.30000000000000004,
            "bin_start": 0.20000000000000007,
            "count": 0
           },
           {
            "bin_end": 0.4,
            "bin_start": 0.30000000000000004,
            "count": 0
           },
           {
            "bin_end": 0.5,
            "bin_start": 0.4,
            "count": 0
           }
          ],
          "max": "0",
          "min": "0",
          "nan_count": 0,
          "unique_count": 1
         }
        },
        {
         "dtype": "uint8",
         "name": "RR_50-100 m",
         "stats": {
          "histogram": [
           {
            "bin_end": 0.1,
            "bin_start": 0,
            "count": 3
           },
           {
            "bin_end": 0.2,
            "bin_start": 0.1,
            "count": 0
           },
           {
            "bin_end": 0.30000000000000004,
            "bin_start": 0.2,
            "count": 0
           },
           {
            "bin_end": 0.4,
            "bin_start": 0.30000000000000004,
            "count": 0
           },
           {
            "bin_end": 0.5,
            "bin_start": 0.4,
            "count": 0
           },
           {
            "bin_end": 0.6000000000000001,
            "bin_start": 0.5,
            "count": 0
           },
           {
            "bin_end": 0.7000000000000001,
            "bin_start": 0.6000000000000001,
            "count": 0
           },
           {
            "bin_end": 0.8,
            "bin_start": 0.7000000000000001,
            "count": 0
           },
           {
            "bin_end": 0.9,
            "bin_start": 0.8,
            "count": 0
           },
           {
            "bin_end": 1,
            "bin_start": 0.9,
            "count": 2
           }
          ],
          "max": "1",
          "min": "0",
          "nan_count": 0,
          "unique_count": 2
         }
        },
        {
         "dtype": "uint8",
         "name": "RR_500-1000 m",
         "stats": {
          "histogram": [
           {
            "bin_end": -0.4,
            "bin_start": -0.5,
            "count": 0
           },
           {
            "bin_end": -0.3,
            "bin_start": -0.4,
            "count": 0
           },
           {
            "bin_end": -0.19999999999999996,
            "bin_start": -0.3,
            "count": 0
           },
           {
            "bin_end": -0.09999999999999998,
            "bin_start": -0.19999999999999996,
            "count": 0
           },
           {
            "bin_end": 0,
            "bin_start": -0.09999999999999998,
            "count": 0
           },
           {
            "bin_end": 0.10000000000000009,
            "bin_start": 0,
            "count": 5
           },
           {
            "bin_end": 0.20000000000000007,
            "bin_start": 0.10000000000000009,
            "count": 0
           },
           {
            "bin_end": 0.30000000000000004,
            "bin_start": 0.20000000000000007,
            "count": 0
           },
           {
            "bin_end": 0.4,
            "bin_start": 0.30000000000000004,
            "count": 0
           },
           {
            "bin_end": 0.5,
            "bin_start": 0.4,
            "count": 0
           }
          ],
          "max": "0",
          "min": "0",
          "nan_count": 0,
          "unique_count": 1
         }
        },
        {
         "dtype": "uint8",
         "name": "RR_<50 m",
         "stats": {
          "histogram": [
           {
            "bin_end": 0.1,
            "bin_start": 0,
            "count": 2
           },
           {
            "bin_end": 0.2,
            "bin_start": 0.1,
            "count": 0
           },
           {
            "bin_end": 0.30000000000000004,
            "bin_start": 0.2,
            "count": 0
           },
           {
            "bin_end": 0.4,
            "bin_start": 0.30000000000000004,
            "count": 0
           },
           {
            "bin_end": 0.5,
            "bin_start": 0.4,
            "count": 0
           },
           {
            "bin_end": 0.6000000000000001,
            "bin_start": 0.5,
            "count": 0
           },
           {
            "bin_end": 0.7000000000000001,
            "bin_start": 0.6000000000000001,
            "count": 0
           },
           {
            "bin_end": 0.8,
            "bin_start": 0.7000000000000001,
            "count": 0
           },
           {
            "bin_end": 0.9,
            "bin_start": 0.8,
            "count": 0
           },
           {
            "bin_end": 1,
            "bin_start": 0.9,
            "count": 3
           }
          ],
          "max": "1",
          "min": "0",
          "nan_count": 0,
          "unique_count": 2
         }
        },
        {
         "dtype": "uint8",
         "name": "RR_>10000",
         "stats": {
          "histogram": [
           {
            "bin_end": -0.4,
            "bin_start": -0.5,
            "count": 0
           },
           {
            "bin_end": -0.3,
            "bin_start": -0.4,
            "count": 0
           },
           {
            "bin_end": -0.19999999999999996,
            "bin_start": -0.3,
            "count": 0
           },
           {
            "bin_end": -0.09999999999999998,
            "bin_start": -0.19999999999999996,
            "count": 0
           },
           {
            "bin_end": 0,
            "bin_start": -0.09999999999999998,
            "count": 0
           },
           {
            "bin_end": 0.10000000000000009,
            "bin_start": 0,
            "count": 5
           },
           {
            "bin_end": 0.20000000000000007,
            "bin_start": 0.10000000000000009,
            "count": 0
           },
           {
            "bin_end": 0.30000000000000004,
            "bin_start": 0.20000000000000007,
            "count": 0
           },
           {
            "bin_end": 0.4,
            "bin_start": 0.30000000000000004,
            "count": 0
           },
           {
            "bin_end": 0.5,
            "bin_start": 0.4,
            "count": 0
           }
          ],
          "max": "0",
          "min": "0",
          "nan_count": 0,
          "unique_count": 1
         }
        },
        {
         "dtype": "uint8",
         "name": "BR_100-200 m",
         "stats": {
          "histogram": [
           {
            "bin_end": -0.4,
            "bin_start": -0.5,
            "count": 0
           },
           {
            "bin_end": -0.3,
            "bin_start": -0.4,
            "count": 0
           },
           {
            "bin_end": -0.19999999999999996,
            "bin_start": -0.3,
            "count": 0
           },
           {
            "bin_end": -0.09999999999999998,
            "bin_start": -0.19999999999999996,
            "count": 0
           },
           {
            "bin_end": 0,
            "bin_start": -0.09999999999999998,
            "count": 0
           },
           {
            "bin_end": 0.10000000000000009,
            "bin_start": 0,
            "count": 5
           },
           {
            "bin_end": 0.20000000000000007,
            "bin_start": 0.10000000000000009,
            "count": 0
           },
           {
            "bin_end": 0.30000000000000004,
            "bin_start": 0.20000000000000007,
            "count": 0
           },
           {
            "bin_end": 0.4,
            "bin_start": 0.30000000000000004,
            "count": 0
           },
           {
            "bin_end": 0.5,
            "bin_start": 0.4,
            "count": 0
           }
          ],
          "max": "0",
          "min": "0",
          "nan_count": 0,
          "unique_count": 1
         }
        },
        {
         "dtype": "uint8",
         "name": "BR_200-500 m",
         "stats": {
          "histogram": [
           {
            "bin_end": 0.1,
            "bin_start": 0,
            "count": 4
           },
           {
            "bin_end": 0.2,
            "bin_start": 0.1,
            "count": 0
           },
           {
            "bin_end": 0.30000000000000004,
            "bin_start": 0.2,
            "count": 0
           },
           {
            "bin_end": 0.4,
            "bin_start": 0.30000000000000004,
            "count": 0
           },
           {
            "bin_end": 0.5,
            "bin_start": 0.4,
            "count": 0
           },
           {
            "bin_end": 0.6000000000000001,
            "bin_start": 0.5,
            "count": 0
           },
           {
            "bin_end": 0.7000000000000001,
            "bin_start": 0.6000000000000001,
            "count": 0
           },
           {
            "bin_end": 0.8,
            "bin_start": 0.7000000000000001,
            "count": 0
           },
           {
            "bin_end": 0.9,
            "bin_start": 0.8,
            "count": 0
           },
           {
            "bin_end": 1,
            "bin_start": 0.9,
            "count": 1
           }
          ],
          "max": "1",
          "min": "0",
          "nan_count": 0,
          "unique_count": 2
         }
        },
        {
         "dtype": "uint8",
         "name": "BR_50-100 m",
         "stats": {
          "histogram": [
           {
            "bin_end": 0.1,
            "bin_start": 0,
            "count": 3
           },
           {
            "bin_end": 0.2,
            "bin_start": 0.1,
            "count": 0
           },
           {
            "bin_end": 0.30000000000000004,
            "bin_start": 0.2,
            "count": 0
           },
           {
            "bin_end": 0.4,
            "bin_start": 0.30000000000000004,
            "count": 0
           },
           {
            "bin_end": 0.5,
            "bin_start": 0.4,
            "count": 0
           },
           {
            "bin_end": 0.6000000000000001,
            "bin_start": 0.5,
            "count": 0
           },
           {
            "bin_end": 0.7000000000000001,
            "bin_start": 0.6000000000000001,
            "count": 0
           },
           {
            "bin_end": 0.8,
            "bin_start": 0.7000000000000001,
            "count": 0
           },
           {
            "bin_end": 0.9,
            "bin_start": 0.8,
            "count": 0
           },
           {
            "bin_end": 1,
            "bin_start": 0.9,
            "count": 2
           }
          ],
          "max": "1",
          "min": "0",
          "nan_count": 0,
          "unique_count": 2
         }
        },
        {
         "dtype": "uint8",
         "name": "BR_500-1000 m",
         "stats": {
          "histogram": [
           {
            "bin_end": -0.4,
            "bin_start": -0.5,
            "count": 0
           },
           {
            "bin_end": -0.3,
            "bin_start": -0.4,
            "count": 0
           },
           {
            "bin_end": -0.19999999999999996,
            "bin_start": -0.3,
            "count": 0
           },
           {
            "bin_end": -0.09999999999999998,
            "bin_start": -0.19999999999999996,
            "count": 0
           },
           {
            "bin_end": 0,
            "bin_start": -0.09999999999999998,
            "count": 0
           },
           {
            "bin_end": 0.10000000000000009,
            "bin_start": 0,
            "count": 5
           },
           {
            "bin_end": 0.20000000000000007,
            "bin_start": 0.10000000000000009,
            "count": 0
           },
           {
            "bin_end": 0.30000000000000004,
            "bin_start": 0.20000000000000007,
            "count": 0
           },
           {
            "bin_end": 0.4,
            "bin_start": 0.30000000000000004,
            "count": 0
           },
           {
            "bin_end": 0.5,
            "bin_start": 0.4,
            "count": 0
           }
          ],
          "max": "0",
          "min": "0",
          "nan_count": 0,
          "unique_count": 1
         }
        },
        {
         "dtype": "uint8",
         "name": "BR_<50 m",
         "stats": {
          "histogram": [
           {
            "bin_end": 0.1,
            "bin_start": 0,
            "count": 3
           },
           {
            "bin_end": 0.2,
            "bin_start": 0.1,
            "count": 0
           },
           {
            "bin_end": 0.30000000000000004,
            "bin_start": 0.2,
            "count": 0
           },
           {
            "bin_end": 0.4,
            "bin_start": 0.30000000000000004,
            "count": 0
           },
           {
            "bin_end": 0.5,
            "bin_start": 0.4,
            "count": 0
           },
           {
            "bin_end": 0.6000000000000001,
            "bin_start": 0.5,
            "count": 0
           },
           {
            "bin_end": 0.7000000000000001,
            "bin_start": 0.6000000000000001,
            "count": 0
           },
           {
            "bin_end": 0.8,
            "bin_start": 0.7000000000000001,
            "count": 0
           },
           {
            "bin_end": 0.9,
            "bin_start": 0.8,
            "count": 0
           },
           {
            "bin_end": 1,
            "bin_start": 0.9,
            "count": 2
           }
          ],
          "max": "1",
          "min": "0",
          "nan_count": 0,
          "unique_count": 2
         }
        },
        {
         "dtype": "uint8",
         "name": "BR_>10000",
         "stats": {
          "histogram": [
           {
            "bin_end": -0.4,
            "bin_start": -0.5,
            "count": 0
           },
           {
            "bin_end": -0.3,
            "bin_start": -0.4,
            "count": 0
           },
           {
            "bin_end": -0.19999999999999996,
            "bin_start": -0.3,
            "count": 0
           },
           {
            "bin_end": -0.09999999999999998,
            "bin_start": -0.19999999999999996,
            "count": 0
           },
           {
            "bin_end": 0,
            "bin_start": -0.09999999999999998,
            "count": 0
           },
           {
            "bin_end": 0.10000000000000009,
            "bin_start": 0,
            "count": 5
           },
           {
            "bin_end": 0.20000000000000007,
            "bin_start": 0.10000000000000009,
            "count": 0
           },
           {
            "bin_end": 0.30000000000000004,
            "bin_start": 0.20000000000000007,
            "count": 0
           },
           {
            "bin_end": 0.4,
            "bin_start": 0.30000000000000004,
            "count": 0
           },
           {
            "bin_end": 0.5,
            "bin_start": 0.4,
            "count": 0
           }
          ],
          "max": "0",
          "min": "0",
          "nan_count": 0,
          "unique_count": 1
         }
        },
        {
         "dtype": "uint8",
         "name": "MR_Clean",
         "stats": {
          "histogram": [
           {
            "bin_end": 0.6,
            "bin_start": 0.5,
            "count": 0
           },
           {
            "bin_end": 0.7,
            "bin_start": 0.6,
            "count": 0
           },
           {
            "bin_end": 0.8,
            "bin_start": 0.7,
            "count": 0
           },
           {
            "bin_end": 0.9,
            "bin_start": 0.8,
            "count": 0
           },
           {
            "bin_end": 1,
            "bin_start": 0.9,
            "count": 0
           },
           {
            "bin_end": 1.1,
            "bin_start": 1,
            "count": 5
           },
           {
            "bin_end": 1.2000000000000002,
            "bin_start": 1.1,
            "count": 0
           },
           {
            "bin_end": 1.3,
            "bin_start": 1.2000000000000002,
            "count": 0
           },
           {
            "bin_end": 1.4,
            "bin_start": 1.3,
            "count": 0
           },
           {
            "bin_end": 1.5,
            "bin_start": 1.4,
            "count": 0
           }
          ],
          "max": "1",
          "min": "1",
          "nan_count": 0,
          "unique_count": 1
         }
        },
        {
         "dtype": "uint8",
         "name": "MR_heavily littered",
         "stats": {
          "histogram": [
           {
            "bin_end": -0.4,
            "bin_start": -0.5,
            "count": 0
           },
           {
            "bin_end": -0.3,
            "bin_start": -0.4,
            "count": 0
           },
           {
            "bin_end": -0.19999999999999996,
            "bin_start": -0.3,
            "count": 0
           },
           {
            "bin_end": -0.09999999999999998,
            "bin_start": -0.19999999999999996,
            "count": 0
           },
           {
            "bin_end": 0,
            "bin_start": -0.09999999999999998,
            "count": 0
           },
           {
            "bin_end": 0.10000000000000009,
            "bin_start": 0,
            "count": 5
           },
           {
            "bin_end": 0.20000000000000007,
            "bin_start": 0.10000000000000009,
            "count": 0
           },
           {
            "bin_end": 0.30000000000000004,
            "bin_start": 0.20000000000000007,
            "count": 0
           },
           {
            "bin_end": 0.4,
            "bin_start": 0.30000000000000004,
            "count": 0
           },
           {
            "bin_end": 0.5,
            "bin_start": 0.4,
            "count": 0
           }
          ],
          "max": "0",
          "min": "0",
          "nan_count": 0,
          "unique_count": 1
         }
        },
        {
         "dtype": "uint8",
         "name": "MR_slightly littered",
         "stats": {
          "histogram": [
           {
            "bin_end": -0.4,
            "bin_start": -0.5,
            "count": 0
           },
           {
            "bin_end": -0.3,
            "bin_start": -0.4,
            "count": 0
           },
           {
            "bin_end": -0.19999999999999996,
            "bin_start": -0.3,
            "count": 0
           },
           {
            "bin_end": -0.09999999999999998,
            "bin_start": -0.19999999999999996,
            "count": 0
           },
           {
            "bin_end": 0,
            "bin_start": -0.09999999999999998,
            "count": 0
           },
           {
            "bin_end": 0.10000000000000009,
            "bin_start": 0,
            "count": 5
           },
           {
            "bin_end": 0.20000000000000007,
            "bin_start": 0.10000000000000009,
            "count": 0
           },
           {
            "bin_end": 0.30000000000000004,
            "bin_start": 0.20000000000000007,
            "count": 0
           },
           {
            "bin_end": 0.4,
            "bin_start": 0.30000000000000004,
            "count": 0
           },
           {
            "bin_end": 0.5,
            "bin_start": 0.4,
            "count": 0
           }
          ],
          "max": "0",
          "min": "0",
          "nan_count": 0,
          "unique_count": 1
         }
        },
        {
         "dtype": "uint8",
         "name": "CR_Concrete",
         "stats": {
          "histogram": [
           {
            "bin_end": -0.4,
            "bin_start": -0.5,
            "count": 0
           },
           {
            "bin_end": -0.3,
            "bin_start": -0.4,
            "count": 0
           },
           {
            "bin_end": -0.19999999999999996,
            "bin_start": -0.3,
            "count": 0
           },
           {
            "bin_end": -0.09999999999999998,
            "bin_start": -0.19999999999999996,
            "count": 0
           },
           {
            "bin_end": 0,
            "bin_start": -0.09999999999999998,
            "count": 0
           },
           {
            "bin_end": 0.10000000000000009,
            "bin_start": 0,
            "count": 5
           },
           {
            "bin_end": 0.20000000000000007,
            "bin_start": 0.10000000000000009,
            "count": 0
           },
           {
            "bin_end": 0.30000000000000004,
            "bin_start": 0.20000000000000007,
            "count": 0
           },
           {
            "bin_end": 0.4,
            "bin_start": 0.30000000000000004,
            "count": 0
           },
           {
            "bin_end": 0.5,
            "bin_start": 0.4,
            "count": 0
           }
          ],
          "max": "0",
          "min": "0",
          "nan_count": 0,
          "unique_count": 1
         }
        },
        {
         "dtype": "uint8",
         "name": "CR_Natural",
         "stats": {
          "histogram": [
           {
            "bin_end": 0.6,
            "bin_start": 0.5,
            "count": 0
           },
           {
            "bin_end": 0.7,
            "bin_start": 0.6,
            "count": 0
           },
           {
            "bin_end": 0.8,
            "bin_start": 0.7,
            "count": 0
           },
           {
            "bin_end": 0.9,
            "bin_start": 0.8,
            "count": 0
           },
           {
            "bin_end": 1,
            "bin_start": 0.9,
            "count": 0
           },
           {
            "bin_end": 1.1,
            "bin_start": 1,
            "count": 5
           },
           {
            "bin_end": 1.2000000000000002,
            "bin_start": 1.1,
            "count": 0
           },
           {
            "bin_end": 1.3,
            "bin_start": 1.2000000000000002,
            "count": 0
           },
           {
            "bin_end": 1.4,
            "bin_start": 1.3,
            "count": 0
           },
           {
            "bin_end": 1.5,
            "bin_start": 1.4,
            "count": 0
           }
          ],
          "max": "1",
          "min": "1",
          "nan_count": 0,
          "unique_count": 1
         }
        },
        {
         "dtype": "int64",
         "name": "_deepnote_index_column"
        }
       ],
       "row_count": 5,
       "rows_bottom": null,
       "rows_top": [
        {
         "BR_100-200 m": 0,
         "BR_200-500 m": 0,
         "BR_50-100 m": 0,
         "BR_500-1000 m": 0,
         "BR_<50 m": 1,
         "BR_>10000": 0,
         "Brown frogs": 0,
         "CR_Concrete": 0,
         "CR_Natural": 1,
         "Common newt": 0,
         "Common toad": 0,
         "FR_breeding reservoirs": 0,
         "FR_intense fishing": 0,
         "FR_lack": 1,
         "FR_remove": 0,
         "Fire-bellied toad": 0,
         "Great crested newt": 0,
         "Green frogs": 0,
         "MR_Clean": 1,
         "MR_heavily littered": 0,
         "MR_slightly littered": 0,
         "Motorway_A1": 1,
         "Motorway_S52": 0,
         "NR": 1,
         "OR_large access": 0,
         "OR_low access": 1,
         "OR_medium access": 0,
         "OR_poor access": 0,
         "OR_remove": 0,
         "RR_100-200 m": 0,
         "RR_200-500 m": 0,
         "RR_50-100 m": 0,
         "RR_500-1000 m": 0,
         "RR_<50 m": 1,
         "RR_>10000": 0,
         "SR": 600,
         "SUR1_agricultural": 0,
         "SUR1_forest areas": 0,
         "SUR1_gardens": 0,
         "SUR1_industrial areas": 1,
         "SUR1_meadows": 0,
         "SUR1_orchards": 0,
         "SUR1_river valleys": 0,
         "SUR1_roads": 0,
         "SUR2_agricultural": 0,
         "SUR2_forest areas": 0,
         "SUR2_industrial areas": 0,
         "SUR2_meadows": 1,
         "SUR2_orchards": 0,
         "SUR2_river valleys": 0,
         "SUR2_roads": 0,
         "SUR3_agricultural": 0,
         "SUR3_forest areas": 0,
         "SUR3_industrial areas": 0,
         "SUR3_meadows": 0,
         "SUR3_orchards": 0,
         "SUR3_parks": 0,
         "SUR3_river valleys": 1,
         "SUR3_roads": 0,
         "TR_garden": 0,
         "TR_natural reservoirs": 1,
         "TR_recently formed": 0,
         "TR_river valleys": 0,
         "TR_small watercourses": 0,
         "TR_technological": 0,
         "TR_trenches": 0,
         "TR_wet meadows": 0,
         "Tree frog": 0,
         "UR_scenic": 0,
         "UR_technological": 0,
         "UR_unused": 1,
         "VR_heavily overgrown": 0,
         "VR_no vegetation": 0,
         "VR_patches at the edges": 0,
         "VR_reservoirs completely overgrown": 1,
         "VR_some part devoid of vegetation": 0,
         "_deepnote_index_column": 0
        },
        {
         "BR_100-200 m": 0,
         "BR_200-500 m": 0,
         "BR_50-100 m": 1,
         "BR_500-1000 m": 0,
         "BR_<50 m": 0,
         "BR_>10000": 0,
         "Brown frogs": 1,
         "CR_Concrete": 0,
         "CR_Natural": 1,
         "Common newt": 1,
         "Common toad": 1,
         "FR_breeding reservoirs": 0,
         "FR_intense fishing": 1,
         "FR_lack": 0,
         "FR_remove": 0,
         "Fire-bellied toad": 0,
         "Great crested newt": 0,
         "Green frogs": 0,
         "MR_Clean": 1,
         "MR_heavily littered": 0,
         "MR_slightly littered": 0,
         "Motorway_A1": 1,
         "Motorway_S52": 0,
         "NR": 1,
         "OR_large access": 0,
         "OR_low access": 0,
         "OR_medium access": 1,
         "OR_poor access": 0,
         "OR_remove": 0,
         "RR_100-200 m": 0,
         "RR_200-500 m": 0,
         "RR_50-100 m": 1,
         "RR_500-1000 m": 0,
         "RR_<50 m": 0,
         "RR_>10000": 0,
         "SR": 700,
         "SUR1_agricultural": 0,
         "SUR1_forest areas": 0,
         "SUR1_gardens": 0,
         "SUR1_industrial areas": 0,
         "SUR1_meadows": 0,
         "SUR1_orchards": 0,
         "SUR1_river valleys": 1,
         "SUR1_roads": 0,
         "SUR2_agricultural": 0,
         "SUR2_forest areas": 0,
         "SUR2_industrial areas": 1,
         "SUR2_meadows": 0,
         "SUR2_orchards": 0,
         "SUR2_river valleys": 0,
         "SUR2_roads": 0,
         "SUR3_agricultural": 0,
         "SUR3_forest areas": 0,
         "SUR3_industrial areas": 0,
         "SUR3_meadows": 0,
         "SUR3_orchards": 0,
         "SUR3_parks": 0,
         "SUR3_river valleys": 1,
         "SUR3_roads": 0,
         "TR_garden": 0,
         "TR_natural reservoirs": 0,
         "TR_recently formed": 0,
         "TR_river valleys": 0,
         "TR_small watercourses": 0,
         "TR_technological": 1,
         "TR_trenches": 0,
         "TR_wet meadows": 0,
         "Tree frog": 0,
         "UR_scenic": 0,
         "UR_technological": 1,
         "UR_unused": 0,
         "VR_heavily overgrown": 0,
         "VR_no vegetation": 0,
         "VR_patches at the edges": 1,
         "VR_reservoirs completely overgrown": 0,
         "VR_some part devoid of vegetation": 0,
         "_deepnote_index_column": 1
        },
        {
         "BR_100-200 m": 0,
         "BR_200-500 m": 0,
         "BR_50-100 m": 1,
         "BR_500-1000 m": 0,
         "BR_<50 m": 0,
         "BR_>10000": 0,
         "Brown frogs": 1,
         "CR_Concrete": 0,
         "CR_Natural": 1,
         "Common newt": 1,
         "Common toad": 1,
         "FR_breeding reservoirs": 0,
         "FR_intense fishing": 0,
         "FR_lack": 0,
         "FR_remove": 1,
         "Fire-bellied toad": 0,
         "Great crested newt": 0,
         "Green frogs": 0,
         "MR_Clean": 1,
         "MR_heavily littered": 0,
         "MR_slightly littered": 0,
         "Motorway_A1": 1,
         "Motorway_S52": 0,
         "NR": 1,
         "OR_large access": 0,
         "OR_low access": 0,
         "OR_medium access": 1,
         "OR_poor access": 0,
         "OR_remove": 0,
         "RR_100-200 m": 0,
         "RR_200-500 m": 0,
         "RR_50-100 m": 1,
         "RR_500-1000 m": 0,
         "RR_<50 m": 0,
         "RR_>10000": 0,
         "SR": 200,
         "SUR1_agricultural": 0,
         "SUR1_forest areas": 0,
         "SUR1_gardens": 0,
         "SUR1_industrial areas": 0,
         "SUR1_meadows": 0,
         "SUR1_orchards": 0,
         "SUR1_river valleys": 1,
         "SUR1_roads": 0,
         "SUR2_agricultural": 0,
         "SUR2_forest areas": 0,
         "SUR2_industrial areas": 1,
         "SUR2_meadows": 0,
         "SUR2_orchards": 0,
         "SUR2_river valleys": 0,
         "SUR2_roads": 0,
         "SUR3_agricultural": 0,
         "SUR3_forest areas": 0,
         "SUR3_industrial areas": 0,
         "SUR3_meadows": 0,
         "SUR3_orchards": 0,
         "SUR3_parks": 0,
         "SUR3_river valleys": 1,
         "SUR3_roads": 0,
         "TR_garden": 0,
         "TR_natural reservoirs": 0,
         "TR_recently formed": 0,
         "TR_river valleys": 0,
         "TR_small watercourses": 0,
         "TR_technological": 1,
         "TR_trenches": 0,
         "TR_wet meadows": 0,
         "Tree frog": 0,
         "UR_scenic": 0,
         "UR_technological": 1,
         "UR_unused": 0,
         "VR_heavily overgrown": 0,
         "VR_no vegetation": 0,
         "VR_patches at the edges": 1,
         "VR_reservoirs completely overgrown": 0,
         "VR_some part devoid of vegetation": 0,
         "_deepnote_index_column": 2
        },
        {
         "BR_100-200 m": 0,
         "BR_200-500 m": 0,
         "BR_50-100 m": 0,
         "BR_500-1000 m": 0,
         "BR_<50 m": 1,
         "BR_>10000": 0,
         "Brown frogs": 0,
         "CR_Concrete": 0,
         "CR_Natural": 1,
         "Common newt": 0,
         "Common toad": 1,
         "FR_breeding reservoirs": 0,
         "FR_intense fishing": 0,
         "FR_lack": 0,
         "FR_remove": 1,
         "Fire-bellied toad": 0,
         "Great crested newt": 0,
         "Green frogs": 0,
         "MR_Clean": 1,
         "MR_heavily littered": 0,
         "MR_slightly littered": 0,
         "Motorway_A1": 1,
         "Motorway_S52": 0,
         "NR": 1,
         "OR_large access": 0,
         "OR_low access": 0,
         "OR_medium access": 0,
         "OR_poor access": 1,
         "OR_remove": 0,
         "RR_100-200 m": 0,
         "RR_200-500 m": 0,
         "RR_50-100 m": 0,
         "RR_500-1000 m": 0,
         "RR_<50 m": 1,
         "RR_>10000": 0,
         "SR": 300,
         "SUR1_agricultural": 0,
         "SUR1_forest areas": 0,
         "SUR1_gardens": 0,
         "SUR1_industrial areas": 1,
         "SUR1_meadows": 0,
         "SUR1_orchards": 0,
         "SUR1_river valleys": 0,
         "SUR1_roads": 0,
         "SUR2_agricultural": 0,
         "SUR2_forest areas": 0,
         "SUR2_industrial areas": 0,
         "SUR2_meadows": 0,
         "SUR2_orchards": 0,
         "SUR2_river valleys": 1,
         "SUR2_roads": 0,
         "SUR3_agricultural": 0,
         "SUR3_forest areas": 0,
         "SUR3_industrial areas": 0,
         "SUR3_meadows": 1,
         "SUR3_orchards": 0,
         "SUR3_parks": 0,
         "SUR3_river valleys": 0,
         "SUR3_roads": 0,
         "TR_garden": 0,
         "TR_natural reservoirs": 0,
         "TR_recently formed": 0,
         "TR_river valleys": 0,
         "TR_small watercourses": 0,
         "TR_technological": 1,
         "TR_trenches": 0,
         "TR_wet meadows": 0,
         "Tree frog": 0,
         "UR_scenic": 0,
         "UR_technological": 1,
         "UR_unused": 0,
         "VR_heavily overgrown": 0,
         "VR_no vegetation": 1,
         "VR_patches at the edges": 0,
         "VR_reservoirs completely overgrown": 0,
         "VR_some part devoid of vegetation": 0,
         "_deepnote_index_column": 3
        },
        {
         "BR_100-200 m": 0,
         "BR_200-500 m": 1,
         "BR_50-100 m": 0,
         "BR_500-1000 m": 0,
         "BR_<50 m": 0,
         "BR_>10000": 0,
         "Brown frogs": 1,
         "CR_Concrete": 0,
         "CR_Natural": 1,
         "Common newt": 1,
         "Common toad": 1,
         "FR_breeding reservoirs": 0,
         "FR_intense fishing": 0,
         "FR_lack": 1,
         "FR_remove": 0,
         "Fire-bellied toad": 1,
         "Great crested newt": 1,
         "Green frogs": 0,
         "MR_Clean": 1,
         "MR_heavily littered": 0,
         "MR_slightly littered": 0,
         "Motorway_A1": 1,
         "Motorway_S52": 0,
         "NR": 2,
         "OR_large access": 0,
         "OR_low access": 0,
         "OR_medium access": 0,
         "OR_poor access": 0,
         "OR_remove": 1,
         "RR_100-200 m": 0,
         "RR_200-500 m": 0,
         "RR_50-100 m": 0,
         "RR_500-1000 m": 0,
         "RR_<50 m": 1,
         "RR_>10000": 0,
         "SR": 600,
         "SUR1_agricultural": 0,
         "SUR1_forest areas": 0,
         "SUR1_gardens": 0,
         "SUR1_industrial areas": 0,
         "SUR1_meadows": 0,
         "SUR1_orchards": 0,
         "SUR1_river valleys": 1,
         "SUR1_roads": 0,
         "SUR2_agricultural": 0,
         "SUR2_forest areas": 0,
         "SUR2_industrial areas": 0,
         "SUR2_meadows": 1,
         "SUR2_orchards": 0,
         "SUR2_river valleys": 0,
         "SUR2_roads": 0,
         "SUR3_agricultural": 0,
         "SUR3_forest areas": 0,
         "SUR3_industrial areas": 1,
         "SUR3_meadows": 0,
         "SUR3_orchards": 0,
         "SUR3_parks": 0,
         "SUR3_river valleys": 0,
         "SUR3_roads": 0,
         "TR_garden": 0,
         "TR_natural reservoirs": 1,
         "TR_recently formed": 0,
         "TR_river valleys": 0,
         "TR_small watercourses": 0,
         "TR_technological": 0,
         "TR_trenches": 0,
         "TR_wet meadows": 0,
         "Tree frog": 0,
         "UR_scenic": 0,
         "UR_technological": 0,
         "UR_unused": 1,
         "VR_heavily overgrown": 0,
         "VR_no vegetation": 0,
         "VR_patches at the edges": 0,
         "VR_reservoirs completely overgrown": 1,
         "VR_some part devoid of vegetation": 0,
         "_deepnote_index_column": 4
        }
       ]
      },
      "text/html": [
       "<div>\n",
       "<style scoped>\n",
       "    .dataframe tbody tr th:only-of-type {\n",
       "        vertical-align: middle;\n",
       "    }\n",
       "\n",
       "    .dataframe tbody tr th {\n",
       "        vertical-align: top;\n",
       "    }\n",
       "\n",
       "    .dataframe thead th {\n",
       "        text-align: right;\n",
       "    }\n",
       "</style>\n",
       "<table border=\"1\" class=\"dataframe\">\n",
       "  <thead>\n",
       "    <tr style=\"text-align: right;\">\n",
       "      <th></th>\n",
       "      <th>SR</th>\n",
       "      <th>NR</th>\n",
       "      <th>Green frogs</th>\n",
       "      <th>Brown frogs</th>\n",
       "      <th>Common toad</th>\n",
       "      <th>Fire-bellied toad</th>\n",
       "      <th>Tree frog</th>\n",
       "      <th>Common newt</th>\n",
       "      <th>Great crested newt</th>\n",
       "      <th>Motorway_A1</th>\n",
       "      <th>...</th>\n",
       "      <th>BR_200-500 m</th>\n",
       "      <th>BR_50-100 m</th>\n",
       "      <th>BR_500-1000 m</th>\n",
       "      <th>BR_&lt;50 m</th>\n",
       "      <th>BR_&gt;10000</th>\n",
       "      <th>MR_Clean</th>\n",
       "      <th>MR_heavily littered</th>\n",
       "      <th>MR_slightly littered</th>\n",
       "      <th>CR_Concrete</th>\n",
       "      <th>CR_Natural</th>\n",
       "    </tr>\n",
       "  </thead>\n",
       "  <tbody>\n",
       "    <tr>\n",
       "      <th>0</th>\n",
       "      <td>600</td>\n",
       "      <td>1</td>\n",
       "      <td>0</td>\n",
       "      <td>0</td>\n",
       "      <td>0</td>\n",
       "      <td>0</td>\n",
       "      <td>0</td>\n",
       "      <td>0</td>\n",
       "      <td>0</td>\n",
       "      <td>1</td>\n",
       "      <td>...</td>\n",
       "      <td>0</td>\n",
       "      <td>0</td>\n",
       "      <td>0</td>\n",
       "      <td>1</td>\n",
       "      <td>0</td>\n",
       "      <td>1</td>\n",
       "      <td>0</td>\n",
       "      <td>0</td>\n",
       "      <td>0</td>\n",
       "      <td>1</td>\n",
       "    </tr>\n",
       "    <tr>\n",
       "      <th>1</th>\n",
       "      <td>700</td>\n",
       "      <td>1</td>\n",
       "      <td>0</td>\n",
       "      <td>1</td>\n",
       "      <td>1</td>\n",
       "      <td>0</td>\n",
       "      <td>0</td>\n",
       "      <td>1</td>\n",
       "      <td>0</td>\n",
       "      <td>1</td>\n",
       "      <td>...</td>\n",
       "      <td>0</td>\n",
       "      <td>1</td>\n",
       "      <td>0</td>\n",
       "      <td>0</td>\n",
       "      <td>0</td>\n",
       "      <td>1</td>\n",
       "      <td>0</td>\n",
       "      <td>0</td>\n",
       "      <td>0</td>\n",
       "      <td>1</td>\n",
       "    </tr>\n",
       "    <tr>\n",
       "      <th>2</th>\n",
       "      <td>200</td>\n",
       "      <td>1</td>\n",
       "      <td>0</td>\n",
       "      <td>1</td>\n",
       "      <td>1</td>\n",
       "      <td>0</td>\n",
       "      <td>0</td>\n",
       "      <td>1</td>\n",
       "      <td>0</td>\n",
       "      <td>1</td>\n",
       "      <td>...</td>\n",
       "      <td>0</td>\n",
       "      <td>1</td>\n",
       "      <td>0</td>\n",
       "      <td>0</td>\n",
       "      <td>0</td>\n",
       "      <td>1</td>\n",
       "      <td>0</td>\n",
       "      <td>0</td>\n",
       "      <td>0</td>\n",
       "      <td>1</td>\n",
       "    </tr>\n",
       "    <tr>\n",
       "      <th>3</th>\n",
       "      <td>300</td>\n",
       "      <td>1</td>\n",
       "      <td>0</td>\n",
       "      <td>0</td>\n",
       "      <td>1</td>\n",
       "      <td>0</td>\n",
       "      <td>0</td>\n",
       "      <td>0</td>\n",
       "      <td>0</td>\n",
       "      <td>1</td>\n",
       "      <td>...</td>\n",
       "      <td>0</td>\n",
       "      <td>0</td>\n",
       "      <td>0</td>\n",
       "      <td>1</td>\n",
       "      <td>0</td>\n",
       "      <td>1</td>\n",
       "      <td>0</td>\n",
       "      <td>0</td>\n",
       "      <td>0</td>\n",
       "      <td>1</td>\n",
       "    </tr>\n",
       "    <tr>\n",
       "      <th>4</th>\n",
       "      <td>600</td>\n",
       "      <td>2</td>\n",
       "      <td>0</td>\n",
       "      <td>1</td>\n",
       "      <td>1</td>\n",
       "      <td>1</td>\n",
       "      <td>0</td>\n",
       "      <td>1</td>\n",
       "      <td>1</td>\n",
       "      <td>1</td>\n",
       "      <td>...</td>\n",
       "      <td>1</td>\n",
       "      <td>0</td>\n",
       "      <td>0</td>\n",
       "      <td>0</td>\n",
       "      <td>0</td>\n",
       "      <td>1</td>\n",
       "      <td>0</td>\n",
       "      <td>0</td>\n",
       "      <td>0</td>\n",
       "      <td>1</td>\n",
       "    </tr>\n",
       "  </tbody>\n",
       "</table>\n",
       "<p>5 rows × 76 columns</p>\n",
       "</div>"
      ],
      "text/plain": [
       "    SR  NR  Green frogs  Brown frogs  Common toad  Fire-bellied toad  \\\n",
       "0  600   1            0            0            0                  0   \n",
       "1  700   1            0            1            1                  0   \n",
       "2  200   1            0            1            1                  0   \n",
       "3  300   1            0            0            1                  0   \n",
       "4  600   2            0            1            1                  1   \n",
       "\n",
       "   Tree frog  Common newt  Great crested newt  Motorway_A1  ...  BR_200-500 m  \\\n",
       "0          0            0                   0            1  ...             0   \n",
       "1          0            1                   0            1  ...             0   \n",
       "2          0            1                   0            1  ...             0   \n",
       "3          0            0                   0            1  ...             0   \n",
       "4          0            1                   1            1  ...             1   \n",
       "\n",
       "   BR_50-100 m  BR_500-1000 m  BR_<50 m  BR_>10000  MR_Clean  \\\n",
       "0            0              0         1          0         1   \n",
       "1            1              0         0          0         1   \n",
       "2            1              0         0          0         1   \n",
       "3            0              0         1          0         1   \n",
       "4            0              0         0          0         1   \n",
       "\n",
       "   MR_heavily littered  MR_slightly littered  CR_Concrete  CR_Natural  \n",
       "0                    0                     0            0           1  \n",
       "1                    0                     0            0           1  \n",
       "2                    0                     0            0           1  \n",
       "3                    0                     0            0           1  \n",
       "4                    0                     0            0           1  \n",
       "\n",
       "[5 rows x 76 columns]"
      ]
     },
     "execution_count": 35,
     "metadata": {},
     "output_type": "execute_result"
    }
   ],
   "source": [
    "df.head()"
   ]
  },
  {
   "cell_type": "markdown",
   "metadata": {
    "cell_id": "00055-2520947a-72c0-4be2-a365-e1f6195ebd7f",
    "deepnote_cell_height": 153.171875,
    "deepnote_cell_type": "markdown",
    "id": "T3UptkKGUt9J"
   },
   "source": [
    "## 2.6 Normalisasi Z-Score\n",
    "\n",
    "Normalisasi adalah suatu proses yang bertujuan untuk menormalkan data atau menghasilkan distribusi data yang lebih mudah dibaca dan lebih baik. Normalisasi dapat dilakukan dengan menormalkan rentang fitur atau menormalkan ragam data (simpangan baku / standar deviasi). Metode normalisasi yang digunakan untuk dataset kali ini adalah Z-Score dengan menggunakan bantuan modul sklearn (scikit-learn). Normalisasi Z-Score digunakan ntuk menormalkan atau menyamakan ragam data (standar deviasi) yang dimiliki sehingga bernilai 1."
   ]
  },
  {
   "cell_type": "markdown",
   "metadata": {
    "cell_id": "00056-32842bc9-d4f7-4eb1-9fcf-4d20559bca69",
    "deepnote_cell_height": 52.390625,
    "deepnote_cell_type": "markdown",
    "tags": []
   },
   "source": [
    "Memisahkan dataset menjadi data numerik, data kategorikal, dan labelnya"
   ]
  },
  {
   "cell_type": "code",
   "execution_count": null,
   "metadata": {
    "cell_id": "00057-54d59ee0-29d0-4938-8794-0de7698f7f47",
    "deepnote_cell_height": 117,
    "deepnote_cell_type": "code",
    "deepnote_to_be_reexecuted": false,
    "execution_millis": 0,
    "execution_start": 1622026966429,
    "source_hash": "947caaa0",
    "tags": []
   },
   "outputs": [],
   "source": [
    "numerikal = df[['SR', 'NR']]\n",
    "label = df[['Green frogs', 'Brown frogs','Common toad', 'Fire-bellied toad', 'Tree frog', 'Common newt', 'Great crested newt']]\n",
    "kategorikal = df.drop(['SR', 'NR', 'Green frogs', 'Brown frogs','Common toad', 'Fire-bellied toad', 'Tree frog', 'Common newt', 'Great crested newt'],axis=1)"
   ]
  },
  {
   "cell_type": "markdown",
   "metadata": {
    "cell_id": "00058-13a53489-2218-4fc3-87e6-d970cb8d5eb5",
    "deepnote_cell_height": 52.390625,
    "deepnote_cell_type": "markdown",
    "id": "XdpQoBm3G7fK"
   },
   "source": [
    "Cek rentang fitur sebelum dilakukan normalisasi"
   ]
  },
  {
   "cell_type": "code",
   "execution_count": null,
   "metadata": {
    "cell_id": "00059-8ba71b72-d285-45f9-b41d-776173da5411",
    "colab": {
     "base_uri": "https://localhost:8080/"
    },
    "deepnote_cell_height": 156.5625,
    "deepnote_cell_type": "code",
    "deepnote_output_heights": [
     59.5625
    ],
    "deepnote_to_be_reexecuted": false,
    "execution_millis": 51,
    "execution_start": 1622026966474,
    "id": "50MDSfuiVFuy",
    "outputId": "99da6830-37cc-4e14-b605-001083269639",
    "source_hash": "39c58080"
   },
   "outputs": [
    {
     "data": {
      "text/plain": [
       "SR    46256.078309\n",
       "NR        1.544419\n",
       "dtype: float64"
      ]
     },
     "execution_count": 37,
     "metadata": {},
     "output_type": "execute_result"
    }
   ],
   "source": [
    "numerikal.std()"
   ]
  },
  {
   "cell_type": "markdown",
   "metadata": {
    "cell_id": "00060-a174e337-fcc8-4018-976f-7890f5ed8d63",
    "deepnote_cell_height": 52.390625,
    "deepnote_cell_type": "markdown",
    "tags": []
   },
   "source": [
    "Normalisasi"
   ]
  },
  {
   "cell_type": "code",
   "execution_count": null,
   "metadata": {
    "cell_id": "00061-bf807fc1-bf07-4751-a608-3d4b9a5d0cf9",
    "colab": {
     "base_uri": "https://localhost:8080/"
    },
    "deepnote_cell_height": 318.5625,
    "deepnote_cell_type": "code",
    "deepnote_output_heights": [
     59.5625
    ],
    "deepnote_to_be_reexecuted": false,
    "execution_millis": 2631,
    "execution_start": 1622026966519,
    "id": "1SutcC7fUw5A",
    "outputId": "6b95d197-19bd-4129-e6be-55ce1c007820",
    "source_hash": "a7ab14a0"
   },
   "outputs": [
    {
     "data": {
      "text/plain": [
       "SR    1.002656\n",
       "NR    1.002656\n",
       "dtype: float64"
      ]
     },
     "execution_count": 38,
     "metadata": {},
     "output_type": "execute_result"
    }
   ],
   "source": [
    "from sklearn.preprocessing import StandardScaler\n",
    "scaler = StandardScaler()\n",
    "\n",
    "# daftar fitur yang akan dilakukan normalisasi\n",
    "# numerikal = scaler.fit_transform(numerikal)\n",
    "numerikal = pd.DataFrame(scaler.fit_transform(numerikal))\n",
    "numerikal.columns = ['SR', 'NR']\n",
    "\n",
    "# cek standar deviasi\n",
    "numerikal.std()"
   ]
  },
  {
   "cell_type": "markdown",
   "metadata": {
    "cell_id": "00062-fd11b033-fabb-45d6-b690-06c2dc3d4c6d",
    "deepnote_cell_height": 52.390625,
    "deepnote_cell_type": "markdown",
    "tags": []
   },
   "source": [
    "Menggabungkan hasil normalisasi"
   ]
  },
  {
   "cell_type": "code",
   "execution_count": null,
   "metadata": {
    "cell_id": "00063-fe4d5b04-50b0-4c8d-ba33-1979335d66fb",
    "deepnote_cell_height": 497.1875,
    "deepnote_cell_type": "code",
    "deepnote_output_heights": [
     382.1875
    ],
    "deepnote_to_be_reexecuted": false,
    "execution_millis": 428,
    "execution_start": 1622026969147,
    "source_hash": "f22665e8",
    "tags": []
   },
   "outputs": [
    {
     "data": {
      "application/vnd.deepnote.dataframe.v2+json": {
       "column_count": 76,
       "columns": [
        {
         "dtype": "float64",
         "name": "SR",
         "stats": {
          "histogram": [
           {
            "bin_end": 0.8755835283293587,
            "bin_start": -0.20816148905465015,
            "count": 184
           },
           {
            "bin_end": 1.9593285457133676,
            "bin_start": 0.8755835283293587,
            "count": 2
           },
           {
            "bin_end": 3.0430735630973764,
            "bin_start": 1.9593285457133676,
            "count": 1
           },
           {
            "bin_end": 4.126818580481386,
            "bin_start": 3.0430735630973764,
            "count": 0
           },
           {
            "bin_end": 5.210563597865395,
            "bin_start": 4.126818580481386,
            "count": 0
           },
           {
            "bin_end": 6.2943086152494025,
            "bin_start": 5.210563597865395,
            "count": 0
           },
           {
            "bin_end": 7.378053632633412,
            "bin_start": 6.2943086152494025,
            "count": 0
           },
           {
            "bin_end": 8.461798650017421,
            "bin_start": 7.378053632633412,
            "count": 1
           },
           {
            "bin_end": 9.54554366740143,
            "bin_start": 8.461798650017421,
            "count": 0
           },
           {
            "bin_end": 10.629288684785438,
            "bin_start": 9.54554366740143,
            "count": 1
           }
          ],
          "max": "10.629288684785438",
          "min": "-0.20816148905465015",
          "nan_count": 0,
          "unique_count": 66
         }
        },
        {
         "dtype": "float64",
         "name": "NR",
         "stats": {
          "histogram": [
           {
            "bin_end": 0.346590127991035,
            "bin_start": -0.36754354504500236,
            "count": 168
           },
           {
            "bin_end": 1.0607238010270723,
            "bin_start": 0.346590127991035,
            "count": 7
           },
           {
            "bin_end": 1.7748574740631096,
            "bin_start": 1.0607238010270723,
            "count": 4
           },
           {
            "bin_end": 2.488991147099147,
            "bin_start": 1.7748574740631096,
            "count": 3
           },
           {
            "bin_end": 3.2031248201351845,
            "bin_start": 2.488991147099147,
            "count": 3
           },
           {
            "bin_end": 3.9172584931712215,
            "bin_start": 3.2031248201351845,
            "count": 1
           },
           {
            "bin_end": 4.6313921662072595,
            "bin_start": 3.9172584931712215,
            "count": 0
           },
           {
            "bin_end": 5.3455258392432965,
            "bin_start": 4.6313921662072595,
            "count": 1
           },
           {
            "bin_end": 6.0596595122793335,
            "bin_start": 5.3455258392432965,
            "count": 1
           },
           {
            "bin_end": 6.7737931853153714,
            "bin_start": 6.0596595122793335,
            "count": 1
           }
          ],
          "max": "6.7737931853153714",
          "min": "-0.36754354504500236",
          "nan_count": 0,
          "unique_count": 10
         }
        },
        {
         "dtype": "uint8",
         "name": "Motorway_A1",
         "stats": {
          "histogram": [
           {
            "bin_end": 0.1,
            "bin_start": 0,
            "count": 109
           },
           {
            "bin_end": 0.2,
            "bin_start": 0.1,
            "count": 0
           },
           {
            "bin_end": 0.30000000000000004,
            "bin_start": 0.2,
            "count": 0
           },
           {
            "bin_end": 0.4,
            "bin_start": 0.30000000000000004,
            "count": 0
           },
           {
            "bin_end": 0.5,
            "bin_start": 0.4,
            "count": 0
           },
           {
            "bin_end": 0.6000000000000001,
            "bin_start": 0.5,
            "count": 0
           },
           {
            "bin_end": 0.7000000000000001,
            "bin_start": 0.6000000000000001,
            "count": 0
           },
           {
            "bin_end": 0.8,
            "bin_start": 0.7000000000000001,
            "count": 0
           },
           {
            "bin_end": 0.9,
            "bin_start": 0.8,
            "count": 0
           },
           {
            "bin_end": 1,
            "bin_start": 0.9,
            "count": 80
           }
          ],
          "max": "1",
          "min": "0",
          "nan_count": 0,
          "unique_count": 2
         }
        },
        {
         "dtype": "uint8",
         "name": "Motorway_S52",
         "stats": {
          "histogram": [
           {
            "bin_end": 0.1,
            "bin_start": 0,
            "count": 80
           },
           {
            "bin_end": 0.2,
            "bin_start": 0.1,
            "count": 0
           },
           {
            "bin_end": 0.30000000000000004,
            "bin_start": 0.2,
            "count": 0
           },
           {
            "bin_end": 0.4,
            "bin_start": 0.30000000000000004,
            "count": 0
           },
           {
            "bin_end": 0.5,
            "bin_start": 0.4,
            "count": 0
           },
           {
            "bin_end": 0.6000000000000001,
            "bin_start": 0.5,
            "count": 0
           },
           {
            "bin_end": 0.7000000000000001,
            "bin_start": 0.6000000000000001,
            "count": 0
           },
           {
            "bin_end": 0.8,
            "bin_start": 0.7000000000000001,
            "count": 0
           },
           {
            "bin_end": 0.9,
            "bin_start": 0.8,
            "count": 0
           },
           {
            "bin_end": 1,
            "bin_start": 0.9,
            "count": 109
           }
          ],
          "max": "1",
          "min": "0",
          "nan_count": 0,
          "unique_count": 2
         }
        },
        {
         "dtype": "uint8",
         "name": "TR_garden",
         "stats": {
          "histogram": [
           {
            "bin_end": 0.1,
            "bin_start": 0,
            "count": 188
           },
           {
            "bin_end": 0.2,
            "bin_start": 0.1,
            "count": 0
           },
           {
            "bin_end": 0.30000000000000004,
            "bin_start": 0.2,
            "count": 0
           },
           {
            "bin_end": 0.4,
            "bin_start": 0.30000000000000004,
            "count": 0
           },
           {
            "bin_end": 0.5,
            "bin_start": 0.4,
            "count": 0
           },
           {
            "bin_end": 0.6000000000000001,
            "bin_start": 0.5,
            "count": 0
           },
           {
            "bin_end": 0.7000000000000001,
            "bin_start": 0.6000000000000001,
            "count": 0
           },
           {
            "bin_end": 0.8,
            "bin_start": 0.7000000000000001,
            "count": 0
           },
           {
            "bin_end": 0.9,
            "bin_start": 0.8,
            "count": 0
           },
           {
            "bin_end": 1,
            "bin_start": 0.9,
            "count": 1
           }
          ],
          "max": "1",
          "min": "0",
          "nan_count": 0,
          "unique_count": 2
         }
        },
        {
         "dtype": "uint8",
         "name": "TR_natural reservoirs",
         "stats": {
          "histogram": [
           {
            "bin_end": 0.1,
            "bin_start": 0,
            "count": 73
           },
           {
            "bin_end": 0.2,
            "bin_start": 0.1,
            "count": 0
           },
           {
            "bin_end": 0.30000000000000004,
            "bin_start": 0.2,
            "count": 0
           },
           {
            "bin_end": 0.4,
            "bin_start": 0.30000000000000004,
            "count": 0
           },
           {
            "bin_end": 0.5,
            "bin_start": 0.4,
            "count": 0
           },
           {
            "bin_end": 0.6000000000000001,
            "bin_start": 0.5,
            "count": 0
           },
           {
            "bin_end": 0.7000000000000001,
            "bin_start": 0.6000000000000001,
            "count": 0
           },
           {
            "bin_end": 0.8,
            "bin_start": 0.7000000000000001,
            "count": 0
           },
           {
            "bin_end": 0.9,
            "bin_start": 0.8,
            "count": 0
           },
           {
            "bin_end": 1,
            "bin_start": 0.9,
            "count": 116
           }
          ],
          "max": "1",
          "min": "0",
          "nan_count": 0,
          "unique_count": 2
         }
        },
        {
         "dtype": "uint8",
         "name": "TR_recently formed",
         "stats": {
          "histogram": [
           {
            "bin_end": 0.1,
            "bin_start": 0,
            "count": 185
           },
           {
            "bin_end": 0.2,
            "bin_start": 0.1,
            "count": 0
           },
           {
            "bin_end": 0.30000000000000004,
            "bin_start": 0.2,
            "count": 0
           },
           {
            "bin_end": 0.4,
            "bin_start": 0.30000000000000004,
            "count": 0
           },
           {
            "bin_end": 0.5,
            "bin_start": 0.4,
            "count": 0
           },
           {
            "bin_end": 0.6000000000000001,
            "bin_start": 0.5,
            "count": 0
           },
           {
            "bin_end": 0.7000000000000001,
            "bin_start": 0.6000000000000001,
            "count": 0
           },
           {
            "bin_end": 0.8,
            "bin_start": 0.7000000000000001,
            "count": 0
           },
           {
            "bin_end": 0.9,
            "bin_start": 0.8,
            "count": 0
           },
           {
            "bin_end": 1,
            "bin_start": 0.9,
            "count": 4
           }
          ],
          "max": "1",
          "min": "0",
          "nan_count": 0,
          "unique_count": 2
         }
        },
        {
         "dtype": "uint8",
         "name": "TR_river valleys",
         "stats": {
          "histogram": [
           {
            "bin_end": 0.1,
            "bin_start": 0,
            "count": 179
           },
           {
            "bin_end": 0.2,
            "bin_start": 0.1,
            "count": 0
           },
           {
            "bin_end": 0.30000000000000004,
            "bin_start": 0.2,
            "count": 0
           },
           {
            "bin_end": 0.4,
            "bin_start": 0.30000000000000004,
            "count": 0
           },
           {
            "bin_end": 0.5,
            "bin_start": 0.4,
            "count": 0
           },
           {
            "bin_end": 0.6000000000000001,
            "bin_start": 0.5,
            "count": 0
           },
           {
            "bin_end": 0.7000000000000001,
            "bin_start": 0.6000000000000001,
            "count": 0
           },
           {
            "bin_end": 0.8,
            "bin_start": 0.7000000000000001,
            "count": 0
           },
           {
            "bin_end": 0.9,
            "bin_start": 0.8,
            "count": 0
           },
           {
            "bin_end": 1,
            "bin_start": 0.9,
            "count": 10
           }
          ],
          "max": "1",
          "min": "0",
          "nan_count": 0,
          "unique_count": 2
         }
        },
        {
         "dtype": "uint8",
         "name": "TR_small watercourses",
         "stats": {
          "histogram": [
           {
            "bin_end": 0.1,
            "bin_start": 0,
            "count": 170
           },
           {
            "bin_end": 0.2,
            "bin_start": 0.1,
            "count": 0
           },
           {
            "bin_end": 0.30000000000000004,
            "bin_start": 0.2,
            "count": 0
           },
           {
            "bin_end": 0.4,
            "bin_start": 0.30000000000000004,
            "count": 0
           },
           {
            "bin_end": 0.5,
            "bin_start": 0.4,
            "count": 0
           },
           {
            "bin_end": 0.6000000000000001,
            "bin_start": 0.5,
            "count": 0
           },
           {
            "bin_end": 0.7000000000000001,
            "bin_start": 0.6000000000000001,
            "count": 0
           },
           {
            "bin_end": 0.8,
            "bin_start": 0.7000000000000001,
            "count": 0
           },
           {
            "bin_end": 0.9,
            "bin_start": 0.8,
            "count": 0
           },
           {
            "bin_end": 1,
            "bin_start": 0.9,
            "count": 19
           }
          ],
          "max": "1",
          "min": "0",
          "nan_count": 0,
          "unique_count": 2
         }
        },
        {
         "dtype": "uint8",
         "name": "TR_technological",
         "stats": {
          "histogram": [
           {
            "bin_end": 0.1,
            "bin_start": 0,
            "count": 177
           },
           {
            "bin_end": 0.2,
            "bin_start": 0.1,
            "count": 0
           },
           {
            "bin_end": 0.30000000000000004,
            "bin_start": 0.2,
            "count": 0
           },
           {
            "bin_end": 0.4,
            "bin_start": 0.30000000000000004,
            "count": 0
           },
           {
            "bin_end": 0.5,
            "bin_start": 0.4,
            "count": 0
           },
           {
            "bin_end": 0.6000000000000001,
            "bin_start": 0.5,
            "count": 0
           },
           {
            "bin_end": 0.7000000000000001,
            "bin_start": 0.6000000000000001,
            "count": 0
           },
           {
            "bin_end": 0.8,
            "bin_start": 0.7000000000000001,
            "count": 0
           },
           {
            "bin_end": 0.9,
            "bin_start": 0.8,
            "count": 0
           },
           {
            "bin_end": 1,
            "bin_start": 0.9,
            "count": 12
           }
          ],
          "max": "1",
          "min": "0",
          "nan_count": 0,
          "unique_count": 2
         }
        },
        {
         "dtype": "uint8",
         "name": "TR_trenches",
         "stats": {
          "histogram": [
           {
            "bin_end": 0.1,
            "bin_start": 0,
            "count": 185
           },
           {
            "bin_end": 0.2,
            "bin_start": 0.1,
            "count": 0
           },
           {
            "bin_end": 0.30000000000000004,
            "bin_start": 0.2,
            "count": 0
           },
           {
            "bin_end": 0.4,
            "bin_start": 0.30000000000000004,
            "count": 0
           },
           {
            "bin_end": 0.5,
            "bin_start": 0.4,
            "count": 0
           },
           {
            "bin_end": 0.6000000000000001,
            "bin_start": 0.5,
            "count": 0
           },
           {
            "bin_end": 0.7000000000000001,
            "bin_start": 0.6000000000000001,
            "count": 0
           },
           {
            "bin_end": 0.8,
            "bin_start": 0.7000000000000001,
            "count": 0
           },
           {
            "bin_end": 0.9,
            "bin_start": 0.8,
            "count": 0
           },
           {
            "bin_end": 1,
            "bin_start": 0.9,
            "count": 4
           }
          ],
          "max": "1",
          "min": "0",
          "nan_count": 0,
          "unique_count": 2
         }
        },
        {
         "dtype": "uint8",
         "name": "TR_wet meadows",
         "stats": {
          "histogram": [
           {
            "bin_end": 0.1,
            "bin_start": 0,
            "count": 166
           },
           {
            "bin_end": 0.2,
            "bin_start": 0.1,
            "count": 0
           },
           {
            "bin_end": 0.30000000000000004,
            "bin_start": 0.2,
            "count": 0
           },
           {
            "bin_end": 0.4,
            "bin_start": 0.30000000000000004,
            "count": 0
           },
           {
            "bin_end": 0.5,
            "bin_start": 0.4,
            "count": 0
           },
           {
            "bin_end": 0.6000000000000001,
            "bin_start": 0.5,
            "count": 0
           },
           {
            "bin_end": 0.7000000000000001,
            "bin_start": 0.6000000000000001,
            "count": 0
           },
           {
            "bin_end": 0.8,
            "bin_start": 0.7000000000000001,
            "count": 0
           },
           {
            "bin_end": 0.9,
            "bin_start": 0.8,
            "count": 0
           },
           {
            "bin_end": 1,
            "bin_start": 0.9,
            "count": 23
           }
          ],
          "max": "1",
          "min": "0",
          "nan_count": 0,
          "unique_count": 2
         }
        },
        {
         "dtype": "uint8",
         "name": "VR_heavily overgrown",
         "stats": {
          "histogram": [
           {
            "bin_end": 0.1,
            "bin_start": 0,
            "count": 154
           },
           {
            "bin_end": 0.2,
            "bin_start": 0.1,
            "count": 0
           },
           {
            "bin_end": 0.30000000000000004,
            "bin_start": 0.2,
            "count": 0
           },
           {
            "bin_end": 0.4,
            "bin_start": 0.30000000000000004,
            "count": 0
           },
           {
            "bin_end": 0.5,
            "bin_start": 0.4,
            "count": 0
           },
           {
            "bin_end": 0.6000000000000001,
            "bin_start": 0.5,
            "count": 0
           },
           {
            "bin_end": 0.7000000000000001,
            "bin_start": 0.6000000000000001,
            "count": 0
           },
           {
            "bin_end": 0.8,
            "bin_start": 0.7000000000000001,
            "count": 0
           },
           {
            "bin_end": 0.9,
            "bin_start": 0.8,
            "count": 0
           },
           {
            "bin_end": 1,
            "bin_start": 0.9,
            "count": 35
           }
          ],
          "max": "1",
          "min": "0",
          "nan_count": 0,
          "unique_count": 2
         }
        },
        {
         "dtype": "uint8",
         "name": "VR_no vegetation",
         "stats": {
          "histogram": [
           {
            "bin_end": 0.1,
            "bin_start": 0,
            "count": 159
           },
           {
            "bin_end": 0.2,
            "bin_start": 0.1,
            "count": 0
           },
           {
            "bin_end": 0.30000000000000004,
            "bin_start": 0.2,
            "count": 0
           },
           {
            "bin_end": 0.4,
            "bin_start": 0.30000000000000004,
            "count": 0
           },
           {
            "bin_end": 0.5,
            "bin_start": 0.4,
            "count": 0
           },
           {
            "bin_end": 0.6000000000000001,
            "bin_start": 0.5,
            "count": 0
           },
           {
            "bin_end": 0.7000000000000001,
            "bin_start": 0.6000000000000001,
            "count": 0
           },
           {
            "bin_end": 0.8,
            "bin_start": 0.7000000000000001,
            "count": 0
           },
           {
            "bin_end": 0.9,
            "bin_start": 0.8,
            "count": 0
           },
           {
            "bin_end": 1,
            "bin_start": 0.9,
            "count": 30
           }
          ],
          "max": "1",
          "min": "0",
          "nan_count": 0,
          "unique_count": 2
         }
        },
        {
         "dtype": "uint8",
         "name": "VR_patches at the edges",
         "stats": {
          "histogram": [
           {
            "bin_end": 0.1,
            "bin_start": 0,
            "count": 134
           },
           {
            "bin_end": 0.2,
            "bin_start": 0.1,
            "count": 0
           },
           {
            "bin_end": 0.30000000000000004,
            "bin_start": 0.2,
            "count": 0
           },
           {
            "bin_end": 0.4,
            "bin_start": 0.30000000000000004,
            "count": 0
           },
           {
            "bin_end": 0.5,
            "bin_start": 0.4,
            "count": 0
           },
           {
            "bin_end": 0.6000000000000001,
            "bin_start": 0.5,
            "count": 0
           },
           {
            "bin_end": 0.7000000000000001,
            "bin_start": 0.6000000000000001,
            "count": 0
           },
           {
            "bin_end": 0.8,
            "bin_start": 0.7000000000000001,
            "count": 0
           },
           {
            "bin_end": 0.9,
            "bin_start": 0.8,
            "count": 0
           },
           {
            "bin_end": 1,
            "bin_start": 0.9,
            "count": 55
           }
          ],
          "max": "1",
          "min": "0",
          "nan_count": 0,
          "unique_count": 2
         }
        },
        {
         "dtype": "uint8",
         "name": "VR_reservoirs completely overgrown",
         "stats": {
          "histogram": [
           {
            "bin_end": 0.1,
            "bin_start": 0,
            "count": 161
           },
           {
            "bin_end": 0.2,
            "bin_start": 0.1,
            "count": 0
           },
           {
            "bin_end": 0.30000000000000004,
            "bin_start": 0.2,
            "count": 0
           },
           {
            "bin_end": 0.4,
            "bin_start": 0.30000000000000004,
            "count": 0
           },
           {
            "bin_end": 0.5,
            "bin_start": 0.4,
            "count": 0
           },
           {
            "bin_end": 0.6000000000000001,
            "bin_start": 0.5,
            "count": 0
           },
           {
            "bin_end": 0.7000000000000001,
            "bin_start": 0.6000000000000001,
            "count": 0
           },
           {
            "bin_end": 0.8,
            "bin_start": 0.7000000000000001,
            "count": 0
           },
           {
            "bin_end": 0.9,
            "bin_start": 0.8,
            "count": 0
           },
           {
            "bin_end": 1,
            "bin_start": 0.9,
            "count": 28
           }
          ],
          "max": "1",
          "min": "0",
          "nan_count": 0,
          "unique_count": 2
         }
        },
        {
         "dtype": "uint8",
         "name": "VR_some part devoid of vegetation",
         "stats": {
          "histogram": [
           {
            "bin_end": 0.1,
            "bin_start": 0,
            "count": 148
           },
           {
            "bin_end": 0.2,
            "bin_start": 0.1,
            "count": 0
           },
           {
            "bin_end": 0.30000000000000004,
            "bin_start": 0.2,
            "count": 0
           },
           {
            "bin_end": 0.4,
            "bin_start": 0.30000000000000004,
            "count": 0
           },
           {
            "bin_end": 0.5,
            "bin_start": 0.4,
            "count": 0
           },
           {
            "bin_end": 0.6000000000000001,
            "bin_start": 0.5,
            "count": 0
           },
           {
            "bin_end": 0.7000000000000001,
            "bin_start": 0.6000000000000001,
            "count": 0
           },
           {
            "bin_end": 0.8,
            "bin_start": 0.7000000000000001,
            "count": 0
           },
           {
            "bin_end": 0.9,
            "bin_start": 0.8,
            "count": 0
           },
           {
            "bin_end": 1,
            "bin_start": 0.9,
            "count": 41
           }
          ],
          "max": "1",
          "min": "0",
          "nan_count": 0,
          "unique_count": 2
         }
        },
        {
         "dtype": "uint8",
         "name": "SUR1_agricultural",
         "stats": {
          "histogram": [
           {
            "bin_end": 0.1,
            "bin_start": 0,
            "count": 188
           },
           {
            "bin_end": 0.2,
            "bin_start": 0.1,
            "count": 0
           },
           {
            "bin_end": 0.30000000000000004,
            "bin_start": 0.2,
            "count": 0
           },
           {
            "bin_end": 0.4,
            "bin_start": 0.30000000000000004,
            "count": 0
           },
           {
            "bin_end": 0.5,
            "bin_start": 0.4,
            "count": 0
           },
           {
            "bin_end": 0.6000000000000001,
            "bin_start": 0.5,
            "count": 0
           },
           {
            "bin_end": 0.7000000000000001,
            "bin_start": 0.6000000000000001,
            "count": 0
           },
           {
            "bin_end": 0.8,
            "bin_start": 0.7000000000000001,
            "count": 0
           },
           {
            "bin_end": 0.9,
            "bin_start": 0.8,
            "count": 0
           },
           {
            "bin_end": 1,
            "bin_start": 0.9,
            "count": 1
           }
          ],
          "max": "1",
          "min": "0",
          "nan_count": 0,
          "unique_count": 2
         }
        },
        {
         "dtype": "uint8",
         "name": "SUR1_forest areas",
         "stats": {
          "histogram": [
           {
            "bin_end": 0.1,
            "bin_start": 0,
            "count": 146
           },
           {
            "bin_end": 0.2,
            "bin_start": 0.1,
            "count": 0
           },
           {
            "bin_end": 0.30000000000000004,
            "bin_start": 0.2,
            "count": 0
           },
           {
            "bin_end": 0.4,
            "bin_start": 0.30000000000000004,
            "count": 0
           },
           {
            "bin_end": 0.5,
            "bin_start": 0.4,
            "count": 0
           },
           {
            "bin_end": 0.6000000000000001,
            "bin_start": 0.5,
            "count": 0
           },
           {
            "bin_end": 0.7000000000000001,
            "bin_start": 0.6000000000000001,
            "count": 0
           },
           {
            "bin_end": 0.8,
            "bin_start": 0.7000000000000001,
            "count": 0
           },
           {
            "bin_end": 0.9,
            "bin_start": 0.8,
            "count": 0
           },
           {
            "bin_end": 1,
            "bin_start": 0.9,
            "count": 43
           }
          ],
          "max": "1",
          "min": "0",
          "nan_count": 0,
          "unique_count": 2
         }
        },
        {
         "dtype": "uint8",
         "name": "SUR1_gardens",
         "stats": {
          "histogram": [
           {
            "bin_end": 0.1,
            "bin_start": 0,
            "count": 188
           },
           {
            "bin_end": 0.2,
            "bin_start": 0.1,
            "count": 0
           },
           {
            "bin_end": 0.30000000000000004,
            "bin_start": 0.2,
            "count": 0
           },
           {
            "bin_end": 0.4,
            "bin_start": 0.30000000000000004,
            "count": 0
           },
           {
            "bin_end": 0.5,
            "bin_start": 0.4,
            "count": 0
           },
           {
            "bin_end": 0.6000000000000001,
            "bin_start": 0.5,
            "count": 0
           },
           {
            "bin_end": 0.7000000000000001,
            "bin_start": 0.6000000000000001,
            "count": 0
           },
           {
            "bin_end": 0.8,
            "bin_start": 0.7000000000000001,
            "count": 0
           },
           {
            "bin_end": 0.9,
            "bin_start": 0.8,
            "count": 0
           },
           {
            "bin_end": 1,
            "bin_start": 0.9,
            "count": 1
           }
          ],
          "max": "1",
          "min": "0",
          "nan_count": 0,
          "unique_count": 2
         }
        },
        {
         "dtype": "uint8",
         "name": "SUR1_industrial areas",
         "stats": {
          "histogram": [
           {
            "bin_end": 0.1,
            "bin_start": 0,
            "count": 170
           },
           {
            "bin_end": 0.2,
            "bin_start": 0.1,
            "count": 0
           },
           {
            "bin_end": 0.30000000000000004,
            "bin_start": 0.2,
            "count": 0
           },
           {
            "bin_end": 0.4,
            "bin_start": 0.30000000000000004,
            "count": 0
           },
           {
            "bin_end": 0.5,
            "bin_start": 0.4,
            "count": 0
           },
           {
            "bin_end": 0.6000000000000001,
            "bin_start": 0.5,
            "count": 0
           },
           {
            "bin_end": 0.7000000000000001,
            "bin_start": 0.6000000000000001,
            "count": 0
           },
           {
            "bin_end": 0.8,
            "bin_start": 0.7000000000000001,
            "count": 0
           },
           {
            "bin_end": 0.9,
            "bin_start": 0.8,
            "count": 0
           },
           {
            "bin_end": 1,
            "bin_start": 0.9,
            "count": 19
           }
          ],
          "max": "1",
          "min": "0",
          "nan_count": 0,
          "unique_count": 2
         }
        },
        {
         "dtype": "uint8",
         "name": "SUR1_meadows",
         "stats": {
          "histogram": [
           {
            "bin_end": 0.1,
            "bin_start": 0,
            "count": 119
           },
           {
            "bin_end": 0.2,
            "bin_start": 0.1,
            "count": 0
           },
           {
            "bin_end": 0.30000000000000004,
            "bin_start": 0.2,
            "count": 0
           },
           {
            "bin_end": 0.4,
            "bin_start": 0.30000000000000004,
            "count": 0
           },
           {
            "bin_end": 0.5,
            "bin_start": 0.4,
            "count": 0
           },
           {
            "bin_end": 0.6000000000000001,
            "bin_start": 0.5,
            "count": 0
           },
           {
            "bin_end": 0.7000000000000001,
            "bin_start": 0.6000000000000001,
            "count": 0
           },
           {
            "bin_end": 0.8,
            "bin_start": 0.7000000000000001,
            "count": 0
           },
           {
            "bin_end": 0.9,
            "bin_start": 0.8,
            "count": 0
           },
           {
            "bin_end": 1,
            "bin_start": 0.9,
            "count": 70
           }
          ],
          "max": "1",
          "min": "0",
          "nan_count": 0,
          "unique_count": 2
         }
        },
        {
         "dtype": "uint8",
         "name": "SUR1_orchards",
         "stats": {
          "histogram": [
           {
            "bin_end": 0.1,
            "bin_start": 0,
            "count": 169
           },
           {
            "bin_end": 0.2,
            "bin_start": 0.1,
            "count": 0
           },
           {
            "bin_end": 0.30000000000000004,
            "bin_start": 0.2,
            "count": 0
           },
           {
            "bin_end": 0.4,
            "bin_start": 0.30000000000000004,
            "count": 0
           },
           {
            "bin_end": 0.5,
            "bin_start": 0.4,
            "count": 0
           },
           {
            "bin_end": 0.6000000000000001,
            "bin_start": 0.5,
            "count": 0
           },
           {
            "bin_end": 0.7000000000000001,
            "bin_start": 0.6000000000000001,
            "count": 0
           },
           {
            "bin_end": 0.8,
            "bin_start": 0.7000000000000001,
            "count": 0
           },
           {
            "bin_end": 0.9,
            "bin_start": 0.8,
            "count": 0
           },
           {
            "bin_end": 1,
            "bin_start": 0.9,
            "count": 20
           }
          ],
          "max": "1",
          "min": "0",
          "nan_count": 0,
          "unique_count": 2
         }
        },
        {
         "dtype": "uint8",
         "name": "SUR1_river valleys",
         "stats": {
          "histogram": [
           {
            "bin_end": 0.1,
            "bin_start": 0,
            "count": 159
           },
           {
            "bin_end": 0.2,
            "bin_start": 0.1,
            "count": 0
           },
           {
            "bin_end": 0.30000000000000004,
            "bin_start": 0.2,
            "count": 0
           },
           {
            "bin_end": 0.4,
            "bin_start": 0.30000000000000004,
            "count": 0
           },
           {
            "bin_end": 0.5,
            "bin_start": 0.4,
            "count": 0
           },
           {
            "bin_end": 0.6000000000000001,
            "bin_start": 0.5,
            "count": 0
           },
           {
            "bin_end": 0.7000000000000001,
            "bin_start": 0.6000000000000001,
            "count": 0
           },
           {
            "bin_end": 0.8,
            "bin_start": 0.7000000000000001,
            "count": 0
           },
           {
            "bin_end": 0.9,
            "bin_start": 0.8,
            "count": 0
           },
           {
            "bin_end": 1,
            "bin_start": 0.9,
            "count": 30
           }
          ],
          "max": "1",
          "min": "0",
          "nan_count": 0,
          "unique_count": 2
         }
        },
        {
         "dtype": "uint8",
         "name": "SUR1_roads",
         "stats": {
          "histogram": [
           {
            "bin_end": 0.1,
            "bin_start": 0,
            "count": 184
           },
           {
            "bin_end": 0.2,
            "bin_start": 0.1,
            "count": 0
           },
           {
            "bin_end": 0.30000000000000004,
            "bin_start": 0.2,
            "count": 0
           },
           {
            "bin_end": 0.4,
            "bin_start": 0.30000000000000004,
            "count": 0
           },
           {
            "bin_end": 0.5,
            "bin_start": 0.4,
            "count": 0
           },
           {
            "bin_end": 0.6000000000000001,
            "bin_start": 0.5,
            "count": 0
           },
           {
            "bin_end": 0.7000000000000001,
            "bin_start": 0.6000000000000001,
            "count": 0
           },
           {
            "bin_end": 0.8,
            "bin_start": 0.7000000000000001,
            "count": 0
           },
           {
            "bin_end": 0.9,
            "bin_start": 0.8,
            "count": 0
           },
           {
            "bin_end": 1,
            "bin_start": 0.9,
            "count": 5
           }
          ],
          "max": "1",
          "min": "0",
          "nan_count": 0,
          "unique_count": 2
         }
        },
        {
         "dtype": "uint8",
         "name": "SUR2_agricultural",
         "stats": {
          "histogram": [
           {
            "bin_end": 0.1,
            "bin_start": 0,
            "count": 188
           },
           {
            "bin_end": 0.2,
            "bin_start": 0.1,
            "count": 0
           },
           {
            "bin_end": 0.30000000000000004,
            "bin_start": 0.2,
            "count": 0
           },
           {
            "bin_end": 0.4,
            "bin_start": 0.30000000000000004,
            "count": 0
           },
           {
            "bin_end": 0.5,
            "bin_start": 0.4,
            "count": 0
           },
           {
            "bin_end": 0.6000000000000001,
            "bin_start": 0.5,
            "count": 0
           },
           {
            "bin_end": 0.7000000000000001,
            "bin_start": 0.6000000000000001,
            "count": 0
           },
           {
            "bin_end": 0.8,
            "bin_start": 0.7000000000000001,
            "count": 0
           },
           {
            "bin_end": 0.9,
            "bin_start": 0.8,
            "count": 0
           },
           {
            "bin_end": 1,
            "bin_start": 0.9,
            "count": 1
           }
          ],
          "max": "1",
          "min": "0",
          "nan_count": 0,
          "unique_count": 2
         }
        },
        {
         "dtype": "uint8",
         "name": "SUR2_forest areas",
         "stats": {
          "histogram": [
           {
            "bin_end": 0.1,
            "bin_start": 0,
            "count": 153
           },
           {
            "bin_end": 0.2,
            "bin_start": 0.1,
            "count": 0
           },
           {
            "bin_end": 0.30000000000000004,
            "bin_start": 0.2,
            "count": 0
           },
           {
            "bin_end": 0.4,
            "bin_start": 0.30000000000000004,
            "count": 0
           },
           {
            "bin_end": 0.5,
            "bin_start": 0.4,
            "count": 0
           },
           {
            "bin_end": 0.6000000000000001,
            "bin_start": 0.5,
            "count": 0
           },
           {
            "bin_end": 0.7000000000000001,
            "bin_start": 0.6000000000000001,
            "count": 0
           },
           {
            "bin_end": 0.8,
            "bin_start": 0.7000000000000001,
            "count": 0
           },
           {
            "bin_end": 0.9,
            "bin_start": 0.8,
            "count": 0
           },
           {
            "bin_end": 1,
            "bin_start": 0.9,
            "count": 36
           }
          ],
          "max": "1",
          "min": "0",
          "nan_count": 0,
          "unique_count": 2
         }
        },
        {
         "dtype": "uint8",
         "name": "SUR2_industrial areas",
         "stats": {
          "histogram": [
           {
            "bin_end": 0.1,
            "bin_start": 0,
            "count": 150
           },
           {
            "bin_end": 0.2,
            "bin_start": 0.1,
            "count": 0
           },
           {
            "bin_end": 0.30000000000000004,
            "bin_start": 0.2,
            "count": 0
           },
           {
            "bin_end": 0.4,
            "bin_start": 0.30000000000000004,
            "count": 0
           },
           {
            "bin_end": 0.5,
            "bin_start": 0.4,
            "count": 0
           },
           {
            "bin_end": 0.6000000000000001,
            "bin_start": 0.5,
            "count": 0
           },
           {
            "bin_end": 0.7000000000000001,
            "bin_start": 0.6000000000000001,
            "count": 0
           },
           {
            "bin_end": 0.8,
            "bin_start": 0.7000000000000001,
            "count": 0
           },
           {
            "bin_end": 0.9,
            "bin_start": 0.8,
            "count": 0
           },
           {
            "bin_end": 1,
            "bin_start": 0.9,
            "count": 39
           }
          ],
          "max": "1",
          "min": "0",
          "nan_count": 0,
          "unique_count": 2
         }
        },
        {
         "dtype": "uint8",
         "name": "SUR2_meadows",
         "stats": {
          "histogram": [
           {
            "bin_end": 0.1,
            "bin_start": 0,
            "count": 148
           },
           {
            "bin_end": 0.2,
            "bin_start": 0.1,
            "count": 0
           },
           {
            "bin_end": 0.30000000000000004,
            "bin_start": 0.2,
            "count": 0
           },
           {
            "bin_end": 0.4,
            "bin_start": 0.30000000000000004,
            "count": 0
           },
           {
            "bin_end": 0.5,
            "bin_start": 0.4,
            "count": 0
           },
           {
            "bin_end": 0.6000000000000001,
            "bin_start": 0.5,
            "count": 0
           },
           {
            "bin_end": 0.7000000000000001,
            "bin_start": 0.6000000000000001,
            "count": 0
           },
           {
            "bin_end": 0.8,
            "bin_start": 0.7000000000000001,
            "count": 0
           },
           {
            "bin_end": 0.9,
            "bin_start": 0.8,
            "count": 0
           },
           {
            "bin_end": 1,
            "bin_start": 0.9,
            "count": 41
           }
          ],
          "max": "1",
          "min": "0",
          "nan_count": 0,
          "unique_count": 2
         }
        },
        {
         "dtype": "uint8",
         "name": "SUR2_orchards",
         "stats": {
          "histogram": [
           {
            "bin_end": 0.1,
            "bin_start": 0,
            "count": 171
           },
           {
            "bin_end": 0.2,
            "bin_start": 0.1,
            "count": 0
           },
           {
            "bin_end": 0.30000000000000004,
            "bin_start": 0.2,
            "count": 0
           },
           {
            "bin_end": 0.4,
            "bin_start": 0.30000000000000004,
            "count": 0
           },
           {
            "bin_end": 0.5,
            "bin_start": 0.4,
            "count": 0
           },
           {
            "bin_end": 0.6000000000000001,
            "bin_start": 0.5,
            "count": 0
           },
           {
            "bin_end": 0.7000000000000001,
            "bin_start": 0.6000000000000001,
            "count": 0
           },
           {
            "bin_end": 0.8,
            "bin_start": 0.7000000000000001,
            "count": 0
           },
           {
            "bin_end": 0.9,
            "bin_start": 0.8,
            "count": 0
           },
           {
            "bin_end": 1,
            "bin_start": 0.9,
            "count": 18
           }
          ],
          "max": "1",
          "min": "0",
          "nan_count": 0,
          "unique_count": 2
         }
        },
        {
         "dtype": "uint8",
         "name": "SUR2_river valleys",
         "stats": {
          "histogram": [
           {
            "bin_end": 0.1,
            "bin_start": 0,
            "count": 145
           },
           {
            "bin_end": 0.2,
            "bin_start": 0.1,
            "count": 0
           },
           {
            "bin_end": 0.30000000000000004,
            "bin_start": 0.2,
            "count": 0
           },
           {
            "bin_end": 0.4,
            "bin_start": 0.30000000000000004,
            "count": 0
           },
           {
            "bin_end": 0.5,
            "bin_start": 0.4,
            "count": 0
           },
           {
            "bin_end": 0.6000000000000001,
            "bin_start": 0.5,
            "count": 0
           },
           {
            "bin_end": 0.7000000000000001,
            "bin_start": 0.6000000000000001,
            "count": 0
           },
           {
            "bin_end": 0.8,
            "bin_start": 0.7000000000000001,
            "count": 0
           },
           {
            "bin_end": 0.9,
            "bin_start": 0.8,
            "count": 0
           },
           {
            "bin_end": 1,
            "bin_start": 0.9,
            "count": 44
           }
          ],
          "max": "1",
          "min": "0",
          "nan_count": 0,
          "unique_count": 2
         }
        },
        {
         "dtype": "uint8",
         "name": "SUR2_roads",
         "stats": {
          "histogram": [
           {
            "bin_end": 0.1,
            "bin_start": 0,
            "count": 179
           },
           {
            "bin_end": 0.2,
            "bin_start": 0.1,
            "count": 0
           },
           {
            "bin_end": 0.30000000000000004,
            "bin_start": 0.2,
            "count": 0
           },
           {
            "bin_end": 0.4,
            "bin_start": 0.30000000000000004,
            "count": 0
           },
           {
            "bin_end": 0.5,
            "bin_start": 0.4,
            "count": 0
           },
           {
            "bin_end": 0.6000000000000001,
            "bin_start": 0.5,
            "count": 0
           },
           {
            "bin_end": 0.7000000000000001,
            "bin_start": 0.6000000000000001,
            "count": 0
           },
           {
            "bin_end": 0.8,
            "bin_start": 0.7000000000000001,
            "count": 0
           },
           {
            "bin_end": 0.9,
            "bin_start": 0.8,
            "count": 0
           },
           {
            "bin_end": 1,
            "bin_start": 0.9,
            "count": 10
           }
          ],
          "max": "1",
          "min": "0",
          "nan_count": 0,
          "unique_count": 2
         }
        },
        {
         "dtype": "uint8",
         "name": "SUR3_agricultural",
         "stats": {
          "histogram": [
           {
            "bin_end": 0.1,
            "bin_start": 0,
            "count": 188
           },
           {
            "bin_end": 0.2,
            "bin_start": 0.1,
            "count": 0
           },
           {
            "bin_end": 0.30000000000000004,
            "bin_start": 0.2,
            "count": 0
           },
           {
            "bin_end": 0.4,
            "bin_start": 0.30000000000000004,
            "count": 0
           },
           {
            "bin_end": 0.5,
            "bin_start": 0.4,
            "count": 0
           },
           {
            "bin_end": 0.6000000000000001,
            "bin_start": 0.5,
            "count": 0
           },
           {
            "bin_end": 0.7000000000000001,
            "bin_start": 0.6000000000000001,
            "count": 0
           },
           {
            "bin_end": 0.8,
            "bin_start": 0.7000000000000001,
            "count": 0
           },
           {
            "bin_end": 0.9,
            "bin_start": 0.8,
            "count": 0
           },
           {
            "bin_end": 1,
            "bin_start": 0.9,
            "count": 1
           }
          ],
          "max": "1",
          "min": "0",
          "nan_count": 0,
          "unique_count": 2
         }
        },
        {
         "dtype": "uint8",
         "name": "SUR3_forest areas",
         "stats": {
          "histogram": [
           {
            "bin_end": 0.1,
            "bin_start": 0,
            "count": 160
           },
           {
            "bin_end": 0.2,
            "bin_start": 0.1,
            "count": 0
           },
           {
            "bin_end": 0.30000000000000004,
            "bin_start": 0.2,
            "count": 0
           },
           {
            "bin_end": 0.4,
            "bin_start": 0.30000000000000004,
            "count": 0
           },
           {
            "bin_end": 0.5,
            "bin_start": 0.4,
            "count": 0
           },
           {
            "bin_end": 0.6000000000000001,
            "bin_start": 0.5,
            "count": 0
           },
           {
            "bin_end": 0.7000000000000001,
            "bin_start": 0.6000000000000001,
            "count": 0
           },
           {
            "bin_end": 0.8,
            "bin_start": 0.7000000000000001,
            "count": 0
           },
           {
            "bin_end": 0.9,
            "bin_start": 0.8,
            "count": 0
           },
           {
            "bin_end": 1,
            "bin_start": 0.9,
            "count": 29
           }
          ],
          "max": "1",
          "min": "0",
          "nan_count": 0,
          "unique_count": 2
         }
        },
        {
         "dtype": "uint8",
         "name": "SUR3_industrial areas",
         "stats": {
          "histogram": [
           {
            "bin_end": 0.1,
            "bin_start": 0,
            "count": 134
           },
           {
            "bin_end": 0.2,
            "bin_start": 0.1,
            "count": 0
           },
           {
            "bin_end": 0.30000000000000004,
            "bin_start": 0.2,
            "count": 0
           },
           {
            "bin_end": 0.4,
            "bin_start": 0.30000000000000004,
            "count": 0
           },
           {
            "bin_end": 0.5,
            "bin_start": 0.4,
            "count": 0
           },
           {
            "bin_end": 0.6000000000000001,
            "bin_start": 0.5,
            "count": 0
           },
           {
            "bin_end": 0.7000000000000001,
            "bin_start": 0.6000000000000001,
            "count": 0
           },
           {
            "bin_end": 0.8,
            "bin_start": 0.7000000000000001,
            "count": 0
           },
           {
            "bin_end": 0.9,
            "bin_start": 0.8,
            "count": 0
           },
           {
            "bin_end": 1,
            "bin_start": 0.9,
            "count": 55
           }
          ],
          "max": "1",
          "min": "0",
          "nan_count": 0,
          "unique_count": 2
         }
        },
        {
         "dtype": "uint8",
         "name": "SUR3_meadows",
         "stats": {
          "histogram": [
           {
            "bin_end": 0.1,
            "bin_start": 0,
            "count": 160
           },
           {
            "bin_end": 0.2,
            "bin_start": 0.1,
            "count": 0
           },
           {
            "bin_end": 0.30000000000000004,
            "bin_start": 0.2,
            "count": 0
           },
           {
            "bin_end": 0.4,
            "bin_start": 0.30000000000000004,
            "count": 0
           },
           {
            "bin_end": 0.5,
            "bin_start": 0.4,
            "count": 0
           },
           {
            "bin_end": 0.6000000000000001,
            "bin_start": 0.5,
            "count": 0
           },
           {
            "bin_end": 0.7000000000000001,
            "bin_start": 0.6000000000000001,
            "count": 0
           },
           {
            "bin_end": 0.8,
            "bin_start": 0.7000000000000001,
            "count": 0
           },
           {
            "bin_end": 0.9,
            "bin_start": 0.8,
            "count": 0
           },
           {
            "bin_end": 1,
            "bin_start": 0.9,
            "count": 29
           }
          ],
          "max": "1",
          "min": "0",
          "nan_count": 0,
          "unique_count": 2
         }
        },
        {
         "dtype": "uint8",
         "name": "SUR3_orchards",
         "stats": {
          "histogram": [
           {
            "bin_end": 0.1,
            "bin_start": 0,
            "count": 171
           },
           {
            "bin_end": 0.2,
            "bin_start": 0.1,
            "count": 0
           },
           {
            "bin_end": 0.30000000000000004,
            "bin_start": 0.2,
            "count": 0
           },
           {
            "bin_end": 0.4,
            "bin_start": 0.30000000000000004,
            "count": 0
           },
           {
            "bin_end": 0.5,
            "bin_start": 0.4,
            "count": 0
           },
           {
            "bin_end": 0.6000000000000001,
            "bin_start": 0.5,
            "count": 0
           },
           {
            "bin_end": 0.7000000000000001,
            "bin_start": 0.6000000000000001,
            "count": 0
           },
           {
            "bin_end": 0.8,
            "bin_start": 0.7000000000000001,
            "count": 0
           },
           {
            "bin_end": 0.9,
            "bin_start": 0.8,
            "count": 0
           },
           {
            "bin_end": 1,
            "bin_start": 0.9,
            "count": 18
           }
          ],
          "max": "1",
          "min": "0",
          "nan_count": 0,
          "unique_count": 2
         }
        },
        {
         "dtype": "uint8",
         "name": "SUR3_parks",
         "stats": {
          "histogram": [
           {
            "bin_end": 0.1,
            "bin_start": 0,
            "count": 187
           },
           {
            "bin_end": 0.2,
            "bin_start": 0.1,
            "count": 0
           },
           {
            "bin_end": 0.30000000000000004,
            "bin_start": 0.2,
            "count": 0
           },
           {
            "bin_end": 0.4,
            "bin_start": 0.30000000000000004,
            "count": 0
           },
           {
            "bin_end": 0.5,
            "bin_start": 0.4,
            "count": 0
           },
           {
            "bin_end": 0.6000000000000001,
            "bin_start": 0.5,
            "count": 0
           },
           {
            "bin_end": 0.7000000000000001,
            "bin_start": 0.6000000000000001,
            "count": 0
           },
           {
            "bin_end": 0.8,
            "bin_start": 0.7000000000000001,
            "count": 0
           },
           {
            "bin_end": 0.9,
            "bin_start": 0.8,
            "count": 0
           },
           {
            "bin_end": 1,
            "bin_start": 0.9,
            "count": 2
           }
          ],
          "max": "1",
          "min": "0",
          "nan_count": 0,
          "unique_count": 2
         }
        },
        {
         "dtype": "uint8",
         "name": "SUR3_river valleys",
         "stats": {
          "histogram": [
           {
            "bin_end": 0.1,
            "bin_start": 0,
            "count": 144
           },
           {
            "bin_end": 0.2,
            "bin_start": 0.1,
            "count": 0
           },
           {
            "bin_end": 0.30000000000000004,
            "bin_start": 0.2,
            "count": 0
           },
           {
            "bin_end": 0.4,
            "bin_start": 0.30000000000000004,
            "count": 0
           },
           {
            "bin_end": 0.5,
            "bin_start": 0.4,
            "count": 0
           },
           {
            "bin_end": 0.6000000000000001,
            "bin_start": 0.5,
            "count": 0
           },
           {
            "bin_end": 0.7000000000000001,
            "bin_start": 0.6000000000000001,
            "count": 0
           },
           {
            "bin_end": 0.8,
            "bin_start": 0.7000000000000001,
            "count": 0
           },
           {
            "bin_end": 0.9,
            "bin_start": 0.8,
            "count": 0
           },
           {
            "bin_end": 1,
            "bin_start": 0.9,
            "count": 45
           }
          ],
          "max": "1",
          "min": "0",
          "nan_count": 0,
          "unique_count": 2
         }
        },
        {
         "dtype": "uint8",
         "name": "SUR3_roads",
         "stats": {
          "histogram": [
           {
            "bin_end": 0.1,
            "bin_start": 0,
            "count": 179
           },
           {
            "bin_end": 0.2,
            "bin_start": 0.1,
            "count": 0
           },
           {
            "bin_end": 0.30000000000000004,
            "bin_start": 0.2,
            "count": 0
           },
           {
            "bin_end": 0.4,
            "bin_start": 0.30000000000000004,
            "count": 0
           },
           {
            "bin_end": 0.5,
            "bin_start": 0.4,
            "count": 0
           },
           {
            "bin_end": 0.6000000000000001,
            "bin_start": 0.5,
            "count": 0
           },
           {
            "bin_end": 0.7000000000000001,
            "bin_start": 0.6000000000000001,
            "count": 0
           },
           {
            "bin_end": 0.8,
            "bin_start": 0.7000000000000001,
            "count": 0
           },
           {
            "bin_end": 0.9,
            "bin_start": 0.8,
            "count": 0
           },
           {
            "bin_end": 1,
            "bin_start": 0.9,
            "count": 10
           }
          ],
          "max": "1",
          "min": "0",
          "nan_count": 0,
          "unique_count": 2
         }
        },
        {
         "dtype": "uint8",
         "name": "UR_scenic",
         "stats": {
          "histogram": [
           {
            "bin_end": 0.1,
            "bin_start": 0,
            "count": 180
           },
           {
            "bin_end": 0.2,
            "bin_start": 0.1,
            "count": 0
           },
           {
            "bin_end": 0.30000000000000004,
            "bin_start": 0.2,
            "count": 0
           },
           {
            "bin_end": 0.4,
            "bin_start": 0.30000000000000004,
            "count": 0
           },
           {
            "bin_end": 0.5,
            "bin_start": 0.4,
            "count": 0
           },
           {
            "bin_end": 0.6000000000000001,
            "bin_start": 0.5,
            "count": 0
           },
           {
            "bin_end": 0.7000000000000001,
            "bin_start": 0.6000000000000001,
            "count": 0
           },
           {
            "bin_end": 0.8,
            "bin_start": 0.7000000000000001,
            "count": 0
           },
           {
            "bin_end": 0.9,
            "bin_start": 0.8,
            "count": 0
           },
           {
            "bin_end": 1,
            "bin_start": 0.9,
            "count": 9
           }
          ],
          "max": "1",
          "min": "0",
          "nan_count": 0,
          "unique_count": 2
         }
        },
        {
         "dtype": "uint8",
         "name": "UR_technological",
         "stats": {
          "histogram": [
           {
            "bin_end": 0.1,
            "bin_start": 0,
            "count": 139
           },
           {
            "bin_end": 0.2,
            "bin_start": 0.1,
            "count": 0
           },
           {
            "bin_end": 0.30000000000000004,
            "bin_start": 0.2,
            "count": 0
           },
           {
            "bin_end": 0.4,
            "bin_start": 0.30000000000000004,
            "count": 0
           },
           {
            "bin_end": 0.5,
            "bin_start": 0.4,
            "count": 0
           },
           {
            "bin_end": 0.6000000000000001,
            "bin_start": 0.5,
            "count": 0
           },
           {
            "bin_end": 0.7000000000000001,
            "bin_start": 0.6000000000000001,
            "count": 0
           },
           {
            "bin_end": 0.8,
            "bin_start": 0.7000000000000001,
            "count": 0
           },
           {
            "bin_end": 0.9,
            "bin_start": 0.8,
            "count": 0
           },
           {
            "bin_end": 1,
            "bin_start": 0.9,
            "count": 50
           }
          ],
          "max": "1",
          "min": "0",
          "nan_count": 0,
          "unique_count": 2
         }
        },
        {
         "dtype": "uint8",
         "name": "UR_unused",
         "stats": {
          "histogram": [
           {
            "bin_end": 0.1,
            "bin_start": 0,
            "count": 59
           },
           {
            "bin_end": 0.2,
            "bin_start": 0.1,
            "count": 0
           },
           {
            "bin_end": 0.30000000000000004,
            "bin_start": 0.2,
            "count": 0
           },
           {
            "bin_end": 0.4,
            "bin_start": 0.30000000000000004,
            "count": 0
           },
           {
            "bin_end": 0.5,
            "bin_start": 0.4,
            "count": 0
           },
           {
            "bin_end": 0.6000000000000001,
            "bin_start": 0.5,
            "count": 0
           },
           {
            "bin_end": 0.7000000000000001,
            "bin_start": 0.6000000000000001,
            "count": 0
           },
           {
            "bin_end": 0.8,
            "bin_start": 0.7000000000000001,
            "count": 0
           },
           {
            "bin_end": 0.9,
            "bin_start": 0.8,
            "count": 0
           },
           {
            "bin_end": 1,
            "bin_start": 0.9,
            "count": 130
           }
          ],
          "max": "1",
          "min": "0",
          "nan_count": 0,
          "unique_count": 2
         }
        },
        {
         "dtype": "uint8",
         "name": "FR_breeding reservoirs",
         "stats": {
          "histogram": [
           {
            "bin_end": 0.1,
            "bin_start": 0,
            "count": 174
           },
           {
            "bin_end": 0.2,
            "bin_start": 0.1,
            "count": 0
           },
           {
            "bin_end": 0.30000000000000004,
            "bin_start": 0.2,
            "count": 0
           },
           {
            "bin_end": 0.4,
            "bin_start": 0.30000000000000004,
            "count": 0
           },
           {
            "bin_end": 0.5,
            "bin_start": 0.4,
            "count": 0
           },
           {
            "bin_end": 0.6000000000000001,
            "bin_start": 0.5,
            "count": 0
           },
           {
            "bin_end": 0.7000000000000001,
            "bin_start": 0.6000000000000001,
            "count": 0
           },
           {
            "bin_end": 0.8,
            "bin_start": 0.7000000000000001,
            "count": 0
           },
           {
            "bin_end": 0.9,
            "bin_start": 0.8,
            "count": 0
           },
           {
            "bin_end": 1,
            "bin_start": 0.9,
            "count": 15
           }
          ],
          "max": "1",
          "min": "0",
          "nan_count": 0,
          "unique_count": 2
         }
        },
        {
         "dtype": "uint8",
         "name": "FR_intense fishing",
         "stats": {
          "histogram": [
           {
            "bin_end": 0.1,
            "bin_start": 0,
            "count": 173
           },
           {
            "bin_end": 0.2,
            "bin_start": 0.1,
            "count": 0
           },
           {
            "bin_end": 0.30000000000000004,
            "bin_start": 0.2,
            "count": 0
           },
           {
            "bin_end": 0.4,
            "bin_start": 0.30000000000000004,
            "count": 0
           },
           {
            "bin_end": 0.5,
            "bin_start": 0.4,
            "count": 0
           },
           {
            "bin_end": 0.6000000000000001,
            "bin_start": 0.5,
            "count": 0
           },
           {
            "bin_end": 0.7000000000000001,
            "bin_start": 0.6000000000000001,
            "count": 0
           },
           {
            "bin_end": 0.8,
            "bin_start": 0.7000000000000001,
            "count": 0
           },
           {
            "bin_end": 0.9,
            "bin_start": 0.8,
            "count": 0
           },
           {
            "bin_end": 1,
            "bin_start": 0.9,
            "count": 16
           }
          ],
          "max": "1",
          "min": "0",
          "nan_count": 0,
          "unique_count": 2
         }
        },
        {
         "dtype": "uint8",
         "name": "FR_lack",
         "stats": {
          "histogram": [
           {
            "bin_end": 0.1,
            "bin_start": 0,
            "count": 64
           },
           {
            "bin_end": 0.2,
            "bin_start": 0.1,
            "count": 0
           },
           {
            "bin_end": 0.30000000000000004,
            "bin_start": 0.2,
            "count": 0
           },
           {
            "bin_end": 0.4,
            "bin_start": 0.30000000000000004,
            "count": 0
           },
           {
            "bin_end": 0.5,
            "bin_start": 0.4,
            "count": 0
           },
           {
            "bin_end": 0.6000000000000001,
            "bin_start": 0.5,
            "count": 0
           },
           {
            "bin_end": 0.7000000000000001,
            "bin_start": 0.6000000000000001,
            "count": 0
           },
           {
            "bin_end": 0.8,
            "bin_start": 0.7000000000000001,
            "count": 0
           },
           {
            "bin_end": 0.9,
            "bin_start": 0.8,
            "count": 0
           },
           {
            "bin_end": 1,
            "bin_start": 0.9,
            "count": 125
           }
          ],
          "max": "1",
          "min": "0",
          "nan_count": 0,
          "unique_count": 2
         }
        },
        {
         "dtype": "uint8",
         "name": "FR_remove",
         "stats": {
          "histogram": [
           {
            "bin_end": 0.1,
            "bin_start": 0,
            "count": 156
           },
           {
            "bin_end": 0.2,
            "bin_start": 0.1,
            "count": 0
           },
           {
            "bin_end": 0.30000000000000004,
            "bin_start": 0.2,
            "count": 0
           },
           {
            "bin_end": 0.4,
            "bin_start": 0.30000000000000004,
            "count": 0
           },
           {
            "bin_end": 0.5,
            "bin_start": 0.4,
            "count": 0
           },
           {
            "bin_end": 0.6000000000000001,
            "bin_start": 0.5,
            "count": 0
           },
           {
            "bin_end": 0.7000000000000001,
            "bin_start": 0.6000000000000001,
            "count": 0
           },
           {
            "bin_end": 0.8,
            "bin_start": 0.7000000000000001,
            "count": 0
           },
           {
            "bin_end": 0.9,
            "bin_start": 0.8,
            "count": 0
           },
           {
            "bin_end": 1,
            "bin_start": 0.9,
            "count": 33
           }
          ],
          "max": "1",
          "min": "0",
          "nan_count": 0,
          "unique_count": 2
         }
        },
        {
         "dtype": "uint8",
         "name": "OR_large access",
         "stats": {
          "histogram": [
           {
            "bin_end": 0.1,
            "bin_start": 0,
            "count": 48
           },
           {
            "bin_end": 0.2,
            "bin_start": 0.1,
            "count": 0
           },
           {
            "bin_end": 0.30000000000000004,
            "bin_start": 0.2,
            "count": 0
           },
           {
            "bin_end": 0.4,
            "bin_start": 0.30000000000000004,
            "count": 0
           },
           {
            "bin_end": 0.5,
            "bin_start": 0.4,
            "count": 0
           },
           {
            "bin_end": 0.6000000000000001,
            "bin_start": 0.5,
            "count": 0
           },
           {
            "bin_end": 0.7000000000000001,
            "bin_start": 0.6000000000000001,
            "count": 0
           },
           {
            "bin_end": 0.8,
            "bin_start": 0.7000000000000001,
            "count": 0
           },
           {
            "bin_end": 0.9,
            "bin_start": 0.8,
            "count": 0
           },
           {
            "bin_end": 1,
            "bin_start": 0.9,
            "count": 141
           }
          ],
          "max": "1",
          "min": "0",
          "nan_count": 0,
          "unique_count": 2
         }
        },
        {
         "dtype": "uint8",
         "name": "OR_low access",
         "stats": {
          "histogram": [
           {
            "bin_end": 0.1,
            "bin_start": 0,
            "count": 173
           },
           {
            "bin_end": 0.2,
            "bin_start": 0.1,
            "count": 0
           },
           {
            "bin_end": 0.30000000000000004,
            "bin_start": 0.2,
            "count": 0
           },
           {
            "bin_end": 0.4,
            "bin_start": 0.30000000000000004,
            "count": 0
           },
           {
            "bin_end": 0.5,
            "bin_start": 0.4,
            "count": 0
           },
           {
            "bin_end": 0.6000000000000001,
            "bin_start": 0.5,
            "count": 0
           },
           {
            "bin_end": 0.7000000000000001,
            "bin_start": 0.6000000000000001,
            "count": 0
           },
           {
            "bin_end": 0.8,
            "bin_start": 0.7000000000000001,
            "count": 0
           },
           {
            "bin_end": 0.9,
            "bin_start": 0.8,
            "count": 0
           },
           {
            "bin_end": 1,
            "bin_start": 0.9,
            "count": 16
           }
          ],
          "max": "1",
          "min": "0",
          "nan_count": 0,
          "unique_count": 2
         }
        },
        {
         "dtype": "uint8",
         "name": "OR_medium access",
         "stats": {
          "histogram": [
           {
            "bin_end": 0.1,
            "bin_start": 0,
            "count": 167
           },
           {
            "bin_end": 0.2,
            "bin_start": 0.1,
            "count": 0
           },
           {
            "bin_end": 0.30000000000000004,
            "bin_start": 0.2,
            "count": 0
           },
           {
            "bin_end": 0.4,
            "bin_start": 0.30000000000000004,
            "count": 0
           },
           {
            "bin_end": 0.5,
            "bin_start": 0.4,
            "count": 0
           },
           {
            "bin_end": 0.6000000000000001,
            "bin_start": 0.5,
            "count": 0
           },
           {
            "bin_end": 0.7000000000000001,
            "bin_start": 0.6000000000000001,
            "count": 0
           },
           {
            "bin_end": 0.8,
            "bin_start": 0.7000000000000001,
            "count": 0
           },
           {
            "bin_end": 0.9,
            "bin_start": 0.8,
            "count": 0
           },
           {
            "bin_end": 1,
            "bin_start": 0.9,
            "count": 22
           }
          ],
          "max": "1",
          "min": "0",
          "nan_count": 0,
          "unique_count": 2
         }
        },
        {
         "dtype": "uint8",
         "name": "OR_poor access",
         "stats": {
          "histogram": [
           {
            "bin_end": 0.1,
            "bin_start": 0,
            "count": 182
           },
           {
            "bin_end": 0.2,
            "bin_start": 0.1,
            "count": 0
           },
           {
            "bin_end": 0.30000000000000004,
            "bin_start": 0.2,
            "count": 0
           },
           {
            "bin_end": 0.4,
            "bin_start": 0.30000000000000004,
            "count": 0
           },
           {
            "bin_end": 0.5,
            "bin_start": 0.4,
            "count": 0
           },
           {
            "bin_end": 0.6000000000000001,
            "bin_start": 0.5,
            "count": 0
           },
           {
            "bin_end": 0.7000000000000001,
            "bin_start": 0.6000000000000001,
            "count": 0
           },
           {
            "bin_end": 0.8,
            "bin_start": 0.7000000000000001,
            "count": 0
           },
           {
            "bin_end": 0.9,
            "bin_start": 0.8,
            "count": 0
           },
           {
            "bin_end": 1,
            "bin_start": 0.9,
            "count": 7
           }
          ],
          "max": "1",
          "min": "0",
          "nan_count": 0,
          "unique_count": 2
         }
        },
        {
         "dtype": "uint8",
         "name": "OR_remove",
         "stats": {
          "histogram": [
           {
            "bin_end": 0.1,
            "bin_start": 0,
            "count": 186
           },
           {
            "bin_end": 0.2,
            "bin_start": 0.1,
            "count": 0
           },
           {
            "bin_end": 0.30000000000000004,
            "bin_start": 0.2,
            "count": 0
           },
           {
            "bin_end": 0.4,
            "bin_start": 0.30000000000000004,
            "count": 0
           },
           {
            "bin_end": 0.5,
            "bin_start": 0.4,
            "count": 0
           },
           {
            "bin_end": 0.6000000000000001,
            "bin_start": 0.5,
            "count": 0
           },
           {
            "bin_end": 0.7000000000000001,
            "bin_start": 0.6000000000000001,
            "count": 0
           },
           {
            "bin_end": 0.8,
            "bin_start": 0.7000000000000001,
            "count": 0
           },
           {
            "bin_end": 0.9,
            "bin_start": 0.8,
            "count": 0
           },
           {
            "bin_end": 1,
            "bin_start": 0.9,
            "count": 3
           }
          ],
          "max": "1",
          "min": "0",
          "nan_count": 0,
          "unique_count": 2
         }
        },
        {
         "dtype": "uint8",
         "name": "RR_100-200 m",
         "stats": {
          "histogram": [
           {
            "bin_end": 0.1,
            "bin_start": 0,
            "count": 150
           },
           {
            "bin_end": 0.2,
            "bin_start": 0.1,
            "count": 0
           },
           {
            "bin_end": 0.30000000000000004,
            "bin_start": 0.2,
            "count": 0
           },
           {
            "bin_end": 0.4,
            "bin_start": 0.30000000000000004,
            "count": 0
           },
           {
            "bin_end": 0.5,
            "bin_start": 0.4,
            "count": 0
           },
           {
            "bin_end": 0.6000000000000001,
            "bin_start": 0.5,
            "count": 0
           },
           {
            "bin_end": 0.7000000000000001,
            "bin_start": 0.6000000000000001,
            "count": 0
           },
           {
            "bin_end": 0.8,
            "bin_start": 0.7000000000000001,
            "count": 0
           },
           {
            "bin_end": 0.9,
            "bin_start": 0.8,
            "count": 0
           },
           {
            "bin_end": 1,
            "bin_start": 0.9,
            "count": 39
           }
          ],
          "max": "1",
          "min": "0",
          "nan_count": 0,
          "unique_count": 2
         }
        },
        {
         "dtype": "uint8",
         "name": "RR_200-500 m",
         "stats": {
          "histogram": [
           {
            "bin_end": 0.1,
            "bin_start": 0,
            "count": 147
           },
           {
            "bin_end": 0.2,
            "bin_start": 0.1,
            "count": 0
           },
           {
            "bin_end": 0.30000000000000004,
            "bin_start": 0.2,
            "count": 0
           },
           {
            "bin_end": 0.4,
            "bin_start": 0.30000000000000004,
            "count": 0
           },
           {
            "bin_end": 0.5,
            "bin_start": 0.4,
            "count": 0
           },
           {
            "bin_end": 0.6000000000000001,
            "bin_start": 0.5,
            "count": 0
           },
           {
            "bin_end": 0.7000000000000001,
            "bin_start": 0.6000000000000001,
            "count": 0
           },
           {
            "bin_end": 0.8,
            "bin_start": 0.7000000000000001,
            "count": 0
           },
           {
            "bin_end": 0.9,
            "bin_start": 0.8,
            "count": 0
           },
           {
            "bin_end": 1,
            "bin_start": 0.9,
            "count": 42
           }
          ],
          "max": "1",
          "min": "0",
          "nan_count": 0,
          "unique_count": 2
         }
        },
        {
         "dtype": "uint8",
         "name": "RR_50-100 m",
         "stats": {
          "histogram": [
           {
            "bin_end": 0.1,
            "bin_start": 0,
            "count": 139
           },
           {
            "bin_end": 0.2,
            "bin_start": 0.1,
            "count": 0
           },
           {
            "bin_end": 0.30000000000000004,
            "bin_start": 0.2,
            "count": 0
           },
           {
            "bin_end": 0.4,
            "bin_start": 0.30000000000000004,
            "count": 0
           },
           {
            "bin_end": 0.5,
            "bin_start": 0.4,
            "count": 0
           },
           {
            "bin_end": 0.6000000000000001,
            "bin_start": 0.5,
            "count": 0
           },
           {
            "bin_end": 0.7000000000000001,
            "bin_start": 0.6000000000000001,
            "count": 0
           },
           {
            "bin_end": 0.8,
            "bin_start": 0.7000000000000001,
            "count": 0
           },
           {
            "bin_end": 0.9,
            "bin_start": 0.8,
            "count": 0
           },
           {
            "bin_end": 1,
            "bin_start": 0.9,
            "count": 50
           }
          ],
          "max": "1",
          "min": "0",
          "nan_count": 0,
          "unique_count": 2
         }
        },
        {
         "dtype": "uint8",
         "name": "RR_500-1000 m",
         "stats": {
          "histogram": [
           {
            "bin_end": 0.1,
            "bin_start": 0,
            "count": 182
           },
           {
            "bin_end": 0.2,
            "bin_start": 0.1,
            "count": 0
           },
           {
            "bin_end": 0.30000000000000004,
            "bin_start": 0.2,
            "count": 0
           },
           {
            "bin_end": 0.4,
            "bin_start": 0.30000000000000004,
            "count": 0
           },
           {
            "bin_end": 0.5,
            "bin_start": 0.4,
            "count": 0
           },
           {
            "bin_end": 0.6000000000000001,
            "bin_start": 0.5,
            "count": 0
           },
           {
            "bin_end": 0.7000000000000001,
            "bin_start": 0.6000000000000001,
            "count": 0
           },
           {
            "bin_end": 0.8,
            "bin_start": 0.7000000000000001,
            "count": 0
           },
           {
            "bin_end": 0.9,
            "bin_start": 0.8,
            "count": 0
           },
           {
            "bin_end": 1,
            "bin_start": 0.9,
            "count": 7
           }
          ],
          "max": "1",
          "min": "0",
          "nan_count": 0,
          "unique_count": 2
         }
        },
        {
         "dtype": "uint8",
         "name": "RR_<50 m",
         "stats": {
          "histogram": [
           {
            "bin_end": 0.1,
            "bin_start": 0,
            "count": 142
           },
           {
            "bin_end": 0.2,
            "bin_start": 0.1,
            "count": 0
           },
           {
            "bin_end": 0.30000000000000004,
            "bin_start": 0.2,
            "count": 0
           },
           {
            "bin_end": 0.4,
            "bin_start": 0.30000000000000004,
            "count": 0
           },
           {
            "bin_end": 0.5,
            "bin_start": 0.4,
            "count": 0
           },
           {
            "bin_end": 0.6000000000000001,
            "bin_start": 0.5,
            "count": 0
           },
           {
            "bin_end": 0.7000000000000001,
            "bin_start": 0.6000000000000001,
            "count": 0
           },
           {
            "bin_end": 0.8,
            "bin_start": 0.7000000000000001,
            "count": 0
           },
           {
            "bin_end": 0.9,
            "bin_start": 0.8,
            "count": 0
           },
           {
            "bin_end": 1,
            "bin_start": 0.9,
            "count": 47
           }
          ],
          "max": "1",
          "min": "0",
          "nan_count": 0,
          "unique_count": 2
         }
        },
        {
         "dtype": "uint8",
         "name": "RR_>10000",
         "stats": {
          "histogram": [
           {
            "bin_end": 0.1,
            "bin_start": 0,
            "count": 185
           },
           {
            "bin_end": 0.2,
            "bin_start": 0.1,
            "count": 0
           },
           {
            "bin_end": 0.30000000000000004,
            "bin_start": 0.2,
            "count": 0
           },
           {
            "bin_end": 0.4,
            "bin_start": 0.30000000000000004,
            "count": 0
           },
           {
            "bin_end": 0.5,
            "bin_start": 0.4,
            "count": 0
           },
           {
            "bin_end": 0.6000000000000001,
            "bin_start": 0.5,
            "count": 0
           },
           {
            "bin_end": 0.7000000000000001,
            "bin_start": 0.6000000000000001,
            "count": 0
           },
           {
            "bin_end": 0.8,
            "bin_start": 0.7000000000000001,
            "count": 0
           },
           {
            "bin_end": 0.9,
            "bin_start": 0.8,
            "count": 0
           },
           {
            "bin_end": 1,
            "bin_start": 0.9,
            "count": 4
           }
          ],
          "max": "1",
          "min": "0",
          "nan_count": 0,
          "unique_count": 2
         }
        },
        {
         "dtype": "uint8",
         "name": "BR_100-200 m",
         "stats": {
          "histogram": [
           {
            "bin_end": 0.1,
            "bin_start": 0,
            "count": 160
           },
           {
            "bin_end": 0.2,
            "bin_start": 0.1,
            "count": 0
           },
           {
            "bin_end": 0.30000000000000004,
            "bin_start": 0.2,
            "count": 0
           },
           {
            "bin_end": 0.4,
            "bin_start": 0.30000000000000004,
            "count": 0
           },
           {
            "bin_end": 0.5,
            "bin_start": 0.4,
            "count": 0
           },
           {
            "bin_end": 0.6000000000000001,
            "bin_start": 0.5,
            "count": 0
           },
           {
            "bin_end": 0.7000000000000001,
            "bin_start": 0.6000000000000001,
            "count": 0
           },
           {
            "bin_end": 0.8,
            "bin_start": 0.7000000000000001,
            "count": 0
           },
           {
            "bin_end": 0.9,
            "bin_start": 0.8,
            "count": 0
           },
           {
            "bin_end": 1,
            "bin_start": 0.9,
            "count": 29
           }
          ],
          "max": "1",
          "min": "0",
          "nan_count": 0,
          "unique_count": 2
         }
        },
        {
         "dtype": "uint8",
         "name": "BR_200-500 m",
         "stats": {
          "histogram": [
           {
            "bin_end": 0.1,
            "bin_start": 0,
            "count": 143
           },
           {
            "bin_end": 0.2,
            "bin_start": 0.1,
            "count": 0
           },
           {
            "bin_end": 0.30000000000000004,
            "bin_start": 0.2,
            "count": 0
           },
           {
            "bin_end": 0.4,
            "bin_start": 0.30000000000000004,
            "count": 0
           },
           {
            "bin_end": 0.5,
            "bin_start": 0.4,
            "count": 0
           },
           {
            "bin_end": 0.6000000000000001,
            "bin_start": 0.5,
            "count": 0
           },
           {
            "bin_end": 0.7000000000000001,
            "bin_start": 0.6000000000000001,
            "count": 0
           },
           {
            "bin_end": 0.8,
            "bin_start": 0.7000000000000001,
            "count": 0
           },
           {
            "bin_end": 0.9,
            "bin_start": 0.8,
            "count": 0
           },
           {
            "bin_end": 1,
            "bin_start": 0.9,
            "count": 46
           }
          ],
          "max": "1",
          "min": "0",
          "nan_count": 0,
          "unique_count": 2
         }
        },
        {
         "dtype": "uint8",
         "name": "BR_50-100 m",
         "stats": {
          "histogram": [
           {
            "bin_end": 0.1,
            "bin_start": 0,
            "count": 127
           },
           {
            "bin_end": 0.2,
            "bin_start": 0.1,
            "count": 0
           },
           {
            "bin_end": 0.30000000000000004,
            "bin_start": 0.2,
            "count": 0
           },
           {
            "bin_end": 0.4,
            "bin_start": 0.30000000000000004,
            "count": 0
           },
           {
            "bin_end": 0.5,
            "bin_start": 0.4,
            "count": 0
           },
           {
            "bin_end": 0.6000000000000001,
            "bin_start": 0.5,
            "count": 0
           },
           {
            "bin_end": 0.7000000000000001,
            "bin_start": 0.6000000000000001,
            "count": 0
           },
           {
            "bin_end": 0.8,
            "bin_start": 0.7000000000000001,
            "count": 0
           },
           {
            "bin_end": 0.9,
            "bin_start": 0.8,
            "count": 0
           },
           {
            "bin_end": 1,
            "bin_start": 0.9,
            "count": 62
           }
          ],
          "max": "1",
          "min": "0",
          "nan_count": 0,
          "unique_count": 2
         }
        },
        {
         "dtype": "uint8",
         "name": "BR_500-1000 m",
         "stats": {
          "histogram": [
           {
            "bin_end": 0.1,
            "bin_start": 0,
            "count": 182
           },
           {
            "bin_end": 0.2,
            "bin_start": 0.1,
            "count": 0
           },
           {
            "bin_end": 0.30000000000000004,
            "bin_start": 0.2,
            "count": 0
           },
           {
            "bin_end": 0.4,
            "bin_start": 0.30000000000000004,
            "count": 0
           },
           {
            "bin_end": 0.5,
            "bin_start": 0.4,
            "count": 0
           },
           {
            "bin_end": 0.6000000000000001,
            "bin_start": 0.5,
            "count": 0
           },
           {
            "bin_end": 0.7000000000000001,
            "bin_start": 0.6000000000000001,
            "count": 0
           },
           {
            "bin_end": 0.8,
            "bin_start": 0.7000000000000001,
            "count": 0
           },
           {
            "bin_end": 0.9,
            "bin_start": 0.8,
            "count": 0
           },
           {
            "bin_end": 1,
            "bin_start": 0.9,
            "count": 7
           }
          ],
          "max": "1",
          "min": "0",
          "nan_count": 0,
          "unique_count": 2
         }
        },
        {
         "dtype": "uint8",
         "name": "BR_<50 m",
         "stats": {
          "histogram": [
           {
            "bin_end": 0.1,
            "bin_start": 0,
            "count": 150
           },
           {
            "bin_end": 0.2,
            "bin_start": 0.1,
            "count": 0
           },
           {
            "bin_end": 0.30000000000000004,
            "bin_start": 0.2,
            "count": 0
           },
           {
            "bin_end": 0.4,
            "bin_start": 0.30000000000000004,
            "count": 0
           },
           {
            "bin_end": 0.5,
            "bin_start": 0.4,
            "count": 0
           },
           {
            "bin_end": 0.6000000000000001,
            "bin_start": 0.5,
            "count": 0
           },
           {
            "bin_end": 0.7000000000000001,
            "bin_start": 0.6000000000000001,
            "count": 0
           },
           {
            "bin_end": 0.8,
            "bin_start": 0.7000000000000001,
            "count": 0
           },
           {
            "bin_end": 0.9,
            "bin_start": 0.8,
            "count": 0
           },
           {
            "bin_end": 1,
            "bin_start": 0.9,
            "count": 39
           }
          ],
          "max": "1",
          "min": "0",
          "nan_count": 0,
          "unique_count": 2
         }
        },
        {
         "dtype": "uint8",
         "name": "BR_>10000",
         "stats": {
          "histogram": [
           {
            "bin_end": 0.1,
            "bin_start": 0,
            "count": 183
           },
           {
            "bin_end": 0.2,
            "bin_start": 0.1,
            "count": 0
           },
           {
            "bin_end": 0.30000000000000004,
            "bin_start": 0.2,
            "count": 0
           },
           {
            "bin_end": 0.4,
            "bin_start": 0.30000000000000004,
            "count": 0
           },
           {
            "bin_end": 0.5,
            "bin_start": 0.4,
            "count": 0
           },
           {
            "bin_end": 0.6000000000000001,
            "bin_start": 0.5,
            "count": 0
           },
           {
            "bin_end": 0.7000000000000001,
            "bin_start": 0.6000000000000001,
            "count": 0
           },
           {
            "bin_end": 0.8,
            "bin_start": 0.7000000000000001,
            "count": 0
           },
           {
            "bin_end": 0.9,
            "bin_start": 0.8,
            "count": 0
           },
           {
            "bin_end": 1,
            "bin_start": 0.9,
            "count": 6
           }
          ],
          "max": "1",
          "min": "0",
          "nan_count": 0,
          "unique_count": 2
         }
        },
        {
         "dtype": "uint8",
         "name": "MR_Clean",
         "stats": {
          "histogram": [
           {
            "bin_end": 0.1,
            "bin_start": 0,
            "count": 5
           },
           {
            "bin_end": 0.2,
            "bin_start": 0.1,
            "count": 0
           },
           {
            "bin_end": 0.30000000000000004,
            "bin_start": 0.2,
            "count": 0
           },
           {
            "bin_end": 0.4,
            "bin_start": 0.30000000000000004,
            "count": 0
           },
           {
            "bin_end": 0.5,
            "bin_start": 0.4,
            "count": 0
           },
           {
            "bin_end": 0.6000000000000001,
            "bin_start": 0.5,
            "count": 0
           },
           {
            "bin_end": 0.7000000000000001,
            "bin_start": 0.6000000000000001,
            "count": 0
           },
           {
            "bin_end": 0.8,
            "bin_start": 0.7000000000000001,
            "count": 0
           },
           {
            "bin_end": 0.9,
            "bin_start": 0.8,
            "count": 0
           },
           {
            "bin_end": 1,
            "bin_start": 0.9,
            "count": 184
           }
          ],
          "max": "1",
          "min": "0",
          "nan_count": 0,
          "unique_count": 2
         }
        },
        {
         "dtype": "uint8",
         "name": "MR_heavily littered",
         "stats": {
          "histogram": [
           {
            "bin_end": 0.1,
            "bin_start": 0,
            "count": 185
           },
           {
            "bin_end": 0.2,
            "bin_start": 0.1,
            "count": 0
           },
           {
            "bin_end": 0.30000000000000004,
            "bin_start": 0.2,
            "count": 0
           },
           {
            "bin_end": 0.4,
            "bin_start": 0.30000000000000004,
            "count": 0
           },
           {
            "bin_end": 0.5,
            "bin_start": 0.4,
            "count": 0
           },
           {
            "bin_end": 0.6000000000000001,
            "bin_start": 0.5,
            "count": 0
           },
           {
            "bin_end": 0.7000000000000001,
            "bin_start": 0.6000000000000001,
            "count": 0
           },
           {
            "bin_end": 0.8,
            "bin_start": 0.7000000000000001,
            "count": 0
           },
           {
            "bin_end": 0.9,
            "bin_start": 0.8,
            "count": 0
           },
           {
            "bin_end": 1,
            "bin_start": 0.9,
            "count": 4
           }
          ],
          "max": "1",
          "min": "0",
          "nan_count": 0,
          "unique_count": 2
         }
        },
        {
         "dtype": "uint8",
         "name": "MR_slightly littered",
         "stats": {
          "histogram": [
           {
            "bin_end": 0.1,
            "bin_start": 0,
            "count": 188
           },
           {
            "bin_end": 0.2,
            "bin_start": 0.1,
            "count": 0
           },
           {
            "bin_end": 0.30000000000000004,
            "bin_start": 0.2,
            "count": 0
           },
           {
            "bin_end": 0.4,
            "bin_start": 0.30000000000000004,
            "count": 0
           },
           {
            "bin_end": 0.5,
            "bin_start": 0.4,
            "count": 0
           },
           {
            "bin_end": 0.6000000000000001,
            "bin_start": 0.5,
            "count": 0
           },
           {
            "bin_end": 0.7000000000000001,
            "bin_start": 0.6000000000000001,
            "count": 0
           },
           {
            "bin_end": 0.8,
            "bin_start": 0.7000000000000001,
            "count": 0
           },
           {
            "bin_end": 0.9,
            "bin_start": 0.8,
            "count": 0
           },
           {
            "bin_end": 1,
            "bin_start": 0.9,
            "count": 1
           }
          ],
          "max": "1",
          "min": "0",
          "nan_count": 0,
          "unique_count": 2
         }
        },
        {
         "dtype": "uint8",
         "name": "CR_Concrete",
         "stats": {
          "histogram": [
           {
            "bin_end": 0.1,
            "bin_start": 0,
            "count": 186
           },
           {
            "bin_end": 0.2,
            "bin_start": 0.1,
            "count": 0
           },
           {
            "bin_end": 0.30000000000000004,
            "bin_start": 0.2,
            "count": 0
           },
           {
            "bin_end": 0.4,
            "bin_start": 0.30000000000000004,
            "count": 0
           },
           {
            "bin_end": 0.5,
            "bin_start": 0.4,
            "count": 0
           },
           {
            "bin_end": 0.6000000000000001,
            "bin_start": 0.5,
            "count": 0
           },
           {
            "bin_end": 0.7000000000000001,
            "bin_start": 0.6000000000000001,
            "count": 0
           },
           {
            "bin_end": 0.8,
            "bin_start": 0.7000000000000001,
            "count": 0
           },
           {
            "bin_end": 0.9,
            "bin_start": 0.8,
            "count": 0
           },
           {
            "bin_end": 1,
            "bin_start": 0.9,
            "count": 3
           }
          ],
          "max": "1",
          "min": "0",
          "nan_count": 0,
          "unique_count": 2
         }
        },
        {
         "dtype": "uint8",
         "name": "CR_Natural",
         "stats": {
          "histogram": [
           {
            "bin_end": 0.1,
            "bin_start": 0,
            "count": 3
           },
           {
            "bin_end": 0.2,
            "bin_start": 0.1,
            "count": 0
           },
           {
            "bin_end": 0.30000000000000004,
            "bin_start": 0.2,
            "count": 0
           },
           {
            "bin_end": 0.4,
            "bin_start": 0.30000000000000004,
            "count": 0
           },
           {
            "bin_end": 0.5,
            "bin_start": 0.4,
            "count": 0
           },
           {
            "bin_end": 0.6000000000000001,
            "bin_start": 0.5,
            "count": 0
           },
           {
            "bin_end": 0.7000000000000001,
            "bin_start": 0.6000000000000001,
            "count": 0
           },
           {
            "bin_end": 0.8,
            "bin_start": 0.7000000000000001,
            "count": 0
           },
           {
            "bin_end": 0.9,
            "bin_start": 0.8,
            "count": 0
           },
           {
            "bin_end": 1,
            "bin_start": 0.9,
            "count": 186
           }
          ],
          "max": "1",
          "min": "0",
          "nan_count": 0,
          "unique_count": 2
         }
        },
        {
         "dtype": "int64",
         "name": "Green frogs",
         "stats": {
          "histogram": [
           {
            "bin_end": 0.1,
            "bin_start": 0,
            "count": 81
           },
           {
            "bin_end": 0.2,
            "bin_start": 0.1,
            "count": 0
           },
           {
            "bin_end": 0.30000000000000004,
            "bin_start": 0.2,
            "count": 0
           },
           {
            "bin_end": 0.4,
            "bin_start": 0.30000000000000004,
            "count": 0
           },
           {
            "bin_end": 0.5,
            "bin_start": 0.4,
            "count": 0
           },
           {
            "bin_end": 0.6000000000000001,
            "bin_start": 0.5,
            "count": 0
           },
           {
            "bin_end": 0.7000000000000001,
            "bin_start": 0.6000000000000001,
            "count": 0
           },
           {
            "bin_end": 0.8,
            "bin_start": 0.7000000000000001,
            "count": 0
           },
           {
            "bin_end": 0.9,
            "bin_start": 0.8,
            "count": 0
           },
           {
            "bin_end": 1,
            "bin_start": 0.9,
            "count": 108
           }
          ],
          "max": "1",
          "min": "0",
          "nan_count": 0,
          "unique_count": 2
         }
        },
        {
         "dtype": "int64",
         "name": "Brown frogs",
         "stats": {
          "histogram": [
           {
            "bin_end": 0.1,
            "bin_start": 0,
            "count": 41
           },
           {
            "bin_end": 0.2,
            "bin_start": 0.1,
            "count": 0
           },
           {
            "bin_end": 0.30000000000000004,
            "bin_start": 0.2,
            "count": 0
           },
           {
            "bin_end": 0.4,
            "bin_start": 0.30000000000000004,
            "count": 0
           },
           {
            "bin_end": 0.5,
            "bin_start": 0.4,
            "count": 0
           },
           {
            "bin_end": 0.6000000000000001,
            "bin_start": 0.5,
            "count": 0
           },
           {
            "bin_end": 0.7000000000000001,
            "bin_start": 0.6000000000000001,
            "count": 0
           },
           {
            "bin_end": 0.8,
            "bin_start": 0.7000000000000001,
            "count": 0
           },
           {
            "bin_end": 0.9,
            "bin_start": 0.8,
            "count": 0
           },
           {
            "bin_end": 1,
            "bin_start": 0.9,
            "count": 148
           }
          ],
          "max": "1",
          "min": "0",
          "nan_count": 0,
          "unique_count": 2
         }
        },
        {
         "dtype": "int64",
         "name": "Common toad",
         "stats": {
          "histogram": [
           {
            "bin_end": 0.1,
            "bin_start": 0,
            "count": 65
           },
           {
            "bin_end": 0.2,
            "bin_start": 0.1,
            "count": 0
           },
           {
            "bin_end": 0.30000000000000004,
            "bin_start": 0.2,
            "count": 0
           },
           {
            "bin_end": 0.4,
            "bin_start": 0.30000000000000004,
            "count": 0
           },
           {
            "bin_end": 0.5,
            "bin_start": 0.4,
            "count": 0
           },
           {
            "bin_end": 0.6000000000000001,
            "bin_start": 0.5,
            "count": 0
           },
           {
            "bin_end": 0.7000000000000001,
            "bin_start": 0.6000000000000001,
            "count": 0
           },
           {
            "bin_end": 0.8,
            "bin_start": 0.7000000000000001,
            "count": 0
           },
           {
            "bin_end": 0.9,
            "bin_start": 0.8,
            "count": 0
           },
           {
            "bin_end": 1,
            "bin_start": 0.9,
            "count": 124
           }
          ],
          "max": "1",
          "min": "0",
          "nan_count": 0,
          "unique_count": 2
         }
        },
        {
         "dtype": "int64",
         "name": "Fire-bellied toad",
         "stats": {
          "histogram": [
           {
            "bin_end": 0.1,
            "bin_start": 0,
            "count": 131
           },
           {
            "bin_end": 0.2,
            "bin_start": 0.1,
            "count": 0
           },
           {
            "bin_end": 0.30000000000000004,
            "bin_start": 0.2,
            "count": 0
           },
           {
            "bin_end": 0.4,
            "bin_start": 0.30000000000000004,
            "count": 0
           },
           {
            "bin_end": 0.5,
            "bin_start": 0.4,
            "count": 0
           },
           {
            "bin_end": 0.6000000000000001,
            "bin_start": 0.5,
            "count": 0
           },
           {
            "bin_end": 0.7000000000000001,
            "bin_start": 0.6000000000000001,
            "count": 0
           },
           {
            "bin_end": 0.8,
            "bin_start": 0.7000000000000001,
            "count": 0
           },
           {
            "bin_end": 0.9,
            "bin_start": 0.8,
            "count": 0
           },
           {
            "bin_end": 1,
            "bin_start": 0.9,
            "count": 58
           }
          ],
          "max": "1",
          "min": "0",
          "nan_count": 0,
          "unique_count": 2
         }
        },
        {
         "dtype": "int64",
         "name": "Tree frog",
         "stats": {
          "histogram": [
           {
            "bin_end": 0.1,
            "bin_start": 0,
            "count": 118
           },
           {
            "bin_end": 0.2,
            "bin_start": 0.1,
            "count": 0
           },
           {
            "bin_end": 0.30000000000000004,
            "bin_start": 0.2,
            "count": 0
           },
           {
            "bin_end": 0.4,
            "bin_start": 0.30000000000000004,
            "count": 0
           },
           {
            "bin_end": 0.5,
            "bin_start": 0.4,
            "count": 0
           },
           {
            "bin_end": 0.6000000000000001,
            "bin_start": 0.5,
            "count": 0
           },
           {
            "bin_end": 0.7000000000000001,
            "bin_start": 0.6000000000000001,
            "count": 0
           },
           {
            "bin_end": 0.8,
            "bin_start": 0.7000000000000001,
            "count": 0
           },
           {
            "bin_end": 0.9,
            "bin_start": 0.8,
            "count": 0
           },
           {
            "bin_end": 1,
            "bin_start": 0.9,
            "count": 71
           }
          ],
          "max": "1",
          "min": "0",
          "nan_count": 0,
          "unique_count": 2
         }
        },
        {
         "dtype": "int64",
         "name": "Common newt",
         "stats": {
          "histogram": [
           {
            "bin_end": 0.1,
            "bin_start": 0,
            "count": 131
           },
           {
            "bin_end": 0.2,
            "bin_start": 0.1,
            "count": 0
           },
           {
            "bin_end": 0.30000000000000004,
            "bin_start": 0.2,
            "count": 0
           },
           {
            "bin_end": 0.4,
            "bin_start": 0.30000000000000004,
            "count": 0
           },
           {
            "bin_end": 0.5,
            "bin_start": 0.4,
            "count": 0
           },
           {
            "bin_end": 0.6000000000000001,
            "bin_start": 0.5,
            "count": 0
           },
           {
            "bin_end": 0.7000000000000001,
            "bin_start": 0.6000000000000001,
            "count": 0
           },
           {
            "bin_end": 0.8,
            "bin_start": 0.7000000000000001,
            "count": 0
           },
           {
            "bin_end": 0.9,
            "bin_start": 0.8,
            "count": 0
           },
           {
            "bin_end": 1,
            "bin_start": 0.9,
            "count": 58
           }
          ],
          "max": "1",
          "min": "0",
          "nan_count": 0,
          "unique_count": 2
         }
        },
        {
         "dtype": "int64",
         "name": "Great crested newt",
         "stats": {
          "histogram": [
           {
            "bin_end": 0.1,
            "bin_start": 0,
            "count": 168
           },
           {
            "bin_end": 0.2,
            "bin_start": 0.1,
            "count": 0
           },
           {
            "bin_end": 0.30000000000000004,
            "bin_start": 0.2,
            "count": 0
           },
           {
            "bin_end": 0.4,
            "bin_start": 0.30000000000000004,
            "count": 0
           },
           {
            "bin_end": 0.5,
            "bin_start": 0.4,
            "count": 0
           },
           {
            "bin_end": 0.6000000000000001,
            "bin_start": 0.5,
            "count": 0
           },
           {
            "bin_end": 0.7000000000000001,
            "bin_start": 0.6000000000000001,
            "count": 0
           },
           {
            "bin_end": 0.8,
            "bin_start": 0.7000000000000001,
            "count": 0
           },
           {
            "bin_end": 0.9,
            "bin_start": 0.8,
            "count": 0
           },
           {
            "bin_end": 1,
            "bin_start": 0.9,
            "count": 21
           }
          ],
          "max": "1",
          "min": "0",
          "nan_count": 0,
          "unique_count": 2
         }
        },
        {
         "dtype": "int64",
         "name": "_deepnote_index_column"
        }
       ],
       "row_count": 189,
       "rows_bottom": [
        {
         "BR_100-200 m": 0,
         "BR_200-500 m": 0,
         "BR_50-100 m": 1,
         "BR_500-1000 m": 0,
         "BR_<50 m": 0,
         "BR_>10000": 0,
         "Brown frogs": 1,
         "CR_Concrete": 0,
         "CR_Natural": 1,
         "Common newt": 0,
         "Common toad": 1,
         "FR_breeding reservoirs": 0,
         "FR_intense fishing": 0,
         "FR_lack": 0,
         "FR_remove": 1,
         "Fire-bellied toad": 0,
         "Great crested newt": 0,
         "Green frogs": 1,
         "MR_Clean": 1,
         "MR_heavily littered": 0,
         "MR_slightly littered": 0,
         "Motorway_A1": 0,
         "Motorway_S52": 1,
         "NR": -0.36754354504500236,
         "OR_large access": 1,
         "OR_low access": 0,
         "OR_medium access": 0,
         "OR_poor access": 0,
         "OR_remove": 0,
         "RR_100-200 m": 0,
         "RR_200-500 m": 0,
         "RR_50-100 m": 1,
         "RR_500-1000 m": 0,
         "RR_<50 m": 0,
         "RR_>10000": 0,
         "SR": -0.20122510476033484,
         "SUR1_agricultural": 0,
         "SUR1_forest areas": 0,
         "SUR1_gardens": 0,
         "SUR1_industrial areas": 0,
         "SUR1_meadows": 1,
         "SUR1_orchards": 0,
         "SUR1_river valleys": 0,
         "SUR1_roads": 0,
         "SUR2_agricultural": 0,
         "SUR2_forest areas": 0,
         "SUR2_industrial areas": 1,
         "SUR2_meadows": 0,
         "SUR2_orchards": 0,
         "SUR2_river valleys": 0,
         "SUR2_roads": 0,
         "SUR3_agricultural": 0,
         "SUR3_forest areas": 0,
         "SUR3_industrial areas": 0,
         "SUR3_meadows": 0,
         "SUR3_orchards": 0,
         "SUR3_parks": 0,
         "SUR3_river valleys": 1,
         "SUR3_roads": 0,
         "TR_garden": 0,
         "TR_natural reservoirs": 1,
         "TR_recently formed": 0,
         "TR_river valleys": 0,
         "TR_small watercourses": 0,
         "TR_technological": 0,
         "TR_trenches": 0,
         "TR_wet meadows": 0,
         "Tree frog": 0,
         "UR_scenic": 1,
         "UR_technological": 0,
         "UR_unused": 0,
         "VR_heavily overgrown": 0,
         "VR_no vegetation": 1,
         "VR_patches at the edges": 0,
         "VR_reservoirs completely overgrown": 0,
         "VR_some part devoid of vegetation": 0,
         "_deepnote_index_column": 182
        },
        {
         "BR_100-200 m": 0,
         "BR_200-500 m": 0,
         "BR_50-100 m": 1,
         "BR_500-1000 m": 0,
         "BR_<50 m": 0,
         "BR_>10000": 0,
         "Brown frogs": 1,
         "CR_Concrete": 0,
         "CR_Natural": 1,
         "Common newt": 0,
         "Common toad": 1,
         "FR_breeding reservoirs": 0,
         "FR_intense fishing": 0,
         "FR_lack": 1,
         "FR_remove": 0,
         "Fire-bellied toad": 0,
         "Great crested newt": 0,
         "Green frogs": 0,
         "MR_Clean": 1,
         "MR_heavily littered": 0,
         "MR_slightly littered": 0,
         "Motorway_A1": 0,
         "Motorway_S52": 1,
         "NR": -0.36754354504500236,
         "OR_large access": 1,
         "OR_low access": 0,
         "OR_medium access": 0,
         "OR_poor access": 0,
         "OR_remove": 0,
         "RR_100-200 m": 0,
         "RR_200-500 m": 0,
         "RR_50-100 m": 1,
         "RR_500-1000 m": 0,
         "RR_<50 m": 0,
         "RR_>10000": 0,
         "SR": -0.12210697140330076,
         "SUR1_agricultural": 0,
         "SUR1_forest areas": 0,
         "SUR1_gardens": 0,
         "SUR1_industrial areas": 0,
         "SUR1_meadows": 1,
         "SUR1_orchards": 0,
         "SUR1_river valleys": 0,
         "SUR1_roads": 0,
         "SUR2_agricultural": 0,
         "SUR2_forest areas": 0,
         "SUR2_industrial areas": 1,
         "SUR2_meadows": 0,
         "SUR2_orchards": 0,
         "SUR2_river valleys": 0,
         "SUR2_roads": 0,
         "SUR3_agricultural": 0,
         "SUR3_forest areas": 0,
         "SUR3_industrial areas": 0,
         "SUR3_meadows": 0,
         "SUR3_orchards": 0,
         "SUR3_parks": 0,
         "SUR3_river valleys": 1,
         "SUR3_roads": 0,
         "TR_garden": 0,
         "TR_natural reservoirs": 0,
         "TR_recently formed": 0,
         "TR_river valleys": 0,
         "TR_small watercourses": 0,
         "TR_technological": 0,
         "TR_trenches": 0,
         "TR_wet meadows": 1,
         "Tree frog": 0,
         "UR_scenic": 0,
         "UR_technological": 0,
         "UR_unused": 1,
         "VR_heavily overgrown": 0,
         "VR_no vegetation": 0,
         "VR_patches at the edges": 0,
         "VR_reservoirs completely overgrown": 1,
         "VR_some part devoid of vegetation": 0,
         "_deepnote_index_column": 183
        },
        {
         "BR_100-200 m": 0,
         "BR_200-500 m": 0,
         "BR_50-100 m": 1,
         "BR_500-1000 m": 0,
         "BR_<50 m": 0,
         "BR_>10000": 0,
         "Brown frogs": 1,
         "CR_Concrete": 0,
         "CR_Natural": 1,
         "Common newt": 0,
         "Common toad": 0,
         "FR_breeding reservoirs": 0,
         "FR_intense fishing": 0,
         "FR_lack": 1,
         "FR_remove": 0,
         "Fire-bellied toad": 0,
         "Great crested newt": 0,
         "Green frogs": 0,
         "MR_Clean": 1,
         "MR_heavily littered": 0,
         "MR_slightly littered": 0,
         "Motorway_A1": 0,
         "Motorway_S52": 1,
         "NR": -0.36754354504500236,
         "OR_large access": 0,
         "OR_low access": 0,
         "OR_medium access": 1,
         "OR_poor access": 0,
         "OR_remove": 0,
         "RR_100-200 m": 1,
         "RR_200-500 m": 0,
         "RR_50-100 m": 0,
         "RR_500-1000 m": 0,
         "RR_<50 m": 0,
         "RR_>10000": 0,
         "SR": -0.15895651296685087,
         "SUR1_agricultural": 0,
         "SUR1_forest areas": 0,
         "SUR1_gardens": 0,
         "SUR1_industrial areas": 0,
         "SUR1_meadows": 1,
         "SUR1_orchards": 0,
         "SUR1_river valleys": 0,
         "SUR1_roads": 0,
         "SUR2_agricultural": 0,
         "SUR2_forest areas": 0,
         "SUR2_industrial areas": 0,
         "SUR2_meadows": 1,
         "SUR2_orchards": 0,
         "SUR2_river valleys": 0,
         "SUR2_roads": 0,
         "SUR3_agricultural": 0,
         "SUR3_forest areas": 1,
         "SUR3_industrial areas": 0,
         "SUR3_meadows": 0,
         "SUR3_orchards": 0,
         "SUR3_parks": 0,
         "SUR3_river valleys": 0,
         "SUR3_roads": 0,
         "TR_garden": 0,
         "TR_natural reservoirs": 0,
         "TR_recently formed": 0,
         "TR_river valleys": 0,
         "TR_small watercourses": 0,
         "TR_technological": 0,
         "TR_trenches": 0,
         "TR_wet meadows": 1,
         "Tree frog": 0,
         "UR_scenic": 0,
         "UR_technological": 0,
         "UR_unused": 1,
         "VR_heavily overgrown": 0,
         "VR_no vegetation": 0,
         "VR_patches at the edges": 0,
         "VR_reservoirs completely overgrown": 0,
         "VR_some part devoid of vegetation": 1,
         "_deepnote_index_column": 184
        },
        {
         "BR_100-200 m": 0,
         "BR_200-500 m": 1,
         "BR_50-100 m": 0,
         "BR_500-1000 m": 0,
         "BR_<50 m": 0,
         "BR_>10000": 0,
         "Brown frogs": 1,
         "CR_Concrete": 0,
         "CR_Natural": 1,
         "Common newt": 1,
         "Common toad": 1,
         "FR_breeding reservoirs": 0,
         "FR_intense fishing": 0,
         "FR_lack": 1,
         "FR_remove": 0,
         "Fire-bellied toad": 1,
         "Great crested newt": 0,
         "Green frogs": 1,
         "MR_Clean": 1,
         "MR_heavily littered": 0,
         "MR_slightly littered": 0,
         "Motorway_A1": 0,
         "Motorway_S52": 1,
         "NR": -0.36754354504500236,
         "OR_large access": 1,
         "OR_low access": 0,
         "OR_medium access": 0,
         "OR_poor access": 0,
         "OR_remove": 0,
         "RR_100-200 m": 0,
         "RR_200-500 m": 1,
         "RR_50-100 m": 0,
         "RR_500-1000 m": 0,
         "RR_<50 m": 0,
         "RR_>10000": 0,
         "SR": -0.2023089148063216,
         "SUR1_agricultural": 0,
         "SUR1_forest areas": 0,
         "SUR1_gardens": 0,
         "SUR1_industrial areas": 0,
         "SUR1_meadows": 0,
         "SUR1_orchards": 1,
         "SUR1_river valleys": 0,
         "SUR1_roads": 0,
         "SUR2_agricultural": 0,
         "SUR2_forest areas": 0,
         "SUR2_industrial areas": 0,
         "SUR2_meadows": 0,
         "SUR2_orchards": 0,
         "SUR2_river valleys": 1,
         "SUR2_roads": 0,
         "SUR3_agricultural": 0,
         "SUR3_forest areas": 0,
         "SUR3_industrial areas": 0,
         "SUR3_meadows": 1,
         "SUR3_orchards": 0,
         "SUR3_parks": 0,
         "SUR3_river valleys": 0,
         "SUR3_roads": 0,
         "TR_garden": 0,
         "TR_natural reservoirs": 0,
         "TR_recently formed": 0,
         "TR_river valleys": 1,
         "TR_small watercourses": 0,
         "TR_technological": 0,
         "TR_trenches": 0,
         "TR_wet meadows": 0,
         "Tree frog": 0,
         "UR_scenic": 0,
         "UR_technological": 0,
         "UR_unused": 1,
         "VR_heavily overgrown": 1,
         "VR_no vegetation": 0,
         "VR_patches at the edges": 0,
         "VR_reservoirs completely overgrown": 0,
         "VR_some part devoid of vegetation": 0,
         "_deepnote_index_column": 185
        },
        {
         "BR_100-200 m": 0,
         "BR_200-500 m": 1,
         "BR_50-100 m": 0,
         "BR_500-1000 m": 0,
         "BR_<50 m": 0,
         "BR_>10000": 0,
         "Brown frogs": 1,
         "CR_Concrete": 0,
         "CR_Natural": 1,
         "Common newt": 1,
         "Common toad": 1,
         "FR_breeding reservoirs": 0,
         "FR_intense fishing": 0,
         "FR_lack": 1,
         "FR_remove": 0,
         "Fire-bellied toad": 1,
         "Great crested newt": 0,
         "Green frogs": 1,
         "MR_Clean": 1,
         "MR_heavily littered": 0,
         "MR_slightly littered": 0,
         "Motorway_A1": 0,
         "Motorway_S52": 1,
         "NR": -0.36754354504500236,
         "OR_large access": 1,
         "OR_low access": 0,
         "OR_medium access": 0,
         "OR_poor access": 0,
         "OR_remove": 0,
         "RR_100-200 m": 0,
         "RR_200-500 m": 1,
         "RR_50-100 m": 0,
         "RR_500-1000 m": 0,
         "RR_<50 m": 0,
         "RR_>10000": 0,
         "SR": -0.19797367462237453,
         "SUR1_agricultural": 0,
         "SUR1_forest areas": 1,
         "SUR1_gardens": 0,
         "SUR1_industrial areas": 0,
         "SUR1_meadows": 0,
         "SUR1_orchards": 0,
         "SUR1_river valleys": 0,
         "SUR1_roads": 0,
         "SUR2_agricultural": 0,
         "SUR2_forest areas": 0,
         "SUR2_industrial areas": 0,
         "SUR2_meadows": 0,
         "SUR2_orchards": 0,
         "SUR2_river valleys": 1,
         "SUR2_roads": 0,
         "SUR3_agricultural": 0,
         "SUR3_forest areas": 0,
         "SUR3_industrial areas": 0,
         "SUR3_meadows": 1,
         "SUR3_orchards": 0,
         "SUR3_parks": 0,
         "SUR3_river valleys": 0,
         "SUR3_roads": 0,
         "TR_garden": 0,
         "TR_natural reservoirs": 1,
         "TR_recently formed": 0,
         "TR_river valleys": 0,
         "TR_small watercourses": 0,
         "TR_technological": 0,
         "TR_trenches": 0,
         "TR_wet meadows": 0,
         "Tree frog": 0,
         "UR_scenic": 0,
         "UR_technological": 0,
         "UR_unused": 1,
         "VR_heavily overgrown": 0,
         "VR_no vegetation": 0,
         "VR_patches at the edges": 0,
         "VR_reservoirs completely overgrown": 1,
         "VR_some part devoid of vegetation": 0,
         "_deepnote_index_column": 186
        },
        {
         "BR_100-200 m": 0,
         "BR_200-500 m": 0,
         "BR_50-100 m": 0,
         "BR_500-1000 m": 0,
         "BR_<50 m": 1,
         "BR_>10000": 0,
         "Brown frogs": 1,
         "CR_Concrete": 0,
         "CR_Natural": 1,
         "Common newt": 0,
         "Common toad": 1,
         "FR_breeding reservoirs": 0,
         "FR_intense fishing": 0,
         "FR_lack": 1,
         "FR_remove": 0,
         "Fire-bellied toad": 0,
         "Great crested newt": 0,
         "Green frogs": 0,
         "MR_Clean": 1,
         "MR_heavily littered": 0,
         "MR_slightly littered": 0,
         "Motorway_A1": 0,
         "Motorway_S52": 1,
         "NR": -0.36754354504500236,
         "OR_large access": 1,
         "OR_low access": 0,
         "OR_medium access": 0,
         "OR_poor access": 0,
         "OR_remove": 0,
         "RR_100-200 m": 0,
         "RR_200-500 m": 0,
         "RR_50-100 m": 1,
         "RR_500-1000 m": 0,
         "RR_<50 m": 0,
         "RR_>10000": 0,
         "SR": -0.2023089148063216,
         "SUR1_agricultural": 0,
         "SUR1_forest areas": 0,
         "SUR1_gardens": 0,
         "SUR1_industrial areas": 0,
         "SUR1_meadows": 1,
         "SUR1_orchards": 0,
         "SUR1_river valleys": 0,
         "SUR1_roads": 0,
         "SUR2_agricultural": 0,
         "SUR2_forest areas": 1,
         "SUR2_industrial areas": 0,
         "SUR2_meadows": 0,
         "SUR2_orchards": 0,
         "SUR2_river valleys": 0,
         "SUR2_roads": 0,
         "SUR3_agricultural": 0,
         "SUR3_forest areas": 0,
         "SUR3_industrial areas": 1,
         "SUR3_meadows": 0,
         "SUR3_orchards": 0,
         "SUR3_parks": 0,
         "SUR3_river valleys": 0,
         "SUR3_roads": 0,
         "TR_garden": 0,
         "TR_natural reservoirs": 0,
         "TR_recently formed": 0,
         "TR_river valleys": 0,
         "TR_small watercourses": 0,
         "TR_technological": 0,
         "TR_trenches": 0,
         "TR_wet meadows": 1,
         "Tree frog": 0,
         "UR_scenic": 0,
         "UR_technological": 0,
         "UR_unused": 1,
         "VR_heavily overgrown": 0,
         "VR_no vegetation": 0,
         "VR_patches at the edges": 0,
         "VR_reservoirs completely overgrown": 0,
         "VR_some part devoid of vegetation": 1,
         "_deepnote_index_column": 187
        },
        {
         "BR_100-200 m": 0,
         "BR_200-500 m": 0,
         "BR_50-100 m": 1,
         "BR_500-1000 m": 0,
         "BR_<50 m": 0,
         "BR_>10000": 0,
         "Brown frogs": 1,
         "CR_Concrete": 0,
         "CR_Natural": 1,
         "Common newt": 0,
         "Common toad": 1,
         "FR_breeding reservoirs": 0,
         "FR_intense fishing": 0,
         "FR_lack": 1,
         "FR_remove": 0,
         "Fire-bellied toad": 0,
         "Great crested newt": 0,
         "Green frogs": 0,
         "MR_Clean": 1,
         "MR_heavily littered": 0,
         "MR_slightly littered": 0,
         "Motorway_A1": 0,
         "Motorway_S52": 1,
         "NR": -0.36754354504500236,
         "OR_large access": 1,
         "OR_low access": 0,
         "OR_medium access": 0,
         "OR_poor access": 0,
         "OR_remove": 0,
         "RR_100-200 m": 0,
         "RR_200-500 m": 0,
         "RR_50-100 m": 1,
         "RR_500-1000 m": 0,
         "RR_<50 m": 0,
         "RR_>10000": 0,
         "SR": -0.2023089148063216,
         "SUR1_agricultural": 0,
         "SUR1_forest areas": 0,
         "SUR1_gardens": 0,
         "SUR1_industrial areas": 0,
         "SUR1_meadows": 1,
         "SUR1_orchards": 0,
         "SUR1_river valleys": 0,
         "SUR1_roads": 0,
         "SUR2_agricultural": 0,
         "SUR2_forest areas": 0,
         "SUR2_industrial areas": 1,
         "SUR2_meadows": 0,
         "SUR2_orchards": 0,
         "SUR2_river valleys": 0,
         "SUR2_roads": 0,
         "SUR3_agricultural": 0,
         "SUR3_forest areas": 0,
         "SUR3_industrial areas": 0,
         "SUR3_meadows": 0,
         "SUR3_orchards": 0,
         "SUR3_parks": 0,
         "SUR3_river valleys": 1,
         "SUR3_roads": 0,
         "TR_garden": 0,
         "TR_natural reservoirs": 0,
         "TR_recently formed": 0,
         "TR_river valleys": 0,
         "TR_small watercourses": 0,
         "TR_technological": 0,
         "TR_trenches": 0,
         "TR_wet meadows": 1,
         "Tree frog": 0,
         "UR_scenic": 0,
         "UR_technological": 0,
         "UR_unused": 1,
         "VR_heavily overgrown": 0,
         "VR_no vegetation": 0,
         "VR_patches at the edges": 0,
         "VR_reservoirs completely overgrown": 0,
         "VR_some part devoid of vegetation": 1,
         "_deepnote_index_column": 188
        }
       ],
       "rows_top": [
        {
         "BR_100-200 m": 0,
         "BR_200-500 m": 0,
         "BR_50-100 m": 0,
         "BR_500-1000 m": 0,
         "BR_<50 m": 1,
         "BR_>10000": 0,
         "Brown frogs": 0,
         "CR_Concrete": 0,
         "CR_Natural": 1,
         "Common newt": 0,
         "Common toad": 0,
         "FR_breeding reservoirs": 0,
         "FR_intense fishing": 0,
         "FR_lack": 1,
         "FR_remove": 0,
         "Fire-bellied toad": 0,
         "Great crested newt": 0,
         "Green frogs": 0,
         "MR_Clean": 1,
         "MR_heavily littered": 0,
         "MR_slightly littered": 0,
         "Motorway_A1": 1,
         "Motorway_S52": 0,
         "NR": -0.36754354504500236,
         "OR_large access": 0,
         "OR_low access": 1,
         "OR_medium access": 0,
         "OR_poor access": 0,
         "OR_remove": 0,
         "RR_100-200 m": 0,
         "RR_200-500 m": 0,
         "RR_50-100 m": 0,
         "RR_500-1000 m": 0,
         "RR_<50 m": 1,
         "RR_>10000": 0,
         "SR": -0.19580605453040098,
         "SUR1_agricultural": 0,
         "SUR1_forest areas": 0,
         "SUR1_gardens": 0,
         "SUR1_industrial areas": 1,
         "SUR1_meadows": 0,
         "SUR1_orchards": 0,
         "SUR1_river valleys": 0,
         "SUR1_roads": 0,
         "SUR2_agricultural": 0,
         "SUR2_forest areas": 0,
         "SUR2_industrial areas": 0,
         "SUR2_meadows": 1,
         "SUR2_orchards": 0,
         "SUR2_river valleys": 0,
         "SUR2_roads": 0,
         "SUR3_agricultural": 0,
         "SUR3_forest areas": 0,
         "SUR3_industrial areas": 0,
         "SUR3_meadows": 0,
         "SUR3_orchards": 0,
         "SUR3_parks": 0,
         "SUR3_river valleys": 1,
         "SUR3_roads": 0,
         "TR_garden": 0,
         "TR_natural reservoirs": 1,
         "TR_recently formed": 0,
         "TR_river valleys": 0,
         "TR_small watercourses": 0,
         "TR_technological": 0,
         "TR_trenches": 0,
         "TR_wet meadows": 0,
         "Tree frog": 0,
         "UR_scenic": 0,
         "UR_technological": 0,
         "UR_unused": 1,
         "VR_heavily overgrown": 0,
         "VR_no vegetation": 0,
         "VR_patches at the edges": 0,
         "VR_reservoirs completely overgrown": 1,
         "VR_some part devoid of vegetation": 0,
         "_deepnote_index_column": 0
        },
        {
         "BR_100-200 m": 0,
         "BR_200-500 m": 0,
         "BR_50-100 m": 1,
         "BR_500-1000 m": 0,
         "BR_<50 m": 0,
         "BR_>10000": 0,
         "Brown frogs": 1,
         "CR_Concrete": 0,
         "CR_Natural": 1,
         "Common newt": 1,
         "Common toad": 1,
         "FR_breeding reservoirs": 0,
         "FR_intense fishing": 1,
         "FR_lack": 0,
         "FR_remove": 0,
         "Fire-bellied toad": 0,
         "Great crested newt": 0,
         "Green frogs": 0,
         "MR_Clean": 1,
         "MR_heavily littered": 0,
         "MR_slightly littered": 0,
         "Motorway_A1": 1,
         "Motorway_S52": 0,
         "NR": -0.36754354504500236,
         "OR_large access": 0,
         "OR_low access": 0,
         "OR_medium access": 1,
         "OR_poor access": 0,
         "OR_remove": 0,
         "RR_100-200 m": 0,
         "RR_200-500 m": 0,
         "RR_50-100 m": 1,
         "RR_500-1000 m": 0,
         "RR_<50 m": 0,
         "RR_>10000": 0,
         "SR": -0.19363843443842746,
         "SUR1_agricultural": 0,
         "SUR1_forest areas": 0,
         "SUR1_gardens": 0,
         "SUR1_industrial areas": 0,
         "SUR1_meadows": 0,
         "SUR1_orchards": 0,
         "SUR1_river valleys": 1,
         "SUR1_roads": 0,
         "SUR2_agricultural": 0,
         "SUR2_forest areas": 0,
         "SUR2_industrial areas": 1,
         "SUR2_meadows": 0,
         "SUR2_orchards": 0,
         "SUR2_river valleys": 0,
         "SUR2_roads": 0,
         "SUR3_agricultural": 0,
         "SUR3_forest areas": 0,
         "SUR3_industrial areas": 0,
         "SUR3_meadows": 0,
         "SUR3_orchards": 0,
         "SUR3_parks": 0,
         "SUR3_river valleys": 1,
         "SUR3_roads": 0,
         "TR_garden": 0,
         "TR_natural reservoirs": 0,
         "TR_recently formed": 0,
         "TR_river valleys": 0,
         "TR_small watercourses": 0,
         "TR_technological": 1,
         "TR_trenches": 0,
         "TR_wet meadows": 0,
         "Tree frog": 0,
         "UR_scenic": 0,
         "UR_technological": 1,
         "UR_unused": 0,
         "VR_heavily overgrown": 0,
         "VR_no vegetation": 0,
         "VR_patches at the edges": 1,
         "VR_reservoirs completely overgrown": 0,
         "VR_some part devoid of vegetation": 0,
         "_deepnote_index_column": 1
        },
        {
         "BR_100-200 m": 0,
         "BR_200-500 m": 0,
         "BR_50-100 m": 1,
         "BR_500-1000 m": 0,
         "BR_<50 m": 0,
         "BR_>10000": 0,
         "Brown frogs": 1,
         "CR_Concrete": 0,
         "CR_Natural": 1,
         "Common newt": 1,
         "Common toad": 1,
         "FR_breeding reservoirs": 0,
         "FR_intense fishing": 0,
         "FR_lack": 0,
         "FR_remove": 1,
         "Fire-bellied toad": 0,
         "Great crested newt": 0,
         "Green frogs": 0,
         "MR_Clean": 1,
         "MR_heavily littered": 0,
         "MR_slightly littered": 0,
         "Motorway_A1": 1,
         "Motorway_S52": 0,
         "NR": -0.36754354504500236,
         "OR_large access": 0,
         "OR_low access": 0,
         "OR_medium access": 1,
         "OR_poor access": 0,
         "OR_remove": 0,
         "RR_100-200 m": 0,
         "RR_200-500 m": 0,
         "RR_50-100 m": 1,
         "RR_500-1000 m": 0,
         "RR_<50 m": 0,
         "RR_>10000": 0,
         "SR": -0.20447653489829512,
         "SUR1_agricultural": 0,
         "SUR1_forest areas": 0,
         "SUR1_gardens": 0,
         "SUR1_industrial areas": 0,
         "SUR1_meadows": 0,
         "SUR1_orchards": 0,
         "SUR1_river valleys": 1,
         "SUR1_roads": 0,
         "SUR2_agricultural": 0,
         "SUR2_forest areas": 0,
         "SUR2_industrial areas": 1,
         "SUR2_meadows": 0,
         "SUR2_orchards": 0,
         "SUR2_river valleys": 0,
         "SUR2_roads": 0,
         "SUR3_agricultural": 0,
         "SUR3_forest areas": 0,
         "SUR3_industrial areas": 0,
         "SUR3_meadows": 0,
         "SUR3_orchards": 0,
         "SUR3_parks": 0,
         "SUR3_river valleys": 1,
         "SUR3_roads": 0,
         "TR_garden": 0,
         "TR_natural reservoirs": 0,
         "TR_recently formed": 0,
         "TR_river valleys": 0,
         "TR_small watercourses": 0,
         "TR_technological": 1,
         "TR_trenches": 0,
         "TR_wet meadows": 0,
         "Tree frog": 0,
         "UR_scenic": 0,
         "UR_technological": 1,
         "UR_unused": 0,
         "VR_heavily overgrown": 0,
         "VR_no vegetation": 0,
         "VR_patches at the edges": 1,
         "VR_reservoirs completely overgrown": 0,
         "VR_some part devoid of vegetation": 0,
         "_deepnote_index_column": 2
        },
        {
         "BR_100-200 m": 0,
         "BR_200-500 m": 0,
         "BR_50-100 m": 0,
         "BR_500-1000 m": 0,
         "BR_<50 m": 1,
         "BR_>10000": 0,
         "Brown frogs": 0,
         "CR_Concrete": 0,
         "CR_Natural": 1,
         "Common newt": 0,
         "Common toad": 1,
         "FR_breeding reservoirs": 0,
         "FR_intense fishing": 0,
         "FR_lack": 0,
         "FR_remove": 1,
         "Fire-bellied toad": 0,
         "Great crested newt": 0,
         "Green frogs": 0,
         "MR_Clean": 1,
         "MR_heavily littered": 0,
         "MR_slightly littered": 0,
         "Motorway_A1": 1,
         "Motorway_S52": 0,
         "NR": -0.36754354504500236,
         "OR_large access": 0,
         "OR_low access": 0,
         "OR_medium access": 0,
         "OR_poor access": 1,
         "OR_remove": 0,
         "RR_100-200 m": 0,
         "RR_200-500 m": 0,
         "RR_50-100 m": 0,
         "RR_500-1000 m": 0,
         "RR_<50 m": 1,
         "RR_>10000": 0,
         "SR": -0.2023089148063216,
         "SUR1_agricultural": 0,
         "SUR1_forest areas": 0,
         "SUR1_gardens": 0,
         "SUR1_industrial areas": 1,
         "SUR1_meadows": 0,
         "SUR1_orchards": 0,
         "SUR1_river valleys": 0,
         "SUR1_roads": 0,
         "SUR2_agricultural": 0,
         "SUR2_forest areas": 0,
         "SUR2_industrial areas": 0,
         "SUR2_meadows": 0,
         "SUR2_orchards": 0,
         "SUR2_river valleys": 1,
         "SUR2_roads": 0,
         "SUR3_agricultural": 0,
         "SUR3_forest areas": 0,
         "SUR3_industrial areas": 0,
         "SUR3_meadows": 1,
         "SUR3_orchards": 0,
         "SUR3_parks": 0,
         "SUR3_river valleys": 0,
         "SUR3_roads": 0,
         "TR_garden": 0,
         "TR_natural reservoirs": 0,
         "TR_recently formed": 0,
         "TR_river valleys": 0,
         "TR_small watercourses": 0,
         "TR_technological": 1,
         "TR_trenches": 0,
         "TR_wet meadows": 0,
         "Tree frog": 0,
         "UR_scenic": 0,
         "UR_technological": 1,
         "UR_unused": 0,
         "VR_heavily overgrown": 0,
         "VR_no vegetation": 1,
         "VR_patches at the edges": 0,
         "VR_reservoirs completely overgrown": 0,
         "VR_some part devoid of vegetation": 0,
         "_deepnote_index_column": 3
        },
        {
         "BR_100-200 m": 0,
         "BR_200-500 m": 1,
         "BR_50-100 m": 0,
         "BR_500-1000 m": 0,
         "BR_<50 m": 0,
         "BR_>10000": 0,
         "Brown frogs": 1,
         "CR_Concrete": 0,
         "CR_Natural": 1,
         "Common newt": 1,
         "Common toad": 1,
         "FR_breeding reservoirs": 0,
         "FR_intense fishing": 0,
         "FR_lack": 1,
         "FR_remove": 0,
         "Fire-bellied toad": 1,
         "Great crested newt": 1,
         "Green frogs": 0,
         "MR_Clean": 1,
         "MR_heavily littered": 0,
         "MR_slightly littered": 0,
         "Motorway_A1": 1,
         "Motorway_S52": 0,
         "NR": 0.2816688849877589,
         "OR_large access": 0,
         "OR_low access": 0,
         "OR_medium access": 0,
         "OR_poor access": 0,
         "OR_remove": 1,
         "RR_100-200 m": 0,
         "RR_200-500 m": 0,
         "RR_50-100 m": 0,
         "RR_500-1000 m": 0,
         "RR_<50 m": 1,
         "RR_>10000": 0,
         "SR": -0.19580605453040098,
         "SUR1_agricultural": 0,
         "SUR1_forest areas": 0,
         "SUR1_gardens": 0,
         "SUR1_industrial areas": 0,
         "SUR1_meadows": 0,
         "SUR1_orchards": 0,
         "SUR1_river valleys": 1,
         "SUR1_roads": 0,
         "SUR2_agricultural": 0,
         "SUR2_forest areas": 0,
         "SUR2_industrial areas": 0,
         "SUR2_meadows": 1,
         "SUR2_orchards": 0,
         "SUR2_river valleys": 0,
         "SUR2_roads": 0,
         "SUR3_agricultural": 0,
         "SUR3_forest areas": 0,
         "SUR3_industrial areas": 1,
         "SUR3_meadows": 0,
         "SUR3_orchards": 0,
         "SUR3_parks": 0,
         "SUR3_river valleys": 0,
         "SUR3_roads": 0,
         "TR_garden": 0,
         "TR_natural reservoirs": 1,
         "TR_recently formed": 0,
         "TR_river valleys": 0,
         "TR_small watercourses": 0,
         "TR_technological": 0,
         "TR_trenches": 0,
         "TR_wet meadows": 0,
         "Tree frog": 0,
         "UR_scenic": 0,
         "UR_technological": 0,
         "UR_unused": 1,
         "VR_heavily overgrown": 0,
         "VR_no vegetation": 0,
         "VR_patches at the edges": 0,
         "VR_reservoirs completely overgrown": 1,
         "VR_some part devoid of vegetation": 0,
         "_deepnote_index_column": 4
        },
        {
         "BR_100-200 m": 0,
         "BR_200-500 m": 0,
         "BR_50-100 m": 0,
         "BR_500-1000 m": 0,
         "BR_<50 m": 1,
         "BR_>10000": 0,
         "Brown frogs": 0,
         "CR_Concrete": 0,
         "CR_Natural": 1,
         "Common newt": 0,
         "Common toad": 0,
         "FR_breeding reservoirs": 0,
         "FR_intense fishing": 0,
         "FR_lack": 1,
         "FR_remove": 0,
         "Fire-bellied toad": 0,
         "Great crested newt": 0,
         "Green frogs": 0,
         "MR_Clean": 1,
         "MR_heavily littered": 0,
         "MR_slightly littered": 0,
         "Motorway_A1": 1,
         "Motorway_S52": 0,
         "NR": -0.36754354504500236,
         "OR_large access": 0,
         "OR_low access": 1,
         "OR_medium access": 0,
         "OR_poor access": 0,
         "OR_remove": 0,
         "RR_100-200 m": 0,
         "RR_200-500 m": 0,
         "RR_50-100 m": 0,
         "RR_500-1000 m": 0,
         "RR_<50 m": 1,
         "RR_>10000": 0,
         "SR": -0.20447653489829512,
         "SUR1_agricultural": 0,
         "SUR1_forest areas": 0,
         "SUR1_gardens": 0,
         "SUR1_industrial areas": 1,
         "SUR1_meadows": 0,
         "SUR1_orchards": 0,
         "SUR1_river valleys": 0,
         "SUR1_roads": 0,
         "SUR2_agricultural": 0,
         "SUR2_forest areas": 0,
         "SUR2_industrial areas": 1,
         "SUR2_meadows": 0,
         "SUR2_orchards": 0,
         "SUR2_river valleys": 0,
         "SUR2_roads": 0,
         "SUR3_agricultural": 0,
         "SUR3_forest areas": 0,
         "SUR3_industrial areas": 0,
         "SUR3_meadows": 0,
         "SUR3_orchards": 0,
         "SUR3_parks": 0,
         "SUR3_river valleys": 1,
         "SUR3_roads": 0,
         "TR_garden": 0,
         "TR_natural reservoirs": 0,
         "TR_recently formed": 0,
         "TR_river valleys": 0,
         "TR_small watercourses": 0,
         "TR_technological": 1,
         "TR_trenches": 0,
         "TR_wet meadows": 0,
         "Tree frog": 0,
         "UR_scenic": 1,
         "UR_technological": 0,
         "UR_unused": 0,
         "VR_heavily overgrown": 0,
         "VR_no vegetation": 0,
         "VR_patches at the edges": 1,
         "VR_reservoirs completely overgrown": 0,
         "VR_some part devoid of vegetation": 0,
         "_deepnote_index_column": 5
        }
       ]
      },
      "text/html": [
       "<div>\n",
       "<style scoped>\n",
       "    .dataframe tbody tr th:only-of-type {\n",
       "        vertical-align: middle;\n",
       "    }\n",
       "\n",
       "    .dataframe tbody tr th {\n",
       "        vertical-align: top;\n",
       "    }\n",
       "\n",
       "    .dataframe thead th {\n",
       "        text-align: right;\n",
       "    }\n",
       "</style>\n",
       "<table border=\"1\" class=\"dataframe\">\n",
       "  <thead>\n",
       "    <tr style=\"text-align: right;\">\n",
       "      <th></th>\n",
       "      <th>SR</th>\n",
       "      <th>NR</th>\n",
       "      <th>Motorway_A1</th>\n",
       "      <th>Motorway_S52</th>\n",
       "      <th>TR_garden</th>\n",
       "      <th>TR_natural reservoirs</th>\n",
       "      <th>TR_recently formed</th>\n",
       "      <th>TR_river valleys</th>\n",
       "      <th>TR_small watercourses</th>\n",
       "      <th>TR_technological</th>\n",
       "      <th>...</th>\n",
       "      <th>MR_slightly littered</th>\n",
       "      <th>CR_Concrete</th>\n",
       "      <th>CR_Natural</th>\n",
       "      <th>Green frogs</th>\n",
       "      <th>Brown frogs</th>\n",
       "      <th>Common toad</th>\n",
       "      <th>Fire-bellied toad</th>\n",
       "      <th>Tree frog</th>\n",
       "      <th>Common newt</th>\n",
       "      <th>Great crested newt</th>\n",
       "    </tr>\n",
       "  </thead>\n",
       "  <tbody>\n",
       "    <tr>\n",
       "      <th>0</th>\n",
       "      <td>-0.195806</td>\n",
       "      <td>-0.367544</td>\n",
       "      <td>1</td>\n",
       "      <td>0</td>\n",
       "      <td>0</td>\n",
       "      <td>1</td>\n",
       "      <td>0</td>\n",
       "      <td>0</td>\n",
       "      <td>0</td>\n",
       "      <td>0</td>\n",
       "      <td>...</td>\n",
       "      <td>0</td>\n",
       "      <td>0</td>\n",
       "      <td>1</td>\n",
       "      <td>0</td>\n",
       "      <td>0</td>\n",
       "      <td>0</td>\n",
       "      <td>0</td>\n",
       "      <td>0</td>\n",
       "      <td>0</td>\n",
       "      <td>0</td>\n",
       "    </tr>\n",
       "    <tr>\n",
       "      <th>1</th>\n",
       "      <td>-0.193638</td>\n",
       "      <td>-0.367544</td>\n",
       "      <td>1</td>\n",
       "      <td>0</td>\n",
       "      <td>0</td>\n",
       "      <td>0</td>\n",
       "      <td>0</td>\n",
       "      <td>0</td>\n",
       "      <td>0</td>\n",
       "      <td>1</td>\n",
       "      <td>...</td>\n",
       "      <td>0</td>\n",
       "      <td>0</td>\n",
       "      <td>1</td>\n",
       "      <td>0</td>\n",
       "      <td>1</td>\n",
       "      <td>1</td>\n",
       "      <td>0</td>\n",
       "      <td>0</td>\n",
       "      <td>1</td>\n",
       "      <td>0</td>\n",
       "    </tr>\n",
       "    <tr>\n",
       "      <th>2</th>\n",
       "      <td>-0.204477</td>\n",
       "      <td>-0.367544</td>\n",
       "      <td>1</td>\n",
       "      <td>0</td>\n",
       "      <td>0</td>\n",
       "      <td>0</td>\n",
       "      <td>0</td>\n",
       "      <td>0</td>\n",
       "      <td>0</td>\n",
       "      <td>1</td>\n",
       "      <td>...</td>\n",
       "      <td>0</td>\n",
       "      <td>0</td>\n",
       "      <td>1</td>\n",
       "      <td>0</td>\n",
       "      <td>1</td>\n",
       "      <td>1</td>\n",
       "      <td>0</td>\n",
       "      <td>0</td>\n",
       "      <td>1</td>\n",
       "      <td>0</td>\n",
       "    </tr>\n",
       "    <tr>\n",
       "      <th>3</th>\n",
       "      <td>-0.202309</td>\n",
       "      <td>-0.367544</td>\n",
       "      <td>1</td>\n",
       "      <td>0</td>\n",
       "      <td>0</td>\n",
       "      <td>0</td>\n",
       "      <td>0</td>\n",
       "      <td>0</td>\n",
       "      <td>0</td>\n",
       "      <td>1</td>\n",
       "      <td>...</td>\n",
       "      <td>0</td>\n",
       "      <td>0</td>\n",
       "      <td>1</td>\n",
       "      <td>0</td>\n",
       "      <td>0</td>\n",
       "      <td>1</td>\n",
       "      <td>0</td>\n",
       "      <td>0</td>\n",
       "      <td>0</td>\n",
       "      <td>0</td>\n",
       "    </tr>\n",
       "    <tr>\n",
       "      <th>4</th>\n",
       "      <td>-0.195806</td>\n",
       "      <td>0.281669</td>\n",
       "      <td>1</td>\n",
       "      <td>0</td>\n",
       "      <td>0</td>\n",
       "      <td>1</td>\n",
       "      <td>0</td>\n",
       "      <td>0</td>\n",
       "      <td>0</td>\n",
       "      <td>0</td>\n",
       "      <td>...</td>\n",
       "      <td>0</td>\n",
       "      <td>0</td>\n",
       "      <td>1</td>\n",
       "      <td>0</td>\n",
       "      <td>1</td>\n",
       "      <td>1</td>\n",
       "      <td>1</td>\n",
       "      <td>0</td>\n",
       "      <td>1</td>\n",
       "      <td>1</td>\n",
       "    </tr>\n",
       "    <tr>\n",
       "      <th>...</th>\n",
       "      <td>...</td>\n",
       "      <td>...</td>\n",
       "      <td>...</td>\n",
       "      <td>...</td>\n",
       "      <td>...</td>\n",
       "      <td>...</td>\n",
       "      <td>...</td>\n",
       "      <td>...</td>\n",
       "      <td>...</td>\n",
       "      <td>...</td>\n",
       "      <td>...</td>\n",
       "      <td>...</td>\n",
       "      <td>...</td>\n",
       "      <td>...</td>\n",
       "      <td>...</td>\n",
       "      <td>...</td>\n",
       "      <td>...</td>\n",
       "      <td>...</td>\n",
       "      <td>...</td>\n",
       "      <td>...</td>\n",
       "      <td>...</td>\n",
       "    </tr>\n",
       "    <tr>\n",
       "      <th>184</th>\n",
       "      <td>-0.158957</td>\n",
       "      <td>-0.367544</td>\n",
       "      <td>0</td>\n",
       "      <td>1</td>\n",
       "      <td>0</td>\n",
       "      <td>0</td>\n",
       "      <td>0</td>\n",
       "      <td>0</td>\n",
       "      <td>0</td>\n",
       "      <td>0</td>\n",
       "      <td>...</td>\n",
       "      <td>0</td>\n",
       "      <td>0</td>\n",
       "      <td>1</td>\n",
       "      <td>0</td>\n",
       "      <td>1</td>\n",
       "      <td>0</td>\n",
       "      <td>0</td>\n",
       "      <td>0</td>\n",
       "      <td>0</td>\n",
       "      <td>0</td>\n",
       "    </tr>\n",
       "    <tr>\n",
       "      <th>185</th>\n",
       "      <td>-0.202309</td>\n",
       "      <td>-0.367544</td>\n",
       "      <td>0</td>\n",
       "      <td>1</td>\n",
       "      <td>0</td>\n",
       "      <td>0</td>\n",
       "      <td>0</td>\n",
       "      <td>1</td>\n",
       "      <td>0</td>\n",
       "      <td>0</td>\n",
       "      <td>...</td>\n",
       "      <td>0</td>\n",
       "      <td>0</td>\n",
       "      <td>1</td>\n",
       "      <td>1</td>\n",
       "      <td>1</td>\n",
       "      <td>1</td>\n",
       "      <td>1</td>\n",
       "      <td>0</td>\n",
       "      <td>1</td>\n",
       "      <td>0</td>\n",
       "    </tr>\n",
       "    <tr>\n",
       "      <th>186</th>\n",
       "      <td>-0.197974</td>\n",
       "      <td>-0.367544</td>\n",
       "      <td>0</td>\n",
       "      <td>1</td>\n",
       "      <td>0</td>\n",
       "      <td>1</td>\n",
       "      <td>0</td>\n",
       "      <td>0</td>\n",
       "      <td>0</td>\n",
       "      <td>0</td>\n",
       "      <td>...</td>\n",
       "      <td>0</td>\n",
       "      <td>0</td>\n",
       "      <td>1</td>\n",
       "      <td>1</td>\n",
       "      <td>1</td>\n",
       "      <td>1</td>\n",
       "      <td>1</td>\n",
       "      <td>0</td>\n",
       "      <td>1</td>\n",
       "      <td>0</td>\n",
       "    </tr>\n",
       "    <tr>\n",
       "      <th>187</th>\n",
       "      <td>-0.202309</td>\n",
       "      <td>-0.367544</td>\n",
       "      <td>0</td>\n",
       "      <td>1</td>\n",
       "      <td>0</td>\n",
       "      <td>0</td>\n",
       "      <td>0</td>\n",
       "      <td>0</td>\n",
       "      <td>0</td>\n",
       "      <td>0</td>\n",
       "      <td>...</td>\n",
       "      <td>0</td>\n",
       "      <td>0</td>\n",
       "      <td>1</td>\n",
       "      <td>0</td>\n",
       "      <td>1</td>\n",
       "      <td>1</td>\n",
       "      <td>0</td>\n",
       "      <td>0</td>\n",
       "      <td>0</td>\n",
       "      <td>0</td>\n",
       "    </tr>\n",
       "    <tr>\n",
       "      <th>188</th>\n",
       "      <td>-0.202309</td>\n",
       "      <td>-0.367544</td>\n",
       "      <td>0</td>\n",
       "      <td>1</td>\n",
       "      <td>0</td>\n",
       "      <td>0</td>\n",
       "      <td>0</td>\n",
       "      <td>0</td>\n",
       "      <td>0</td>\n",
       "      <td>0</td>\n",
       "      <td>...</td>\n",
       "      <td>0</td>\n",
       "      <td>0</td>\n",
       "      <td>1</td>\n",
       "      <td>0</td>\n",
       "      <td>1</td>\n",
       "      <td>1</td>\n",
       "      <td>0</td>\n",
       "      <td>0</td>\n",
       "      <td>0</td>\n",
       "      <td>0</td>\n",
       "    </tr>\n",
       "  </tbody>\n",
       "</table>\n",
       "<p>189 rows × 76 columns</p>\n",
       "</div>"
      ],
      "text/plain": [
       "           SR        NR  Motorway_A1  Motorway_S52  TR_garden  \\\n",
       "0   -0.195806 -0.367544            1             0          0   \n",
       "1   -0.193638 -0.367544            1             0          0   \n",
       "2   -0.204477 -0.367544            1             0          0   \n",
       "3   -0.202309 -0.367544            1             0          0   \n",
       "4   -0.195806  0.281669            1             0          0   \n",
       "..        ...       ...          ...           ...        ...   \n",
       "184 -0.158957 -0.367544            0             1          0   \n",
       "185 -0.202309 -0.367544            0             1          0   \n",
       "186 -0.197974 -0.367544            0             1          0   \n",
       "187 -0.202309 -0.367544            0             1          0   \n",
       "188 -0.202309 -0.367544            0             1          0   \n",
       "\n",
       "     TR_natural reservoirs  TR_recently formed  TR_river valleys  \\\n",
       "0                        1                   0                 0   \n",
       "1                        0                   0                 0   \n",
       "2                        0                   0                 0   \n",
       "3                        0                   0                 0   \n",
       "4                        1                   0                 0   \n",
       "..                     ...                 ...               ...   \n",
       "184                      0                   0                 0   \n",
       "185                      0                   0                 1   \n",
       "186                      1                   0                 0   \n",
       "187                      0                   0                 0   \n",
       "188                      0                   0                 0   \n",
       "\n",
       "     TR_small watercourses  TR_technological  ...  MR_slightly littered  \\\n",
       "0                        0                 0  ...                     0   \n",
       "1                        0                 1  ...                     0   \n",
       "2                        0                 1  ...                     0   \n",
       "3                        0                 1  ...                     0   \n",
       "4                        0                 0  ...                     0   \n",
       "..                     ...               ...  ...                   ...   \n",
       "184                      0                 0  ...                     0   \n",
       "185                      0                 0  ...                     0   \n",
       "186                      0                 0  ...                     0   \n",
       "187                      0                 0  ...                     0   \n",
       "188                      0                 0  ...                     0   \n",
       "\n",
       "     CR_Concrete  CR_Natural  Green frogs  Brown frogs  Common toad  \\\n",
       "0              0           1            0            0            0   \n",
       "1              0           1            0            1            1   \n",
       "2              0           1            0            1            1   \n",
       "3              0           1            0            0            1   \n",
       "4              0           1            0            1            1   \n",
       "..           ...         ...          ...          ...          ...   \n",
       "184            0           1            0            1            0   \n",
       "185            0           1            1            1            1   \n",
       "186            0           1            1            1            1   \n",
       "187            0           1            0            1            1   \n",
       "188            0           1            0            1            1   \n",
       "\n",
       "     Fire-bellied toad  Tree frog  Common newt  Great crested newt  \n",
       "0                    0          0            0                   0  \n",
       "1                    0          0            1                   0  \n",
       "2                    0          0            1                   0  \n",
       "3                    0          0            0                   0  \n",
       "4                    1          0            1                   1  \n",
       "..                 ...        ...          ...                 ...  \n",
       "184                  0          0            0                   0  \n",
       "185                  1          0            1                   0  \n",
       "186                  1          0            1                   0  \n",
       "187                  0          0            0                   0  \n",
       "188                  0          0            0                   0  \n",
       "\n",
       "[189 rows x 76 columns]"
      ]
     },
     "execution_count": 39,
     "metadata": {},
     "output_type": "execute_result"
    }
   ],
   "source": [
    "df_normal = pd.concat([numerikal, kategorikal, label], axis=1, join='inner')\n",
    "df_normal"
   ]
  },
  {
   "cell_type": "markdown",
   "metadata": {
    "cell_id": "00064-febd80c0-c7ad-46f9-b590-353451074c2a",
    "deepnote_cell_height": 165.171875,
    "deepnote_cell_type": "markdown",
    "id": "ut-gxC64sGe0"
   },
   "source": [
    "# **3. Model Selection / Split Data**\n",
    "\n",
    "Model selection dilakukan dengan membagi dataframe menjadi data_latih dan data_uji (split data). Data latih adalah kumpulan dataframe yang nantinya akan dibuat model untuk proses training. Sedangkan Data uji adalah data yang nantinya akan diprediksi tergolong ke dalam kelas mana untuk evaluasi Machine Learning. Data uji yang akan digunakan adalah 2 sampel pertama masing-masing kelas yang ada, sehingga akan ada 14 data uji nantinya (7 kelas x 2 sampel)."
   ]
  },
  {
   "cell_type": "markdown",
   "metadata": {
    "cell_id": "00065-959aafa7-2383-49d4-a35b-81fe0da5d995",
    "deepnote_cell_height": 52.390625,
    "deepnote_cell_type": "markdown",
    "id": "8X3qyxWZV3fB"
   },
   "source": [
    "Membuat function split_data untuk melakukan split dataset menjadi data_latih dan data_uji"
   ]
  },
  {
   "cell_type": "code",
   "execution_count": null,
   "metadata": {
    "cell_id": "00066-68a105c3-187f-476f-bcf8-aea8f728b879",
    "deepnote_cell_height": 117,
    "deepnote_cell_type": "code",
    "deepnote_to_be_reexecuted": false,
    "execution_millis": 91,
    "execution_start": 1622026969564,
    "id": "a_l3bl9EWFON",
    "source_hash": "a9ed2230"
   },
   "outputs": [],
   "source": [
    "from sklearn.model_selection import train_test_split\n",
    "\n",
    "data_latih, data_uji = train_test_split(df_normal,test_size=0.2,random_state=101)"
   ]
  },
  {
   "cell_type": "markdown",
   "metadata": {
    "cell_id": "00067-20085ac6-3bf9-45f4-bf7b-d71a7806a0c3",
    "deepnote_cell_height": 52.390625,
    "deepnote_cell_type": "markdown",
    "id": "2Ro_rqekoKS1"
   },
   "source": [
    "Cek ukuran data_latih dan data_uji"
   ]
  },
  {
   "cell_type": "code",
   "execution_count": null,
   "metadata": {
    "cell_id": "00068-7f74ee74-ff09-453a-9e75-42049d8723e4",
    "colab": {
     "base_uri": "https://localhost:8080/"
    },
    "deepnote_cell_height": 150.375,
    "deepnote_cell_type": "code",
    "deepnote_to_be_reexecuted": false,
    "execution_millis": 4,
    "execution_start": 1622026969661,
    "id": "KJYz1NCxWcpb",
    "outputId": "1a8938ea-70d1-47a8-a610-018918c45926",
    "source_hash": "7a7bb04b"
   },
   "outputs": [
    {
     "name": "stdout",
     "output_type": "stream",
     "text": [
      "(151, 76)\n",
      "(38, 76)\n"
     ]
    }
   ],
   "source": [
    "print(data_latih.shape)\n",
    "print(data_uji.shape)"
   ]
  },
  {
   "cell_type": "markdown",
   "metadata": {
    "cell_id": "00069-27cc7ebe-3e6c-4331-90d6-94782617ae0b",
    "deepnote_cell_height": 52.390625,
    "deepnote_cell_type": "markdown",
    "id": "GmWLILeqWdE-"
   },
   "source": [
    "Memisahkan label atau kelas dari data uji menjadi variabel tersendiri. Proses ini dilakukan untuk kebutuhan pada proses evaluasi"
   ]
  },
  {
   "cell_type": "code",
   "execution_count": null,
   "metadata": {
    "cell_id": "00070-651fc78d-423e-4bda-a4e2-289570ceafd7",
    "colab": {
     "base_uri": "https://localhost:8080/"
    },
    "deepnote_cell_height": 298.75,
    "deepnote_cell_type": "code",
    "deepnote_to_be_reexecuted": false,
    "execution_millis": 23,
    "execution_start": 1622026969683,
    "id": "xHXtef8L_QIT",
    "outputId": "e2ab324b-1aa5-46e5-e35d-d7776bdd6305",
    "source_hash": "c16e622a"
   },
   "outputs": [
    {
     "name": "stdout",
     "output_type": "stream",
     "text": [
      "140400143148304\n",
      "140400132467792\n",
      "140400153148240\n",
      "140400132467856\n"
     ]
    }
   ],
   "source": [
    "# backup data_uji dan data_latih sebelum dipop / dipisahkan label kelasnya\n",
    "data_latih_full = data_latih.copy()\n",
    "data_uji_full = data_uji.copy()\n",
    "\n",
    "print(id(data_latih))\n",
    "print(id(data_latih_full))\n",
    "print(id(data_uji))\n",
    "print(id(data_uji_full))"
   ]
  },
  {
   "cell_type": "code",
   "execution_count": null,
   "metadata": {
    "cell_id": "00071-e0b01459-d078-45b3-8c96-c9553382be14",
    "deepnote_cell_height": 204.375,
    "deepnote_cell_type": "code",
    "deepnote_to_be_reexecuted": false,
    "execution_millis": 2911320,
    "execution_start": 1622026969708,
    "source_hash": "8158445c",
    "tags": []
   },
   "outputs": [
    {
     "name": "stdout",
     "output_type": "stream",
     "text": [
      "(151, 7)\n",
      "(38, 7)\n"
     ]
    }
   ],
   "source": [
    "label_latih = data_latih[data_latih.columns[-7:]]\n",
    "label_uji = data_uji[data_uji.columns[-7:]]\n",
    "\n",
    "print(label_latih.shape)\n",
    "print(label_uji.shape)"
   ]
  },
  {
   "cell_type": "code",
   "execution_count": null,
   "metadata": {
    "cell_id": "00072-04b393b3-2356-41bc-8ece-b474318ad2ab",
    "deepnote_cell_height": 305.3125,
    "deepnote_cell_type": "code",
    "deepnote_to_be_reexecuted": false,
    "execution_millis": 7,
    "execution_start": 1622026969726,
    "source_hash": "118acadd",
    "tags": []
   },
   "outputs": [
    {
     "name": "stdout",
     "output_type": "stream",
     "text": [
      "(151, 69)\n",
      "(38, 69)\n",
      "/shared-libs/python3.7/py/lib/python3.7/site-packages/pandas/core/frame.py:4315: SettingWithCopyWarning: \n",
      "A value is trying to be set on a copy of a slice from a DataFrame\n",
      "\n",
      "See the caveats in the documentation: https://pandas.pydata.org/pandas-docs/stable/user_guide/indexing.html#returning-a-view-versus-a-copy\n",
      "  errors=errors,\n"
     ]
    }
   ],
   "source": [
    "data_latih.drop(columns = data_latih.columns[-7:], inplace = True)\n",
    "data_uji.drop(columns = data_uji.columns[-7:], inplace = True)\n",
    "\n",
    "print(data_latih.shape)\n",
    "print(data_uji.shape)"
   ]
  },
  {
   "cell_type": "markdown",
   "metadata": {
    "cell_id": "00073-b8940bcf-1323-44cd-9280-d80e841c9e98",
    "deepnote_cell_height": 82,
    "deepnote_cell_type": "markdown",
    "tags": []
   },
   "source": [
    "# **Modelling, Prediction, and Classification Report**"
   ]
  },
  {
   "cell_type": "code",
   "execution_count": null,
   "metadata": {
    "cell_id": "00074-84be4583-91f2-469d-abc1-abd611169d1d",
    "deepnote_cell_height": 297,
    "deepnote_cell_type": "code",
    "deepnote_to_be_reexecuted": false,
    "execution_millis": 276,
    "execution_start": 1622026969750,
    "source_hash": "a9a88b7b",
    "tags": []
   },
   "outputs": [],
   "source": [
    "from sklearn.naive_bayes import GaussianNB\n",
    "from sklearn.tree import DecisionTreeClassifier\n",
    "from sklearn.svm import SVC\n",
    "from sklearn.datasets import make_classification\n",
    "from sklearn.metrics import classification_report\n",
    "from sklearn.metrics import precision_score, accuracy_score, recall_score, f1_score\n",
    "\n",
    "daftar_kelas = label_latih.columns\n",
    "\n",
    "# models = []\n",
    "# models.append(('NB', GaussianNB()))\n",
    "# models.append(('DT', DecisionTreeClassifier()))\n",
    "# models.append(('SVM', SVC(gamma='auto')))"
   ]
  },
  {
   "cell_type": "markdown",
   "metadata": {
    "cell_id": "00075-71e8bb56-efba-4fd5-b08c-7fd7299617cb",
    "deepnote_cell_height": 70,
    "deepnote_cell_type": "markdown",
    "tags": []
   },
   "source": [
    "## **Naive Bayes**"
   ]
  },
  {
   "cell_type": "code",
   "execution_count": null,
   "metadata": {
    "cell_id": "00075-8e9b19c4-fa0f-4b74-bf78-df381aaff967",
    "deepnote_cell_height": 207,
    "deepnote_cell_type": "code",
    "deepnote_to_be_reexecuted": false,
    "execution_millis": 116,
    "execution_start": 1622026970029,
    "source_hash": "5a5ec52e",
    "tags": []
   },
   "outputs": [],
   "source": [
    "prediksi_NB = pd.DataFrame(columns = daftar_kelas)\n",
    "model_NB = {}\n",
    "\n",
    "#pakai Gaussian karena data kontinu\n",
    "for kelas in daftar_kelas:\n",
    "    model_NB[kelas] = GaussianNB()\n",
    "    model_NB[kelas].fit(data_latih, label_latih[kelas])\n",
    "    prediksi_NB[kelas] = model_NB[kelas].predict(data_uji)"
   ]
  },
  {
   "cell_type": "code",
   "execution_count": null,
   "metadata": {
    "cell_id": "00077-74e9d4ae-3796-44df-9bb9-c0e7f47e4757",
    "deepnote_cell_height": 773,
    "deepnote_cell_type": "code",
    "deepnote_to_be_reexecuted": false,
    "execution_millis": 163,
    "execution_start": 1622026970149,
    "source_hash": "a947059c",
    "tags": []
   },
   "outputs": [
    {
     "name": "stdout",
     "output_type": "stream",
     "text": [
      "Classification Report Naive Bayes\n",
      "Green frogs\n",
      "              precision    recall  f1-score   support\n",
      "\n",
      "           0       0.43      0.80      0.56        15\n",
      "           1       0.70      0.30      0.42        23\n",
      "\n",
      "    accuracy                           0.50        38\n",
      "   macro avg       0.56      0.55      0.49        38\n",
      "weighted avg       0.59      0.50      0.48        38\n",
      "\n",
      "Brown frogs\n",
      "              precision    recall  f1-score   support\n",
      "\n",
      "           0       0.23      0.78      0.35         9\n",
      "           1       0.71      0.17      0.28        29\n",
      "\n",
      "    accuracy                           0.32        38\n",
      "   macro avg       0.47      0.48      0.31        38\n",
      "weighted avg       0.60      0.32      0.29        38\n",
      "\n",
      "Common toad\n",
      "              precision    recall  f1-score   support\n",
      "\n",
      "           0       0.34      0.85      0.49        13\n",
      "           1       0.67      0.16      0.26        25\n",
      "\n",
      "    accuracy                           0.39        38\n",
      "   macro avg       0.51      0.50      0.37        38\n",
      "weighted avg       0.56      0.39      0.34        38\n",
      "\n",
      "Fire-bellied toad\n",
      "              precision    recall  f1-score   support\n",
      "\n",
      "           0       0.89      0.28      0.42        29\n",
      "           1       0.28      0.89      0.42         9\n",
      "\n",
      "    accuracy                           0.42        38\n",
      "   macro avg       0.58      0.58      0.42        38\n",
      "weighted avg       0.74      0.42      0.42        38\n",
      "\n",
      "Tree frog\n",
      "              precision    recall  f1-score   support\n",
      "\n",
      "           0       0.75      0.14      0.23        22\n",
      "           1       0.44      0.94      0.60        16\n",
      "\n",
      "    accuracy                           0.47        38\n",
      "   macro avg       0.60      0.54      0.42        38\n",
      "weighted avg       0.62      0.47      0.39        38\n",
      "\n",
      "Common newt\n",
      "              precision    recall  f1-score   support\n",
      "\n",
      "           0       0.83      0.37      0.51        27\n",
      "           1       0.35      0.82      0.49        11\n",
      "\n",
      "    accuracy                           0.50        38\n",
      "   macro avg       0.59      0.59      0.50        38\n",
      "weighted avg       0.69      0.50      0.51        38\n",
      "\n",
      "Great crested newt\n",
      "              precision    recall  f1-score   support\n",
      "\n",
      "           0       0.96      0.66      0.78        35\n",
      "           1       0.14      0.67      0.24         3\n",
      "\n",
      "    accuracy                           0.66        38\n",
      "   macro avg       0.55      0.66      0.51        38\n",
      "weighted avg       0.89      0.66      0.74        38\n",
      "\n"
     ]
    }
   ],
   "source": [
    "print(\"Classification Report Naive Bayes\")\n",
    "\n",
    "for kelas in daftar_kelas:\n",
    "    print(kelas)\n",
    "    print(classification_report(label_uji[kelas], prediksi_NB[kelas]))"
   ]
  },
  {
   "cell_type": "code",
   "execution_count": null,
   "metadata": {
    "cell_id": "00079-59648aa1-5c44-4c51-835c-1a40e7daf0e8",
    "deepnote_cell_height": 604.75,
    "deepnote_cell_type": "code",
    "deepnote_to_be_reexecuted": false,
    "execution_millis": 123,
    "execution_start": 1622026970314,
    "source_hash": "e00a5f30",
    "tags": []
   },
   "outputs": [
    {
     "name": "stdout",
     "output_type": "stream",
     "text": [
      "Accuracy = 0.4657142857142857\n",
      "Precision = 0.4700000000000001\n",
      "Recall = 0.5642857142857143\n",
      "F1_Score = 0.38574826564830056\n"
     ]
    }
   ],
   "source": [
    "total_accuracy_NB = 0\n",
    "total_precision_NB = 0\n",
    "total_recall_NB = 0\n",
    "total_f1_score_NB = 0\n",
    "\n",
    "for kelas in daftar_kelas:\n",
    "    accuracy = f\"{round(accuracy_score(label_uji[kelas], prediksi_NB[kelas]), 2)}\"\n",
    "    precision = f\"{round(precision_score(label_uji[kelas], prediksi_NB[kelas]), 2)}\"\n",
    "    recall = f\"{round(recall_score(label_uji[kelas], prediksi_NB[kelas]), 2)}\"\n",
    "    f1_score = 2*(float(precision)*float(recall))/(float(precision)+float(recall))\n",
    "\n",
    "    total_accuracy_NB += float(accuracy)\n",
    "    total_precision_NB += float(precision)\n",
    "    total_recall_NB += float(recall)\n",
    "    total_f1_score_NB +=float(f1_score)\n",
    "\n",
    "avg_accuracy_NB = total_accuracy_NB / len(daftar_kelas)\n",
    "avg_precision_NB = total_precision_NB / len(daftar_kelas)\n",
    "avg_recall_NB = total_recall_NB / len(daftar_kelas)\n",
    "avg_f1_score_NB = total_f1_score_NB / len(daftar_kelas)\n",
    "\n",
    "print('Accuracy =', avg_accuracy_NB)\n",
    "print('Precision =', avg_precision_NB)\n",
    "print('Recall =', avg_recall_NB)\n",
    "print('F1_Score =', avg_f1_score_NB)"
   ]
  },
  {
   "cell_type": "markdown",
   "metadata": {
    "cell_id": "00079-613b680f-4f2b-405e-9739-114597c69a6f",
    "deepnote_cell_height": 70,
    "deepnote_cell_type": "markdown",
    "tags": []
   },
   "source": [
    "## **Decision Tree**"
   ]
  },
  {
   "cell_type": "code",
   "execution_count": null,
   "metadata": {
    "cell_id": "00079-de46df6c-b54e-4c04-872c-746aa713f6fd",
    "deepnote_cell_height": 207,
    "deepnote_cell_type": "code",
    "deepnote_to_be_reexecuted": false,
    "execution_millis": 204,
    "execution_start": 1622026970434,
    "source_hash": "dfb3e38a",
    "tags": []
   },
   "outputs": [],
   "source": [
    "prediksi_DT = pd.DataFrame(columns = daftar_kelas)\n",
    "model_DT = {}\n",
    "\n",
    "#pakai Gaussian karena data kontinu\n",
    "for kelas in daftar_kelas:\n",
    "    model_DT[kelas] = DecisionTreeClassifier()\n",
    "    model_DT[kelas].fit(data_latih, label_latih[kelas])\n",
    "    prediksi_DT[kelas] = model_DT[kelas].predict(data_uji)"
   ]
  },
  {
   "cell_type": "code",
   "execution_count": null,
   "metadata": {
    "cell_id": "00081-fd93f107-c8b9-4b38-bb5e-9ff04fa1db5e",
    "deepnote_cell_height": 773,
    "deepnote_cell_type": "code",
    "deepnote_to_be_reexecuted": false,
    "execution_millis": 68,
    "execution_start": 1622026970714,
    "source_hash": "848a87d1",
    "tags": []
   },
   "outputs": [
    {
     "name": "stdout",
     "output_type": "stream",
     "text": [
      "Classification Report Decision Trees\n",
      "Green frogs\n",
      "              precision    recall  f1-score   support\n",
      "\n",
      "           0       0.69      0.60      0.64        15\n",
      "           1       0.76      0.83      0.79        23\n",
      "\n",
      "    accuracy                           0.74        38\n",
      "   macro avg       0.73      0.71      0.72        38\n",
      "weighted avg       0.73      0.74      0.73        38\n",
      "\n",
      "Brown frogs\n",
      "              precision    recall  f1-score   support\n",
      "\n",
      "           0       0.43      0.33      0.38         9\n",
      "           1       0.81      0.86      0.83        29\n",
      "\n",
      "    accuracy                           0.74        38\n",
      "   macro avg       0.62      0.60      0.60        38\n",
      "weighted avg       0.72      0.74      0.72        38\n",
      "\n",
      "Common toad\n",
      "              precision    recall  f1-score   support\n",
      "\n",
      "           0       0.36      0.38      0.37        13\n",
      "           1       0.67      0.64      0.65        25\n",
      "\n",
      "    accuracy                           0.55        38\n",
      "   macro avg       0.51      0.51      0.51        38\n",
      "weighted avg       0.56      0.55      0.56        38\n",
      "\n",
      "Fire-bellied toad\n",
      "              precision    recall  f1-score   support\n",
      "\n",
      "           0       0.84      0.72      0.78        29\n",
      "           1       0.38      0.56      0.45         9\n",
      "\n",
      "    accuracy                           0.68        38\n",
      "   macro avg       0.61      0.64      0.62        38\n",
      "weighted avg       0.73      0.68      0.70        38\n",
      "\n",
      "Tree frog\n",
      "              precision    recall  f1-score   support\n",
      "\n",
      "           0       0.61      0.77      0.68        22\n",
      "           1       0.50      0.31      0.38        16\n",
      "\n",
      "    accuracy                           0.58        38\n",
      "   macro avg       0.55      0.54      0.53        38\n",
      "weighted avg       0.56      0.58      0.56        38\n",
      "\n",
      "Common newt\n",
      "              precision    recall  f1-score   support\n",
      "\n",
      "           0       0.78      0.78      0.78        27\n",
      "           1       0.45      0.45      0.45        11\n",
      "\n",
      "    accuracy                           0.68        38\n",
      "   macro avg       0.62      0.62      0.62        38\n",
      "weighted avg       0.68      0.68      0.68        38\n",
      "\n",
      "Great crested newt\n",
      "              precision    recall  f1-score   support\n",
      "\n",
      "           0       0.97      0.91      0.94        35\n",
      "           1       0.40      0.67      0.50         3\n",
      "\n",
      "    accuracy                           0.89        38\n",
      "   macro avg       0.68      0.79      0.72        38\n",
      "weighted avg       0.92      0.89      0.91        38\n",
      "\n"
     ]
    }
   ],
   "source": [
    "print(\"Classification Report Decision Trees\")\n",
    "\n",
    "for kelas in daftar_kelas:\n",
    "    print(kelas)\n",
    "    print(classification_report(label_uji[kelas], prediksi_DT[kelas]))"
   ]
  },
  {
   "cell_type": "code",
   "execution_count": null,
   "metadata": {
    "cell_id": "00082-8d159712-e636-4504-838d-ebd4ebce2ab8",
    "deepnote_cell_height": 604.75,
    "deepnote_cell_type": "code",
    "deepnote_to_be_reexecuted": false,
    "execution_millis": 83,
    "execution_start": 1622026970796,
    "source_hash": "1da2c41a",
    "tags": []
   },
   "outputs": [
    {
     "name": "stdout",
     "output_type": "stream",
     "text": [
      "Accuracy = 0.6942857142857143\n",
      "Precision = 0.5671428571428572\n",
      "Recall = 0.6171428571428572\n",
      "F1_Score = 0.5812548130458912\n"
     ]
    }
   ],
   "source": [
    "total_accuracy_DT = 0\n",
    "total_precision_DT = 0\n",
    "total_recall_DT = 0\n",
    "total_f1_score_DT = 0\n",
    "\n",
    "for kelas in daftar_kelas:\n",
    "    accuracy = f\"{round(accuracy_score(label_uji[kelas], prediksi_DT[kelas]), 2)}\"\n",
    "    precision = f\"{round(precision_score(label_uji[kelas], prediksi_DT[kelas]), 2)}\"\n",
    "    recall = f\"{round(recall_score(label_uji[kelas], prediksi_DT[kelas]), 2)}\"\n",
    "    f1_score = 2*(float(precision)*float(recall))/(float(precision)+float(recall))\n",
    "\n",
    "    total_accuracy_DT += float(accuracy)\n",
    "    total_precision_DT += float(precision)\n",
    "    total_recall_DT += float(recall)\n",
    "    total_f1_score_DT +=float(f1_score)\n",
    "    \n",
    "avg_accuracy_DT = total_accuracy_DT / len(daftar_kelas)\n",
    "avg_precision_DT = total_precision_DT / len(daftar_kelas)\n",
    "avg_recall_DT = total_recall_DT / len(daftar_kelas)\n",
    "avg_f1_score_DT = total_f1_score_DT / len(daftar_kelas)\n",
    "\n",
    "print('Accuracy =', avg_accuracy_DT)\n",
    "print('Precision =', avg_precision_DT)\n",
    "print('Recall =', avg_recall_DT)\n",
    "print('F1_Score =', avg_f1_score_DT)"
   ]
  },
  {
   "cell_type": "markdown",
   "metadata": {
    "cell_id": "00083-08be60f4-db0d-474c-b264-c46455c1e760",
    "deepnote_cell_height": 70,
    "deepnote_cell_type": "markdown",
    "tags": []
   },
   "source": [
    "## **Support Vector Machine**"
   ]
  },
  {
   "cell_type": "code",
   "execution_count": null,
   "metadata": {
    "cell_id": "00084-5ea8fb71-ae67-45bc-8587-6eff0fb20efe",
    "deepnote_cell_height": 207,
    "deepnote_cell_type": "code",
    "deepnote_to_be_reexecuted": false,
    "execution_millis": 116,
    "execution_start": 1622026970907,
    "source_hash": "2167ef2c",
    "tags": []
   },
   "outputs": [],
   "source": [
    "prediksi_SVM = pd.DataFrame(columns = daftar_kelas)\n",
    "model_SVM = {}\n",
    "\n",
    "#pakai Gaussian karena data kontinu\n",
    "for kelas in daftar_kelas:\n",
    "    model_SVM[kelas] = SVC(gamma='auto')\n",
    "    model_SVM[kelas].fit(data_latih, label_latih[kelas])\n",
    "    prediksi_SVM[kelas] = model_SVM[kelas].predict(data_uji)"
   ]
  },
  {
   "cell_type": "code",
   "execution_count": null,
   "metadata": {
    "cell_id": "00085-22fbecc1-90e7-4706-b201-62dde66229b7",
    "deepnote_cell_height": 773,
    "deepnote_cell_type": "code",
    "deepnote_to_be_reexecuted": false,
    "execution_millis": 147,
    "execution_start": 1622026971037,
    "source_hash": "4145a61c",
    "tags": []
   },
   "outputs": [
    {
     "name": "stdout",
     "output_type": "stream",
     "text": [
      "Classification Report Support Vector Machine\n",
      "Green frogs\n",
      "              precision    recall  f1-score   support\n",
      "\n",
      "           0       0.67      0.53      0.59        15\n",
      "           1       0.73      0.83      0.78        23\n",
      "\n",
      "    accuracy                           0.71        38\n",
      "   macro avg       0.70      0.68      0.68        38\n",
      "weighted avg       0.71      0.71      0.70        38\n",
      "\n",
      "Brown frogs\n",
      "              precision    recall  f1-score   support\n",
      "\n",
      "           0       0.00      0.00      0.00         9\n",
      "           1       0.76      1.00      0.87        29\n",
      "\n",
      "    accuracy                           0.76        38\n",
      "   macro avg       0.38      0.50      0.43        38\n",
      "weighted avg       0.58      0.76      0.66        38\n",
      "\n",
      "Common toad\n",
      "              precision    recall  f1-score   support\n",
      "\n",
      "           0       0.00      0.00      0.00        13\n",
      "           1       0.66      1.00      0.79        25\n",
      "\n",
      "    accuracy                           0.66        38\n",
      "   macro avg       0.33      0.50      0.40        38\n",
      "weighted avg       0.43      0.66      0.52        38\n",
      "\n",
      "Fire-bellied toad\n",
      "              precision    recall  f1-score   support\n",
      "\n",
      "           0       0.76      1.00      0.87        29\n",
      "           1       0.00      0.00      0.00         9\n",
      "\n",
      "    accuracy                           0.76        38\n",
      "   macro avg       0.38      0.50      0.43        38\n",
      "weighted avg       0.58      0.76      0.66        38\n",
      "\n",
      "Tree frog\n",
      "              precision    recall  f1-score   support\n",
      "\n",
      "           0       0.58      1.00      0.73        22\n",
      "           1       0.00      0.00      0.00        16\n",
      "\n",
      "    accuracy                           0.58        38\n",
      "   macro avg       0.29      0.50      0.37        38\n",
      "weighted avg       0.34      0.58      0.42        38\n",
      "\n",
      "Common newt\n",
      "              precision    recall  f1-score   support\n",
      "\n",
      "           0       0.71      1.00      0.83        27\n",
      "           1       0.00      0.00      0.00        11\n",
      "\n",
      "    accuracy                           0.71        38\n",
      "   macro avg       0.36      0.50      0.42        38\n",
      "weighted avg       0.50      0.71      0.59        38\n",
      "\n",
      "Great crested newt\n",
      "              precision    recall  f1-score   support\n",
      "\n",
      "           0       0.92      1.00      0.96        35\n",
      "           1       0.00      0.00      0.00         3\n",
      "\n",
      "    accuracy                           0.92        38\n",
      "   macro avg       0.46      0.50      0.48        38\n",
      "weighted avg       0.85      0.92      0.88        38\n",
      "\n",
      "/shared-libs/python3.7/py/lib/python3.7/site-packages/sklearn/metrics/_classification.py:1248: UndefinedMetricWarning: Precision and F-score are ill-defined and being set to 0.0 in labels with no predicted samples. Use `zero_division` parameter to control this behavior.\n",
      "  _warn_prf(average, modifier, msg_start, len(result))\n",
      "/shared-libs/python3.7/py/lib/python3.7/site-packages/sklearn/metrics/_classification.py:1248: UndefinedMetricWarning: Precision and F-score are ill-defined and being set to 0.0 in labels with no predicted samples. Use `zero_division` parameter to control this behavior.\n",
      "  _warn_prf(average, modifier, msg_start, len(result))\n",
      "/shared-libs/python3.7/py/lib/python3.7/site-packages/sklearn/metrics/_classification.py:1248: UndefinedMetricWarning: Precision and F-score are ill-defined and being set to 0.0 in labels with no predicted samples. Use `zero_division` parameter to control this behavior.\n",
      "  _warn_prf(average, modifier, msg_start, len(result))\n",
      "/shared-libs/python3.7/py/lib/python3.7/site-packages/sklearn/metrics/_classification.py:1248: UndefinedMetricWarning: Precision and F-score are ill-defined and being set to 0.0 in labels with no predicted samples. Use `zero_division` parameter to control this behavior.\n",
      "  _warn_prf(average, modifier, msg_start, len(result))\n",
      "/shared-libs/python3.7/py/lib/python3.7/site-packages/sklearn/metrics/_classification.py:1248: UndefinedMetricWarning: Precision and F-score are ill-defined and being set to 0.0 in labels with no predicted samples. Use `zero_division` parameter to control this behavior.\n",
      "  _warn_prf(average, modifier, msg_start, len(result))\n",
      "/shared-libs/python3.7/py/lib/python3.7/site-packages/sklearn/metrics/_classification.py:1248: UndefinedMetricWarning: Precision and F-score are ill-defined and being set to 0.0 in labels with no predicted samples. Use `zero_division` parameter to control this behavior.\n",
      "  _warn_prf(average, modifier, msg_start, len(result))\n",
      "/shared-libs/python3.7/py/lib/python3.7/site-packages/sklearn/metrics/_classification.py:1248: UndefinedMetricWarning: Precision and F-score are ill-defined and being set to 0.0 in labels with no predicted samples. Use `zero_division` parameter to control this behavior.\n",
      "  _warn_prf(average, modifier, msg_start, len(result))\n",
      "/shared-libs/python3.7/py/lib/python3.7/site-packages/sklearn/metrics/_classification.py:1248: UndefinedMetricWarning: Precision and F-score are ill-defined and being set to 0.0 in labels with no predicted samples. Use `zero_division` parameter to control this behavior.\n",
      "  _warn_prf(average, modifier, msg_start, len(result))\n",
      "/shared-libs/python3.7/py/lib/python3.7/site-packages/sklearn/metrics/_classification.py:1248: UndefinedMetricWarning: Precision and F-score are ill-defined and being set to 0.0 in labels with no predicted samples. Use `zero_division` parameter to control this behavior.\n",
      "  _warn_prf(average, modifier, msg_start, len(result))\n",
      "/shared-libs/python3.7/py/lib/python3.7/site-packages/sklearn/metrics/_classification.py:1248: UndefinedMetricWarning: Precision and F-score are ill-defined and being set to 0.0 in labels with no predicted samples. Use `zero_division` parameter to control this behavior.\n",
      "  _warn_prf(average, modifier, msg_start, len(result))\n",
      "/shared-libs/python3.7/py/lib/python3.7/site-packages/sklearn/metrics/_classification.py:1248: UndefinedMetricWarning: Precision and F-score are ill-defined and being set to 0.0 in labels with no predicted samples. Use `zero_division` parameter to control this behavior.\n",
      "  _warn_prf(average, modifier, msg_start, len(result))\n",
      "/shared-libs/python3.7/py/lib/python3.7/site-packages/sklearn/metrics/_classification.py:1248: UndefinedMetricWarning: Precision and F-score are ill-defined and being set to 0.0 in labels with no predicted samples. Use `zero_division` parameter to control this behavior.\n",
      "  _warn_prf(average, modifier, msg_start, len(result))\n",
      "/shared-libs/python3.7/py/lib/python3.7/site-packages/sklearn/metrics/_classification.py:1248: UndefinedMetricWarning: Precision and F-score are ill-defined and being set to 0.0 in labels with no predicted samples. Use `zero_division` parameter to control this behavior.\n",
      "  _warn_prf(average, modifier, msg_start, len(result))\n",
      "/shared-libs/python3.7/py/lib/python3.7/site-packages/sklearn/metrics/_classification.py:1248: UndefinedMetricWarning: Precision and F-score are ill-defined and being set to 0.0 in labels with no predicted samples. Use `zero_division` parameter to control this behavior.\n",
      "  _warn_prf(average, modifier, msg_start, len(result))\n",
      "/shared-libs/python3.7/py/lib/python3.7/site-packages/sklearn/metrics/_classification.py:1248: UndefinedMetricWarning: Precision and F-score are ill-defined and being set to 0.0 in labels with no predicted samples. Use `zero_division` parameter to control this behavior.\n",
      "  _warn_prf(average, modifier, msg_start, len(result))\n",
      "/shared-libs/python3.7/py/lib/python3.7/site-packages/sklearn/metrics/_classification.py:1248: UndefinedMetricWarning: Precision and F-score are ill-defined and being set to 0.0 in labels with no predicted samples. Use `zero_division` parameter to control this behavior.\n",
      "  _warn_prf(average, modifier, msg_start, len(result))\n",
      "/shared-libs/python3.7/py/lib/python3.7/site-packages/sklearn/metrics/_classification.py:1248: UndefinedMetricWarning: Precision and F-score are ill-defined and being set to 0.0 in labels with no predicted samples. Use `zero_division` parameter to control this behavior.\n",
      "  _warn_prf(average, modifier, msg_start, len(result))\n",
      "/shared-libs/python3.7/py/lib/python3.7/site-packages/sklearn/metrics/_classification.py:1248: UndefinedMetricWarning: Precision and F-score are ill-defined and being set to 0.0 in labels with no predicted samples. Use `zero_division` parameter to control this behavior.\n",
      "  _warn_prf(average, modifier, msg_start, len(result))\n"
     ]
    }
   ],
   "source": [
    "print(\"Classification Report Support Vector Machine\")\n",
    "\n",
    "for kelas in daftar_kelas:\n",
    "    print(kelas)\n",
    "    print(classification_report(label_uji[kelas], prediksi_SVM[kelas]))"
   ]
  },
  {
   "cell_type": "code",
   "execution_count": null,
   "metadata": {
    "cell_id": "00086-aa7e4b5f-0fd7-4ba9-b314-81d713a32acd",
    "deepnote_cell_height": 824.25,
    "deepnote_cell_type": "code",
    "deepnote_to_be_reexecuted": false,
    "execution_millis": 62,
    "execution_start": 1622026971181,
    "source_hash": "89141407",
    "tags": []
   },
   "outputs": [
    {
     "name": "stdout",
     "output_type": "stream",
     "text": [
      "Accuracy = 0.7285714285714285\n",
      "Precision = 0.3071428571428571\n",
      "Recall = 0.4042857142857143\n",
      "F1_Score = 0.34794456547468594\n",
      "/shared-libs/python3.7/py/lib/python3.7/site-packages/sklearn/metrics/_classification.py:1248: UndefinedMetricWarning: Precision is ill-defined and being set to 0.0 due to no predicted samples. Use `zero_division` parameter to control this behavior.\n",
      "  _warn_prf(average, modifier, msg_start, len(result))\n",
      "/shared-libs/python3.7/py/lib/python3.7/site-packages/sklearn/metrics/_classification.py:1248: UndefinedMetricWarning: Precision is ill-defined and being set to 0.0 due to no predicted samples. Use `zero_division` parameter to control this behavior.\n",
      "  _warn_prf(average, modifier, msg_start, len(result))\n",
      "/shared-libs/python3.7/py/lib/python3.7/site-packages/sklearn/metrics/_classification.py:1248: UndefinedMetricWarning: Precision is ill-defined and being set to 0.0 due to no predicted samples. Use `zero_division` parameter to control this behavior.\n",
      "  _warn_prf(average, modifier, msg_start, len(result))\n",
      "/shared-libs/python3.7/py/lib/python3.7/site-packages/sklearn/metrics/_classification.py:1248: UndefinedMetricWarning: Precision is ill-defined and being set to 0.0 due to no predicted samples. Use `zero_division` parameter to control this behavior.\n",
      "  _warn_prf(average, modifier, msg_start, len(result))\n"
     ]
    }
   ],
   "source": [
    "total_accuracy_SVM = 0\n",
    "total_precision_SVM = 0\n",
    "total_recall_SVM = 0\n",
    "total_f1_score_SVM = 0\n",
    "\n",
    "for kelas in daftar_kelas:\n",
    "    accuracy = f\"{round(accuracy_score(label_uji[kelas], prediksi_SVM[kelas]), 2)}\"\n",
    "    precision = f\"{round(precision_score(label_uji[kelas], prediksi_SVM[kelas]), 2)}\"\n",
    "    recall = f\"{round(recall_score(label_uji[kelas], prediksi_SVM[kelas]), 2)}\"\n",
    "    try:\n",
    "        f1_score = 2*(float(precision)*float(recall))/(float(precision)+float(recall))\n",
    "    except:\n",
    "        f1_score = 0\n",
    "\n",
    "    total_accuracy_SVM += float(accuracy)\n",
    "    total_precision_SVM += float(precision)\n",
    "    total_recall_SVM += float(recall)\n",
    "    total_f1_score_SVM +=float(f1_score)\n",
    "    \n",
    "avg_accuracy_SVM = total_accuracy_SVM / len(daftar_kelas)\n",
    "avg_precision_SVM = total_precision_SVM / len(daftar_kelas)\n",
    "avg_recall_SVM = total_recall_SVM / len(daftar_kelas)\n",
    "avg_f1_score_SVM = total_f1_score_SVM / len(daftar_kelas)\n",
    "\n",
    "print('Accuracy =', avg_accuracy_SVM)\n",
    "print('Precision =', avg_precision_SVM)\n",
    "print('Recall =', avg_recall_SVM)\n",
    "print('F1_Score =', avg_f1_score_SVM)"
   ]
  },
  {
   "cell_type": "markdown",
   "metadata": {
    "cell_id": "00087-52b2a9f1-33c1-461e-b508-62b3c75b29d9",
    "deepnote_cell_height": 70,
    "deepnote_cell_type": "markdown",
    "tags": []
   },
   "source": [
    "## **Perbandingan Hasil Prediksi Ketiga Algortima Klasifikasi**"
   ]
  },
  {
   "cell_type": "code",
   "execution_count": null,
   "metadata": {
    "cell_id": "00088-d1968584-da1d-44d2-a702-22e8aed9c1c0",
    "deepnote_cell_height": 815.375,
    "deepnote_cell_type": "code",
    "deepnote_to_be_reexecuted": false,
    "execution_millis": 64,
    "execution_start": 1622026971244,
    "source_hash": "e45e09f8",
    "tags": []
   },
   "outputs": [
    {
     "name": "stdout",
     "output_type": "stream",
     "text": [
      "Naive Bayes : \n",
      "Accuracy = 0.4657142857142857\n",
      "Precision = 0.4700000000000001\n",
      "Recall = 0.5642857142857143\n",
      "F1_Score = 0.38574826564830056\n",
      "\n",
      "Decision Trees : \n",
      "Accuracy = 0.6942857142857143\n",
      "Precision = 0.5671428571428572\n",
      "Recall = 0.6171428571428572\n",
      "F1_Score = 0.5812548130458912\n",
      "\n",
      "Support Vector Machine : \n",
      "Accuracy = 0.7285714285714285\n",
      "Precision = 0.3071428571428571\n",
      "Recall = 0.4042857142857143\n",
      "F1_Score = 0.34794456547468594\n",
      "\n"
     ]
    }
   ],
   "source": [
    "print('Naive Bayes : ')\n",
    "print('Accuracy =', avg_accuracy_NB)\n",
    "print('Precision =', avg_precision_NB)\n",
    "print('Recall =', avg_recall_NB)\n",
    "print('F1_Score =', avg_f1_score_NB)\n",
    "print()\n",
    "\n",
    "print('Decision Trees : ')\n",
    "print('Accuracy =', avg_accuracy_DT)\n",
    "print('Precision =', avg_precision_DT)\n",
    "print('Recall =', avg_recall_DT)\n",
    "print('F1_Score =', avg_f1_score_DT)\n",
    "print()\n",
    "\n",
    "print('Support Vector Machine : ')\n",
    "print('Accuracy =', avg_accuracy_SVM)\n",
    "print('Precision =', avg_precision_SVM)\n",
    "print('Recall =', avg_recall_SVM)\n",
    "print('F1_Score =', avg_f1_score_SVM)\n",
    "print()\n"
   ]
  },
  {
   "cell_type": "code",
   "execution_count": null,
   "metadata": {
    "cell_id": "00089-f27f1dbd-4a9c-48d1-bae7-1ca0e067fd07",
    "deepnote_cell_height": 847,
    "deepnote_cell_type": "code",
    "deepnote_output_heights": [
     282
    ],
    "deepnote_to_be_reexecuted": false,
    "execution_millis": 672,
    "execution_start": 1622031474988,
    "source_hash": "ab269b33",
    "tags": []
   },
   "outputs": [
    {
     "data": {
      "image/png": "[encoded data removed]",
      "text/plain": [
       "<Figure size 432x288 with 1 Axes>"
      ]
     },
     "metadata": {
      "image/png": {
       "height": 280,
       "width": 424
      },
      "needs_background": "light"
     },
     "output_type": "display_data"
    }
   ],
   "source": [
    "labels = ['Accuracy', 'Precision', 'Recall', 'F1_Score']\n",
    "NB = [avg_accuracy_NB, avg_precision_NB, avg_recall_NB, avg_f1_score_NB]\n",
    "DT = [avg_accuracy_DT, avg_precision_DT, avg_recall_DT, avg_f1_score_DT]\n",
    "SVM = [avg_accuracy_SVM, avg_precision_SVM, avg_recall_SVM, avg_f1_score_SVM]\n",
    "\n",
    "x = np.arange(len(labels))  # the label locations\n",
    "width = 0.25  # the width of the bars\n",
    "\n",
    "fig, ax = plt.subplots()\n",
    "rects1 = ax.bar(x - width, NB, width, label='NB')\n",
    "rects2 = ax.bar(x, DT, width, label='DT')\n",
    "rects3 = ax.bar(x + width, SVM, width, label='SVM')\n",
    "\n",
    "# Add some text for labels, title and custom x-axis tick labels, etc.\n",
    "ax.set_ylabel('Hasil')\n",
    "ax.set_title('Evaluasi Prediksi')\n",
    "ax.set_xticks(x)\n",
    "ax.set_xticklabels(labels)\n",
    "ax.legend()\n",
    "\n",
    "ax.bar_label(rects1, padding=3)\n",
    "ax.bar_label(rects2, padding=3)\n",
    "ax.bar_label(rects3, padding=3)\n",
    "\n",
    "fig.tight_layout()\n",
    "\n",
    "plt.show()"
   ]
  },
  {
   "cell_type": "markdown",
   "metadata": {
    "created_in_deepnote_cell": true,
    "deepnote_cell_type": "markdown",
    "tags": []
   },
   "source": [
    "<a style='text-decoration:none;line-height:16px;display:flex;color:#5B5B62;padding:10px;justify-content:end;' href='https://deepnote.com?utm_source=created-in-deepnote-cell&projectId=6b081d8b-9e75-48e5-98ab-524d0fbce4ad' target=\"_blank\">\n",
    "<img alt='Created in deepnote.com' style='display:inline;max-height:16px;margin:0px;margin-right:7.5px;' src='data:image/svg+xml;base64,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' > </img>\n",
    "Created in <span style='font-weight:600;margin-left:4px;'>Deepnote</span></a>"
   ]
  }
 ],
 "metadata": {
  "colab": {
   "collapsed_sections": [
    "FDGy93BlGXzH",
    "mQ5o-Z905s3e",
    "uNemrz7jr34E",
    "uPjfdyRQlemi",
    "T3UptkKGUt9J",
    "ut-gxC64sGe0",
    "Rmfnohw4BHS1",
    "yebgRxVphMQD",
    "qYhMWmzdhh3d",
    "X1o7HOljhn_p",
    "92FuaEDNjM_z",
    "M0_cvbQzLP5V",
    "WvDJ347cReyX",
    "kiMszfV3R2S8",
    "RMlVPPFFdzCV",
    "Lab_SaU0LbNL",
    "YHLiHQAXayDq",
    "vLbjwXkw0988",
    "wO51kPvwdamc",
    "6yhfrkkyePDY"
   ],
   "name": "UTS_195150200111039_Riski Darmawan",
   "provenance": []
  },
  "deepnote": {},
  "deepnote_execution_queue": [],
  "deepnote_notebook_id": "7de1a78f-007f-4944-ba5c-40caec79c639",
  "kernelspec": {
   "display_name": "Python 3 (ipykernel)",
   "language": "python",
   "name": "python3"
  },
  "language_info": {
   "codemirror_mode": {
    "name": "ipython",
    "version": 3
   },
   "file_extension": ".py",
   "mimetype": "text/x-python",
   "name": "python",
   "nbconvert_exporter": "python",
   "pygments_lexer": "ipython3",
   "version": "3.11.3"
  }
 },
 "nbformat": 4,
 "nbformat_minor": 4
}
